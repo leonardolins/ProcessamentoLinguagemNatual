{
 "cells": [
  {
   "cell_type": "markdown",
   "metadata": {
    "id": "uW9YU5tPgWpZ"
   },
   "source": [
    "![](https://lh3.googleusercontent.com/proxy/z9ilC4bvRfBqWs83SCvP_xo8V7eGgsilTqugH0axpWybkxLXuZk87CApVuuOrbbeXRa10Ungs5oHfhnNeda5uyMdSjrwcg8uSJXFW1kZvLJmXERERxuZIVovtwlYB_xhYhgkewkGqBH0V0POEio)"
   ]
  },
  {
   "cell_type": "markdown",
   "metadata": {
    "id": "P3c-Ef-wgWpb"
   },
   "source": [
    "# Alocação Latente de Dirichlet (LDA)\n",
    "\n",
    "*\"No processamento de linguagem natural, a Alocação Latente de Dirichlet (LDA) é um <mark>modelo estatístico generativo que permite que conjuntos de observações sejam explicados por grupos não observados que explicam o porquê algumas partes dos dados são semelhantes</mark>. Por exemplo, se as observações são palavras coletadas em documentos, ele postula que cada documento é uma mistura de um pequeno número de tópicos e que a criação de cada palavra é atribuível a um dos tópicos do documento\"*\n",
    "\n",
    "\n",
    "# LDAvis\n",
    "\n",
    "LDAvis são ferramentas para criar uma <mark>visualização interativa usando página web</mark>, de um modelo de tópico que foi ajustado a um corpus de dados de texto usando a **Alocação de Dirichlet Latente (LDA)**. Dado os parâmetros estimados do modelo de tópico, ele calcula várias estatísticas de resumo como entrada para uma visualização interativa criada com o D3.js que é acessada por meio de um navegador. <mark>O objetivo é ajudar os usuários a interpretar os tópicos em seu modelo de tópico LDA</mark>.\n",
    "\n",
    "* [LDAvis Introduction](https://cran.r-project.org/web/packages/LDAvis/vignettes/details.pdf)"
   ]
  },
  {
   "cell_type": "code",
   "execution_count": 8,
   "metadata": {
    "ExecuteTime": {
     "end_time": "2022-02-09T01:02:16.894073Z",
     "start_time": "2022-02-09T01:02:16.888441Z"
    },
    "colab": {
     "base_uri": "https://localhost:8080/",
     "height": 1000
    },
    "executionInfo": {
     "elapsed": 26875,
     "status": "ok",
     "timestamp": 1632770179451,
     "user": {
      "displayName": "Leonardo Mendonza",
      "photoUrl": "https://lh3.googleusercontent.com/a-/AOh14Gj5F1JVSmHodKCvWHgDPYmDyFo_nUl5lqEXNbsW=s64",
      "userId": "09205135724810578413"
     },
     "user_tz": 180
    },
    "id": "2ZVBq-WyguFp",
    "outputId": "6a09d9c8-2c0c-4048-c282-2fb1464d746d"
   },
   "outputs": [],
   "source": [
    "#pip install pyLDAvis"
   ]
  },
  {
   "cell_type": "code",
   "execution_count": 1,
   "metadata": {
    "ExecuteTime": {
     "end_time": "2022-02-23T20:55:56.340935Z",
     "start_time": "2022-02-23T20:55:51.849889Z"
    },
    "colab": {
     "base_uri": "https://localhost:8080/"
    },
    "executionInfo": {
     "elapsed": 1270,
     "status": "ok",
     "timestamp": 1632771243435,
     "user": {
      "displayName": "Leonardo Mendonza",
      "photoUrl": "https://lh3.googleusercontent.com/a-/AOh14Gj5F1JVSmHodKCvWHgDPYmDyFo_nUl5lqEXNbsW=s64",
      "userId": "09205135724810578413"
     },
     "user_tz": 180
    },
    "id": "SqQ66SWzgWpd",
    "outputId": "65ba5a65-7831-4782-c8f4-7206ae2df742"
   },
   "outputs": [],
   "source": [
    "import numpy as np\n",
    "import pandas as pd\n",
    "import re, nltk, gensim\n",
    "import requests\n",
    "import json\n",
    "#from sklearn.externals import joblib\n",
    "import joblib\n",
    "\n",
    "# Sklearn\n",
    "from sklearn.decomposition import LatentDirichletAllocation, TruncatedSVD\n",
    "from sklearn.feature_extraction.text import CountVectorizer, TfidfVectorizer\n",
    "from sklearn.model_selection import GridSearchCV\n",
    "from pprint import pprint\n",
    "\n",
    "# Plotting tools\n",
    "import pyLDAvis\n",
    "import pyLDAvis.sklearn\n",
    "import seaborn as sns\n",
    "import matplotlib.pyplot as plt\n",
    "\n",
    "%matplotlib inline"
   ]
  },
  {
   "cell_type": "markdown",
   "metadata": {
    "id": "c6aMKqMlgWpe"
   },
   "source": [
    "# Importando os Dados"
   ]
  },
  {
   "cell_type": "code",
   "execution_count": 2,
   "metadata": {
    "ExecuteTime": {
     "end_time": "2022-02-23T20:55:56.432710Z",
     "start_time": "2022-02-23T20:55:56.345377Z"
    },
    "colab": {
     "base_uri": "https://localhost:8080/",
     "height": 143
    },
    "executionInfo": {
     "elapsed": 517,
     "status": "ok",
     "timestamp": 1632771246413,
     "user": {
      "displayName": "Leonardo Mendonza",
      "photoUrl": "https://lh3.googleusercontent.com/a-/AOh14Gj5F1JVSmHodKCvWHgDPYmDyFo_nUl5lqEXNbsW=s64",
      "userId": "09205135724810578413"
     },
     "user_tz": 180
    },
    "id": "rGpJdFdLgWpe",
    "outputId": "444d437f-c1fe-4337-f829-b49a0d4c40c5"
   },
   "outputs": [
    {
     "data": {
      "text/html": [
       "<div>\n",
       "<style scoped>\n",
       "    .dataframe tbody tr th:only-of-type {\n",
       "        vertical-align: middle;\n",
       "    }\n",
       "\n",
       "    .dataframe tbody tr th {\n",
       "        vertical-align: top;\n",
       "    }\n",
       "\n",
       "    .dataframe thead th {\n",
       "        text-align: right;\n",
       "    }\n",
       "</style>\n",
       "<table border=\"1\" class=\"dataframe\">\n",
       "  <thead>\n",
       "    <tr style=\"text-align: right;\">\n",
       "      <th></th>\n",
       "      <th>musica</th>\n",
       "      <th>artista</th>\n",
       "      <th>compositor</th>\n",
       "      <th>letra</th>\n",
       "    </tr>\n",
       "  </thead>\n",
       "  <tbody>\n",
       "    <tr>\n",
       "      <th>0</th>\n",
       "      <td>Eu Não Sou Manivela</td>\n",
       "      <td>Ary Barroso</td>\n",
       "      <td>Ary Barroso - 1953</td>\n",
       "      <td>Você não tem nem a metade Do valor que tinha ...</td>\n",
       "    </tr>\n",
       "    <tr>\n",
       "      <th>1</th>\n",
       "      <td>Mulata Beleza</td>\n",
       "      <td>Arlindo Cruz</td>\n",
       "      <td>Zé Roberto</td>\n",
       "      <td>Eu também fico o dia todo na janela Esperando...</td>\n",
       "    </tr>\n",
       "    <tr>\n",
       "      <th>2</th>\n",
       "      <td>Vai Pro Lado de Lá</td>\n",
       "      <td>Candeia</td>\n",
       "      <td>Candeia, Euclenes</td>\n",
       "      <td>Vai pro lado de lá Vai pro lado de lá Vai pro...</td>\n",
       "    </tr>\n",
       "  </tbody>\n",
       "</table>\n",
       "</div>"
      ],
      "text/plain": [
       "                musica       artista           compositor  \\\n",
       "0  Eu Não Sou Manivela   Ary Barroso   Ary Barroso - 1953   \n",
       "1        Mulata Beleza  Arlindo Cruz           Zé Roberto   \n",
       "2   Vai Pro Lado de Lá       Candeia    Candeia, Euclenes   \n",
       "\n",
       "                                               letra  \n",
       "0   Você não tem nem a metade Do valor que tinha ...  \n",
       "1   Eu também fico o dia todo na janela Esperando...  \n",
       "2   Vai pro lado de lá Vai pro lado de lá Vai pro...  "
      ]
     },
     "execution_count": 2,
     "metadata": {},
     "output_type": "execute_result"
    }
   ],
   "source": [
    "filename = \"samba_dataset.csv\"\n",
    "df = pd.read_csv(filename, sep=\"|\")\n",
    "df.head(3)"
   ]
  },
  {
   "cell_type": "markdown",
   "metadata": {
    "id": "6ZkZY3VwgWpf"
   },
   "source": [
    "# Tratando o texto"
   ]
  },
  {
   "cell_type": "code",
   "execution_count": 3,
   "metadata": {
    "ExecuteTime": {
     "end_time": "2022-02-23T20:55:56.444633Z",
     "start_time": "2022-02-23T20:55:56.435650Z"
    },
    "colab": {
     "base_uri": "https://localhost:8080/"
    },
    "executionInfo": {
     "elapsed": 3,
     "status": "ok",
     "timestamp": 1632771252094,
     "user": {
      "displayName": "Leonardo Mendonza",
      "photoUrl": "https://lh3.googleusercontent.com/a-/AOh14Gj5F1JVSmHodKCvWHgDPYmDyFo_nUl5lqEXNbsW=s64",
      "userId": "09205135724810578413"
     },
     "user_tz": 180
    },
    "id": "u2dNk5xvgWpf",
    "outputId": "4e7927c9-57a5-4d65-e670-2a7b0b7d997d"
   },
   "outputs": [
    {
     "name": "stdout",
     "output_type": "stream",
     "text": [
      "Temos 3118 documentos.\n"
     ]
    }
   ],
   "source": [
    "# cada letra de samba é um documento\n",
    "data = [lyrics for lyrics in df.letra] \n",
    "print(\"Temos %d documentos.\" %len(data))"
   ]
  },
  {
   "cell_type": "markdown",
   "metadata": {
    "id": "AceWQxeFgWpf"
   },
   "source": [
    "### Tokenização dos docs"
   ]
  },
  {
   "cell_type": "code",
   "execution_count": 4,
   "metadata": {
    "ExecuteTime": {
     "end_time": "2022-02-23T20:55:59.042069Z",
     "start_time": "2022-02-23T20:55:57.266322Z"
    },
    "colab": {
     "base_uri": "https://localhost:8080/"
    },
    "executionInfo": {
     "elapsed": 1320,
     "status": "ok",
     "timestamp": 1632771253875,
     "user": {
      "displayName": "Leonardo Mendonza",
      "photoUrl": "https://lh3.googleusercontent.com/a-/AOh14Gj5F1JVSmHodKCvWHgDPYmDyFo_nUl5lqEXNbsW=s64",
      "userId": "09205135724810578413"
     },
     "user_tz": 180
    },
    "id": "7CzdumBIgWpf",
    "outputId": "1595d159-e181-4586-b0b9-e371472a909c"
   },
   "outputs": [
    {
     "name": "stdout",
     "output_type": "stream",
     "text": [
      "[['voce', 'nao', 'tem', 'nem', 'metade', 'do', 'valor', 'que', 'tinha', 'outrora', 'mudou', 'mudou', 'mudou', 'so', 'chega', 'em', 'casa', 'pra', 'dormir', 'fora', 'de', 'hora', 'nao', 'suporto', 'mais', 'manivela', 'que', 'vai', 'pra', 'frente', 'pra', 'traz', 'hoje', 'vem', 'me', 'abraca', 'amanha', 'nem', 'me', 'conhece', 'quando', 'passa', 'nao', 'suporto', 'mais', 'manivela', 'que', 'vai', 'pra', 'frente', 'pra', 'traz', 'ficha', 'tecnica', 'da', 'faixa', 'conjunto', 'regional', 'voz', 'diamantina', 'gomes', 'samba', 'interprete', 'diamantina', 'gomes', 'com', 'regional', 'odeon']]\n"
     ]
    }
   ],
   "source": [
    "def sent_to_words(sentences):\n",
    "    for sentence in sentences:\n",
    "        yield(gensim.utils.simple_preprocess(str(sentence), deacc=True))  # deacc=True removes punctuations\n",
    "\n",
    "data_words = list(sent_to_words(data))\n",
    "\n",
    "print(data_words[:1])"
   ]
  },
  {
   "cell_type": "markdown",
   "metadata": {
    "id": "eztsgpbFgWpg"
   },
   "source": [
    "### Removendo Stopwords"
   ]
  },
  {
   "cell_type": "code",
   "execution_count": 5,
   "metadata": {
    "ExecuteTime": {
     "end_time": "2022-02-23T20:56:01.658469Z",
     "start_time": "2022-02-23T20:56:01.106107Z"
    },
    "colab": {
     "base_uri": "https://localhost:8080/"
    },
    "executionInfo": {
     "elapsed": 5,
     "status": "ok",
     "timestamp": 1632771253876,
     "user": {
      "displayName": "Leonardo Mendonza",
      "photoUrl": "https://lh3.googleusercontent.com/a-/AOh14Gj5F1JVSmHodKCvWHgDPYmDyFo_nUl5lqEXNbsW=s64",
      "userId": "09205135724810578413"
     },
     "user_tz": 180
    },
    "id": "9z1JlJ6ViMbi",
    "outputId": "a808111a-1404-47b2-f293-9c8b3c64e361"
   },
   "outputs": [
    {
     "name": "stderr",
     "output_type": "stream",
     "text": [
      "[nltk_data] Downloading package stopwords to\n",
      "[nltk_data]     /Users/LeonardoLins/nltk_data...\n",
      "[nltk_data]   Package stopwords is already up-to-date!\n"
     ]
    },
    {
     "data": {
      "text/plain": [
       "True"
      ]
     },
     "execution_count": 5,
     "metadata": {},
     "output_type": "execute_result"
    }
   ],
   "source": [
    "import nltk\n",
    "nltk.download('stopwords')"
   ]
  },
  {
   "cell_type": "code",
   "execution_count": 6,
   "metadata": {
    "ExecuteTime": {
     "end_time": "2022-02-23T20:56:04.011158Z",
     "start_time": "2022-02-23T20:56:02.809841Z"
    },
    "colab": {
     "base_uri": "https://localhost:8080/"
    },
    "executionInfo": {
     "elapsed": 1338,
     "status": "ok",
     "timestamp": 1632771255212,
     "user": {
      "displayName": "Leonardo Mendonza",
      "photoUrl": "https://lh3.googleusercontent.com/a-/AOh14Gj5F1JVSmHodKCvWHgDPYmDyFo_nUl5lqEXNbsW=s64",
      "userId": "09205135724810578413"
     },
     "user_tz": 180
    },
    "id": "3xY_JuD9gWpg",
    "outputId": "4d97ba20-7043-40ad-abc2-6fa5697c10bf"
   },
   "outputs": [
    {
     "name": "stdout",
     "output_type": "stream",
     "text": [
      "['voce metade valor outrora mudou mudou mudou chega casa dormir hora suporto manivela vai frente traz hoje vem abraca amanha conhece passa suporto manivela vai frente traz ficha tecnica faixa conjunto regional voz diamantina gomes samba interprete diamantina gomes regional odeon', 'tambem fico dia todo janela esperando mulata bela bairro passar demais diferente nunca vi mulher tao atraente faz qualquer homem cuca virar femea rebolado sensacao cabelos sao longos corpo igual violao sigo passos sei faco cair bracos vou morrer paixao']\n"
     ]
    }
   ],
   "source": [
    "def removeStops(texts, stopwords):\n",
    "    texts_out = []\n",
    "    for sent in texts:\n",
    "        texts_out.append(\" \".join([token for token in sent if token not in stopwords]))\n",
    "    return texts_out\n",
    "\n",
    "\n",
    "stopwords = nltk.corpus.stopwords.words('portuguese')\n",
    "stopwords += [\"nao\", \"so\", \"pra\", \"pro\", \"pras\", \"pros\"]\n",
    "# Do lemmatization keeping only Noun, Adj, Verb, Adverb\n",
    "data_without_stops = removeStops(data_words, stopwords)\n",
    "\n",
    "# sem stopwords\n",
    "print(data_without_stops[:2])"
   ]
  },
  {
   "cell_type": "markdown",
   "metadata": {
    "id": "a_lh3gXbgWph"
   },
   "source": [
    "# Criando a matriz Documento-Palavra\n",
    "\n",
    "O algoritmo de modelo de tópico LDA requer uma matriz de palavras do documento como entrada principal.\n",
    "\n",
    "Você pode criar um usando o CountVectorizer. No código abaixo, eu configurei o CountVectorizer para considerar palavras que ocorreram pelo menos 10 vezes (min_df), remova palavras irrelevantes em inglês, converta todas as palavras em minúsculas e uma palavra pode conter números e alfabetos de pelo menos 3 para ser qualificado como uma palavra."
   ]
  },
  {
   "cell_type": "code",
   "execution_count": 7,
   "metadata": {
    "ExecuteTime": {
     "end_time": "2022-02-23T20:56:06.248170Z",
     "start_time": "2022-02-23T20:56:05.847654Z"
    },
    "executionInfo": {
     "elapsed": 5,
     "status": "ok",
     "timestamp": 1632771255213,
     "user": {
      "displayName": "Leonardo Mendonza",
      "photoUrl": "https://lh3.googleusercontent.com/a-/AOh14Gj5F1JVSmHodKCvWHgDPYmDyFo_nUl5lqEXNbsW=s64",
      "userId": "09205135724810578413"
     },
     "user_tz": 180
    },
    "id": "mvj2I0a1gWph"
   },
   "outputs": [],
   "source": [
    "vectorizer = CountVectorizer(analyzer='word',       \n",
    "                             min_df=10,                        # minimum reqd occurences of a word \n",
    "                             # stop_words='english',             # remove stop words\n",
    "                             lowercase=True,                   # convert all words to lowercase\n",
    "                             token_pattern='[a-zA-Z0-9]{3,}',  # num chars > 3\n",
    "                             # max_features=50000,             # max number of uniq words\n",
    "                            )\n",
    "\n",
    "# data_vectorized = vectorizer.fit_transform(data_lemmatized)\n",
    "data_vectorized = vectorizer.fit_transform(data_without_stops)"
   ]
  },
  {
   "cell_type": "markdown",
   "metadata": {
    "id": "mGLb3ZKkgWpi"
   },
   "source": [
    "# Verificando quão Esparsa é a Matriz\n",
    "\n",
    "Basta verificar a porcentagem de pontos diferentes de zero na matriz documento-palavra.\n",
    "\n",
    "Como a maioria das células nessa matriz será zero, estou interessado em saber qual porcentagem de células contém valores diferentes de zero."
   ]
  },
  {
   "cell_type": "code",
   "execution_count": 8,
   "metadata": {
    "ExecuteTime": {
     "end_time": "2022-02-23T20:56:10.421942Z",
     "start_time": "2022-02-23T20:56:10.345309Z"
    },
    "colab": {
     "base_uri": "https://localhost:8080/"
    },
    "executionInfo": {
     "elapsed": 4,
     "status": "ok",
     "timestamp": 1632771255213,
     "user": {
      "displayName": "Leonardo Mendonza",
      "photoUrl": "https://lh3.googleusercontent.com/a-/AOh14Gj5F1JVSmHodKCvWHgDPYmDyFo_nUl5lqEXNbsW=s64",
      "userId": "09205135724810578413"
     },
     "user_tz": 180
    },
    "id": "fBw0gTswgWpi",
    "outputId": "5c227ba1-bbbf-4618-aa8b-6e043392c20b"
   },
   "outputs": [
    {
     "name": "stdout",
     "output_type": "stream",
     "text": [
      "Sparsicity:  1.52 %\n"
     ]
    }
   ],
   "source": [
    "# Materialize the sparse data\n",
    "data_dense = data_vectorized.todense()\n",
    "\n",
    "# Compute Sparsicity = Percentage of Non-Zero cells\n",
    "print(\"Sparsicity: \", round(((data_dense > 0).sum()/data_dense.size)*100, 2), \"%\")"
   ]
  },
  {
   "cell_type": "markdown",
   "metadata": {
    "id": "wOjRR098gWpi"
   },
   "source": [
    "# Treinando o Modelo LDA com Sklearn\n",
    "\n",
    "Tudo está pronto para criar um modelo de Alocação Dirichlet Latente (LDA). Vamos inicializar um e chamar fit_transform () para criar o modelo LDA.\n",
    "\n",
    "Neste exemplo, eu defini os n_topics como 5. Mais tarde, encontraremos o número ideal usando grid search."
   ]
  },
  {
   "cell_type": "code",
   "execution_count": 9,
   "metadata": {
    "ExecuteTime": {
     "end_time": "2022-02-23T20:56:28.327065Z",
     "start_time": "2022-02-23T20:56:12.876253Z"
    },
    "colab": {
     "base_uri": "https://localhost:8080/"
    },
    "executionInfo": {
     "elapsed": 12105,
     "status": "ok",
     "timestamp": 1632771267315,
     "user": {
      "displayName": "Leonardo Mendonza",
      "photoUrl": "https://lh3.googleusercontent.com/a-/AOh14Gj5F1JVSmHodKCvWHgDPYmDyFo_nUl5lqEXNbsW=s64",
      "userId": "09205135724810578413"
     },
     "user_tz": 180
    },
    "id": "48PJS7HpgWpj",
    "outputId": "20c0eedd-e386-425a-a8fd-054913083e5f"
   },
   "outputs": [
    {
     "name": "stdout",
     "output_type": "stream",
     "text": [
      "LatentDirichletAllocation(learning_method='online', n_components=4, n_jobs=-1,\n",
      "                          random_state=100)\n"
     ]
    }
   ],
   "source": [
    "lda_model = LatentDirichletAllocation(n_components=4,              \n",
    "                                      max_iter=10,               \n",
    "                                      learning_method='online',   \n",
    "                                      random_state=100,          \n",
    "                                      batch_size=128,            \n",
    "                                      evaluate_every = -1,       \n",
    "                                      n_jobs = -1             \n",
    "                                     )\n",
    "lda_output = lda_model.fit_transform(data_vectorized)\n",
    "\n",
    "print(lda_model)"
   ]
  },
  {
   "cell_type": "markdown",
   "metadata": {
    "id": "CL2ZcU8ogWpj"
   },
   "source": [
    "# Avaliando a performance do modelo com a perplexidade e probabilidade logarítmica\n",
    "\n",
    "Um modelo com maior probabilidade logarítmica e menor perplexidade (exp (-1. * Probabilidade logarítmica por palavra)) é considerado bom. Vamos verificar o nosso modelo."
   ]
  },
  {
   "cell_type": "code",
   "execution_count": 10,
   "metadata": {
    "ExecuteTime": {
     "end_time": "2022-02-23T20:56:37.198528Z",
     "start_time": "2022-02-23T20:56:34.905894Z"
    },
    "colab": {
     "base_uri": "https://localhost:8080/"
    },
    "executionInfo": {
     "elapsed": 1033,
     "status": "ok",
     "timestamp": 1632771268322,
     "user": {
      "displayName": "Leonardo Mendonza",
      "photoUrl": "https://lh3.googleusercontent.com/a-/AOh14Gj5F1JVSmHodKCvWHgDPYmDyFo_nUl5lqEXNbsW=s64",
      "userId": "09205135724810578413"
     },
     "user_tz": 180
    },
    "id": "CCWao79PgWpk",
    "outputId": "549f7e17-e21f-40ce-ebed-3f85e7154866"
   },
   "outputs": [
    {
     "name": "stdout",
     "output_type": "stream",
     "text": [
      "probabilidade logaritmica:  -1149706.22\n",
      "Perplexidade:  790.96\n",
      "Parâmetros:\n",
      "{'batch_size': 128,\n",
      " 'doc_topic_prior': None,\n",
      " 'evaluate_every': -1,\n",
      " 'learning_decay': 0.7,\n",
      " 'learning_method': 'online',\n",
      " 'learning_offset': 10.0,\n",
      " 'max_doc_update_iter': 100,\n",
      " 'max_iter': 10,\n",
      " 'mean_change_tol': 0.001,\n",
      " 'n_components': 4,\n",
      " 'n_jobs': -1,\n",
      " 'perp_tol': 0.1,\n",
      " 'random_state': 100,\n",
      " 'topic_word_prior': None,\n",
      " 'total_samples': 1000000.0,\n",
      " 'verbose': 0}\n"
     ]
    }
   ],
   "source": [
    "# Probabilidade logaritmica: quanto maior melhor\n",
    "print(\"probabilidade logaritmica: \", round(lda_model.score(data_vectorized), 2))\n",
    "\n",
    "# Perplexidade: menor melhor.  exp(-1. * log-Probabilidade logaritmica por palavra)\n",
    "print(\"Perplexidade: \", round(lda_model.perplexity(data_vectorized), 2))\n",
    "\n",
    "print(\"Parâmetros:\")\n",
    "pprint(lda_model.get_params())"
   ]
  },
  {
   "cell_type": "markdown",
   "metadata": {
    "id": "ORp2BwgNgWpk"
   },
   "source": [
    "A perplexidade pode não ser a melhor medida para avaliar modelos de tópicos, porque não considera o contexto e as associações semânticas entre as palavras. Isso pode ser capturado usando a medida de coerência de tópico."
   ]
  },
  {
   "cell_type": "markdown",
   "metadata": {
    "id": "ZR3C9OebgWpk"
   },
   "source": [
    "# UsandoGridSearch para encontrar melhor modelo LDA \n",
    "\n",
    "O parâmetro de ajuste mais importante para modelos LDA é ```n_components``` (número de tópicos). Além disso, vamos pesquisar ```learning_decay``` (que controla a taxa de aprendizado) também.\n",
    "\n",
    "Além desses, outros possíveis parâmetros de pesquisa podem ser ```learning_offset```  e ```max_iter```. Vale a pena experimentar se você tiver recursos de computação suficientes.\n",
    "\n",
    "A pesquisa em grade constrói vários modelos LDA para todas as combinações possíveis de valores de parâmetros no parâmetro param_grid. Portanto, <mark>esse processo pode consumir muito tempo e recursos</mark>."
   ]
  },
  {
   "cell_type": "code",
   "execution_count": 11,
   "metadata": {
    "ExecuteTime": {
     "end_time": "2022-02-23T21:17:57.449824Z",
     "start_time": "2022-02-23T20:56:41.969595Z"
    },
    "colab": {
     "base_uri": "https://localhost:8080/"
    },
    "executionInfo": {
     "elapsed": 517266,
     "status": "ok",
     "timestamp": 1632771785583,
     "user": {
      "displayName": "Leonardo Mendonza",
      "photoUrl": "https://lh3.googleusercontent.com/a-/AOh14Gj5F1JVSmHodKCvWHgDPYmDyFo_nUl5lqEXNbsW=s64",
      "userId": "09205135724810578413"
     },
     "user_tz": 180
    },
    "id": "ubU0YDKLgWpl",
    "outputId": "fdbce680-3bd7-497e-c2c2-4a6642ead3ef"
   },
   "outputs": [
    {
     "data": {
      "text/plain": [
       "GridSearchCV(estimator=LatentDirichletAllocation(),\n",
       "             param_grid={'learning_decay': [0.5, 0.7, 0.9],\n",
       "                         'n_components': [5, 10, 15]})"
      ]
     },
     "execution_count": 11,
     "metadata": {},
     "output_type": "execute_result"
    }
   ],
   "source": [
    "# Define Search Param\n",
    "search_params = {'n_components': [5, 10, 15], 'learning_decay': [.5, .7, .9]}\n",
    "\n",
    "# Init the Model\n",
    "lda = LatentDirichletAllocation()\n",
    "\n",
    "# Init Grid Search Class\n",
    "model = GridSearchCV(lda, param_grid=search_params)\n",
    "\n",
    "# Do the Grid Search\n",
    "model.fit(data_vectorized)"
   ]
  },
  {
   "cell_type": "markdown",
   "metadata": {
    "id": "35t_LxJDgWpl"
   },
   "source": [
    "# Escolhendo o \"melhor\" modelo"
   ]
  },
  {
   "cell_type": "code",
   "execution_count": 12,
   "metadata": {
    "ExecuteTime": {
     "end_time": "2022-02-23T21:17:59.901272Z",
     "start_time": "2022-02-23T21:17:57.453598Z"
    },
    "colab": {
     "base_uri": "https://localhost:8080/"
    },
    "executionInfo": {
     "elapsed": 1365,
     "status": "ok",
     "timestamp": 1632771786913,
     "user": {
      "displayName": "Leonardo Mendonza",
      "photoUrl": "https://lh3.googleusercontent.com/a-/AOh14Gj5F1JVSmHodKCvWHgDPYmDyFo_nUl5lqEXNbsW=s64",
      "userId": "09205135724810578413"
     },
     "user_tz": 180
    },
    "id": "lOgXPCiwgWpl",
    "outputId": "7b70b490-e254-423c-815c-d23b2754eab5"
   },
   "outputs": [
    {
     "name": "stdout",
     "output_type": "stream",
     "text": [
      "Melhores parâmetros:  {'learning_decay': 0.5, 'n_components': 5}\n",
      "Melhor score de probabilidade logarítmica:  -246837.0983246842\n",
      "Perplexidade do modelo:  792.3150124309728\n"
     ]
    }
   ],
   "source": [
    "# Melhor modelo\n",
    "best_lda_model = model.best_estimator_\n",
    "\n",
    "# Hiperparâmetros do modelo\n",
    "print(\"Melhores parâmetros: \", model.best_params_)\n",
    "\n",
    "# probabilidade logarítmica\n",
    "print(\"Melhor score de probabilidade logarítmica: \", model.best_score_)\n",
    "\n",
    "# Perplexidade\n",
    "print(\"Perplexidade do modelo: \", best_lda_model.perplexity(data_vectorized))"
   ]
  },
  {
   "cell_type": "markdown",
   "metadata": {
    "id": "O0trOjE5gWpm"
   },
   "source": [
    "# Comparando os scores de performance dos modelos LDA"
   ]
  },
  {
   "cell_type": "code",
   "execution_count": 13,
   "metadata": {
    "ExecuteTime": {
     "end_time": "2022-02-23T21:18:00.311652Z",
     "start_time": "2022-02-23T21:17:59.904674Z"
    },
    "colab": {
     "base_uri": "https://localhost:8080/",
     "height": 0
    },
    "executionInfo": {
     "elapsed": 16,
     "status": "ok",
     "timestamp": 1632771786915,
     "user": {
      "displayName": "Leonardo Mendonza",
      "photoUrl": "https://lh3.googleusercontent.com/a-/AOh14Gj5F1JVSmHodKCvWHgDPYmDyFo_nUl5lqEXNbsW=s64",
      "userId": "09205135724810578413"
     },
     "user_tz": 180
    },
    "id": "r8dJqsHegWpm",
    "outputId": "483f1c6f-0c1f-40d5-b74e-ac3352f60beb"
   },
   "outputs": [
    {
     "data": {
      "image/png": "[encoded data removed]",
      "text/plain": [
       "<Figure size 864x576 with 1 Axes>"
      ]
     },
     "metadata": {
      "needs_background": "light"
     },
     "output_type": "display_data"
    }
   ],
   "source": [
    "results = pd.DataFrame(model.cv_results_)\n",
    "\n",
    "current_palette = sns.color_palette(\"Set2\", 3)\n",
    "\n",
    "plt.figure(figsize=(12,8))\n",
    "\n",
    "sns.lineplot(data=results,\n",
    "             x='param_n_components',\n",
    "             y='mean_test_score',\n",
    "             hue='param_learning_decay',\n",
    "             palette=current_palette,\n",
    "             marker='o'\n",
    "            )\n",
    "\n",
    "plt.show()"
   ]
  },
  {
   "cell_type": "markdown",
   "metadata": {
    "id": "0t_-YlZmgWpm"
   },
   "source": [
    "# Tópico dominante em cada documento\n",
    "\n",
    "Para classificar um documento como pertencente a um tópico específico, uma abordagem lógica é ver qual tópico tem a maior contribuição para esse documento e atribuí-lo.\n",
    "\n",
    "Na tabela abaixo, destaquei em verde todos os principais tópicos de um documento e atribuí o tópico mais dominante em sua própria coluna."
   ]
  },
  {
   "cell_type": "code",
   "execution_count": 14,
   "metadata": {
    "ExecuteTime": {
     "end_time": "2022-02-23T21:18:02.472799Z",
     "start_time": "2022-02-23T21:18:00.315555Z"
    },
    "colab": {
     "base_uri": "https://localhost:8080/",
     "height": 243
    },
    "executionInfo": {
     "elapsed": 1040,
     "status": "ok",
     "timestamp": 1632771787944,
     "user": {
      "displayName": "Leonardo Mendonza",
      "photoUrl": "https://lh3.googleusercontent.com/a-/AOh14Gj5F1JVSmHodKCvWHgDPYmDyFo_nUl5lqEXNbsW=s64",
      "userId": "09205135724810578413"
     },
     "user_tz": 180
    },
    "id": "ySJZu3g7gWpm",
    "outputId": "a5dfce49-5616-4194-aef6-475a41e8d016"
   },
   "outputs": [
    {
     "data": {
      "text/html": [
       "<style type=\"text/css\">\n",
       "#T_410b3_row0_col0, #T_410b3_row0_col2, #T_410b3_row1_col1, #T_410b3_row1_col4, #T_410b3_row2_col0, #T_410b3_row2_col1, #T_410b3_row2_col2, #T_410b3_row2_col3, #T_410b3_row3_col0, #T_410b3_row3_col1, #T_410b3_row3_col3, #T_410b3_row4_col2, #T_410b3_row4_col3, #T_410b3_row4_col4, #T_410b3_row4_col5, #T_410b3_row5_col0, #T_410b3_row5_col1, #T_410b3_row5_col4, #T_410b3_row6_col0, #T_410b3_row6_col1, #T_410b3_row6_col3, #T_410b3_row7_col0, #T_410b3_row7_col2, #T_410b3_row7_col4, #T_410b3_row8_col1, #T_410b3_row8_col3, #T_410b3_row8_col4, #T_410b3_row8_col5, #T_410b3_row9_col1, #T_410b3_row9_col2, #T_410b3_row9_col4, #T_410b3_row9_col5 {\n",
       "  color: black;\n",
       "  font-weight: 400;\n",
       "}\n",
       "#T_410b3_row0_col1, #T_410b3_row0_col3, #T_410b3_row0_col4, #T_410b3_row0_col5, #T_410b3_row1_col0, #T_410b3_row1_col2, #T_410b3_row1_col3, #T_410b3_row1_col5, #T_410b3_row2_col4, #T_410b3_row2_col5, #T_410b3_row3_col2, #T_410b3_row3_col4, #T_410b3_row3_col5, #T_410b3_row4_col0, #T_410b3_row4_col1, #T_410b3_row5_col2, #T_410b3_row5_col3, #T_410b3_row5_col5, #T_410b3_row6_col2, #T_410b3_row6_col4, #T_410b3_row6_col5, #T_410b3_row7_col1, #T_410b3_row7_col3, #T_410b3_row7_col5, #T_410b3_row8_col0, #T_410b3_row8_col2, #T_410b3_row9_col0, #T_410b3_row9_col3 {\n",
       "  color: green;\n",
       "  font-weight: 700;\n",
       "}\n",
       "</style>\n",
       "<table id=\"T_410b3_\">\n",
       "  <thead>\n",
       "    <tr>\n",
       "      <th class=\"blank level0\" >&nbsp;</th>\n",
       "      <th class=\"col_heading level0 col0\" >Topic0</th>\n",
       "      <th class=\"col_heading level0 col1\" >Topic1</th>\n",
       "      <th class=\"col_heading level0 col2\" >Topic2</th>\n",
       "      <th class=\"col_heading level0 col3\" >Topic3</th>\n",
       "      <th class=\"col_heading level0 col4\" >Topic4</th>\n",
       "      <th class=\"col_heading level0 col5\" >dominant_topic</th>\n",
       "    </tr>\n",
       "  </thead>\n",
       "  <tbody>\n",
       "    <tr>\n",
       "      <th id=\"T_410b3_level0_row0\" class=\"row_heading level0 row0\" >Doc0</th>\n",
       "      <td id=\"T_410b3_row0_col0\" class=\"data row0 col0\" >0.010000</td>\n",
       "      <td id=\"T_410b3_row0_col1\" class=\"data row0 col1\" >0.250000</td>\n",
       "      <td id=\"T_410b3_row0_col2\" class=\"data row0 col2\" >0.100000</td>\n",
       "      <td id=\"T_410b3_row0_col3\" class=\"data row0 col3\" >0.170000</td>\n",
       "      <td id=\"T_410b3_row0_col4\" class=\"data row0 col4\" >0.460000</td>\n",
       "      <td id=\"T_410b3_row0_col5\" class=\"data row0 col5\" >4</td>\n",
       "    </tr>\n",
       "    <tr>\n",
       "      <th id=\"T_410b3_level0_row1\" class=\"row_heading level0 row1\" >Doc1</th>\n",
       "      <td id=\"T_410b3_row1_col0\" class=\"data row1 col0\" >0.370000</td>\n",
       "      <td id=\"T_410b3_row1_col1\" class=\"data row1 col1\" >0.010000</td>\n",
       "      <td id=\"T_410b3_row1_col2\" class=\"data row1 col2\" >0.460000</td>\n",
       "      <td id=\"T_410b3_row1_col3\" class=\"data row1 col3\" >0.160000</td>\n",
       "      <td id=\"T_410b3_row1_col4\" class=\"data row1 col4\" >0.010000</td>\n",
       "      <td id=\"T_410b3_row1_col5\" class=\"data row1 col5\" >2</td>\n",
       "    </tr>\n",
       "    <tr>\n",
       "      <th id=\"T_410b3_level0_row2\" class=\"row_heading level0 row2\" >Doc2</th>\n",
       "      <td id=\"T_410b3_row2_col0\" class=\"data row2 col0\" >0.000000</td>\n",
       "      <td id=\"T_410b3_row2_col1\" class=\"data row2 col1\" >0.000000</td>\n",
       "      <td id=\"T_410b3_row2_col2\" class=\"data row2 col2\" >0.000000</td>\n",
       "      <td id=\"T_410b3_row2_col3\" class=\"data row2 col3\" >0.000000</td>\n",
       "      <td id=\"T_410b3_row2_col4\" class=\"data row2 col4\" >0.980000</td>\n",
       "      <td id=\"T_410b3_row2_col5\" class=\"data row2 col5\" >4</td>\n",
       "    </tr>\n",
       "    <tr>\n",
       "      <th id=\"T_410b3_level0_row3\" class=\"row_heading level0 row3\" >Doc3</th>\n",
       "      <td id=\"T_410b3_row3_col0\" class=\"data row3 col0\" >0.000000</td>\n",
       "      <td id=\"T_410b3_row3_col1\" class=\"data row3 col1\" >0.000000</td>\n",
       "      <td id=\"T_410b3_row3_col2\" class=\"data row3 col2\" >0.390000</td>\n",
       "      <td id=\"T_410b3_row3_col3\" class=\"data row3 col3\" >0.000000</td>\n",
       "      <td id=\"T_410b3_row3_col4\" class=\"data row3 col4\" >0.600000</td>\n",
       "      <td id=\"T_410b3_row3_col5\" class=\"data row3 col5\" >4</td>\n",
       "    </tr>\n",
       "    <tr>\n",
       "      <th id=\"T_410b3_level0_row4\" class=\"row_heading level0 row4\" >Doc4</th>\n",
       "      <td id=\"T_410b3_row4_col0\" class=\"data row4 col0\" >0.570000</td>\n",
       "      <td id=\"T_410b3_row4_col1\" class=\"data row4 col1\" >0.420000</td>\n",
       "      <td id=\"T_410b3_row4_col2\" class=\"data row4 col2\" >0.000000</td>\n",
       "      <td id=\"T_410b3_row4_col3\" class=\"data row4 col3\" >0.000000</td>\n",
       "      <td id=\"T_410b3_row4_col4\" class=\"data row4 col4\" >0.000000</td>\n",
       "      <td id=\"T_410b3_row4_col5\" class=\"data row4 col5\" >0</td>\n",
       "    </tr>\n",
       "    <tr>\n",
       "      <th id=\"T_410b3_level0_row5\" class=\"row_heading level0 row5\" >Doc5</th>\n",
       "      <td id=\"T_410b3_row5_col0\" class=\"data row5 col0\" >0.010000</td>\n",
       "      <td id=\"T_410b3_row5_col1\" class=\"data row5 col1\" >0.010000</td>\n",
       "      <td id=\"T_410b3_row5_col2\" class=\"data row5 col2\" >0.630000</td>\n",
       "      <td id=\"T_410b3_row5_col3\" class=\"data row5 col3\" >0.340000</td>\n",
       "      <td id=\"T_410b3_row5_col4\" class=\"data row5 col4\" >0.010000</td>\n",
       "      <td id=\"T_410b3_row5_col5\" class=\"data row5 col5\" >2</td>\n",
       "    </tr>\n",
       "    <tr>\n",
       "      <th id=\"T_410b3_level0_row6\" class=\"row_heading level0 row6\" >Doc6</th>\n",
       "      <td id=\"T_410b3_row6_col0\" class=\"data row6 col0\" >0.010000</td>\n",
       "      <td id=\"T_410b3_row6_col1\" class=\"data row6 col1\" >0.010000</td>\n",
       "      <td id=\"T_410b3_row6_col2\" class=\"data row6 col2\" >0.250000</td>\n",
       "      <td id=\"T_410b3_row6_col3\" class=\"data row6 col3\" >0.010000</td>\n",
       "      <td id=\"T_410b3_row6_col4\" class=\"data row6 col4\" >0.740000</td>\n",
       "      <td id=\"T_410b3_row6_col5\" class=\"data row6 col5\" >4</td>\n",
       "    </tr>\n",
       "    <tr>\n",
       "      <th id=\"T_410b3_level0_row7\" class=\"row_heading level0 row7\" >Doc7</th>\n",
       "      <td id=\"T_410b3_row7_col0\" class=\"data row7 col0\" >0.090000</td>\n",
       "      <td id=\"T_410b3_row7_col1\" class=\"data row7 col1\" >0.610000</td>\n",
       "      <td id=\"T_410b3_row7_col2\" class=\"data row7 col2\" >0.000000</td>\n",
       "      <td id=\"T_410b3_row7_col3\" class=\"data row7 col3\" >0.290000</td>\n",
       "      <td id=\"T_410b3_row7_col4\" class=\"data row7 col4\" >0.000000</td>\n",
       "      <td id=\"T_410b3_row7_col5\" class=\"data row7 col5\" >1</td>\n",
       "    </tr>\n",
       "    <tr>\n",
       "      <th id=\"T_410b3_level0_row8\" class=\"row_heading level0 row8\" >Doc8</th>\n",
       "      <td id=\"T_410b3_row8_col0\" class=\"data row8 col0\" >0.790000</td>\n",
       "      <td id=\"T_410b3_row8_col1\" class=\"data row8 col1\" >0.000000</td>\n",
       "      <td id=\"T_410b3_row8_col2\" class=\"data row8 col2\" >0.200000</td>\n",
       "      <td id=\"T_410b3_row8_col3\" class=\"data row8 col3\" >0.000000</td>\n",
       "      <td id=\"T_410b3_row8_col4\" class=\"data row8 col4\" >0.000000</td>\n",
       "      <td id=\"T_410b3_row8_col5\" class=\"data row8 col5\" >0</td>\n",
       "    </tr>\n",
       "    <tr>\n",
       "      <th id=\"T_410b3_level0_row9\" class=\"row_heading level0 row9\" >Doc9</th>\n",
       "      <td id=\"T_410b3_row9_col0\" class=\"data row9 col0\" >0.800000</td>\n",
       "      <td id=\"T_410b3_row9_col1\" class=\"data row9 col1\" >0.010000</td>\n",
       "      <td id=\"T_410b3_row9_col2\" class=\"data row9 col2\" >0.010000</td>\n",
       "      <td id=\"T_410b3_row9_col3\" class=\"data row9 col3\" >0.180000</td>\n",
       "      <td id=\"T_410b3_row9_col4\" class=\"data row9 col4\" >0.010000</td>\n",
       "      <td id=\"T_410b3_row9_col5\" class=\"data row9 col5\" >0</td>\n",
       "    </tr>\n",
       "  </tbody>\n",
       "</table>\n"
      ],
      "text/plain": [
       "<pandas.io.formats.style.Styler at 0x12f2f6d30>"
      ]
     },
     "execution_count": 14,
     "metadata": {},
     "output_type": "execute_result"
    }
   ],
   "source": [
    "# Create Document - Topic Matrix\n",
    "lda_output = best_lda_model.transform(data_vectorized)\n",
    "\n",
    "# column names\n",
    "topicnames = [\"Topic\" + str(i) for i in range(best_lda_model.n_components)]\n",
    "\n",
    "# index names\n",
    "docnames = [\"Doc\" + str(i) for i in range(len(data))]\n",
    "\n",
    "# Make the pandas dataframe\n",
    "df_document_topic = pd.DataFrame(np.round(lda_output, 2), columns=topicnames, index=docnames)\n",
    "\n",
    "# Get dominant topic for each document\n",
    "dominant_topic = np.argmax(df_document_topic.values, axis=1)\n",
    "df_document_topic['dominant_topic'] = dominant_topic\n",
    "\n",
    "# Styling\n",
    "def color_green(val):\n",
    "    color = 'green' if val > .1 else 'black'\n",
    "    return 'color: {col}'.format(col=color)\n",
    "\n",
    "def make_bold(val):\n",
    "    weight = 700 if val > .1 else 400\n",
    "    return 'font-weight: {weight}'.format(weight=weight)\n",
    "\n",
    "# Apply Style\n",
    "df_document_topics = df_document_topic.style.applymap(color_green).applymap(make_bold)\n",
    "df_document_topics_first10 = df_document_topic[:10].style.applymap(color_green).applymap(make_bold)\n",
    "df_document_topics_first10"
   ]
  },
  {
   "cell_type": "markdown",
   "metadata": {
    "id": "YPwJ4FEtgWpn"
   },
   "source": [
    "# Quantidade de Documentos em Cada Tópico"
   ]
  },
  {
   "cell_type": "code",
   "execution_count": 15,
   "metadata": {
    "colab": {
     "base_uri": "https://localhost:8080/",
     "height": 206
    },
    "executionInfo": {
     "elapsed": 53,
     "status": "ok",
     "timestamp": 1632771787945,
     "user": {
      "displayName": "Leonardo Mendonza",
      "photoUrl": "https://lh3.googleusercontent.com/a-/AOh14Gj5F1JVSmHodKCvWHgDPYmDyFo_nUl5lqEXNbsW=s64",
      "userId": "09205135724810578413"
     },
     "user_tz": 180
    },
    "id": "HwZxR-wvgWpn",
    "outputId": "f74044bf-3791-42fc-aed0-4c460fca5345"
   },
   "outputs": [
    {
     "data": {
      "text/html": [
       "<div>\n",
       "<style scoped>\n",
       "    .dataframe tbody tr th:only-of-type {\n",
       "        vertical-align: middle;\n",
       "    }\n",
       "\n",
       "    .dataframe tbody tr th {\n",
       "        vertical-align: top;\n",
       "    }\n",
       "\n",
       "    .dataframe thead th {\n",
       "        text-align: right;\n",
       "    }\n",
       "</style>\n",
       "<table border=\"1\" class=\"dataframe\">\n",
       "  <thead>\n",
       "    <tr style=\"text-align: right;\">\n",
       "      <th></th>\n",
       "      <th>Topic Num</th>\n",
       "      <th>Num Documents</th>\n",
       "    </tr>\n",
       "  </thead>\n",
       "  <tbody>\n",
       "    <tr>\n",
       "      <th>0</th>\n",
       "      <td>2</td>\n",
       "      <td>1371</td>\n",
       "    </tr>\n",
       "    <tr>\n",
       "      <th>1</th>\n",
       "      <td>0</td>\n",
       "      <td>540</td>\n",
       "    </tr>\n",
       "    <tr>\n",
       "      <th>2</th>\n",
       "      <td>4</td>\n",
       "      <td>484</td>\n",
       "    </tr>\n",
       "    <tr>\n",
       "      <th>3</th>\n",
       "      <td>3</td>\n",
       "      <td>429</td>\n",
       "    </tr>\n",
       "    <tr>\n",
       "      <th>4</th>\n",
       "      <td>1</td>\n",
       "      <td>294</td>\n",
       "    </tr>\n",
       "  </tbody>\n",
       "</table>\n",
       "</div>"
      ],
      "text/plain": [
       "   Topic Num  Num Documents\n",
       "0          2           1371\n",
       "1          0            540\n",
       "2          4            484\n",
       "3          3            429\n",
       "4          1            294"
      ]
     },
     "execution_count": 15,
     "metadata": {},
     "output_type": "execute_result"
    }
   ],
   "source": [
    "df_topic_distribution = df_document_topic['dominant_topic'].value_counts().reset_index(name=\"Num Documents\")\n",
    "df_topic_distribution.columns = ['Topic Num', 'Num Documents']\n",
    "df_topic_distribution"
   ]
  },
  {
   "cell_type": "markdown",
   "metadata": {
    "id": "XTr4hQsNgWpo"
   },
   "source": [
    "# Top 5 palavras por tópico"
   ]
  },
  {
   "cell_type": "code",
   "execution_count": 16,
   "metadata": {
    "colab": {
     "base_uri": "https://localhost:8080/"
    },
    "executionInfo": {
     "elapsed": 49,
     "status": "ok",
     "timestamp": 1632771787945,
     "user": {
      "displayName": "Leonardo Mendonza",
      "photoUrl": "https://lh3.googleusercontent.com/a-/AOh14Gj5F1JVSmHodKCvWHgDPYmDyFo_nUl5lqEXNbsW=s64",
      "userId": "09205135724810578413"
     },
     "user_tz": 180
    },
    "id": "vRLGU6jzgWpo",
    "outputId": "506e9f0d-f918-47cc-8669-d03f14fcf01e"
   },
   "outputs": [
    {
     "name": "stdout",
     "output_type": "stream",
     "text": [
      "Topic: 0\n",
      "  samba, gente, vem, mar, morro\n",
      "Topic: 1\n",
      "  tambem, voce, diz, vovo, fala\n",
      "Topic: 2\n",
      "  voce, amor, coracao, quero, mim\n",
      "Topic: 3\n",
      "  vai, voce, vem, malandro, deus\n",
      "Topic: 4\n",
      "  vou, voce, vai, amor, vida\n"
     ]
    }
   ],
   "source": [
    "vocab = vectorizer.get_feature_names()\n",
    "\n",
    "# data_vectorized\n",
    "topic_words = {}\n",
    "n_top_words = 5\n",
    "\n",
    "for topic, comp in enumerate(best_lda_model.components_):\n",
    "    # for the n-dimensional array \"arr\":\n",
    "    # argsort() returns a ranked n-dimensional array of arr, call it \"ranked_array\"\n",
    "    # which contains the indices that would sort arr in a descending fashion\n",
    "    # for the ith element in ranked_array, ranked_array[i] represents the index of the\n",
    "    # element in arr that should be at the ith index in ranked_array\n",
    "    # ex. arr = [3,7,1,0,3,6]\n",
    "    # np.argsort(arr) -> [3, 2, 0, 4, 5, 1]\n",
    "    # word_idx contains the indices in \"topic\" of the top num_top_words most relevant\n",
    "    # to a given topic ... it is sorted ascending to begin with and then reversed (desc. now)    \n",
    "    word_idx = np.argsort(comp)[::-1][:n_top_words]\n",
    "\n",
    "    # store the words most relevant to the topic\n",
    "    topic_words[topic] = [vocab[i] for i in word_idx]\n",
    "    \n",
    "for topic, words in topic_words.items():\n",
    "    print('Topic: %d' % topic)\n",
    "    print('  %s' % ', '.join(words))"
   ]
  },
  {
   "cell_type": "markdown",
   "metadata": {
    "id": "3n8XJ17BgWpo"
   },
   "source": [
    "# Principais Artistas em cada Tópico"
   ]
  },
  {
   "cell_type": "code",
   "execution_count": 17,
   "metadata": {
    "colab": {
     "base_uri": "https://localhost:8080/",
     "height": 206
    },
    "executionInfo": {
     "elapsed": 41,
     "status": "ok",
     "timestamp": 1632771787946,
     "user": {
      "displayName": "Leonardo Mendonza",
      "photoUrl": "https://lh3.googleusercontent.com/a-/AOh14Gj5F1JVSmHodKCvWHgDPYmDyFo_nUl5lqEXNbsW=s64",
      "userId": "09205135724810578413"
     },
     "user_tz": 180
    },
    "id": "g3sypPkygWpp",
    "outputId": "fb35dc15-1e6e-48f8-eb5a-5e7d315a8264"
   },
   "outputs": [
    {
     "data": {
      "text/html": [
       "<div>\n",
       "<style scoped>\n",
       "    .dataframe tbody tr th:only-of-type {\n",
       "        vertical-align: middle;\n",
       "    }\n",
       "\n",
       "    .dataframe tbody tr th {\n",
       "        vertical-align: top;\n",
       "    }\n",
       "\n",
       "    .dataframe thead th {\n",
       "        text-align: right;\n",
       "    }\n",
       "</style>\n",
       "<table border=\"1\" class=\"dataframe\">\n",
       "  <thead>\n",
       "    <tr style=\"text-align: right;\">\n",
       "      <th></th>\n",
       "      <th>Topic0</th>\n",
       "      <th>Topic1</th>\n",
       "      <th>Topic2</th>\n",
       "      <th>Topic3</th>\n",
       "      <th>Topic4</th>\n",
       "      <th>dominant_topic</th>\n",
       "    </tr>\n",
       "  </thead>\n",
       "  <tbody>\n",
       "    <tr>\n",
       "      <th>Doc0</th>\n",
       "      <td>0.50</td>\n",
       "      <td>0.01</td>\n",
       "      <td>0.41</td>\n",
       "      <td>0.01</td>\n",
       "      <td>0.08</td>\n",
       "      <td>0</td>\n",
       "    </tr>\n",
       "    <tr>\n",
       "      <th>Doc1</th>\n",
       "      <td>0.25</td>\n",
       "      <td>0.01</td>\n",
       "      <td>0.47</td>\n",
       "      <td>0.01</td>\n",
       "      <td>0.27</td>\n",
       "      <td>2</td>\n",
       "    </tr>\n",
       "    <tr>\n",
       "      <th>Doc2</th>\n",
       "      <td>0.00</td>\n",
       "      <td>0.00</td>\n",
       "      <td>0.00</td>\n",
       "      <td>0.98</td>\n",
       "      <td>0.00</td>\n",
       "      <td>3</td>\n",
       "    </tr>\n",
       "    <tr>\n",
       "      <th>Doc3</th>\n",
       "      <td>0.00</td>\n",
       "      <td>0.00</td>\n",
       "      <td>0.32</td>\n",
       "      <td>0.33</td>\n",
       "      <td>0.34</td>\n",
       "      <td>4</td>\n",
       "    </tr>\n",
       "    <tr>\n",
       "      <th>Doc4</th>\n",
       "      <td>0.93</td>\n",
       "      <td>0.00</td>\n",
       "      <td>0.00</td>\n",
       "      <td>0.06</td>\n",
       "      <td>0.00</td>\n",
       "      <td>0</td>\n",
       "    </tr>\n",
       "  </tbody>\n",
       "</table>\n",
       "</div>"
      ],
      "text/plain": [
       "      Topic0  Topic1  Topic2  Topic3  Topic4  dominant_topic\n",
       "Doc0    0.50    0.01    0.41    0.01    0.08               0\n",
       "Doc1    0.25    0.01    0.47    0.01    0.27               2\n",
       "Doc2    0.00    0.00    0.00    0.98    0.00               3\n",
       "Doc3    0.00    0.00    0.32    0.33    0.34               4\n",
       "Doc4    0.93    0.00    0.00    0.06    0.00               0"
      ]
     },
     "execution_count": 17,
     "metadata": {},
     "output_type": "execute_result"
    }
   ],
   "source": [
    "# tranformando objeto style em um dataframe pandas\n",
    "df2 = pd.DataFrame(data=df_document_topics.data, columns=df_document_topics.columns)\n",
    "df2.head()"
   ]
  },
  {
   "cell_type": "code",
   "execution_count": 18,
   "metadata": {
    "colab": {
     "base_uri": "https://localhost:8080/",
     "height": 206
    },
    "executionInfo": {
     "elapsed": 38,
     "status": "ok",
     "timestamp": 1632771787946,
     "user": {
      "displayName": "Leonardo Mendonza",
      "photoUrl": "https://lh3.googleusercontent.com/a-/AOh14Gj5F1JVSmHodKCvWHgDPYmDyFo_nUl5lqEXNbsW=s64",
      "userId": "09205135724810578413"
     },
     "user_tz": 180
    },
    "id": "k5N1wNTzgWpp",
    "outputId": "844d9a83-1cc6-4253-d14f-292fcf608ba5"
   },
   "outputs": [
    {
     "data": {
      "text/html": [
       "<div>\n",
       "<style scoped>\n",
       "    .dataframe tbody tr th:only-of-type {\n",
       "        vertical-align: middle;\n",
       "    }\n",
       "\n",
       "    .dataframe tbody tr th {\n",
       "        vertical-align: top;\n",
       "    }\n",
       "\n",
       "    .dataframe thead th {\n",
       "        text-align: right;\n",
       "    }\n",
       "</style>\n",
       "<table border=\"1\" class=\"dataframe\">\n",
       "  <thead>\n",
       "    <tr style=\"text-align: right;\">\n",
       "      <th></th>\n",
       "      <th>Topic0</th>\n",
       "      <th>Topic1</th>\n",
       "      <th>Topic2</th>\n",
       "      <th>Topic3</th>\n",
       "      <th>Topic4</th>\n",
       "      <th>dominant_topic</th>\n",
       "      <th>artista</th>\n",
       "    </tr>\n",
       "  </thead>\n",
       "  <tbody>\n",
       "    <tr>\n",
       "      <th>Doc0</th>\n",
       "      <td>0.50</td>\n",
       "      <td>0.01</td>\n",
       "      <td>0.41</td>\n",
       "      <td>0.01</td>\n",
       "      <td>0.08</td>\n",
       "      <td>0</td>\n",
       "      <td>Ary Barroso</td>\n",
       "    </tr>\n",
       "    <tr>\n",
       "      <th>Doc1</th>\n",
       "      <td>0.25</td>\n",
       "      <td>0.01</td>\n",
       "      <td>0.47</td>\n",
       "      <td>0.01</td>\n",
       "      <td>0.27</td>\n",
       "      <td>2</td>\n",
       "      <td>Arlindo Cruz</td>\n",
       "    </tr>\n",
       "    <tr>\n",
       "      <th>Doc2</th>\n",
       "      <td>0.00</td>\n",
       "      <td>0.00</td>\n",
       "      <td>0.00</td>\n",
       "      <td>0.98</td>\n",
       "      <td>0.00</td>\n",
       "      <td>3</td>\n",
       "      <td>Candeia</td>\n",
       "    </tr>\n",
       "    <tr>\n",
       "      <th>Doc3</th>\n",
       "      <td>0.00</td>\n",
       "      <td>0.00</td>\n",
       "      <td>0.32</td>\n",
       "      <td>0.33</td>\n",
       "      <td>0.34</td>\n",
       "      <td>4</td>\n",
       "      <td>Alexandre Pires</td>\n",
       "    </tr>\n",
       "    <tr>\n",
       "      <th>Doc4</th>\n",
       "      <td>0.93</td>\n",
       "      <td>0.00</td>\n",
       "      <td>0.00</td>\n",
       "      <td>0.06</td>\n",
       "      <td>0.00</td>\n",
       "      <td>0</td>\n",
       "      <td>Ary Barroso</td>\n",
       "    </tr>\n",
       "  </tbody>\n",
       "</table>\n",
       "</div>"
      ],
      "text/plain": [
       "      Topic0  Topic1  Topic2  Topic3  Topic4  dominant_topic          artista\n",
       "Doc0    0.50    0.01    0.41    0.01    0.08               0      Ary Barroso\n",
       "Doc1    0.25    0.01    0.47    0.01    0.27               2     Arlindo Cruz\n",
       "Doc2    0.00    0.00    0.00    0.98    0.00               3          Candeia\n",
       "Doc3    0.00    0.00    0.32    0.33    0.34               4  Alexandre Pires\n",
       "Doc4    0.93    0.00    0.00    0.06    0.00               0      Ary Barroso"
      ]
     },
     "execution_count": 18,
     "metadata": {},
     "output_type": "execute_result"
    }
   ],
   "source": [
    "# associando os interpretes aos tópicos \n",
    "# dos sambas que eles cantam\n",
    "df2[\"artista\"] = df[\"artista\"].tolist()\n",
    "df2.head()"
   ]
  },
  {
   "cell_type": "code",
   "execution_count": 19,
   "metadata": {
    "colab": {
     "base_uri": "https://localhost:8080/",
     "height": 237
    },
    "executionInfo": {
     "elapsed": 36,
     "status": "ok",
     "timestamp": 1632771787947,
     "user": {
      "displayName": "Leonardo Mendonza",
      "photoUrl": "https://lh3.googleusercontent.com/a-/AOh14Gj5F1JVSmHodKCvWHgDPYmDyFo_nUl5lqEXNbsW=s64",
      "userId": "09205135724810578413"
     },
     "user_tz": 180
    },
    "id": "xN0T1wJqgWpq",
    "outputId": "00a0204d-729f-48c8-f5ab-69de248df6ca"
   },
   "outputs": [
    {
     "data": {
      "text/html": [
       "<div>\n",
       "<style scoped>\n",
       "    .dataframe tbody tr th:only-of-type {\n",
       "        vertical-align: middle;\n",
       "    }\n",
       "\n",
       "    .dataframe tbody tr th {\n",
       "        vertical-align: top;\n",
       "    }\n",
       "\n",
       "    .dataframe thead th {\n",
       "        text-align: right;\n",
       "    }\n",
       "</style>\n",
       "<table border=\"1\" class=\"dataframe\">\n",
       "  <thead>\n",
       "    <tr style=\"text-align: right;\">\n",
       "      <th></th>\n",
       "      <th>artista</th>\n",
       "    </tr>\n",
       "    <tr>\n",
       "      <th>dominant_topic</th>\n",
       "      <th></th>\n",
       "    </tr>\n",
       "  </thead>\n",
       "  <tbody>\n",
       "    <tr>\n",
       "      <th>0</th>\n",
       "      <td>Ary Barroso</td>\n",
       "    </tr>\n",
       "    <tr>\n",
       "      <th>1</th>\n",
       "      <td>Bezerra da Silva</td>\n",
       "    </tr>\n",
       "    <tr>\n",
       "      <th>2</th>\n",
       "      <td>Belo</td>\n",
       "    </tr>\n",
       "    <tr>\n",
       "      <th>3</th>\n",
       "      <td>Bezerra da Silva</td>\n",
       "    </tr>\n",
       "    <tr>\n",
       "      <th>4</th>\n",
       "      <td>Benito Di Paula</td>\n",
       "    </tr>\n",
       "  </tbody>\n",
       "</table>\n",
       "</div>"
      ],
      "text/plain": [
       "                         artista\n",
       "dominant_topic                  \n",
       "0                    Ary Barroso\n",
       "1               Bezerra da Silva\n",
       "2                           Belo\n",
       "3               Bezerra da Silva\n",
       "4                Benito Di Paula"
      ]
     },
     "execution_count": 19,
     "metadata": {},
     "output_type": "execute_result"
    }
   ],
   "source": [
    "# Artistas que mais aparecem dentro de cada tópico\n",
    "df2.groupby([\"dominant_topic\"])['artista'].agg(pd.Series.mode).to_frame()"
   ]
  },
  {
   "cell_type": "code",
   "execution_count": 20,
   "metadata": {
    "colab": {
     "base_uri": "https://localhost:8080/"
    },
    "executionInfo": {
     "elapsed": 33,
     "status": "ok",
     "timestamp": 1632771787947,
     "user": {
      "displayName": "Leonardo Mendonza",
      "photoUrl": "https://lh3.googleusercontent.com/a-/AOh14Gj5F1JVSmHodKCvWHgDPYmDyFo_nUl5lqEXNbsW=s64",
      "userId": "09205135724810578413"
     },
     "user_tz": 180
    },
    "id": "JQFHciwFgWpq",
    "outputId": "a0df64bb-5cec-4a9f-fa4a-242f37360181"
   },
   "outputs": [
    {
     "data": {
      "text/plain": [
       "artista\n",
       "Ary Barroso      110\n",
       "Alcione           69\n",
       "Beth Carvalho     53\n",
       "Arlindo Cruz      41\n",
       "Agepê             40\n",
       "dtype: int64"
      ]
     },
     "execution_count": 20,
     "metadata": {},
     "output_type": "execute_result"
    }
   ],
   "source": [
    "# os 5 artistas que mais aparecem no\n",
    "# tópico 0 e quantidade de sambas \n",
    "df2[df2[\"dominant_topic\"]==0].groupby([\"artista\"]).size().sort_values(ascending=False)[:5]"
   ]
  },
  {
   "cell_type": "code",
   "execution_count": 21,
   "metadata": {
    "colab": {
     "base_uri": "https://localhost:8080/"
    },
    "executionInfo": {
     "elapsed": 28,
     "status": "ok",
     "timestamp": 1632771787948,
     "user": {
      "displayName": "Leonardo Mendonza",
      "photoUrl": "https://lh3.googleusercontent.com/a-/AOh14Gj5F1JVSmHodKCvWHgDPYmDyFo_nUl5lqEXNbsW=s64",
      "userId": "09205135724810578413"
     },
     "user_tz": 180
    },
    "id": "XoqGtbqcgWpq",
    "outputId": "6ee7553b-aa88-4085-9a3e-62bd1041bf14"
   },
   "outputs": [
    {
     "data": {
      "text/plain": [
       "artista\n",
       "Bezerra da Silva    100\n",
       "Alcione              29\n",
       "Ataulfo Alves        21\n",
       "Beth Carvalho        21\n",
       "Adoniran Barbosa     20\n",
       "dtype: int64"
      ]
     },
     "execution_count": 21,
     "metadata": {},
     "output_type": "execute_result"
    }
   ],
   "source": [
    "# os 5 artistas que mais aparecem no\n",
    "# tópico 1 e quantidade de sambas \n",
    "df2[df2[\"dominant_topic\"]==1].groupby([\"artista\"]).size().sort_values(ascending=False)[:5]"
   ]
  },
  {
   "cell_type": "code",
   "execution_count": 22,
   "metadata": {
    "colab": {
     "base_uri": "https://localhost:8080/"
    },
    "executionInfo": {
     "elapsed": 25,
     "status": "ok",
     "timestamp": 1632771787949,
     "user": {
      "displayName": "Leonardo Mendonza",
      "photoUrl": "https://lh3.googleusercontent.com/a-/AOh14Gj5F1JVSmHodKCvWHgDPYmDyFo_nUl5lqEXNbsW=s64",
      "userId": "09205135724810578413"
     },
     "user_tz": 180
    },
    "id": "AMSwHvipgWpr",
    "outputId": "4865971c-859d-4169-f356-8f35f92927ef"
   },
   "outputs": [
    {
     "data": {
      "text/plain": [
       "artista\n",
       "Belo               222\n",
       "Alcione            190\n",
       "Alexandre Pires    155\n",
       "Art Popular        116\n",
       "Benito Di Paula    105\n",
       "dtype: int64"
      ]
     },
     "execution_count": 22,
     "metadata": {},
     "output_type": "execute_result"
    }
   ],
   "source": [
    "# os 5 artistas que mais aparecem no\n",
    "# tópico 2 e quantidade de sambas \n",
    "df2[df2[\"dominant_topic\"]==2].groupby([\"artista\"]).size().sort_values(ascending=False)[:5]"
   ]
  },
  {
   "cell_type": "code",
   "execution_count": 23,
   "metadata": {
    "colab": {
     "base_uri": "https://localhost:8080/"
    },
    "executionInfo": {
     "elapsed": 22,
     "status": "ok",
     "timestamp": 1632771787949,
     "user": {
      "displayName": "Leonardo Mendonza",
      "photoUrl": "https://lh3.googleusercontent.com/a-/AOh14Gj5F1JVSmHodKCvWHgDPYmDyFo_nUl5lqEXNbsW=s64",
      "userId": "09205135724810578413"
     },
     "user_tz": 180
    },
    "id": "nFaHgEI5gWpr",
    "outputId": "0f8992bb-c6cc-4ff2-e7d8-a21aefabb8f9"
   },
   "outputs": [
    {
     "data": {
      "text/plain": [
       "artista\n",
       "Bezerra da Silva    120\n",
       "Art Popular          35\n",
       "Alcione              35\n",
       "Beth Carvalho        33\n",
       "Arlindo Cruz         30\n",
       "dtype: int64"
      ]
     },
     "execution_count": 23,
     "metadata": {},
     "output_type": "execute_result"
    }
   ],
   "source": [
    "# os 5 artistas que mais aparecem no\n",
    "# tópico 3 e quantidade de sambas \n",
    "df2[df2[\"dominant_topic\"]==3].groupby([\"artista\"]).size().sort_values(ascending=False)[:5]"
   ]
  },
  {
   "cell_type": "code",
   "execution_count": 24,
   "metadata": {
    "colab": {
     "base_uri": "https://localhost:8080/"
    },
    "executionInfo": {
     "elapsed": 19,
     "status": "ok",
     "timestamp": 1632771787950,
     "user": {
      "displayName": "Leonardo Mendonza",
      "photoUrl": "https://lh3.googleusercontent.com/a-/AOh14Gj5F1JVSmHodKCvWHgDPYmDyFo_nUl5lqEXNbsW=s64",
      "userId": "09205135724810578413"
     },
     "user_tz": 180
    },
    "id": "9keDEUNXgWps",
    "outputId": "55a3abba-130b-46b8-b4ce-7fefcd448f8b"
   },
   "outputs": [
    {
     "data": {
      "text/plain": [
       "artista\n",
       "Benito Di Paula    54\n",
       "Alcione            53\n",
       "Beth Carvalho      50\n",
       "Ataulfo Alves      46\n",
       "Carmen Miranda     42\n",
       "dtype: int64"
      ]
     },
     "execution_count": 24,
     "metadata": {},
     "output_type": "execute_result"
    }
   ],
   "source": [
    "# os 5 artistas que mais aparecem no\n",
    "# tópico 4 e quantidade de sambas \n",
    "df2[df2[\"dominant_topic\"]==4].groupby([\"artista\"]).size().sort_values(ascending=False)[:5]"
   ]
  },
  {
   "cell_type": "code",
   "execution_count": 24,
   "metadata": {
    "executionInfo": {
     "elapsed": 17,
     "status": "ok",
     "timestamp": 1632771787950,
     "user": {
      "displayName": "Leonardo Mendonza",
      "photoUrl": "https://lh3.googleusercontent.com/a-/AOh14Gj5F1JVSmHodKCvWHgDPYmDyFo_nUl5lqEXNbsW=s64",
      "userId": "09205135724810578413"
     },
     "user_tz": 180
    },
    "id": "yWVDSACPwDNV"
   },
   "outputs": [],
   "source": []
  }
 ],
 "metadata": {
  "colab": {
   "name": "sambaLDA.ipynb",
   "provenance": []
  },
  "kernelspec": {
   "display_name": "Python 3 (ipykernel)",
   "language": "python",
   "name": "python3"
  },
  "language_info": {
   "codemirror_mode": {
    "name": "ipython",
    "version": 3
   },
   "file_extension": ".py",
   "mimetype": "text/x-python",
   "name": "python",
   "nbconvert_exporter": "python",
   "pygments_lexer": "ipython3",
   "version": "3.8.11"
  }
 },
 "nbformat": 4,
 "nbformat_minor": 1
}
