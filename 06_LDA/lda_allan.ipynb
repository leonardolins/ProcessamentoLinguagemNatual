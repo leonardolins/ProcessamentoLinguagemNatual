{
 "cells": [
  {
   "cell_type": "code",
   "execution_count": 1,
   "metadata": {
    "colab": {
     "base_uri": "https://localhost:8080/",
     "height": 1000
    },
    "executionInfo": {
     "elapsed": 25566,
     "status": "ok",
     "timestamp": 1642537799275,
     "user": {
      "displayName": "Leonardo Mendonza",
      "photoUrl": "https://lh3.googleusercontent.com/a-/AOh14Gj5F1JVSmHodKCvWHgDPYmDyFo_nUl5lqEXNbsW=s64",
      "userId": "09205135724810578413"
     },
     "user_tz": 180
    },
    "id": "ETj9pOYqazJ7",
    "outputId": "bd0903a7-9b7f-4f71-a688-6ad72598c81d"
   },
   "outputs": [
    {
     "name": "stdout",
     "output_type": "stream",
     "text": [
      "Collecting pyLDAvis\n",
      "  Downloading pyLDAvis-3.3.1.tar.gz (1.7 MB)\n",
      "\u001b[?25l\r",
      "\u001b[K     |▏                               | 10 kB 27.1 MB/s eta 0:00:01\r",
      "\u001b[K     |▍                               | 20 kB 36.4 MB/s eta 0:00:01\r",
      "\u001b[K     |▋                               | 30 kB 23.1 MB/s eta 0:00:01\r",
      "\u001b[K     |▉                               | 40 kB 20.5 MB/s eta 0:00:01\r",
      "\u001b[K     |█                               | 51 kB 17.5 MB/s eta 0:00:01\r",
      "\u001b[K     |█▏                              | 61 kB 15.1 MB/s eta 0:00:01\r",
      "\u001b[K     |█▍                              | 71 kB 14.2 MB/s eta 0:00:01\r",
      "\u001b[K     |█▋                              | 81 kB 15.7 MB/s eta 0:00:01\r",
      "\u001b[K     |█▉                              | 92 kB 15.9 MB/s eta 0:00:01\r",
      "\u001b[K     |██                              | 102 kB 13.8 MB/s eta 0:00:01\r",
      "\u001b[K     |██▏                             | 112 kB 13.8 MB/s eta 0:00:01\r",
      "\u001b[K     |██▍                             | 122 kB 13.8 MB/s eta 0:00:01\r",
      "\u001b[K     |██▋                             | 133 kB 13.8 MB/s eta 0:00:01\r",
      "\u001b[K     |██▊                             | 143 kB 13.8 MB/s eta 0:00:01\r",
      "\u001b[K     |███                             | 153 kB 13.8 MB/s eta 0:00:01\r",
      "\u001b[K     |███▏                            | 163 kB 13.8 MB/s eta 0:00:01\r",
      "\u001b[K     |███▍                            | 174 kB 13.8 MB/s eta 0:00:01\r",
      "\u001b[K     |███▋                            | 184 kB 13.8 MB/s eta 0:00:01\r",
      "\u001b[K     |███▊                            | 194 kB 13.8 MB/s eta 0:00:01\r",
      "\u001b[K     |████                            | 204 kB 13.8 MB/s eta 0:00:01\r",
      "\u001b[K     |████▏                           | 215 kB 13.8 MB/s eta 0:00:01\r",
      "\u001b[K     |████▍                           | 225 kB 13.8 MB/s eta 0:00:01\r",
      "\u001b[K     |████▋                           | 235 kB 13.8 MB/s eta 0:00:01\r",
      "\u001b[K     |████▊                           | 245 kB 13.8 MB/s eta 0:00:01\r",
      "\u001b[K     |█████                           | 256 kB 13.8 MB/s eta 0:00:01\r",
      "\u001b[K     |█████▏                          | 266 kB 13.8 MB/s eta 0:00:01\r",
      "\u001b[K     |█████▍                          | 276 kB 13.8 MB/s eta 0:00:01\r",
      "\u001b[K     |█████▌                          | 286 kB 13.8 MB/s eta 0:00:01\r",
      "\u001b[K     |█████▊                          | 296 kB 13.8 MB/s eta 0:00:01\r",
      "\u001b[K     |██████                          | 307 kB 13.8 MB/s eta 0:00:01\r",
      "\u001b[K     |██████▏                         | 317 kB 13.8 MB/s eta 0:00:01\r",
      "\u001b[K     |██████▍                         | 327 kB 13.8 MB/s eta 0:00:01\r",
      "\u001b[K     |██████▌                         | 337 kB 13.8 MB/s eta 0:00:01\r",
      "\u001b[K     |██████▊                         | 348 kB 13.8 MB/s eta 0:00:01\r",
      "\u001b[K     |███████                         | 358 kB 13.8 MB/s eta 0:00:01\r",
      "\u001b[K     |███████▏                        | 368 kB 13.8 MB/s eta 0:00:01\r",
      "\u001b[K     |███████▎                        | 378 kB 13.8 MB/s eta 0:00:01\r",
      "\u001b[K     |███████▌                        | 389 kB 13.8 MB/s eta 0:00:01\r",
      "\u001b[K     |███████▊                        | 399 kB 13.8 MB/s eta 0:00:01\r",
      "\u001b[K     |████████                        | 409 kB 13.8 MB/s eta 0:00:01\r",
      "\u001b[K     |████████▏                       | 419 kB 13.8 MB/s eta 0:00:01\r",
      "\u001b[K     |████████▎                       | 430 kB 13.8 MB/s eta 0:00:01\r",
      "\u001b[K     |████████▌                       | 440 kB 13.8 MB/s eta 0:00:01\r",
      "\u001b[K     |████████▊                       | 450 kB 13.8 MB/s eta 0:00:01\r",
      "\u001b[K     |█████████                       | 460 kB 13.8 MB/s eta 0:00:01\r",
      "\u001b[K     |█████████▏                      | 471 kB 13.8 MB/s eta 0:00:01\r",
      "\u001b[K     |█████████▎                      | 481 kB 13.8 MB/s eta 0:00:01\r",
      "\u001b[K     |█████████▌                      | 491 kB 13.8 MB/s eta 0:00:01\r",
      "\u001b[K     |█████████▊                      | 501 kB 13.8 MB/s eta 0:00:01\r",
      "\u001b[K     |██████████                      | 512 kB 13.8 MB/s eta 0:00:01\r",
      "\u001b[K     |██████████                      | 522 kB 13.8 MB/s eta 0:00:01\r",
      "\u001b[K     |██████████▎                     | 532 kB 13.8 MB/s eta 0:00:01\r",
      "\u001b[K     |██████████▌                     | 542 kB 13.8 MB/s eta 0:00:01\r",
      "\u001b[K     |██████████▊                     | 552 kB 13.8 MB/s eta 0:00:01\r",
      "\u001b[K     |███████████                     | 563 kB 13.8 MB/s eta 0:00:01\r",
      "\u001b[K     |███████████                     | 573 kB 13.8 MB/s eta 0:00:01\r",
      "\u001b[K     |███████████▎                    | 583 kB 13.8 MB/s eta 0:00:01\r",
      "\u001b[K     |███████████▌                    | 593 kB 13.8 MB/s eta 0:00:01\r",
      "\u001b[K     |███████████▊                    | 604 kB 13.8 MB/s eta 0:00:01\r",
      "\u001b[K     |███████████▉                    | 614 kB 13.8 MB/s eta 0:00:01\r",
      "\u001b[K     |████████████                    | 624 kB 13.8 MB/s eta 0:00:01\r",
      "\u001b[K     |████████████▎                   | 634 kB 13.8 MB/s eta 0:00:01\r",
      "\u001b[K     |████████████▌                   | 645 kB 13.8 MB/s eta 0:00:01\r",
      "\u001b[K     |████████████▊                   | 655 kB 13.8 MB/s eta 0:00:01\r",
      "\u001b[K     |████████████▉                   | 665 kB 13.8 MB/s eta 0:00:01\r",
      "\u001b[K     |█████████████                   | 675 kB 13.8 MB/s eta 0:00:01\r",
      "\u001b[K     |█████████████▎                  | 686 kB 13.8 MB/s eta 0:00:01\r",
      "\u001b[K     |█████████████▌                  | 696 kB 13.8 MB/s eta 0:00:01\r",
      "\u001b[K     |█████████████▊                  | 706 kB 13.8 MB/s eta 0:00:01\r",
      "\u001b[K     |█████████████▉                  | 716 kB 13.8 MB/s eta 0:00:01\r",
      "\u001b[K     |██████████████                  | 727 kB 13.8 MB/s eta 0:00:01\r",
      "\u001b[K     |██████████████▎                 | 737 kB 13.8 MB/s eta 0:00:01\r",
      "\u001b[K     |██████████████▌                 | 747 kB 13.8 MB/s eta 0:00:01\r",
      "\u001b[K     |██████████████▋                 | 757 kB 13.8 MB/s eta 0:00:01\r",
      "\u001b[K     |██████████████▉                 | 768 kB 13.8 MB/s eta 0:00:01\r",
      "\u001b[K     |███████████████                 | 778 kB 13.8 MB/s eta 0:00:01\r",
      "\u001b[K     |███████████████▎                | 788 kB 13.8 MB/s eta 0:00:01\r",
      "\u001b[K     |███████████████▌                | 798 kB 13.8 MB/s eta 0:00:01\r",
      "\u001b[K     |███████████████▋                | 808 kB 13.8 MB/s eta 0:00:01\r",
      "\u001b[K     |███████████████▉                | 819 kB 13.8 MB/s eta 0:00:01\r",
      "\u001b[K     |████████████████                | 829 kB 13.8 MB/s eta 0:00:01\r",
      "\u001b[K     |████████████████▎               | 839 kB 13.8 MB/s eta 0:00:01\r",
      "\u001b[K     |████████████████▍               | 849 kB 13.8 MB/s eta 0:00:01\r",
      "\u001b[K     |████████████████▋               | 860 kB 13.8 MB/s eta 0:00:01\r",
      "\u001b[K     |████████████████▉               | 870 kB 13.8 MB/s eta 0:00:01\r",
      "\u001b[K     |█████████████████               | 880 kB 13.8 MB/s eta 0:00:01\r",
      "\u001b[K     |█████████████████▎              | 890 kB 13.8 MB/s eta 0:00:01\r",
      "\u001b[K     |█████████████████▍              | 901 kB 13.8 MB/s eta 0:00:01\r",
      "\u001b[K     |█████████████████▋              | 911 kB 13.8 MB/s eta 0:00:01\r",
      "\u001b[K     |█████████████████▉              | 921 kB 13.8 MB/s eta 0:00:01\r",
      "\u001b[K     |██████████████████              | 931 kB 13.8 MB/s eta 0:00:01\r",
      "\u001b[K     |██████████████████▎             | 942 kB 13.8 MB/s eta 0:00:01\r",
      "\u001b[K     |██████████████████▍             | 952 kB 13.8 MB/s eta 0:00:01\r",
      "\u001b[K     |██████████████████▋             | 962 kB 13.8 MB/s eta 0:00:01\r",
      "\u001b[K     |██████████████████▉             | 972 kB 13.8 MB/s eta 0:00:01\r",
      "\u001b[K     |███████████████████             | 983 kB 13.8 MB/s eta 0:00:01\r",
      "\u001b[K     |███████████████████▏            | 993 kB 13.8 MB/s eta 0:00:01\r",
      "\u001b[K     |███████████████████▍            | 1.0 MB 13.8 MB/s eta 0:00:01\r",
      "\u001b[K     |███████████████████▋            | 1.0 MB 13.8 MB/s eta 0:00:01\r",
      "\u001b[K     |███████████████████▉            | 1.0 MB 13.8 MB/s eta 0:00:01\r",
      "\u001b[K     |████████████████████            | 1.0 MB 13.8 MB/s eta 0:00:01\r",
      "\u001b[K     |████████████████████▏           | 1.0 MB 13.8 MB/s eta 0:00:01\r",
      "\u001b[K     |████████████████████▍           | 1.1 MB 13.8 MB/s eta 0:00:01\r",
      "\u001b[K     |████████████████████▋           | 1.1 MB 13.8 MB/s eta 0:00:01\r",
      "\u001b[K     |████████████████████▉           | 1.1 MB 13.8 MB/s eta 0:00:01\r",
      "\u001b[K     |█████████████████████           | 1.1 MB 13.8 MB/s eta 0:00:01\r",
      "\u001b[K     |█████████████████████▏          | 1.1 MB 13.8 MB/s eta 0:00:01\r",
      "\u001b[K     |█████████████████████▍          | 1.1 MB 13.8 MB/s eta 0:00:01\r",
      "\u001b[K     |█████████████████████▋          | 1.1 MB 13.8 MB/s eta 0:00:01\r",
      "\u001b[K     |█████████████████████▉          | 1.1 MB 13.8 MB/s eta 0:00:01\r",
      "\u001b[K     |██████████████████████          | 1.1 MB 13.8 MB/s eta 0:00:01\r",
      "\u001b[K     |██████████████████████▏         | 1.1 MB 13.8 MB/s eta 0:00:01\r",
      "\u001b[K     |██████████████████████▍         | 1.2 MB 13.8 MB/s eta 0:00:01\r",
      "\u001b[K     |██████████████████████▋         | 1.2 MB 13.8 MB/s eta 0:00:01\r",
      "\u001b[K     |██████████████████████▉         | 1.2 MB 13.8 MB/s eta 0:00:01\r",
      "\u001b[K     |███████████████████████         | 1.2 MB 13.8 MB/s eta 0:00:01\r",
      "\u001b[K     |███████████████████████▏        | 1.2 MB 13.8 MB/s eta 0:00:01\r",
      "\u001b[K     |███████████████████████▍        | 1.2 MB 13.8 MB/s eta 0:00:01\r",
      "\u001b[K     |███████████████████████▋        | 1.2 MB 13.8 MB/s eta 0:00:01\r",
      "\u001b[K     |███████████████████████▊        | 1.2 MB 13.8 MB/s eta 0:00:01\r",
      "\u001b[K     |████████████████████████        | 1.2 MB 13.8 MB/s eta 0:00:01\r",
      "\u001b[K     |████████████████████████▏       | 1.2 MB 13.8 MB/s eta 0:00:01\r",
      "\u001b[K     |████████████████████████▍       | 1.3 MB 13.8 MB/s eta 0:00:01\r",
      "\u001b[K     |████████████████████████▋       | 1.3 MB 13.8 MB/s eta 0:00:01\r",
      "\u001b[K     |████████████████████████▊       | 1.3 MB 13.8 MB/s eta 0:00:01\r",
      "\u001b[K     |█████████████████████████       | 1.3 MB 13.8 MB/s eta 0:00:01\r",
      "\u001b[K     |█████████████████████████▏      | 1.3 MB 13.8 MB/s eta 0:00:01\r",
      "\u001b[K     |█████████████████████████▍      | 1.3 MB 13.8 MB/s eta 0:00:01\r",
      "\u001b[K     |█████████████████████████▌      | 1.3 MB 13.8 MB/s eta 0:00:01\r",
      "\u001b[K     |█████████████████████████▊      | 1.3 MB 13.8 MB/s eta 0:00:01\r",
      "\u001b[K     |██████████████████████████      | 1.3 MB 13.8 MB/s eta 0:00:01\r",
      "\u001b[K     |██████████████████████████▏     | 1.4 MB 13.8 MB/s eta 0:00:01\r",
      "\u001b[K     |██████████████████████████▍     | 1.4 MB 13.8 MB/s eta 0:00:01\r",
      "\u001b[K     |██████████████████████████▌     | 1.4 MB 13.8 MB/s eta 0:00:01\r",
      "\u001b[K     |██████████████████████████▊     | 1.4 MB 13.8 MB/s eta 0:00:01\r",
      "\u001b[K     |███████████████████████████     | 1.4 MB 13.8 MB/s eta 0:00:01\r",
      "\u001b[K     |███████████████████████████▏    | 1.4 MB 13.8 MB/s eta 0:00:01\r",
      "\u001b[K     |███████████████████████████▍    | 1.4 MB 13.8 MB/s eta 0:00:01\r",
      "\u001b[K     |███████████████████████████▌    | 1.4 MB 13.8 MB/s eta 0:00:01\r",
      "\u001b[K     |███████████████████████████▊    | 1.4 MB 13.8 MB/s eta 0:00:01\r",
      "\u001b[K     |████████████████████████████    | 1.4 MB 13.8 MB/s eta 0:00:01\r",
      "\u001b[K     |████████████████████████████▏   | 1.5 MB 13.8 MB/s eta 0:00:01\r",
      "\u001b[K     |████████████████████████████▎   | 1.5 MB 13.8 MB/s eta 0:00:01\r",
      "\u001b[K     |████████████████████████████▌   | 1.5 MB 13.8 MB/s eta 0:00:01\r",
      "\u001b[K     |████████████████████████████▊   | 1.5 MB 13.8 MB/s eta 0:00:01\r",
      "\u001b[K     |█████████████████████████████   | 1.5 MB 13.8 MB/s eta 0:00:01\r",
      "\u001b[K     |█████████████████████████████▏  | 1.5 MB 13.8 MB/s eta 0:00:01\r",
      "\u001b[K     |█████████████████████████████▎  | 1.5 MB 13.8 MB/s eta 0:00:01\r",
      "\u001b[K     |█████████████████████████████▌  | 1.5 MB 13.8 MB/s eta 0:00:01\r",
      "\u001b[K     |█████████████████████████████▊  | 1.5 MB 13.8 MB/s eta 0:00:01\r",
      "\u001b[K     |██████████████████████████████  | 1.5 MB 13.8 MB/s eta 0:00:01\r",
      "\u001b[K     |██████████████████████████████▏ | 1.6 MB 13.8 MB/s eta 0:00:01\r",
      "\u001b[K     |██████████████████████████████▎ | 1.6 MB 13.8 MB/s eta 0:00:01\r",
      "\u001b[K     |██████████████████████████████▌ | 1.6 MB 13.8 MB/s eta 0:00:01\r",
      "\u001b[K     |██████████████████████████████▊ | 1.6 MB 13.8 MB/s eta 0:00:01\r",
      "\u001b[K     |███████████████████████████████ | 1.6 MB 13.8 MB/s eta 0:00:01\r",
      "\u001b[K     |███████████████████████████████ | 1.6 MB 13.8 MB/s eta 0:00:01\r",
      "\u001b[K     |███████████████████████████████▎| 1.6 MB 13.8 MB/s eta 0:00:01\r",
      "\u001b[K     |███████████████████████████████▌| 1.6 MB 13.8 MB/s eta 0:00:01\r",
      "\u001b[K     |███████████████████████████████▊| 1.6 MB 13.8 MB/s eta 0:00:01\r",
      "\u001b[K     |████████████████████████████████| 1.6 MB 13.8 MB/s eta 0:00:01\r",
      "\u001b[K     |████████████████████████████████| 1.7 MB 13.8 MB/s \n",
      "\u001b[?25h  Installing build dependencies ... \u001b[?25l\u001b[?25hdone\n",
      "  Getting requirements to build wheel ... \u001b[?25l\u001b[?25hdone\n",
      "  Installing backend dependencies ... \u001b[?25l\u001b[?25hdone\n",
      "    Preparing wheel metadata ... \u001b[?25l\u001b[?25hdone\n",
      "Requirement already satisfied: jinja2 in /usr/local/lib/python3.7/dist-packages (from pyLDAvis) (2.11.3)\n",
      "Requirement already satisfied: scikit-learn in /usr/local/lib/python3.7/dist-packages (from pyLDAvis) (1.0.2)\n",
      "Requirement already satisfied: sklearn in /usr/local/lib/python3.7/dist-packages (from pyLDAvis) (0.0)\n",
      "Collecting numpy>=1.20.0\n",
      "  Downloading numpy-1.21.5-cp37-cp37m-manylinux_2_12_x86_64.manylinux2010_x86_64.whl (15.7 MB)\n",
      "\u001b[K     |████████████████████████████████| 15.7 MB 67.1 MB/s \n",
      "\u001b[?25hRequirement already satisfied: gensim in /usr/local/lib/python3.7/dist-packages (from pyLDAvis) (3.6.0)\n",
      "Requirement already satisfied: scipy in /usr/local/lib/python3.7/dist-packages (from pyLDAvis) (1.4.1)\n",
      "Requirement already satisfied: future in /usr/local/lib/python3.7/dist-packages (from pyLDAvis) (0.16.0)\n",
      "Collecting funcy\n",
      "  Downloading funcy-1.17-py2.py3-none-any.whl (33 kB)\n",
      "Requirement already satisfied: numexpr in /usr/local/lib/python3.7/dist-packages (from pyLDAvis) (2.8.1)\n",
      "Requirement already satisfied: setuptools in /usr/local/lib/python3.7/dist-packages (from pyLDAvis) (57.4.0)\n",
      "Collecting pandas>=1.2.0\n",
      "  Downloading pandas-1.3.5-cp37-cp37m-manylinux_2_17_x86_64.manylinux2014_x86_64.whl (11.3 MB)\n",
      "\u001b[K     |████████████████████████████████| 11.3 MB 61.6 MB/s \n",
      "\u001b[?25hRequirement already satisfied: joblib in /usr/local/lib/python3.7/dist-packages (from pyLDAvis) (1.1.0)\n",
      "Requirement already satisfied: python-dateutil>=2.7.3 in /usr/local/lib/python3.7/dist-packages (from pandas>=1.2.0->pyLDAvis) (2.8.2)\n",
      "Requirement already satisfied: pytz>=2017.3 in /usr/local/lib/python3.7/dist-packages (from pandas>=1.2.0->pyLDAvis) (2018.9)\n",
      "Requirement already satisfied: six>=1.5 in /usr/local/lib/python3.7/dist-packages (from python-dateutil>=2.7.3->pandas>=1.2.0->pyLDAvis) (1.15.0)\n",
      "Requirement already satisfied: smart-open>=1.2.1 in /usr/local/lib/python3.7/dist-packages (from gensim->pyLDAvis) (5.2.1)\n",
      "Requirement already satisfied: MarkupSafe>=0.23 in /usr/local/lib/python3.7/dist-packages (from jinja2->pyLDAvis) (2.0.1)\n",
      "Requirement already satisfied: packaging in /usr/local/lib/python3.7/dist-packages (from numexpr->pyLDAvis) (21.3)\n",
      "Requirement already satisfied: pyparsing!=3.0.5,>=2.0.2 in /usr/local/lib/python3.7/dist-packages (from packaging->numexpr->pyLDAvis) (3.0.6)\n",
      "Requirement already satisfied: threadpoolctl>=2.0.0 in /usr/local/lib/python3.7/dist-packages (from scikit-learn->pyLDAvis) (3.0.0)\n",
      "Building wheels for collected packages: pyLDAvis\n",
      "  Building wheel for pyLDAvis (PEP 517) ... \u001b[?25l\u001b[?25hdone\n",
      "  Created wheel for pyLDAvis: filename=pyLDAvis-3.3.1-py2.py3-none-any.whl size=136898 sha256=52883b5e0b729661f7ecd20061d3f92c3811fa18f50c7af1dc3d4e8e41067d7f\n",
      "  Stored in directory: /root/.cache/pip/wheels/c9/21/f6/17bcf2667e8a68532ba2fbf6d5c72fdf4c7f7d9abfa4852d2f\n",
      "Successfully built pyLDAvis\n",
      "Installing collected packages: numpy, pandas, funcy, pyLDAvis\n",
      "  Attempting uninstall: numpy\n",
      "    Found existing installation: numpy 1.19.5\n",
      "    Uninstalling numpy-1.19.5:\n",
      "      Successfully uninstalled numpy-1.19.5\n",
      "  Attempting uninstall: pandas\n",
      "    Found existing installation: pandas 1.1.5\n",
      "    Uninstalling pandas-1.1.5:\n",
      "      Successfully uninstalled pandas-1.1.5\n",
      "\u001b[31mERROR: pip's dependency resolver does not currently take into account all the packages that are installed. This behaviour is the source of the following dependency conflicts.\n",
      "yellowbrick 1.3.post1 requires numpy<1.20,>=1.16.0, but you have numpy 1.21.5 which is incompatible.\n",
      "google-colab 1.0.0 requires pandas~=1.1.0; python_version >= \"3.0\", but you have pandas 1.3.5 which is incompatible.\n",
      "datascience 0.10.6 requires folium==0.2.1, but you have folium 0.8.3 which is incompatible.\n",
      "albumentations 0.1.12 requires imgaug<0.2.7,>=0.2.5, but you have imgaug 0.2.9 which is incompatible.\u001b[0m\n",
      "Successfully installed funcy-1.17 numpy-1.21.5 pandas-1.3.5 pyLDAvis-3.3.1\n"
     ]
    },
    {
     "data": {
      "application/vnd.colab-display-data+json": {
       "pip_warning": {
        "packages": [
         "numpy",
         "pandas"
        ]
       }
      }
     },
     "metadata": {},
     "output_type": "display_data"
    }
   ],
   "source": [
    "#!pip install pyLDAvis"
   ]
  },
  {
   "cell_type": "code",
   "execution_count": 1,
   "metadata": {
    "ExecuteTime": {
     "end_time": "2022-02-23T21:28:30.374043Z",
     "start_time": "2022-02-23T21:28:25.928566Z"
    },
    "_cell_guid": "5a7c334d-3afa-4508-874f-3366da0a9c2c",
    "_uuid": "1139f2793448fc6a647e9a0c8e8679963d9f206d",
    "colab": {
     "base_uri": "https://localhost:8080/",
     "height": 17
    },
    "executionInfo": {
     "elapsed": 3130,
     "status": "ok",
     "timestamp": 1642537882738,
     "user": {
      "displayName": "Leonardo Mendonza",
      "photoUrl": "https://lh3.googleusercontent.com/a-/AOh14Gj5F1JVSmHodKCvWHgDPYmDyFo_nUl5lqEXNbsW=s64",
      "userId": "09205135724810578413"
     },
     "user_tz": 180
    },
    "id": "QAJ5Yuuu2Bja",
    "outputId": "65737737-5c4e-4bce-80de-aabce486d3cb"
   },
   "outputs": [
    {
     "data": {
      "text/html": [
       "        <script type=\"text/javascript\">\n",
       "        window.PlotlyConfig = {MathJaxConfig: 'local'};\n",
       "        if (window.MathJax) {MathJax.Hub.Config({SVG: {font: \"STIX-Web\"}});}\n",
       "        if (typeof require !== 'undefined') {\n",
       "        require.undef(\"plotly\");\n",
       "        requirejs.config({\n",
       "            paths: {\n",
       "                'plotly': ['https://cdn.plot.ly/plotly-2.2.0.min']\n",
       "            }\n",
       "        });\n",
       "        require(['plotly'], function(Plotly) {\n",
       "            window._Plotly = Plotly;\n",
       "        });\n",
       "        }\n",
       "        </script>\n",
       "        "
      ]
     },
     "metadata": {},
     "output_type": "display_data"
    }
   ],
   "source": [
    "import os\n",
    "import pandas as pd\n",
    "import numpy as np\n",
    "from plotly.offline import download_plotlyjs, init_notebook_mode, plot, iplot\n",
    "import plotly as py\n",
    "import plotly.graph_objs as go\n",
    "import gensim\n",
    "from gensim import corpora, models, similarities\n",
    "import logging\n",
    "import tempfile\n",
    "from nltk.corpus import stopwords\n",
    "from string import punctuation\n",
    "from collections import OrderedDict\n",
    "import seaborn as sns\n",
    "\n",
    "import matplotlib.pyplot as plt\n",
    "%matplotlib inline\n",
    "\n",
    "init_notebook_mode(connected=True) #do not miss this line\n",
    "\n",
    "import warnings\n",
    "warnings.filterwarnings(\"ignore\")"
   ]
  },
  {
   "cell_type": "code",
   "execution_count": 2,
   "metadata": {
    "ExecuteTime": {
     "end_time": "2022-02-23T21:28:33.032510Z",
     "start_time": "2022-02-23T21:28:33.018587Z"
    },
    "_cell_guid": "7cdec987-42d7-495d-8aed-d904f430707a",
    "_uuid": "2ab794b9bdd2400c1eb349493361f325fef51eee",
    "executionInfo": {
     "elapsed": 393,
     "status": "ok",
     "timestamp": 1642537927556,
     "user": {
      "displayName": "Leonardo Mendonza",
      "photoUrl": "https://lh3.googleusercontent.com/a-/AOh14Gj5F1JVSmHodKCvWHgDPYmDyFo_nUl5lqEXNbsW=s64",
      "userId": "09205135724810578413"
     },
     "user_tz": 180
    },
    "id": "QRL6avxi2Bjd"
   },
   "outputs": [],
   "source": [
    "datafile = 'data_elonmusk.csv'"
   ]
  },
  {
   "cell_type": "code",
   "execution_count": 3,
   "metadata": {
    "ExecuteTime": {
     "end_time": "2022-02-23T21:28:34.365098Z",
     "start_time": "2022-02-23T21:28:34.314597Z"
    },
    "_cell_guid": "52abb44e-881a-4fa5-aaad-cca178c148b4",
    "_uuid": "3247c5f08df034b7afe4be36e52a99baa625a5ba",
    "colab": {
     "base_uri": "https://localhost:8080/",
     "height": 224
    },
    "executionInfo": {
     "elapsed": 13,
     "status": "ok",
     "timestamp": 1642537928069,
     "user": {
      "displayName": "Leonardo Mendonza",
      "photoUrl": "https://lh3.googleusercontent.com/a-/AOh14Gj5F1JVSmHodKCvWHgDPYmDyFo_nUl5lqEXNbsW=s64",
      "userId": "09205135724810578413"
     },
     "user_tz": 180
    },
    "id": "6WS5ZPBe2Bje",
    "outputId": "3d58ce13-6c20-4360-e090-54f978f4fea4"
   },
   "outputs": [
    {
     "name": "stdout",
     "output_type": "stream",
     "text": [
      "Number of tweets:  3218\n"
     ]
    },
    {
     "data": {
      "text/html": [
       "<div>\n",
       "<style scoped>\n",
       "    .dataframe tbody tr th:only-of-type {\n",
       "        vertical-align: middle;\n",
       "    }\n",
       "\n",
       "    .dataframe tbody tr th {\n",
       "        vertical-align: top;\n",
       "    }\n",
       "\n",
       "    .dataframe thead th {\n",
       "        text-align: right;\n",
       "    }\n",
       "</style>\n",
       "<table border=\"1\" class=\"dataframe\">\n",
       "  <thead>\n",
       "    <tr style=\"text-align: right;\">\n",
       "      <th></th>\n",
       "      <th>Tweet</th>\n",
       "      <th>Time</th>\n",
       "      <th>Retweet from</th>\n",
       "      <th>User</th>\n",
       "    </tr>\n",
       "  </thead>\n",
       "  <tbody>\n",
       "    <tr>\n",
       "      <th>0</th>\n",
       "      <td>@MeltingIce Assuming max acceleration of 2 to ...</td>\n",
       "      <td>2017-09-29 17:39:19</td>\n",
       "      <td>NaN</td>\n",
       "      <td>elonmusk</td>\n",
       "    </tr>\n",
       "    <tr>\n",
       "      <th>1</th>\n",
       "      <td>RT @SpaceX: BFR is capable of transporting sat...</td>\n",
       "      <td>2017-09-29 10:44:54</td>\n",
       "      <td>SpaceX</td>\n",
       "      <td>elonmusk</td>\n",
       "    </tr>\n",
       "    <tr>\n",
       "      <th>2</th>\n",
       "      <td>@bigajm Yup :)</td>\n",
       "      <td>2017-09-29 10:39:57</td>\n",
       "      <td>NaN</td>\n",
       "      <td>elonmusk</td>\n",
       "    </tr>\n",
       "    <tr>\n",
       "      <th>3</th>\n",
       "      <td>Part 2 https://t.co/8Fvu57muhM</td>\n",
       "      <td>2017-09-29 09:56:12</td>\n",
       "      <td>NaN</td>\n",
       "      <td>elonmusk</td>\n",
       "    </tr>\n",
       "    <tr>\n",
       "      <th>4</th>\n",
       "      <td>Fly to most places on Earth in under 30 mins a...</td>\n",
       "      <td>2017-09-29 09:19:21</td>\n",
       "      <td>NaN</td>\n",
       "      <td>elonmusk</td>\n",
       "    </tr>\n",
       "  </tbody>\n",
       "</table>\n",
       "</div>"
      ],
      "text/plain": [
       "                                               Tweet                Time  \\\n",
       "0  @MeltingIce Assuming max acceleration of 2 to ... 2017-09-29 17:39:19   \n",
       "1  RT @SpaceX: BFR is capable of transporting sat... 2017-09-29 10:44:54   \n",
       "2                                     @bigajm Yup :) 2017-09-29 10:39:57   \n",
       "3                     Part 2 https://t.co/8Fvu57muhM 2017-09-29 09:56:12   \n",
       "4  Fly to most places on Earth in under 30 mins a... 2017-09-29 09:19:21   \n",
       "\n",
       "  Retweet from      User  \n",
       "0          NaN  elonmusk  \n",
       "1       SpaceX  elonmusk  \n",
       "2          NaN  elonmusk  \n",
       "3          NaN  elonmusk  \n",
       "4          NaN  elonmusk  "
      ]
     },
     "execution_count": 3,
     "metadata": {},
     "output_type": "execute_result"
    }
   ],
   "source": [
    "import pandas as pd\n",
    "tweets = pd.read_csv(datafile, encoding='latin1')\n",
    "tweets = tweets.assign(Time=pd.to_datetime(tweets.Time)).drop('row ID', axis='columns')\n",
    "\n",
    "print(\"Number of tweets: \",len(tweets['Tweet']))\n",
    "tweets.head(5)"
   ]
  },
  {
   "cell_type": "markdown",
   "metadata": {
    "_cell_guid": "556c0eec-994f-4f72-82af-9da59e590a1b",
    "_uuid": "940eb7b9c8715792165ad73a40400e8c06c7b775",
    "id": "-2LKGrYn2Bjg"
   },
   "source": [
    "***tweets***"
   ]
  },
  {
   "cell_type": "code",
   "execution_count": 4,
   "metadata": {
    "ExecuteTime": {
     "end_time": "2022-02-23T21:28:36.292630Z",
     "start_time": "2022-02-23T21:28:36.243107Z"
    },
    "_cell_guid": "b06b4ca0-f1ab-45a1-9550-1492a30c3c74",
    "_uuid": "ffb58f64bee55b852c07d0bc87be430d1258d976",
    "colab": {
     "base_uri": "https://localhost:8080/"
    },
    "executionInfo": {
     "elapsed": 4,
     "status": "ok",
     "timestamp": 1642537929541,
     "user": {
      "displayName": "Leonardo Mendonza",
      "photoUrl": "https://lh3.googleusercontent.com/a-/AOh14Gj5F1JVSmHodKCvWHgDPYmDyFo_nUl5lqEXNbsW=s64",
      "userId": "09205135724810578413"
     },
     "user_tz": 180
    },
    "id": "aDpyF4V52Bjh",
    "outputId": "c7c226ee-116f-42ea-c9a8-5db3306dac26"
   },
   "outputs": [
    {
     "data": {
      "text/plain": [
       "[\"@MeltingIce Assuming max acceleration of 2 to 3 g's, but in a comfortable direction. Will feel like a mild to moder? https://t.co/fpjmEgrHfC\",\n",
       " 'RT @SpaceX: BFR is capable of transporting satellites to orbit, crew and cargo to the @Space_Station and completing missions to the Moon an?',\n",
       " '@bigajm Yup :)',\n",
       " 'Part 2 https://t.co/8Fvu57muhM',\n",
       " 'Fly to most places on Earth in under 30 mins and anywhere in under 60. Cost per seat should be? https://t.co/dGYDdGttYd',\n",
       " 'RT @SpaceX: Supporting the creation of a permanent, self-sustaining human presence on Mars. https://t.co/kCtBLPbSg8 https://t.co/ra6hKsrOcG',\n",
       " 'BFR will take you anywhere on Earth in less than 60 mins https://t.co/HWt9BZ1FI9',\n",
       " 'Mars City\\nOpposite of Earth. Dawn and dusk sky are blue on Mars and day sky is red. https://t.co/XHcZIdgqnb',\n",
       " 'Moon Base Alpha https://t.co/voY8qEW9kl',\n",
       " \"Will be announcing something really special at today's talk https://t.co/plXTBJY6ia\"]"
      ]
     },
     "execution_count": 4,
     "metadata": {},
     "output_type": "execute_result"
    }
   ],
   "source": [
    "# Preparing a corpus for analysis and checking first 10 entries\n",
    "\n",
    "corpus=[]\n",
    "a=[]\n",
    "for i in range(len(tweets['Tweet'])):\n",
    "        a=tweets['Tweet'][i]\n",
    "        corpus.append(a)\n",
    "        \n",
    "corpus[0:10]"
   ]
  },
  {
   "cell_type": "code",
   "execution_count": 5,
   "metadata": {
    "ExecuteTime": {
     "end_time": "2022-02-23T21:28:38.838415Z",
     "start_time": "2022-02-23T21:28:38.831531Z"
    },
    "_cell_guid": "d117ab5e-3395-4430-8dad-0750a520c313",
    "_uuid": "e6f1dd9faefafd8045c94fc71a033c201c5443ff",
    "colab": {
     "base_uri": "https://localhost:8080/"
    },
    "executionInfo": {
     "elapsed": 24,
     "status": "ok",
     "timestamp": 1642537930076,
     "user": {
      "displayName": "Leonardo Mendonza",
      "photoUrl": "https://lh3.googleusercontent.com/a-/AOh14Gj5F1JVSmHodKCvWHgDPYmDyFo_nUl5lqEXNbsW=s64",
      "userId": "09205135724810578413"
     },
     "user_tz": 180
    },
    "id": "FmNv3wIr2Bji",
    "outputId": "5f7fb86e-c589-42c4-9c48-0b25861c3cee"
   },
   "outputs": [
    {
     "name": "stdout",
     "output_type": "stream",
     "text": [
      "Folder \"/var/folders/bd/8sj691g54txb24r7swvnh99h0000gn/T\" will be used to save temporary dictionary and corpus.\n"
     ]
    }
   ],
   "source": [
    "TEMP_FOLDER = tempfile.gettempdir()\n",
    "print('Folder \"{}\" will be used to save temporary dictionary and corpus.'.format(TEMP_FOLDER))\n",
    "\n",
    "logging.basicConfig(format='%(asctime)s : %(levelname)s : %(message)s', level=logging.INFO)"
   ]
  },
  {
   "cell_type": "code",
   "execution_count": 6,
   "metadata": {
    "ExecuteTime": {
     "end_time": "2022-02-23T21:28:44.559356Z",
     "start_time": "2022-02-23T21:28:44.135697Z"
    },
    "colab": {
     "base_uri": "https://localhost:8080/"
    },
    "executionInfo": {
     "elapsed": 22,
     "status": "ok",
     "timestamp": 1642537930078,
     "user": {
      "displayName": "Leonardo Mendonza",
      "photoUrl": "https://lh3.googleusercontent.com/a-/AOh14Gj5F1JVSmHodKCvWHgDPYmDyFo_nUl5lqEXNbsW=s64",
      "userId": "09205135724810578413"
     },
     "user_tz": 180
    },
    "id": "VOa0M7Gv3S96",
    "outputId": "ac4fc102-c7d4-4cb6-a37f-5a839eea054a"
   },
   "outputs": [
    {
     "name": "stderr",
     "output_type": "stream",
     "text": [
      "[nltk_data] Downloading package stopwords to\n",
      "[nltk_data]     /Users/LeonardoLins/nltk_data...\n",
      "[nltk_data]   Package stopwords is already up-to-date!\n"
     ]
    },
    {
     "data": {
      "text/plain": [
       "True"
      ]
     },
     "execution_count": 6,
     "metadata": {},
     "output_type": "execute_result"
    }
   ],
   "source": [
    "import nltk\n",
    "nltk.download('stopwords')\n",
    "  "
   ]
  },
  {
   "cell_type": "code",
   "execution_count": 7,
   "metadata": {
    "ExecuteTime": {
     "end_time": "2022-02-23T21:28:47.075201Z",
     "start_time": "2022-02-23T21:28:46.775904Z"
    },
    "_cell_guid": "068cfe59-dbc2-4481-a20f-6cd321cbc4bb",
    "_uuid": "df0a72a7a17efcf0da96a51753855ec2039cffb8",
    "colab": {
     "base_uri": "https://localhost:8080/"
    },
    "executionInfo": {
     "elapsed": 17,
     "status": "ok",
     "timestamp": 1642537930079,
     "user": {
      "displayName": "Leonardo Mendonza",
      "photoUrl": "https://lh3.googleusercontent.com/a-/AOh14Gj5F1JVSmHodKCvWHgDPYmDyFo_nUl5lqEXNbsW=s64",
      "userId": "09205135724810578413"
     },
     "user_tz": 180
    },
    "id": "z85PDiru2Bji",
    "outputId": "9cf8339d-1f87-494f-f0f0-65e693ef1cdf"
   },
   "outputs": [
    {
     "name": "stderr",
     "output_type": "stream",
     "text": [
      "2022-02-23 18:28:46,965 : INFO : adding document #0 to Dictionary(0 unique tokens: [])\n",
      "2022-02-23 18:28:47,064 : INFO : built Dictionary(11842 unique tokens: ['2', '3', '@meltingice', 'acceleration', 'assuming']...) from 3218 documents (total 30256 corpus positions)\n",
      "2022-02-23 18:28:47,065 : INFO : saving Dictionary object under /var/folders/bd/8sj691g54txb24r7swvnh99h0000gn/T/elon.dict, separately None\n",
      "2022-02-23 18:28:47,072 : INFO : saved /var/folders/bd/8sj691g54txb24r7swvnh99h0000gn/T/elon.dict\n"
     ]
    }
   ],
   "source": [
    "# removing common words and tokenizing\n",
    "list1 = ['RT','rt']\n",
    "stoplist = stopwords.words('english') + list(punctuation) + list1\n",
    "\n",
    "texts = [[word for word in str(document).lower().split() if word not in stoplist] for document in corpus]\n",
    "\n",
    "dictionary = corpora.Dictionary(texts)\n",
    "dictionary.save(os.path.join(TEMP_FOLDER, 'elon.dict'))  # store the dictionary, for future reference\n",
    "\n",
    "#print(dictionary)\n",
    "#print(dictionary.token2id)"
   ]
  },
  {
   "cell_type": "code",
   "execution_count": 8,
   "metadata": {
    "ExecuteTime": {
     "end_time": "2022-02-23T21:28:50.194456Z",
     "start_time": "2022-02-23T21:28:49.936380Z"
    },
    "_cell_guid": "b80d4a62-6126-48e5-aba8-8de557c5d00d",
    "_uuid": "040914ec58061f9f66a39df81c8c1ae4cb9dbeb5",
    "colab": {
     "base_uri": "https://localhost:8080/"
    },
    "executionInfo": {
     "elapsed": 10,
     "status": "ok",
     "timestamp": 1642537930829,
     "user": {
      "displayName": "Leonardo Mendonza",
      "photoUrl": "https://lh3.googleusercontent.com/a-/AOh14Gj5F1JVSmHodKCvWHgDPYmDyFo_nUl5lqEXNbsW=s64",
      "userId": "09205135724810578413"
     },
     "user_tz": 180
    },
    "id": "Tppl85mC2Bjj",
    "outputId": "feea0bcd-646b-4dc4-8119-2c87a6b85f1b"
   },
   "outputs": [
    {
     "name": "stderr",
     "output_type": "stream",
     "text": [
      "2022-02-23 18:28:50,084 : INFO : storing corpus in Matrix Market format to /var/folders/bd/8sj691g54txb24r7swvnh99h0000gn/T/elon.mm\n",
      "2022-02-23 18:28:50,086 : INFO : saving sparse matrix to /var/folders/bd/8sj691g54txb24r7swvnh99h0000gn/T/elon.mm\n",
      "2022-02-23 18:28:50,086 : INFO : PROGRESS: saving document #0\n",
      "2022-02-23 18:28:50,121 : INFO : PROGRESS: saving document #1000\n",
      "2022-02-23 18:28:50,148 : INFO : PROGRESS: saving document #2000\n",
      "2022-02-23 18:28:50,180 : INFO : PROGRESS: saving document #3000\n",
      "2022-02-23 18:28:50,189 : INFO : saved 3218x11842 matrix, density=0.079% (29959/38107556)\n",
      "2022-02-23 18:28:50,190 : INFO : saving MmCorpus index to /var/folders/bd/8sj691g54txb24r7swvnh99h0000gn/T/elon.mm.index\n"
     ]
    }
   ],
   "source": [
    "corpus = [dictionary.doc2bow(text) for text in texts]\n",
    "corpora.MmCorpus.serialize(os.path.join(TEMP_FOLDER, 'elon.mm'), corpus)  # store to disk, for later use"
   ]
  },
  {
   "cell_type": "markdown",
   "metadata": {
    "_cell_guid": "30731758-2dd0-482c-8ad8-995ebf37b686",
    "_uuid": "547b528b1af3eac74eed647c6013c67304a44f42",
    "id": "aoF4mORi2Bjj"
   },
   "source": [
    "Nas células anteriores, criei um corpus de documentos representados como um fluxo de vetores. Para continuar, vamos usar esse corpus, com a ajuda do Gensim."
   ]
  },
  {
   "cell_type": "markdown",
   "metadata": {
    "_cell_guid": "8c2fae3e-3c57-4a1b-b302-7f9bfe2fb5a0",
    "_uuid": "516974a573c993c655cec2ea8ccda4a3e4e3d899",
    "id": "o_TJgz3C2Bjk"
   },
   "source": [
    "###Criação de uma transformação"
   ]
  },
  {
   "cell_type": "markdown",
   "metadata": {
    "_cell_guid": "c8cc6eba-dfde-4078-93aa-49ec66b79483",
    "_uuid": "95d9a030b86689a097ff84cf988ce6bfee42b6d6",
    "id": "M-otVsrM2Bjk"
   },
   "source": [
    "As transformações são objetos Python padrão, normalmente inicializados por meio de um corpus de treinamento:\n",
    "\n",
    "Diferentes transformações podem exigir diferentes parâmetros de inicialização; no caso do TfIdf, o \"treinamento\" consiste simplesmente em\n",
    "percorrer o corpus fornecido uma vez e computar as frequências de documentos de todos os seus recursos.\n",
    "Treinar outros modelos, como Análise Semântica Latente ou Alocação de Dirichlet Latente, é muito mais envolvente e,\n",
    "conseqüentemente, leva muito mais tempo."
   ]
  },
  {
   "cell_type": "code",
   "execution_count": 9,
   "metadata": {
    "ExecuteTime": {
     "end_time": "2022-02-23T21:28:54.523121Z",
     "start_time": "2022-02-23T21:28:54.422896Z"
    },
    "_cell_guid": "a7966606-dc6a-44a8-8fe5-d1a79929e203",
    "_uuid": "91cd194bf43c84b564c693c6e0ea109d28724abc",
    "colab": {
     "base_uri": "https://localhost:8080/"
    },
    "executionInfo": {
     "elapsed": 10,
     "status": "ok",
     "timestamp": 1642537931360,
     "user": {
      "displayName": "Leonardo Mendonza",
      "photoUrl": "https://lh3.googleusercontent.com/a-/AOh14Gj5F1JVSmHodKCvWHgDPYmDyFo_nUl5lqEXNbsW=s64",
      "userId": "09205135724810578413"
     },
     "user_tz": 180
    },
    "id": "biXhhm6u2Bjl",
    "outputId": "66f1105c-2c1a-452b-d40d-636ce51c0413"
   },
   "outputs": [
    {
     "name": "stderr",
     "output_type": "stream",
     "text": [
      "2022-02-23 18:28:54,424 : INFO : collecting document frequencies\n",
      "2022-02-23 18:28:54,426 : INFO : PROGRESS: processing document #0\n",
      "2022-02-23 18:28:54,440 : INFO : calculating IDF weights for 3218 documents and 11841 features (29959 matrix non-zeros)\n"
     ]
    }
   ],
   "source": [
    "tfidf = models.TfidfModel(corpus) # step 1 -- initialize a model"
   ]
  },
  {
   "cell_type": "markdown",
   "metadata": {
    "_cell_guid": "47a7ad12-9917-4a74-b190-b6f039e87baf",
    "_uuid": "902cd861d68967c9d6d78f7d074fe6e4d31e4547",
    "id": "SCRZWsfu2Bjl"
   },
   "source": [
    "### Nota\n",
    "As transformações sempre são convertidas entre dois espaços vetoriais específicos. O mesmo espaço vetorial (= o mesmo conjunto de ids de recursos) deve ser usado para treinamento, bem como para transformações vetoriais subsequentes. Deixar de usar o mesmo espaço de recurso de entrada, como aplicar um pré-processamento de string diferente, usar IDs de recurso diferentes ou usar vetores de entrada de pacote de palavras onde vetores TfIdf são esperados, resultará em incompatibilidade de recurso durante chamadas de transformação e, consequentemente, em qualquer lixo saída e / ou exceções de tempo de execução."
   ]
  },
  {
   "cell_type": "markdown",
   "metadata": {
    "_cell_guid": "31035482-743c-4143-a016-af6e7aafa8b2",
    "_uuid": "12084cb081ffae38fd076b271f748faa6e3ff5af",
    "id": "bigFz6Oq2Bjl"
   },
   "source": [
    "A partir de agora, tfidf é tratado como um objeto somente leitura que pode ser usado para aplicar uma transformação a um corpus inteiro:"
   ]
  },
  {
   "cell_type": "code",
   "execution_count": 10,
   "metadata": {
    "ExecuteTime": {
     "end_time": "2022-02-23T21:28:57.427690Z",
     "start_time": "2022-02-23T21:28:57.423280Z"
    },
    "_cell_guid": "8d3211bd-a12d-4518-b822-eb92df9a564d",
    "_uuid": "6ccc9986f35d02916c62139410d0cbc6455e3149",
    "executionInfo": {
     "elapsed": 6,
     "status": "ok",
     "timestamp": 1642537931361,
     "user": {
      "displayName": "Leonardo Mendonza",
      "photoUrl": "https://lh3.googleusercontent.com/a-/AOh14Gj5F1JVSmHodKCvWHgDPYmDyFo_nUl5lqEXNbsW=s64",
      "userId": "09205135724810578413"
     },
     "user_tz": 180
    },
    "id": "7SGBDl0Q2Bjm"
   },
   "outputs": [],
   "source": [
    "corpus_tfidf = tfidf[corpus]  # step 2 -- use the model to transform vectors"
   ]
  },
  {
   "cell_type": "markdown",
   "metadata": {
    "_cell_guid": "6096b0ef-bb2b-40d1-aac4-f538dae0f1e3",
    "_uuid": "39f769bd5e8fea11c952a7c33bf32b329618f837",
    "id": "bxvbBM672Bjm"
   },
   "source": [
    "### LDA:\n"
   ]
  },
  {
   "cell_type": "markdown",
   "metadata": {
    "_cell_guid": "7c793905-48bb-4526-9e78-1d5d1a9ed70b",
    "_uuid": "8aca0810b66308f947046dd9689409fc56067b1a",
    "id": "w633YfWd2Bjm"
   },
   "source": [
    "LDA somos experts"
   ]
  },
  {
   "cell_type": "code",
   "execution_count": 11,
   "metadata": {
    "ExecuteTime": {
     "end_time": "2022-02-23T21:28:59.354101Z",
     "start_time": "2022-02-23T21:28:59.349899Z"
    },
    "_cell_guid": "cc49ccb3-bd68-4359-8fec-7f6cbff2a182",
    "_uuid": "5771a4cc1b5f20878d52409e11f3fecaa59a9ac6",
    "executionInfo": {
     "elapsed": 8,
     "status": "ok",
     "timestamp": 1642537931873,
     "user": {
      "displayName": "Leonardo Mendonza",
      "photoUrl": "https://lh3.googleusercontent.com/a-/AOh14Gj5F1JVSmHodKCvWHgDPYmDyFo_nUl5lqEXNbsW=s64",
      "userId": "09205135724810578413"
     },
     "user_tz": 180
    },
    "id": "Sb8-nACX2Bjn"
   },
   "outputs": [],
   "source": [
    "total_topics = 5"
   ]
  },
  {
   "cell_type": "code",
   "execution_count": 12,
   "metadata": {
    "ExecuteTime": {
     "end_time": "2022-02-23T21:29:05.071427Z",
     "start_time": "2022-02-23T21:29:00.038449Z"
    },
    "_cell_guid": "8fb9df90-fdc2-491b-a2aa-02c0eca4c29a",
    "_uuid": "db447043098a7546237bbaf4c7d1145103209160",
    "colab": {
     "base_uri": "https://localhost:8080/"
    },
    "executionInfo": {
     "elapsed": 2072,
     "status": "ok",
     "timestamp": 1642537933938,
     "user": {
      "displayName": "Leonardo Mendonza",
      "photoUrl": "https://lh3.googleusercontent.com/a-/AOh14Gj5F1JVSmHodKCvWHgDPYmDyFo_nUl5lqEXNbsW=s64",
      "userId": "09205135724810578413"
     },
     "user_tz": 180
    },
    "id": "lC2dSoEv2Bjn",
    "outputId": "ce137a04-d98d-4ff8-c540-1740d1e7b250"
   },
   "outputs": [
    {
     "name": "stderr",
     "output_type": "stream",
     "text": [
      "2022-02-23 18:29:00,040 : INFO : using symmetric alpha at 0.2\n",
      "2022-02-23 18:29:00,042 : INFO : using symmetric eta at 0.2\n",
      "2022-02-23 18:29:00,048 : INFO : using serial LDA version on this node\n",
      "2022-02-23 18:29:00,062 : INFO : running online (single-pass) LDA training, 5 topics, 1 passes over the supplied corpus of 3218 documents, updating model once every 2000 documents, evaluating perplexity every 3218 documents, iterating 50x with a convergence threshold of 0.001000\n",
      "2022-02-23 18:29:00,063 : WARNING : too few updates, training might not converge; consider increasing the number of passes or iterations to improve accuracy\n",
      "2022-02-23 18:29:00,064 : INFO : PROGRESS: pass 0, at document #2000/3218\n",
      "2022-02-23 18:29:02,464 : INFO : merging changes from 2000 documents into a model of 3218 documents\n",
      "2022-02-23 18:29:02,482 : INFO : topic #0 (0.200): 0.011*\"model\" + 0.007*\"3\" + 0.005*\"tesla\" + 0.004*\"like\" + 0.003*\"launch\" + 0.003*\"yes\" + 0.003*\"@teslamotors\" + 0.003*\"want\" + 0.003*\"good\" + 0.003*\"@elonmusk\"\n",
      "2022-02-23 18:29:02,484 : INFO : topic #1 (0.200): 0.009*\"tesla\" + 0.008*\"model\" + 0.006*\"@teslamotors:\" + 0.006*\"like\" + 0.004*\"...\" + 0.003*\"great\" + 0.003*\"good\" + 0.003*\"solar\" + 0.003*\"one\" + 0.003*\"lot\"\n",
      "2022-02-23 18:29:02,485 : INFO : topic #2 (0.200): 0.010*\"tesla\" + 0.005*\"model\" + 0.004*\"autopilot\" + 0.004*\"car\" + 0.004*\"would\" + 0.003*\"much\" + 0.003*\"x\" + 0.003*\"maybe\" + 0.002*\"@teslamotors\" + 0.002*\"@fredericlambert\"\n",
      "2022-02-23 18:29:02,487 : INFO : topic #3 (0.200): 0.004*\"next\" + 0.004*\"tesla\" + 0.004*\"first\" + 0.004*\"@spacex\" + 0.003*\"ai\" + 0.003*\"yes\" + 0.003*\"like\" + 0.003*\"best\" + 0.003*\"almost\" + 0.003*\"great\"\n",
      "2022-02-23 18:29:02,489 : INFO : topic #4 (0.200): 0.007*\"tesla\" + 0.007*\"falcon\" + 0.007*\"@spacex:\" + 0.006*\"launch\" + 0.005*\"9\" + 0.004*\"first\" + 0.004*\"good\" + 0.004*\"boring\" + 0.003*\"rocket\" + 0.003*\"go\"\n",
      "2022-02-23 18:29:02,492 : INFO : topic diff=3.593879, rho=1.000000\n",
      "2022-02-23 18:29:03,904 : INFO : -11.297 per-word bound, 2515.7 perplexity estimate based on a held-out corpus of 1218 documents with 12682 words\n",
      "2022-02-23 18:29:03,905 : INFO : PROGRESS: pass 0, at document #3218/3218\n",
      "2022-02-23 18:29:05,039 : INFO : merging changes from 1218 documents into a model of 3218 documents\n",
      "2022-02-23 18:29:05,056 : INFO : topic #0 (0.200): 0.011*\"model\" + 0.007*\"tesla\" + 0.006*\"w\" + 0.005*\"rocket\" + 0.005*\"@elonmusk\" + 0.005*\"like\" + 0.004*\"new\" + 0.004*\"launch\" + 0.003*\"@teslamotors\" + 0.003*\"flight\"\n",
      "2022-02-23 18:29:05,058 : INFO : topic #1 (0.200): 0.010*\"tesla\" + 0.010*\"model\" + 0.006*\"like\" + 0.005*\"...\" + 0.004*\"good\" + 0.004*\"@teslamotors:\" + 0.003*\"article\" + 0.003*\"great\" + 0.003*\"@teslamotors\" + 0.002*\"solar\"\n",
      "2022-02-23 18:29:05,060 : INFO : topic #2 (0.200): 0.012*\"tesla\" + 0.005*\"model\" + 0.004*\"test\" + 0.004*\"car\" + 0.003*\"would\" + 0.003*\"new\" + 0.003*\"autopilot\" + 0.003*\"thanks\" + 0.003*\"much\" + 0.003*\"actually\"\n",
      "2022-02-23 18:29:05,062 : INFO : topic #3 (0.200): 0.004*\"@spacex\" + 0.004*\"tesla\" + 0.004*\"thanks\" + 0.004*\"rocket\" + 0.003*\"next\" + 0.003*\"best\" + 0.003*\"right\" + 0.003*\"@elonmusk\" + 0.003*\"first\" + 0.003*\"ai\"\n",
      "2022-02-23 18:29:05,064 : INFO : topic #4 (0.200): 0.011*\"launch\" + 0.011*\"falcon\" + 0.009*\"@spacex:\" + 0.008*\"9\" + 0.007*\"tesla\" + 0.006*\"rocket\" + 0.005*\"good\" + 0.004*\"dragon\" + 0.004*\"landing\" + 0.004*\"stage\"\n",
      "2022-02-23 18:29:05,066 : INFO : topic diff=1.032515, rho=0.707107\n"
     ]
    }
   ],
   "source": [
    "lda = models.LdaModel(corpus, id2word=dictionary, num_topics=total_topics)\n",
    "corpus_lda = lda[corpus_tfidf] # create a double wrapper over the original corpus: bow->tfidf->fold-in-lsi"
   ]
  },
  {
   "cell_type": "code",
   "execution_count": 13,
   "metadata": {
    "ExecuteTime": {
     "end_time": "2022-02-23T21:29:14.899023Z",
     "start_time": "2022-02-23T21:29:14.889276Z"
    },
    "_cell_guid": "dfbb2723-ec7e-490e-8abd-fb646335bc55",
    "_uuid": "53e59fb13b5f55abb2e8158cdd0b244bcb055b3f",
    "colab": {
     "base_uri": "https://localhost:8080/"
    },
    "executionInfo": {
     "elapsed": 29,
     "status": "ok",
     "timestamp": 1642537933939,
     "user": {
      "displayName": "Leonardo Mendonza",
      "photoUrl": "https://lh3.googleusercontent.com/a-/AOh14Gj5F1JVSmHodKCvWHgDPYmDyFo_nUl5lqEXNbsW=s64",
      "userId": "09205135724810578413"
     },
     "user_tz": 180
    },
    "id": "UGZx0WMl2Bjn",
    "outputId": "e78d95b6-d985-403d-b8ac-f0acde8b53f7"
   },
   "outputs": [
    {
     "data": {
      "text/plain": [
       "[(0,\n",
       "  '0.011*\"model\" + 0.007*\"tesla\" + 0.006*\"w\" + 0.005*\"rocket\" + 0.005*\"@elonmusk\"'),\n",
       " (1,\n",
       "  '0.010*\"tesla\" + 0.010*\"model\" + 0.006*\"like\" + 0.005*\"...\" + 0.004*\"good\"'),\n",
       " (2,\n",
       "  '0.012*\"tesla\" + 0.005*\"model\" + 0.004*\"test\" + 0.004*\"car\" + 0.003*\"would\"'),\n",
       " (3,\n",
       "  '0.004*\"@spacex\" + 0.004*\"tesla\" + 0.004*\"thanks\" + 0.004*\"rocket\" + 0.003*\"next\"'),\n",
       " (4,\n",
       "  '0.011*\"launch\" + 0.011*\"falcon\" + 0.009*\"@spacex:\" + 0.008*\"9\" + 0.007*\"tesla\"')]"
      ]
     },
     "execution_count": 13,
     "metadata": {},
     "output_type": "execute_result"
    }
   ],
   "source": [
    "#Show first n important word in the topics:\n",
    "lda.show_topics(total_topics,5)"
   ]
  },
  {
   "cell_type": "code",
   "execution_count": 14,
   "metadata": {
    "ExecuteTime": {
     "end_time": "2022-02-23T21:29:18.103364Z",
     "start_time": "2022-02-23T21:29:18.093251Z"
    },
    "_cell_guid": "5e31a267-03c5-4a4e-8a73-c72f7abd4644",
    "_uuid": "25d66c5df87a0c365dcd0725e779dc8724ab63af",
    "executionInfo": {
     "elapsed": 21,
     "status": "ok",
     "timestamp": 1642537933940,
     "user": {
      "displayName": "Leonardo Mendonza",
      "photoUrl": "https://lh3.googleusercontent.com/a-/AOh14Gj5F1JVSmHodKCvWHgDPYmDyFo_nUl5lqEXNbsW=s64",
      "userId": "09205135724810578413"
     },
     "user_tz": 180
    },
    "id": "QtNtLzIs2Bjo",
    "scrolled": true
   },
   "outputs": [],
   "source": [
    "data_lda = {i: OrderedDict(lda.show_topic(i,25)) for i in range(total_topics)}\n",
    "#data_lda"
   ]
  },
  {
   "cell_type": "code",
   "execution_count": 15,
   "metadata": {
    "ExecuteTime": {
     "end_time": "2022-02-23T21:29:18.800788Z",
     "start_time": "2022-02-23T21:29:18.789788Z"
    },
    "_cell_guid": "409fed91-48dd-4355-9587-a6299b63f181",
    "_uuid": "edeb3eedc9a10cc135c7bbef50fda042f330482d",
    "colab": {
     "base_uri": "https://localhost:8080/"
    },
    "executionInfo": {
     "elapsed": 20,
     "status": "ok",
     "timestamp": 1642537933940,
     "user": {
      "displayName": "Leonardo Mendonza",
      "photoUrl": "https://lh3.googleusercontent.com/a-/AOh14Gj5F1JVSmHodKCvWHgDPYmDyFo_nUl5lqEXNbsW=s64",
      "userId": "09205135724810578413"
     },
     "user_tz": 180
    },
    "id": "qYpuHRGs2Bjo",
    "outputId": "956b685a-6af3-4862-88fc-1f797f45a117"
   },
   "outputs": [
    {
     "name": "stdout",
     "output_type": "stream",
     "text": [
      "(5, 85)\n"
     ]
    }
   ],
   "source": [
    "df_lda = pd.DataFrame(data_lda)\n",
    "df_lda = df_lda.fillna(0).T\n",
    "print(df_lda.shape)"
   ]
  },
  {
   "cell_type": "code",
   "execution_count": 16,
   "metadata": {
    "ExecuteTime": {
     "end_time": "2022-02-23T21:29:19.462101Z",
     "start_time": "2022-02-23T21:29:19.424344Z"
    },
    "_cell_guid": "6410b413-a0d4-49be-a2c4-6844cfc8cb0c",
    "_uuid": "f81dd0ed3ef908b520c2416cf626473a4dd8acd6",
    "colab": {
     "base_uri": "https://localhost:8080/",
     "height": 270
    },
    "executionInfo": {
     "elapsed": 17,
     "status": "ok",
     "timestamp": 1642537933941,
     "user": {
      "displayName": "Leonardo Mendonza",
      "photoUrl": "https://lh3.googleusercontent.com/a-/AOh14Gj5F1JVSmHodKCvWHgDPYmDyFo_nUl5lqEXNbsW=s64",
      "userId": "09205135724810578413"
     },
     "user_tz": 180
    },
    "id": "IA1okWTd2Bjo",
    "outputId": "42686d45-a4bf-443c-c03e-9b92ae549e0e"
   },
   "outputs": [
    {
     "data": {
      "text/html": [
       "<div>\n",
       "<style scoped>\n",
       "    .dataframe tbody tr th:only-of-type {\n",
       "        vertical-align: middle;\n",
       "    }\n",
       "\n",
       "    .dataframe tbody tr th {\n",
       "        vertical-align: top;\n",
       "    }\n",
       "\n",
       "    .dataframe thead th {\n",
       "        text-align: right;\n",
       "    }\n",
       "</style>\n",
       "<table border=\"1\" class=\"dataframe\">\n",
       "  <thead>\n",
       "    <tr style=\"text-align: right;\">\n",
       "      <th></th>\n",
       "      <th>model</th>\n",
       "      <th>tesla</th>\n",
       "      <th>w</th>\n",
       "      <th>rocket</th>\n",
       "      <th>@elonmusk</th>\n",
       "      <th>like</th>\n",
       "      <th>new</th>\n",
       "      <th>launch</th>\n",
       "      <th>@teslamotors</th>\n",
       "      <th>flight</th>\n",
       "      <th>...</th>\n",
       "      <th>:)</th>\n",
       "      <th>attempt</th>\n",
       "      <th>still</th>\n",
       "      <th>video</th>\n",
       "      <th>orbit</th>\n",
       "      <th>go</th>\n",
       "      <th>last</th>\n",
       "      <th>hyperloop</th>\n",
       "      <th>droneship</th>\n",
       "      <th>space</th>\n",
       "    </tr>\n",
       "  </thead>\n",
       "  <tbody>\n",
       "    <tr>\n",
       "      <th>0</th>\n",
       "      <td>0.010885</td>\n",
       "      <td>0.007058</td>\n",
       "      <td>0.005742</td>\n",
       "      <td>0.005298</td>\n",
       "      <td>0.004834</td>\n",
       "      <td>0.004738</td>\n",
       "      <td>0.004433</td>\n",
       "      <td>0.004170</td>\n",
       "      <td>0.003474</td>\n",
       "      <td>0.003218</td>\n",
       "      <td>...</td>\n",
       "      <td>0.000000</td>\n",
       "      <td>0.000000</td>\n",
       "      <td>0.000000</td>\n",
       "      <td>0.000000</td>\n",
       "      <td>0.000000</td>\n",
       "      <td>0.000000</td>\n",
       "      <td>0.000000</td>\n",
       "      <td>0.000000</td>\n",
       "      <td>0.000000</td>\n",
       "      <td>0.000000</td>\n",
       "    </tr>\n",
       "    <tr>\n",
       "      <th>1</th>\n",
       "      <td>0.010020</td>\n",
       "      <td>0.010173</td>\n",
       "      <td>0.000000</td>\n",
       "      <td>0.000000</td>\n",
       "      <td>0.000000</td>\n",
       "      <td>0.006326</td>\n",
       "      <td>0.000000</td>\n",
       "      <td>0.000000</td>\n",
       "      <td>0.002876</td>\n",
       "      <td>0.000000</td>\n",
       "      <td>...</td>\n",
       "      <td>0.000000</td>\n",
       "      <td>0.000000</td>\n",
       "      <td>0.000000</td>\n",
       "      <td>0.000000</td>\n",
       "      <td>0.000000</td>\n",
       "      <td>0.000000</td>\n",
       "      <td>0.000000</td>\n",
       "      <td>0.000000</td>\n",
       "      <td>0.000000</td>\n",
       "      <td>0.000000</td>\n",
       "    </tr>\n",
       "    <tr>\n",
       "      <th>2</th>\n",
       "      <td>0.004832</td>\n",
       "      <td>0.012110</td>\n",
       "      <td>0.000000</td>\n",
       "      <td>0.002254</td>\n",
       "      <td>0.000000</td>\n",
       "      <td>0.000000</td>\n",
       "      <td>0.002923</td>\n",
       "      <td>0.000000</td>\n",
       "      <td>0.001877</td>\n",
       "      <td>0.000000</td>\n",
       "      <td>...</td>\n",
       "      <td>0.000000</td>\n",
       "      <td>0.000000</td>\n",
       "      <td>0.000000</td>\n",
       "      <td>0.000000</td>\n",
       "      <td>0.000000</td>\n",
       "      <td>0.000000</td>\n",
       "      <td>0.000000</td>\n",
       "      <td>0.000000</td>\n",
       "      <td>0.000000</td>\n",
       "      <td>0.000000</td>\n",
       "    </tr>\n",
       "    <tr>\n",
       "      <th>3</th>\n",
       "      <td>0.002191</td>\n",
       "      <td>0.003850</td>\n",
       "      <td>0.000000</td>\n",
       "      <td>0.003732</td>\n",
       "      <td>0.002837</td>\n",
       "      <td>0.002300</td>\n",
       "      <td>0.000000</td>\n",
       "      <td>0.002516</td>\n",
       "      <td>0.000000</td>\n",
       "      <td>0.000000</td>\n",
       "      <td>...</td>\n",
       "      <td>0.000000</td>\n",
       "      <td>0.000000</td>\n",
       "      <td>0.000000</td>\n",
       "      <td>0.000000</td>\n",
       "      <td>0.000000</td>\n",
       "      <td>0.000000</td>\n",
       "      <td>0.000000</td>\n",
       "      <td>0.000000</td>\n",
       "      <td>0.000000</td>\n",
       "      <td>0.000000</td>\n",
       "    </tr>\n",
       "    <tr>\n",
       "      <th>4</th>\n",
       "      <td>0.000000</td>\n",
       "      <td>0.006768</td>\n",
       "      <td>0.000000</td>\n",
       "      <td>0.006063</td>\n",
       "      <td>0.000000</td>\n",
       "      <td>0.000000</td>\n",
       "      <td>0.000000</td>\n",
       "      <td>0.010615</td>\n",
       "      <td>0.000000</td>\n",
       "      <td>0.000000</td>\n",
       "      <td>...</td>\n",
       "      <td>0.003137</td>\n",
       "      <td>0.002605</td>\n",
       "      <td>0.002428</td>\n",
       "      <td>0.002369</td>\n",
       "      <td>0.002366</td>\n",
       "      <td>0.002048</td>\n",
       "      <td>0.002006</td>\n",
       "      <td>0.001942</td>\n",
       "      <td>0.001884</td>\n",
       "      <td>0.001874</td>\n",
       "    </tr>\n",
       "  </tbody>\n",
       "</table>\n",
       "<p>5 rows × 85 columns</p>\n",
       "</div>"
      ],
      "text/plain": [
       "      model     tesla         w    rocket  @elonmusk      like       new  \\\n",
       "0  0.010885  0.007058  0.005742  0.005298   0.004834  0.004738  0.004433   \n",
       "1  0.010020  0.010173  0.000000  0.000000   0.000000  0.006326  0.000000   \n",
       "2  0.004832  0.012110  0.000000  0.002254   0.000000  0.000000  0.002923   \n",
       "3  0.002191  0.003850  0.000000  0.003732   0.002837  0.002300  0.000000   \n",
       "4  0.000000  0.006768  0.000000  0.006063   0.000000  0.000000  0.000000   \n",
       "\n",
       "     launch  @teslamotors    flight  ...        :)   attempt     still  \\\n",
       "0  0.004170      0.003474  0.003218  ...  0.000000  0.000000  0.000000   \n",
       "1  0.000000      0.002876  0.000000  ...  0.000000  0.000000  0.000000   \n",
       "2  0.000000      0.001877  0.000000  ...  0.000000  0.000000  0.000000   \n",
       "3  0.002516      0.000000  0.000000  ...  0.000000  0.000000  0.000000   \n",
       "4  0.010615      0.000000  0.000000  ...  0.003137  0.002605  0.002428   \n",
       "\n",
       "      video     orbit        go      last  hyperloop  droneship     space  \n",
       "0  0.000000  0.000000  0.000000  0.000000   0.000000   0.000000  0.000000  \n",
       "1  0.000000  0.000000  0.000000  0.000000   0.000000   0.000000  0.000000  \n",
       "2  0.000000  0.000000  0.000000  0.000000   0.000000   0.000000  0.000000  \n",
       "3  0.000000  0.000000  0.000000  0.000000   0.000000   0.000000  0.000000  \n",
       "4  0.002369  0.002366  0.002048  0.002006   0.001942   0.001884  0.001874  \n",
       "\n",
       "[5 rows x 85 columns]"
      ]
     },
     "execution_count": 16,
     "metadata": {},
     "output_type": "execute_result"
    }
   ],
   "source": [
    "df_lda"
   ]
  },
  {
   "cell_type": "code",
   "execution_count": 17,
   "metadata": {
    "ExecuteTime": {
     "end_time": "2022-02-23T21:29:20.384762Z",
     "start_time": "2022-02-23T21:29:20.262993Z"
    },
    "colab": {
     "base_uri": "https://localhost:8080/",
     "height": 140
    },
    "executionInfo": {
     "elapsed": 373,
     "status": "ok",
     "timestamp": 1642537934302,
     "user": {
      "displayName": "Leonardo Mendonza",
      "photoUrl": "https://lh3.googleusercontent.com/a-/AOh14Gj5F1JVSmHodKCvWHgDPYmDyFo_nUl5lqEXNbsW=s64",
      "userId": "09205135724810578413"
     },
     "user_tz": 180
    },
    "id": "NS17Wma33raf",
    "outputId": "bfe47917-3e07-49bc-f71d-939724f169cd"
   },
   "outputs": [
    {
     "data": {
      "text/plain": [
       "'3.3.1'"
      ]
     },
     "execution_count": 17,
     "metadata": {},
     "output_type": "execute_result"
    }
   ],
   "source": [
    "import pyLDAvis\n",
    "import pyLDAvis.gensim_models as gensimvis\n",
    "pyLDAvis.enable_notebook()\n",
    "pyLDAvis.__version__"
   ]
  },
  {
   "cell_type": "code",
   "execution_count": 18,
   "metadata": {
    "ExecuteTime": {
     "end_time": "2022-02-23T21:29:29.986784Z",
     "start_time": "2022-02-23T21:29:21.355509Z"
    },
    "_cell_guid": "bc653426-6a63-4b41-887d-92d270dc1168",
    "_uuid": "415d0d14427e94f9900776f3126d5bf8c2391beb",
    "colab": {
     "base_uri": "https://localhost:8080/",
     "height": 861
    },
    "executionInfo": {
     "elapsed": 4218,
     "status": "ok",
     "timestamp": 1642537938518,
     "user": {
      "displayName": "Leonardo Mendonza",
      "photoUrl": "https://lh3.googleusercontent.com/a-/AOh14Gj5F1JVSmHodKCvWHgDPYmDyFo_nUl5lqEXNbsW=s64",
      "userId": "09205135724810578413"
     },
     "user_tz": 180
    },
    "id": "nUKess_k2Bjp",
    "outputId": "80ede673-bd59-48cb-8e9a-8e47dedb16f0"
   },
   "outputs": [
    {
     "data": {
      "text/html": [
       "\n",
       "<link rel=\"stylesheet\" type=\"text/css\" href=\"https://cdn.jsdelivr.net/gh/bmabey/pyLDAvis@3.3.1/pyLDAvis/js/ldavis.v1.0.0.css\">\n",
       "\n",
       "\n",
       "<div id=\"ldavis_el349251163776802276574335\"></div>\n",
       "<script type=\"text/javascript\">\n",
       "\n",
       "var ldavis_el349251163776802276574335_data = {\"mdsDat\": {\"x\": [150.22215270996094, 51.16336441040039, -73.1445541381836, -66.4101333618164, 54.41732406616211], \"y\": [-72.2695541381836, -159.968017578125, 21.523815155029297, -110.60643768310547, 12.44344425201416], \"topics\": [1, 2, 3, 4, 5], \"cluster\": [1, 1, 1, 1, 1], \"Freq\": [41.27868494409127, 20.559767181011207, 17.69326416746695, 10.246447500466996, 10.221836206963573]}, \"tinfo\": {\"Term\": [\"model\", \"tesla\", \"9\", \"w\", \"like\", \"launch\", \"@elonmusk\", \"@spacex:\", \"thanks\", \"falcon\", \"test\", \"@spacex\", \"change\", \"...\", \"article\", \"car\", \"attempt\", \"great\", \"#dragon\", \"right\", \"much\", \"flight\", \"new\", \"@teslamotors:\", \"rocket\", \"cape\", \"static\", \"autopilot\", \"ai\", \"best\", \"term\", \"saying\", \"reports\", \"attempt\", \"however,\", \"instructions\", \"reentry\", \"updated\", \"mins.\", \"actual\", \"advance\", \"europe\", \"google\", \"landed\", \"warranty\", \"50\", \"60%\", \"et.\", \"sea\", \"attempt.\", \"tank.\", \"affect\", \"dmv\", \"morning.\", \"roll\", \"throttle\", \"@theonion:\", \"dan\", \"ok\", \"become\", \"9\", \"pod\", \"thinking\", \"falcon\", \"@spacex:\", \"window\", \"live\", \"oxygen\", \"stage\", \"launch\", \"fixed\", \"camera\", \"orbit\", \"droneship\", \"hyperloop\", \"dragon\", \"company\", \"liftoff\", \"landing\", \"go\", \"rocket\", \"still\", \"last\", \"first\", \"good\", \":)\", \"video\", \"next\", \"tesla\", \"heavy\", \"one\", \"vertical\", \"maybe\", \"space\", \"people\", \"would\", \"spacex\", \"test\", \"new\", \"car\", \"spacecraft\", \"doors\", \"p85d\", \"taken\", \"tx\", \"annual\", \"saw\", \"pods\", \"states\", \"again.\", \"ui\", \"mission.\", \"hexacopter\", \"and,\", \"company.\", \"@elonmusk's\", \"lots\", \"extreme\", \"grandfather\", \"rare\", \"gives\", \"bar\", \"@westcoastbill\", \"winter\", \"future.\", \"scientists\", \"4x\", \"regulatory\", \"known\", \"letter\", \"critical\", \"market\", \"w\", \"shows\", \"main\", \"change\", \"@elonmusk\", \"happy\", \"norway\", \"model\", \"awesome\", \"want\", \"make\", \"--\", \"climate\", \"sure\", \"3\", \"new\", \"flight\", \"like\", \"looks\", \"@teslamotors\", \"rocket\", \"tesla\", \"worth\", \"design\", \"time\", \"vs\", \"landing\", \"launch\", \"@teslamotors:\", \"good\", \"look\", \"would\", \"dragon\", \"car\", \"next\", \"space\", \"head\", \"abort\", \"hypersonic\", \"idea\", \"probability\", \"yet.\", \"mt\", \"clear,\", \"sun\", \"provide\", \"sustainable\", \"arrived\", \"down.\", \"leg\", \"universe\", \"together\", \"80%\", \"trying\", \"perfect,\", \"@aaronpaul_8\", \"restored\", \"shortly.\", \"stuff\", \"appreciated.\", \"resale\", \"link\", \"road\", \"2nd\", \"roughly\", \"literally\", \"pressure\", \"article\", \"pack\", \"piece\", \"put\", \"range\", \"like\", \"rear\", \"model\", \"ocean\", \"...\", \"@teslamotors:\", \"i'm\", \"great\", \"tesla\", \"yeah,\", \"lot\", \"safety\", \"future\", \"definitely\", \"much\", \"really\", \"solar\", \"good\", \"@teslamotors\", \"get\", \"need\", \"take\", \"time\", \"cars\", \"test\", \"one\", \"people\", \"energy\", \"battery\", \"video\", \"yes,\", \"coast\", \"reading\", \"there.\", \"comments\", \"appreciate\", \"opening\", \"breaking:\", \"(no\", \"operating\", \"contract\", \"target.\", \"@mashable:\", \"mexico\", \"thanks,\", \"lower\", \"old\", \"deg\", \"senate\", \"face\", \"door\", \"chamber\", \"martin\", \"unveiled\", \"ariane\", \"not.\", \"but,\", \"coal\", \"changing\", \"law\", \"moving\", \"deployed\", \"testing\", \"city\", \"km\", \"canaveral\", \"ai\", \"satellite\", \"#dragon\", \"almost\", \"given\", \"state\", \"thanks\", \"@spacex\", \"open\", \"right\", \"mile\", \"best\", \"@nasa:\", \"@elonmusk\", \"next\", \"high\", \"week\", \"rocket\", \"cape\", \"first\", \"great\", \"tesla\", \"car\", \"end\", \"us\", \"one\", \"like\", \"back\", \"launch\", \"model\", \"would\", \"orbit.\", \"picture\", \"tmrw\", \"usually\", \"engineering\", \"someone\", \"contact\", \"artificial\", \"announcing\", \"(not\", \"whole\", \"blog\", \"canaveral.\", \"taxes\", \"cover\", \"solution\", \"breakfast\", \"expansion\", \"@mikejudge\", \"fire.\", \"available\", \"sensible\", \"exceed\", \"tricky\", \"tonight's\", \"active\", \"third\", \"pilot\", \"ad\", \"game\", \"york\", \"trip\", \"everyone\", \"btw,\", \"try\", \"regarding\", \"static\", \"problem\", \"tesla.\", \"post\", \"tesla\", \"autopilot\", \"actually\", \"ny\", \"test\", \"never\", \"direct\", \"always\", \"car\", \"must\", \"thanks\", \"much\", \"would\", \"model\", \"@nasa\", \"love\", \"show\", \"new\", \"...\", \"@spacex\", \"station\", \"fire\", \"rocket\", \"cape\", \"coming\", \"@teslamotors\", \"landing\"], \"Freq\": [16.0, 24.0, 11.0, 4.0, 8.0, 18.0, 5.0, 14.0, 3.0, 16.0, 5.0, 4.0, 2.0, 6.0, 2.0, 6.0, 3.0, 3.0, 1.0, 2.0, 3.0, 4.0, 7.0, 5.0, 14.0, 2.0, 1.0, 2.0, 1.0, 4.0, 1.9620804956148665, 1.69758922039786, 1.692525995175931, 3.4606196448246997, 1.4255788809830081, 1.3001566592105873, 1.7720640334852182, 1.23214046603058, 1.2322266005504203, 1.163513135287899, 1.965264998607817, 1.1601903840710035, 1.1591090633708527, 1.6915632060906054, 1.1531553432970367, 1.1542123081859221, 0.9664143898424324, 1.490549051354117, 0.8975983982124888, 0.8977177030276716, 0.8961575393460381, 0.8942160332480197, 0.8946903143473923, 0.8937777059652772, 0.8926207662701496, 0.8927730867406035, 1.1316669455578572, 0.830443704870957, 0.8315742784338891, 0.8695996534620327, 10.573639839819867, 1.5882370402184285, 1.279025711996742, 13.983264137537331, 12.611710621223054, 1.6639236129062702, 4.934759219628827, 1.6246886432386443, 5.505430259105308, 14.099893679482813, 1.0315230403975937, 1.1620049306702984, 3.1423870787503567, 2.503117548904533, 2.579197216654196, 5.893360342537334, 2.3342388381518773, 1.6204032575764948, 5.891375382579216, 2.7201262808791054, 8.054021731363214, 3.225232404269387, 2.6647799807193926, 4.826575499829851, 6.423427538433035, 4.16746116424507, 3.1469294762113837, 4.482400515356179, 8.990629015458758, 2.185043179623362, 3.2432621994888344, 1.981761537518077, 2.310175141981527, 2.4898186573933034, 2.4195243839995997, 2.5209798689265175, 2.337482104372008, 2.33959108566749, 2.3686592438325893, 2.3508255322238374, 1.1907794826328504, 0.8126967880255771, 0.8103517784294784, 0.7523451016245016, 0.6841731478871358, 0.6229359403888276, 0.6817326311012859, 0.590861737748132, 0.5910875275277735, 0.6813808719596783, 0.555403615246049, 0.5567646697219296, 0.5262856297048957, 0.49518613955315194, 0.5441214433470623, 0.463200589150685, 0.4629172254804476, 0.49367050206934354, 0.43117494883510077, 0.43227212618833033, 0.4311061297431309, 0.43085707934146944, 0.4298895684027125, 0.4290955493550155, 0.42886933595477433, 0.4283668449015999, 0.42900527965631524, 0.42820844930827473, 0.42890992651041854, 0.4258878171521407, 0.5542522144560574, 0.8115692640330234, 3.7990594226400742, 0.7842439638478841, 0.7068238332655213, 2.1202525264574814, 3.198435964347215, 1.085034230228123, 0.7261873768340696, 7.201727653463368, 1.1897956815564865, 1.3259572781294917, 1.645117659261013, 1.072123044568462, 1.765048502133161, 1.189931779301882, 2.0771505938543657, 2.9326372986558957, 2.129177519295869, 3.1345484323333133, 1.2823061021633801, 2.298301650907146, 3.5051280359005825, 4.669671539464947, 1.0571928831306188, 1.1994332812655009, 1.660217500004519, 1.1861241233079012, 2.1142494374500607, 2.759175600191374, 1.586228696279747, 2.003905821946526, 1.0000510855463802, 1.4022185367949227, 1.517858796189429, 1.286641820490372, 1.221084761182079, 1.0879363394237942, 1.0148709637258042, 0.8893819537397945, 0.651968016598799, 0.5937688229167658, 0.6491437512846975, 0.5630726269827544, 0.5310626296736624, 0.5303952893656905, 0.5301109008484722, 0.5799657224903358, 0.530369902860133, 0.5283615850223061, 0.7063200610143445, 0.5266867716302045, 0.441532477993723, 0.44151335526042446, 0.4409161758300835, 1.133668674139927, 0.41083379643579926, 0.41031095373126186, 0.4100130102783086, 0.4103127102388266, 0.41041127351236195, 0.40843238546165667, 0.5139096041881596, 0.4081237041134023, 0.8703758790568527, 0.40729125209434996, 0.4076017230918212, 0.4079626025422337, 0.6585157465335124, 1.8433679905755092, 1.177508849322133, 0.6995279445365747, 0.6657683331264471, 0.9637156967946822, 3.6016960924978068, 0.7189399381752197, 5.704859240753622, 0.7350060831780081, 2.6512703970707534, 2.215531378150146, 1.41348602955852, 1.680237752594634, 5.7922566939751645, 1.1671351144950126, 1.3971827228928468, 0.8466463235409061, 1.2585631228861165, 0.871231795365637, 1.3182583970301316, 1.283912509793225, 1.4213494830841396, 2.216891776688169, 1.6372588626688627, 1.0352624257525007, 1.237784367512233, 0.8695549603327534, 1.1718947860121804, 1.1300893757062278, 1.18965672307289, 1.1834804447756295, 1.126911356396929, 0.921222994906155, 0.934570265048723, 0.9548327397651974, 0.9289878188749348, 0.7590911886769749, 0.6439933063561963, 0.5061191131306547, 0.4873445886205959, 0.46750336378706664, 0.4034445719228914, 0.34033977995576925, 0.38713041748491717, 0.3394244728481673, 0.3211523980082681, 0.32059323346071356, 0.32063355764257706, 0.32076404984271517, 0.31942350590818863, 0.26659291626857456, 0.2480066352500519, 0.24797496704439992, 0.24773401998151806, 0.2470460138190897, 0.24740553432107334, 0.24701998831189934, 0.24659649803449865, 0.24627732090723045, 0.24570639114145487, 0.2413378869253006, 0.1927117985822673, 0.19269899695004314, 0.19215583924098176, 0.19166108590443817, 0.28398064207100304, 0.6313750426391801, 0.6020514741622579, 0.368485406339549, 0.2926470591939856, 0.8146591780131468, 0.8585863188086863, 0.561595245477584, 0.7663590610669581, 0.8403223241594413, 0.39455256201855526, 0.3889711655259298, 1.2497863886126626, 1.2998515569919298, 0.5211164843847673, 0.9752599726570039, 0.44634174751351674, 1.0387220587552881, 0.49902654825002024, 0.9353080553491249, 1.0859878345263272, 0.7473570628760584, 0.5331840667947734, 1.2307132233268796, 0.6251544474065343, 0.9134623674477882, 0.7111669445425973, 1.269490000697995, 0.8168635154407481, 0.5454783935572476, 0.6398682634665241, 0.7214596871650506, 0.7585441923975315, 0.623579980992925, 0.8297340883889771, 0.7225481521825873, 0.5639281750129842, 0.6413109977801981, 0.49091364421590006, 0.5653233216440497, 0.4131053800246562, 0.41378145183570536, 0.4127979214819819, 0.33799362949632095, 0.33598961555762713, 0.3372335800312569, 0.33573029194933346, 0.3189165717320333, 0.49474471781184565, 0.3355209030701028, 0.3351295817539254, 0.4352260820645492, 0.2788533527141376, 0.26085134677785315, 0.2606891546421579, 0.2603366820856695, 0.26018117216640185, 0.26000356689539383, 0.25858620943618316, 0.2591038993151735, 0.2583776821607899, 0.25778759841270926, 0.25710662503316306, 0.22199243931031665, 0.20277899923195078, 0.20268667359408957, 0.20241117098040542, 0.3118370410549657, 0.55513962380849, 0.4605844998577252, 0.6772779798345124, 0.4394510043479284, 0.3221742384008392, 0.6747714402443659, 0.3568977537970742, 0.40821139364143827, 0.49344051765660835, 3.9833346943438204, 0.9408090485738216, 0.8384760161689283, 0.48200159705727735, 1.2724455734905742, 0.5958412529763664, 0.5685780014195527, 0.6257986439988479, 1.2506512086907695, 0.5501408281051452, 0.9316507741852331, 0.865424150482291, 1.0620293561377598, 1.589284569462955, 0.4957876030965873, 0.726577726016181, 0.569345824465905, 0.9614073540733538, 0.7912108804355558, 0.6720686847403243, 0.5720682245374383, 0.5580405864886285, 0.7415726196795641, 0.5625911950225302, 0.5787397187838837, 0.61734535301674, 0.6235931296427233], \"Total\": [16.0, 24.0, 11.0, 4.0, 8.0, 18.0, 5.0, 14.0, 3.0, 16.0, 5.0, 4.0, 2.0, 6.0, 2.0, 6.0, 3.0, 3.0, 1.0, 2.0, 3.0, 4.0, 7.0, 5.0, 14.0, 2.0, 1.0, 2.0, 1.0, 4.0, 2.008384790180041, 1.742475504957483, 1.7397621578336326, 3.573460768671027, 1.4727908573675152, 1.34408140371317, 1.8346313930125333, 1.276090815682145, 1.2762273553671049, 1.207857867040142, 2.0409598116630923, 1.2055933507708894, 1.2047261040063728, 1.7585245876471702, 1.2011995725743456, 1.2024399634327434, 1.0096540653105759, 1.5598951621053272, 0.9412325749903199, 0.9414590629251133, 0.9403783436221606, 0.9389910562926361, 0.9395536681515722, 0.9389165483532403, 0.9383155797359214, 0.938579475200279, 1.1908470562868128, 0.8740446232780746, 0.875718286428311, 0.9215243132194986, 11.38334522247355, 1.7043309737008705, 1.3634074429821434, 16.115656023569752, 14.500552497977264, 1.8037865537376285, 5.7026111194936036, 1.7692716776046322, 6.508667222201271, 18.248004656321086, 1.0944356929507704, 1.2459886253217238, 3.7427938655159294, 2.9445582322900763, 3.1610532020153377, 8.706817179930072, 2.8532962385570504, 1.8323090534596744, 9.202336470425003, 3.529982325970668, 14.031012642997, 4.441622523789041, 3.499843385219828, 7.669045744305629, 11.363006439407876, 6.797460042740399, 4.665119039223988, 7.982341399978446, 24.705381943940687, 2.8370007997897178, 5.785518324195213, 2.42069612954712, 3.5788352798868353, 4.868482710515104, 4.926375026497772, 6.195589231276311, 4.58887683326262, 5.162917634137989, 7.486428725316938, 6.466556364330822, 1.258699709690068, 0.8745022141792551, 0.8733479208884549, 0.8110322301572355, 0.7483448601642808, 0.6827952311405634, 0.748330050731737, 0.6498367411714655, 0.6500929445913602, 0.7501189707705829, 0.6163183170842158, 0.6191894296362256, 0.5855556492943339, 0.5541634157605329, 0.6127356284691912, 0.5218202462834017, 0.5215825908708948, 0.5565189622258624, 0.4894007352660301, 0.4906878301229269, 0.4893739125086351, 0.4894836710848747, 0.4890045019044618, 0.48894408575275844, 0.4889642671370288, 0.488429628672004, 0.49017122827872966, 0.48931136266371517, 0.4908365285601005, 0.487904195658138, 0.6375046779448256, 0.9416223984306195, 4.826433528553107, 0.9490748600570541, 0.857700757550792, 2.990168406330819, 5.221632632346074, 1.4890920029137054, 0.9201920071773806, 16.614577295397147, 1.7672552154778327, 2.0709735276749406, 2.803436110068409, 1.612193248119604, 3.175963958684352, 1.8686285913497913, 4.062507630094731, 7.486428725316938, 4.719105418939656, 8.752076197954601, 2.4533263464158104, 6.650133819790491, 14.031012642997, 24.705381943940687, 1.8295086515280323, 2.3649739797933145, 4.566006511630844, 2.535477921035927, 9.202336470425003, 18.248004656321086, 5.282906091266997, 11.363006439407876, 1.8208092333010841, 6.195589231276311, 8.706817179930072, 6.466556364330822, 7.982341399978446, 4.868482710515104, 1.0823853434813637, 0.9656125675632097, 0.7156041931552604, 0.6537780015370046, 0.7170429941086381, 0.6232033272262084, 0.5923109381459183, 0.5927179583254379, 0.5928166362239655, 0.6486757702377544, 0.5932342178722481, 0.591278929284737, 0.7940107653556395, 0.5949056569174204, 0.5007826779396148, 0.5014878499822224, 0.5009089078972128, 1.2916422459340247, 0.47031460226188604, 0.4698143316962841, 0.4694795092153593, 0.4702638098636534, 0.47052653747743695, 0.4701740981018767, 0.592260868507611, 0.4709042681200922, 1.0046861414548074, 0.47039865577285594, 0.4717996810804901, 0.47238372019345676, 0.7737402723024558, 2.627395233009399, 1.6187060453448638, 0.8850157400828573, 0.858459938342999, 1.4062575381615827, 8.752076197954601, 1.0021285377258498, 16.614577295397147, 1.0337946927825707, 6.267361315620013, 5.282906091266997, 2.7537393356588895, 3.6669507205563496, 24.705381943940687, 2.336219700790364, 3.214618318630521, 1.408637575247901, 2.979202834741787, 1.513113114452231, 3.391417014490751, 3.262571690521255, 4.040269024754743, 11.363006439407876, 6.650133819790491, 2.3899476808388904, 4.488567468722759, 1.728919662963368, 4.566006511630844, 4.301710015567457, 5.162917634137989, 5.785518324195213, 4.926375026497772, 2.2794613264635037, 2.83241219199275, 4.665119039223988, 3.479425851354849, 0.8368989610995866, 0.7266720164358448, 0.5725594845485813, 0.5550397907813714, 0.535532843741841, 0.4805570773986496, 0.4055508658747329, 0.4623623507320351, 0.4055950841247052, 0.38723496835116966, 0.3877157857978182, 0.38851253986436857, 0.38880335769454, 0.3875355218585841, 0.33153734571690796, 0.3126554366479769, 0.31271600435154084, 0.31262178477537533, 0.31352167264556763, 0.3145374511615322, 0.3141207780489456, 0.31381864954622896, 0.31365843408188304, 0.31647516104444057, 0.31796792590230627, 0.2576044696568111, 0.25805137201862116, 0.2583153675448291, 0.25929055894527775, 0.3863099494514477, 0.8902708168527501, 0.8547586413186286, 0.5146116366663944, 0.40401307629197736, 1.2475307715613324, 1.6458542159966876, 0.9510425371121617, 1.5256743285971788, 1.7363605982408015, 0.621618993039821, 0.6208279626399965, 3.948433298824589, 4.561974703727046, 1.0519347348302701, 2.9671883274725914, 0.8587853493185572, 4.158463229584583, 1.0676493865452135, 5.221632632346074, 7.982341399978446, 3.288847572867478, 1.4123366810332332, 14.031012642997, 2.362744075781585, 7.669045744305629, 3.6669507205563496, 24.705381943940687, 6.466556364330822, 1.7280760077292723, 3.3332141901258803, 5.785518324195213, 8.752076197954601, 3.289558406594757, 18.248004656321086, 16.614577295397147, 6.195589231276311, 0.7214870244846455, 0.5595150995397943, 0.6444199003961273, 0.48228302739503015, 0.48344606665117296, 0.48233785633946613, 0.40321525313776707, 0.40257726689423473, 0.4046653365825402, 0.4038170239483075, 0.3840765520024643, 0.5963626344714426, 0.4052548127674196, 0.40561206504058467, 0.5313076712001289, 0.34534282818949447, 0.32447320095514687, 0.32466878646402725, 0.3248758815040155, 0.3253360803301155, 0.32518136714838586, 0.32553072054340115, 0.3273538220969511, 0.3283320158053208, 0.32962622789967044, 0.32921991316077137, 0.28633124006944477, 0.2664629942461078, 0.2666454204415403, 0.26652559561480127, 0.41741306053782434, 0.7651540304916713, 0.6500331544633189, 1.0308191433914504, 0.6463031877559915, 0.4438856909870824, 1.2513595974192655, 0.5159366282522786, 0.6297374331229413, 0.8336887530034286, 24.705381943940687, 2.738553919028482, 2.2942413053790256, 0.9189426207746172, 5.162917634137989, 1.392745525207201, 1.2834749624343615, 1.5710515210337577, 6.466556364330822, 1.2187006300459045, 3.948433298824589, 3.391417014490751, 6.195589231276311, 16.614577295397147, 1.0662746740548852, 3.0129383525764384, 1.5638222116170835, 7.486428725316938, 6.267361315620013, 4.561974703727046, 2.1559596920601494, 2.078644524857088, 14.031012642997, 2.362744075781585, 3.2234735544339936, 6.650133819790491, 9.202336470425003], \"Category\": [\"Default\", \"Default\", \"Default\", \"Default\", \"Default\", \"Default\", \"Default\", \"Default\", \"Default\", \"Default\", \"Default\", \"Default\", \"Default\", \"Default\", \"Default\", \"Default\", \"Default\", \"Default\", \"Default\", \"Default\", \"Default\", \"Default\", \"Default\", \"Default\", \"Default\", \"Default\", \"Default\", \"Default\", \"Default\", \"Default\", \"Topic1\", \"Topic1\", \"Topic1\", \"Topic1\", \"Topic1\", \"Topic1\", \"Topic1\", \"Topic1\", \"Topic1\", \"Topic1\", \"Topic1\", \"Topic1\", \"Topic1\", \"Topic1\", \"Topic1\", \"Topic1\", \"Topic1\", \"Topic1\", \"Topic1\", \"Topic1\", \"Topic1\", \"Topic1\", \"Topic1\", \"Topic1\", \"Topic1\", \"Topic1\", \"Topic1\", \"Topic1\", \"Topic1\", \"Topic1\", \"Topic1\", \"Topic1\", \"Topic1\", \"Topic1\", \"Topic1\", \"Topic1\", \"Topic1\", \"Topic1\", \"Topic1\", \"Topic1\", \"Topic1\", \"Topic1\", \"Topic1\", \"Topic1\", \"Topic1\", \"Topic1\", \"Topic1\", \"Topic1\", \"Topic1\", \"Topic1\", \"Topic1\", \"Topic1\", \"Topic1\", \"Topic1\", \"Topic1\", \"Topic1\", \"Topic1\", \"Topic1\", \"Topic1\", \"Topic1\", \"Topic1\", \"Topic1\", \"Topic1\", \"Topic1\", \"Topic1\", \"Topic1\", \"Topic1\", \"Topic1\", \"Topic1\", \"Topic1\", \"Topic2\", \"Topic2\", \"Topic2\", \"Topic2\", \"Topic2\", \"Topic2\", \"Topic2\", \"Topic2\", \"Topic2\", \"Topic2\", \"Topic2\", \"Topic2\", \"Topic2\", \"Topic2\", \"Topic2\", \"Topic2\", \"Topic2\", \"Topic2\", \"Topic2\", \"Topic2\", \"Topic2\", \"Topic2\", \"Topic2\", \"Topic2\", \"Topic2\", \"Topic2\", \"Topic2\", \"Topic2\", \"Topic2\", \"Topic2\", \"Topic2\", \"Topic2\", \"Topic2\", \"Topic2\", \"Topic2\", \"Topic2\", \"Topic2\", \"Topic2\", \"Topic2\", \"Topic2\", \"Topic2\", \"Topic2\", \"Topic2\", \"Topic2\", \"Topic2\", \"Topic2\", \"Topic2\", \"Topic2\", \"Topic2\", \"Topic2\", \"Topic2\", \"Topic2\", \"Topic2\", \"Topic2\", \"Topic2\", \"Topic2\", \"Topic2\", \"Topic2\", \"Topic2\", \"Topic2\", \"Topic2\", \"Topic2\", \"Topic2\", \"Topic2\", \"Topic2\", \"Topic2\", \"Topic2\", \"Topic2\", \"Topic3\", \"Topic3\", \"Topic3\", \"Topic3\", \"Topic3\", \"Topic3\", \"Topic3\", \"Topic3\", \"Topic3\", \"Topic3\", \"Topic3\", \"Topic3\", \"Topic3\", \"Topic3\", \"Topic3\", \"Topic3\", \"Topic3\", \"Topic3\", \"Topic3\", \"Topic3\", \"Topic3\", \"Topic3\", \"Topic3\", \"Topic3\", \"Topic3\", \"Topic3\", \"Topic3\", \"Topic3\", \"Topic3\", \"Topic3\", \"Topic3\", \"Topic3\", \"Topic3\", \"Topic3\", \"Topic3\", \"Topic3\", \"Topic3\", \"Topic3\", \"Topic3\", \"Topic3\", \"Topic3\", \"Topic3\", \"Topic3\", \"Topic3\", \"Topic3\", \"Topic3\", \"Topic3\", \"Topic3\", \"Topic3\", \"Topic3\", \"Topic3\", \"Topic3\", \"Topic3\", \"Topic3\", \"Topic3\", \"Topic3\", \"Topic3\", \"Topic3\", \"Topic3\", \"Topic3\", \"Topic3\", \"Topic3\", \"Topic3\", \"Topic3\", \"Topic3\", \"Topic3\", \"Topic3\", \"Topic4\", \"Topic4\", \"Topic4\", \"Topic4\", \"Topic4\", \"Topic4\", \"Topic4\", \"Topic4\", \"Topic4\", \"Topic4\", \"Topic4\", \"Topic4\", \"Topic4\", \"Topic4\", \"Topic4\", \"Topic4\", \"Topic4\", \"Topic4\", \"Topic4\", \"Topic4\", \"Topic4\", \"Topic4\", \"Topic4\", \"Topic4\", \"Topic4\", \"Topic4\", \"Topic4\", \"Topic4\", \"Topic4\", \"Topic4\", \"Topic4\", \"Topic4\", \"Topic4\", \"Topic4\", \"Topic4\", \"Topic4\", \"Topic4\", \"Topic4\", \"Topic4\", \"Topic4\", \"Topic4\", \"Topic4\", \"Topic4\", \"Topic4\", \"Topic4\", \"Topic4\", \"Topic4\", \"Topic4\", \"Topic4\", \"Topic4\", \"Topic4\", \"Topic4\", \"Topic4\", \"Topic4\", \"Topic4\", \"Topic4\", \"Topic4\", \"Topic4\", \"Topic4\", \"Topic4\", \"Topic4\", \"Topic4\", \"Topic4\", \"Topic4\", \"Topic4\", \"Topic4\", \"Topic5\", \"Topic5\", \"Topic5\", \"Topic5\", \"Topic5\", \"Topic5\", \"Topic5\", \"Topic5\", \"Topic5\", \"Topic5\", \"Topic5\", \"Topic5\", \"Topic5\", \"Topic5\", \"Topic5\", \"Topic5\", \"Topic5\", \"Topic5\", \"Topic5\", \"Topic5\", \"Topic5\", \"Topic5\", \"Topic5\", \"Topic5\", \"Topic5\", \"Topic5\", \"Topic5\", \"Topic5\", \"Topic5\", \"Topic5\", \"Topic5\", \"Topic5\", \"Topic5\", \"Topic5\", \"Topic5\", \"Topic5\", \"Topic5\", \"Topic5\", \"Topic5\", \"Topic5\", \"Topic5\", \"Topic5\", \"Topic5\", \"Topic5\", \"Topic5\", \"Topic5\", \"Topic5\", \"Topic5\", \"Topic5\", \"Topic5\", \"Topic5\", \"Topic5\", \"Topic5\", \"Topic5\", \"Topic5\", \"Topic5\", \"Topic5\", \"Topic5\", \"Topic5\", \"Topic5\", \"Topic5\", \"Topic5\", \"Topic5\", \"Topic5\", \"Topic5\", \"Topic5\", \"Topic5\"], \"logprob\": [30.0, 29.0, 28.0, 27.0, 26.0, 25.0, 24.0, 23.0, 22.0, 21.0, 20.0, 19.0, 18.0, 17.0, 16.0, 15.0, 14.0, 13.0, 12.0, 11.0, 10.0, 9.0, 8.0, 7.0, 6.0, 5.0, 4.0, 3.0, 2.0, 1.0, -6.5177, -6.6625, -6.6655, -5.9502, -6.8371, -6.9292, -6.6195, -6.9829, -6.9829, -7.0402, -6.5161, -7.0431, -7.044, -6.666, -7.0492, -7.0483, -7.2259, -6.7925, -7.2997, -7.2996, -7.3013, -7.3035, -7.303, -7.304, -7.3053, -7.3051, -7.068, -7.3775, -7.3761, -7.3314, -4.8333, -6.7291, -6.9456, -4.5538, -4.6571, -6.6825, -5.5954, -6.7064, -5.486, -4.5455, -7.1607, -7.0415, -6.0467, -6.2742, -6.2442, -5.4179, -6.344, -6.709, -5.4182, -6.191, -5.1055, -6.0207, -6.2116, -5.6176, -5.3317, -5.7644, -6.0453, -5.6915, -4.9955, -6.4101, -6.0151, -6.5077, -6.3544, -6.2795, -6.3081, -6.267, -6.3426, -6.3417, -6.3294, -6.3369, -6.3201, -6.7021, -6.705, -6.7792, -6.8742, -6.968, -6.8778, -7.0209, -7.0205, -6.8783, -7.0827, -7.0803, -7.1366, -7.1975, -7.1033, -7.2643, -7.2649, -7.2006, -7.3359, -7.3334, -7.3361, -7.3367, -7.3389, -7.3408, -7.3413, -7.3425, -7.341, -7.3428, -7.3412, -7.3483, -7.0848, -6.7035, -5.1599, -6.7377, -6.8417, -5.7431, -5.332, -6.4131, -6.8146, -4.5204, -6.3209, -6.2125, -5.9969, -6.425, -5.9265, -6.3208, -5.7637, -5.4188, -5.7389, -5.3522, -6.246, -5.6625, -5.2405, -4.9536, -6.4391, -6.3128, -5.9877, -6.324, -5.746, -5.4797, -6.0333, -5.7996, -6.4946, -6.1566, -6.0774, -6.2426, -6.2949, -6.4104, -6.3298, -6.4618, -6.7723, -6.8658, -6.7766, -6.9189, -6.9774, -6.9787, -6.9792, -6.8893, -6.9787, -6.9825, -6.6922, -6.9857, -7.162, -7.1621, -7.1634, -6.2191, -7.2341, -7.2354, -7.2361, -7.2354, -7.2351, -7.24, -7.0102, -7.2407, -6.4834, -7.2428, -7.242, -7.2411, -6.7623, -5.7329, -6.1811, -6.7019, -6.7513, -6.3815, -5.0631, -6.6745, -4.6032, -6.6524, -5.3695, -5.549, -5.9985, -5.8256, -4.588, -6.19, -6.0101, -6.511, -6.1146, -6.4824, -6.0682, -6.0946, -5.9929, -5.5484, -5.8515, -6.3099, -6.1312, -6.4843, -6.1859, -6.2222, -6.1709, -6.1761, -6.225, -6.4266, -6.4122, -6.3907, -6.4182, -6.0739, -6.2383, -6.4793, -6.5171, -6.5586, -6.706, -6.8761, -6.7473, -6.8788, -6.9341, -6.9359, -6.9357, -6.9353, -6.9395, -7.1203, -7.1926, -7.1927, -7.1937, -7.1965, -7.195, -7.1966, -7.1983, -7.1996, -7.2019, -7.2198, -7.4448, -7.4449, -7.4477, -7.4503, -7.0571, -6.2581, -6.3057, -6.7966, -7.0271, -6.0033, -5.9507, -6.3753, -6.0644, -5.9722, -6.7283, -6.7425, -5.5753, -5.536, -6.4501, -5.8233, -6.6049, -5.7603, -6.4934, -5.8652, -5.7158, -6.0895, -6.4272, -5.5907, -6.268, -5.8888, -6.1391, -5.5597, -6.0006, -6.4044, -6.2448, -6.1248, -6.0746, -6.2706, -5.9849, -6.1232, -6.3711, -6.2401, -6.5074, -6.3662, -6.6799, -6.6783, -6.6807, -6.8806, -6.8865, -6.8829, -6.8873, -6.9387, -6.4996, -6.8879, -6.8891, -6.6278, -7.0729, -7.1397, -7.1403, -7.1417, -7.1422, -7.1429, -7.1484, -7.1464, -7.1492, -7.1515, -7.1541, -7.301, -7.3915, -7.392, -7.3933, -6.9611, -6.3844, -6.5711, -6.1855, -6.6181, -6.9285, -6.1893, -6.8262, -6.6918, -6.5022, -4.4138, -5.8569, -5.972, -6.5257, -5.5549, -6.3137, -6.3605, -6.2646, -5.5722, -6.3935, -5.8667, -5.9404, -5.7357, -5.3326, -6.4975, -6.1153, -6.3591, -5.8352, -6.0301, -6.1933, -6.3544, -6.3792, -6.0949, -6.3711, -6.3428, -6.2782, -6.2681], \"loglift\": [30.0, 29.0, 28.0, 27.0, 26.0, 25.0, 24.0, 23.0, 22.0, 21.0, 20.0, 19.0, 18.0, 17.0, 16.0, 15.0, 14.0, 13.0, 12.0, 11.0, 10.0, 9.0, 8.0, 7.0, 6.0, 5.0, 4.0, 3.0, 2.0, 1.0, 0.8615, 0.8587, 0.8573, 0.8527, 0.8522, 0.8516, 0.8501, 0.8498, 0.8497, 0.8474, 0.847, 0.8464, 0.8462, 0.846, 0.844, 0.8439, 0.8411, 0.8393, 0.8374, 0.8372, 0.8367, 0.836, 0.8359, 0.8356, 0.8349, 0.8348, 0.8339, 0.8337, 0.8331, 0.8268, 0.811, 0.8143, 0.8209, 0.7429, 0.7453, 0.8041, 0.7402, 0.7996, 0.7174, 0.6269, 0.8256, 0.815, 0.71, 0.7224, 0.6814, 0.4945, 0.684, 0.7619, 0.4389, 0.6242, 0.3297, 0.5648, 0.6122, 0.4218, 0.3144, 0.3956, 0.4911, 0.3078, -0.126, 0.6237, 0.306, 0.6848, 0.4471, 0.2143, 0.1738, -0.0144, 0.2103, 0.0933, -0.2659, -0.1271, 1.5264, 1.5085, 1.507, 1.5067, 1.4922, 1.4901, 1.4886, 1.4867, 1.4867, 1.4857, 1.4778, 1.4756, 1.4751, 1.4693, 1.4631, 1.4627, 1.4625, 1.462, 1.4552, 1.4551, 1.4551, 1.4543, 1.453, 1.4513, 1.4507, 1.4506, 1.4485, 1.4484, 1.447, 1.4459, 1.4419, 1.4332, 1.3425, 1.3911, 1.3884, 1.238, 1.0917, 1.2653, 1.3451, 0.7459, 1.1862, 1.1359, 1.0488, 1.1739, 0.9944, 1.1305, 0.911, 0.6446, 0.786, 0.555, 0.933, 0.5194, 0.1948, -0.0841, 1.0334, 0.9029, 0.5701, 0.8221, 0.1111, -0.3073, 0.3787, -0.1534, 0.9826, 0.0961, -0.165, -0.0328, -0.2957, 0.0833, 1.6676, 1.6498, 1.6389, 1.6357, 1.6325, 1.6305, 1.6228, 1.6209, 1.6202, 1.62, 1.62, 1.6195, 1.615, 1.6102, 1.6061, 1.6046, 1.6044, 1.6015, 1.5968, 1.5966, 1.5966, 1.5956, 1.5953, 1.5912, 1.5901, 1.5889, 1.5885, 1.5879, 1.5857, 1.5854, 1.5707, 1.3776, 1.4138, 1.4968, 1.4778, 1.3541, 0.8441, 1.3999, 0.663, 1.3909, 0.8717, 0.863, 1.0651, 0.9516, 0.2815, 1.038, 0.8987, 1.2229, 0.8703, 1.18, 0.787, 0.7994, 0.6873, 0.0977, 0.3304, 0.8954, 0.4438, 1.0447, 0.372, 0.3953, 0.2641, 0.1451, 0.2569, 0.826, 0.6232, 0.1457, 0.4115, 2.1807, 2.1575, 2.1549, 2.1482, 2.1424, 2.1033, 2.1029, 2.1007, 2.1001, 2.0911, 2.0881, 2.0862, 2.0859, 2.0849, 2.0602, 2.0466, 2.0463, 2.0456, 2.0399, 2.0382, 2.0379, 2.0372, 2.0364, 2.0251, 2.0025, 1.988, 1.9862, 1.9824, 1.976, 1.9705, 1.9346, 1.9278, 1.9442, 1.9558, 1.8521, 1.6275, 1.7515, 1.5897, 1.5525, 1.8237, 1.8107, 1.1279, 1.0227, 1.5758, 1.1656, 1.6238, 0.8911, 1.5177, 0.5585, 0.2835, 0.7965, 1.3041, -0.1554, 0.9487, 0.1505, 0.638, -0.6902, 0.2093, 1.1251, 0.6278, 0.1964, -0.1674, 0.6152, -0.8125, -0.857, -0.1184, 2.1628, 2.1498, 2.1497, 2.1258, 2.125, 2.125, 2.1042, 2.0998, 2.0984, 2.096, 2.0947, 2.0938, 2.0918, 2.0898, 2.0812, 2.0668, 2.0624, 2.0612, 2.0592, 2.0572, 2.057, 2.0504, 2.0468, 2.041, 2.0348, 2.0334, 2.0261, 2.0075, 2.0064, 2.0055, 1.989, 1.9598, 1.9361, 1.8606, 1.8949, 1.9602, 1.663, 1.9121, 1.8471, 1.7562, 0.4557, 1.2122, 1.2741, 1.6354, 0.8801, 1.4316, 1.4665, 1.3602, 0.6377, 1.4853, 0.8365, 0.9149, 0.517, -0.0664, 1.5149, 0.8583, 1.2702, 0.2282, 0.2111, 0.3655, 0.9539, 0.9656, -0.6596, 0.8456, 0.5633, -0.0963, -0.4111]}, \"token.table\": {\"Topic\": [1, 4, 2, 1, 2, 3, 5, 1, 2, 3, 1, 1, 1, 1, 2, 3, 2, 4, 5, 1, 2, 4, 5, 1, 2, 5, 1, 2, 3, 5, 1, 2, 3, 1, 3, 1, 2, 3, 5, 1, 1, 2, 4, 4, 1, 5, 2, 3, 3, 1, 1, 2, 5, 2, 1, 2, 4, 1, 3, 1, 1, 2, 3, 4, 5, 1, 4, 1, 4, 5, 1, 2, 3, 4, 5, 1, 2, 3, 1, 2, 3, 1, 2, 4, 1, 3, 5, 1, 2, 2, 1, 3, 4, 1, 2, 1, 5, 1, 2, 3, 1, 2, 1, 4, 1, 3, 1, 1, 1, 2, 3, 1, 5, 1, 2, 3, 4, 1, 1, 2, 5, 1, 3, 1, 3, 1, 1, 2, 3, 1, 1, 3, 4, 2, 3, 1, 2, 1, 2, 4, 1, 1, 3, 2, 3, 3, 1, 1, 1, 2, 5, 1, 1, 2, 4, 5, 3, 1, 1, 2, 3, 4, 1, 2, 2, 1, 3, 1, 3, 5, 2, 2, 2, 1, 5, 1, 2, 1, 2, 3, 4, 5, 1, 3, 3, 5, 5, 1, 2, 3, 1, 5, 1, 2, 3, 5, 1, 2, 3, 4, 2, 3, 1, 1, 3, 4, 4, 1, 2, 5, 1, 2, 3, 1, 2, 3, 3, 1, 2, 3, 3, 3, 3, 3, 4, 1, 2, 3, 3, 1, 1, 3, 1, 4, 3, 1, 2, 4, 5, 1, 3, 4, 2, 1, 1, 1, 5, 2, 1, 3, 1, 2, 2, 1, 2, 3, 1, 2, 1, 5, 1, 2, 5, 1, 3, 2, 3, 1, 3, 2, 1, 1, 1, 2, 3, 4, 5, 1, 3, 5, 4, 1, 4, 5, 4, 1, 1, 1, 2, 3, 5, 5, 3, 2, 2, 1, 1, 2, 3, 4, 1, 1, 3, 1, 2, 2, 2, 1, 1, 4, 1, 2, 1, 2, 3, 4, 5, 3, 1, 2, 3, 3], \"Freq\": [0.6554478772147109, 0.6554478772147109, 0.6202730356093222, 0.31911356299427673, 0.15955678149713837, 0.47867034449141505, 0.15955678149713837, 0.24615338383418164, 0.4923067676683633, 0.24615338383418164, 0.8316423525588631, 0.9904382445014904, 0.9663240273415648, 0.5884550957047477, 0.14711377392618694, 0.14711377392618694, 0.5745329499850516, 0.19151098332835054, 0.19151098332835054, 0.43840663964358206, 0.21920331982179103, 0.21920331982179103, 0.21920331982179103, 0.8965175638523717, 0.06896288952710551, 0.06896288952710551, 0.30074582770772107, 0.30074582770772107, 0.30074582770772107, 0.15037291385386053, 0.1892897550560416, 0.3785795101120832, 0.3785795101120832, 0.839738398580004, 1.035612039022617, 0.8279119814407484, 0.4358739412700063, 0.4358739412700063, 0.4358739412700063, 0.9799311032833538, 1.0649728698676235, 1.3331218632861919, 0.6075872275202852, 0.5759172380513314, 0.6365163628383087, 0.6365163628383087, 1.4645679325111387, 1.6912491727207122, 0.7612101806659727, 0.839522299027702, 1.0621810755031664, 0.36515622097181705, 0.36515622097181705, 0.5658492283637815, 0.3039921704977925, 0.3039921704977925, 0.3039921704977925, 0.35305595803711315, 0.35305595803711315, 1.0851585635395051, 0.24047345011630578, 0.24047345011630578, 0.24047345011630578, 0.24047345011630578, 0.9701022787663277, 0.8025755449748125, 0.8015834340891341, 0.4232366976390384, 0.4232366976390384, 0.4232366976390384, 0.3092836259855234, 0.1546418129927617, 0.1546418129927617, 0.1546418129927617, 0.1546418129927617, 0.46493138606791273, 0.23246569303395637, 0.23246569303395637, 0.33442932440955114, 0.6688586488191023, 1.687143076996057, 0.31486503405229177, 0.6297300681045835, 1.1948873716919397, 0.31022435367104756, 0.31022435367104756, 0.31022435367104756, 0.700943692061721, 1.6320252218698603, 1.5686159405508668, 1.1441063457944904, 0.6608891235220141, 1.1232537123199884, 0.4228376331173819, 0.4228376331173819, 0.7791347936412443, 0.7791347936412443, 1.0643351560399383, 1.1435076821829755, 1.259428768011851, 0.6891151928434299, 0.22970506428114332, 1.018828551971548, 0.5786782499885643, 0.43870013866454205, 0.43870013866454205, 0.6410687232662101, 0.8294670830430283, 0.8687204529263018, 0.06205146092330728, 0.06205146092330728, 0.4810827383141677, 0.4810827383141677, 0.6519715968199261, 0.13039431936398524, 0.13039431936398524, 0.13039431936398524, 0.9137128900683448, 0.42380913805680215, 0.42380913805680215, 0.21190456902840107, 0.3356602606370277, 0.3356602606370277, 0.4184192013981629, 0.4184192013981629, 0.8498626120387346, 0.5280292704219095, 0.17600975680730316, 0.17600975680730316, 0.8300641919142063, 0.2727061463886485, 0.545412292777297, 0.2727061463886485, 0.6715501782584962, 0.9238853852026663, 0.7049698400325592, 1.7077796127577665, 0.3040578737214388, 0.3040578737214388, 0.3040578737214388, 0.6789830307525214, 0.9490507777873977, 1.3974205427595028, 0.3631425774584903, 0.3631425774584903, 1.5295711964138317, 0.7440025561230086, 1.1373170520611904, 0.6520083262857367, 0.21733610876191223, 0.10866805438095611, 0.8571812134992343, 0.7672071694233384, 0.1644015363050011, 0.05480051210166703, 0.05480051210166703, 1.6809387982316855, 1.0915189204701576, 0.11425860303109614, 0.3427758090932884, 0.45703441212438456, 0.11425860303109614, 0.8767913321159455, 0.5492063538073253, 0.40760985649583514, 0.31107892162638334, 0.31107892162638334, 0.3319019120138569, 0.3319019120138569, 0.3319019120138569, 1.1659077961590598, 0.7134102299735292, 1.0619968276738927, 0.558841031673087, 0.2794205158365435, 0.7835594463592669, 1.6150146500199478, 0.06018810964736593, 0.4213167675315615, 0.36112865788419557, 0.06018810964736593, 0.12037621929473186, 1.0650573810355068, 1.6883024364369341, 0.29486199890111664, 0.29486199890111664, 0.8205460597508129, 0.445576459290498, 0.222788229645249, 0.222788229645249, 0.7180062559175902, 0.7180062559175902, 0.2671500756076897, 0.40072511341153455, 0.13357503780384486, 0.13357503780384486, 0.5011061040324335, 0.12527652600810837, 0.12527652600810837, 0.12527652600810837, 1.0867297174938786, 0.9673100539028608, 1.1419197423392655, 0.5185360812796858, 0.1728453604265619, 0.1728453604265619, 0.9506293184256818, 0.8015402685251708, 0.2671800895083903, 1.3860263124126104, 1.1304086451594277, 1.1450190423338984, 0.617777392551191, 0.405978024255662, 0.202989012127831, 0.202989012127831, 1.1299234066801767, 1.1734809909938437, 1.5388480469683703, 1.2924233567735235, 1.3946165128398025, 1.5416022085016021, 1.1648767232285782, 0.7111072992414404, 1.3761366577796192, 0.3065066747514847, 0.3065066747514847, 0.3065066747514847, 0.9978759833237759, 1.0901372382579397, 1.1495824248128363, 1.688445165252631, 0.33701938995283987, 0.33701938995283987, 0.9953357160396163, 0.5701655471027509, 0.28508277355137546, 0.07127069338784386, 0.07127069338784386, 1.0657395247358452, 0.709905810814406, 1.0514776794700451, 1.3363087571081416, 1.147792318635091, 1.0624366671651633, 0.639458880025717, 0.639458880025717, 1.053657663990683, 0.4950165416574968, 0.2475082708287484, 0.41080560801424565, 0.20540280400712282, 0.7944706686603049, 0.43583649609048913, 0.21791824804524457, 0.21791824804524457, 0.9218477140041527, 1.5382415827148943, 0.7991308030580054, 0.7991308030580054, 0.4638305640326883, 0.4638305640326883, 0.4638305640326883, 0.6754288514911376, 1.6868622418723773, 0.5351518245140714, 1.6856748479322348, 0.5783958742686749, 0.5783958742686749, 1.232996621855742, 1.0634017752346232, 0.9958251077079262, 0.36429309291481593, 0.20238505161934217, 0.2428620619432106, 0.04047701032386843, 0.16190804129547373, 0.38737786300825305, 0.19368893150412653, 0.19368893150412653, 1.1699209012468232, 0.2532650102757695, 0.2532650102757695, 0.2532650102757695, 1.7465434194814227, 0.7334564624443648, 1.0654398763478339, 0.21900976213080983, 0.43801952426161966, 0.21900976213080983, 1.5517832385146646, 1.306926396711812, 0.7742081858563479, 1.3362823121153988, 1.6225381791846967, 0.7836432859721207, 0.3000107232719523, 0.3000107232719523, 0.3000107232719523, 0.3000107232719523, 0.8262086164338905, 0.6430704071592201, 0.21435680238640673, 0.39440296115512113, 0.39440296115512113, 0.8287693130623391, 0.48286469461668546, 0.8325011287315516, 0.7080464689683078, 0.7080464689683078, 1.108778638944723, 0.5465948461980682, 0.48421544553914697, 0.161405148513049, 0.161405148513049, 0.161405148513049, 0.161405148513049, 0.4280419344386537, 0.28740373921479356, 0.28740373921479356, 0.28740373921479356, 1.604612742442922], \"Term\": [\"#dragon\", \"#dragon\", \"--\", \"...\", \"...\", \"...\", \"...\", \"3\", \"3\", \"3\", \"50\", \"60%\", \"9\", \":)\", \":)\", \":)\", \"@elonmusk\", \"@elonmusk\", \"@elonmusk\", \"@spacex\", \"@spacex\", \"@spacex\", \"@spacex\", \"@spacex:\", \"@spacex:\", \"@spacex:\", \"@teslamotors\", \"@teslamotors\", \"@teslamotors\", \"@teslamotors\", \"@teslamotors:\", \"@teslamotors:\", \"@teslamotors:\", \"@theonion:\", \"abort\", \"actual\", \"actually\", \"actually\", \"actually\", \"advance\", \"affect\", \"again.\", \"ai\", \"almost\", \"always\", \"always\", \"annual\", \"arrived\", \"article\", \"attempt\", \"attempt.\", \"autopilot\", \"autopilot\", \"awesome\", \"back\", \"back\", \"back\", \"battery\", \"battery\", \"become\", \"best\", \"best\", \"best\", \"best\", \"btw,\", \"camera\", \"canaveral\", \"cape\", \"cape\", \"cape\", \"car\", \"car\", \"car\", \"car\", \"car\", \"cars\", \"cars\", \"cars\", \"change\", \"change\", \"clear,\", \"climate\", \"climate\", \"coast\", \"coming\", \"coming\", \"coming\", \"company\", \"company.\", \"critical\", \"dan\", \"definitely\", \"deployed\", \"design\", \"design\", \"direct\", \"direct\", \"dmv\", \"doors\", \"down.\", \"dragon\", \"dragon\", \"droneship\", \"end\", \"energy\", \"energy\", \"et.\", \"europe\", \"falcon\", \"falcon\", \"falcon\", \"fire\", \"fire\", \"first\", \"first\", \"first\", \"first\", \"fixed\", \"flight\", \"flight\", \"flight\", \"future\", \"future\", \"get\", \"get\", \"go\", \"good\", \"good\", \"good\", \"google\", \"great\", \"great\", \"great\", \"happy\", \"head\", \"heavy\", \"hexacopter\", \"high\", \"high\", \"high\", \"however,\", \"hyperloop\", \"hypersonic\", \"i'm\", \"i'm\", \"idea\", \"instructions\", \"landed\", \"landing\", \"landing\", \"landing\", \"last\", \"launch\", \"launch\", \"launch\", \"launch\", \"leg\", \"liftoff\", \"like\", \"like\", \"like\", \"like\", \"live\", \"look\", \"looks\", \"lot\", \"lot\", \"love\", \"love\", \"love\", \"main\", \"make\", \"market\", \"maybe\", \"maybe\", \"mins.\", \"mission.\", \"model\", \"model\", \"model\", \"model\", \"model\", \"morning.\", \"mt\", \"much\", \"much\", \"must\", \"need\", \"need\", \"need\", \"never\", \"never\", \"new\", \"new\", \"new\", \"new\", \"next\", \"next\", \"next\", \"next\", \"norway\", \"ocean\", \"ok\", \"one\", \"one\", \"one\", \"open\", \"orbit\", \"orbit\", \"orbit.\", \"oxygen\", \"p85d\", \"pack\", \"people\", \"people\", \"people\", \"piece\", \"pod\", \"pods\", \"pressure\", \"probability\", \"provide\", \"put\", \"range\", \"reading\", \"really\", \"really\", \"really\", \"rear\", \"reentry\", \"reports\", \"resale\", \"right\", \"right\", \"road\", \"rocket\", \"rocket\", \"rocket\", \"rocket\", \"roll\", \"safety\", \"satellite\", \"saw\", \"saying\", \"sea\", \"show\", \"show\", \"shows\", \"solar\", \"solar\", \"space\", \"space\", \"spacecraft\", \"spacex\", \"spacex\", \"spacex\", \"stage\", \"states\", \"static\", \"static\", \"station\", \"station\", \"station\", \"still\", \"sun\", \"sure\", \"sustainable\", \"take\", \"take\", \"taken\", \"tank.\", \"term\", \"tesla\", \"tesla\", \"tesla\", \"tesla\", \"tesla\", \"test\", \"test\", \"test\", \"testing\", \"thanks\", \"thanks\", \"thanks\", \"there.\", \"thinking\", \"throttle\", \"time\", \"time\", \"time\", \"tmrw\", \"trip\", \"trying\", \"tx\", \"ui\", \"updated\", \"us\", \"us\", \"us\", \"us\", \"vertical\", \"video\", \"video\", \"vs\", \"vs\", \"w\", \"want\", \"warranty\", \"week\", \"week\", \"window\", \"worth\", \"would\", \"would\", \"would\", \"would\", \"would\", \"yeah,\", \"yes,\", \"yes,\", \"yes,\", \"yet.\"]}, \"R\": 30, \"lambda.step\": 0.01, \"plot.opts\": {\"xlab\": \"PC1\", \"ylab\": \"PC2\"}, \"topic.order\": [5, 1, 2, 4, 3]};\n",
       "\n",
       "function LDAvis_load_lib(url, callback){\n",
       "  var s = document.createElement('script');\n",
       "  s.src = url;\n",
       "  s.async = true;\n",
       "  s.onreadystatechange = s.onload = callback;\n",
       "  s.onerror = function(){console.warn(\"failed to load library \" + url);};\n",
       "  document.getElementsByTagName(\"head\")[0].appendChild(s);\n",
       "}\n",
       "\n",
       "if(typeof(LDAvis) !== \"undefined\"){\n",
       "   // already loaded: just create the visualization\n",
       "   !function(LDAvis){\n",
       "       new LDAvis(\"#\" + \"ldavis_el349251163776802276574335\", ldavis_el349251163776802276574335_data);\n",
       "   }(LDAvis);\n",
       "}else if(typeof define === \"function\" && define.amd){\n",
       "   // require.js is available: use it to load d3/LDAvis\n",
       "   require.config({paths: {d3: \"https://d3js.org/d3.v5\"}});\n",
       "   require([\"d3\"], function(d3){\n",
       "      window.d3 = d3;\n",
       "      LDAvis_load_lib(\"https://cdn.jsdelivr.net/gh/bmabey/pyLDAvis@3.3.1/pyLDAvis/js/ldavis.v3.0.0.js\", function(){\n",
       "        new LDAvis(\"#\" + \"ldavis_el349251163776802276574335\", ldavis_el349251163776802276574335_data);\n",
       "      });\n",
       "    });\n",
       "}else{\n",
       "    // require.js not available: dynamically load d3 & LDAvis\n",
       "    LDAvis_load_lib(\"https://d3js.org/d3.v5.js\", function(){\n",
       "         LDAvis_load_lib(\"https://cdn.jsdelivr.net/gh/bmabey/pyLDAvis@3.3.1/pyLDAvis/js/ldavis.v3.0.0.js\", function(){\n",
       "                 new LDAvis(\"#\" + \"ldavis_el349251163776802276574335\", ldavis_el349251163776802276574335_data);\n",
       "            })\n",
       "         });\n",
       "}\n",
       "</script>"
      ],
      "text/plain": [
       "PreparedData(topic_coordinates=                x           y  topics  cluster       Freq\n",
       "topic                                                    \n",
       "4      150.222153  -72.269554       1        1  41.278685\n",
       "0       51.163364 -159.968018       2        1  20.559767\n",
       "1      -73.144554   21.523815       3        1  17.693264\n",
       "3      -66.410133 -110.606438       4        1  10.246448\n",
       "2       54.417324   12.443444       5        1  10.221836, topic_info=              Term       Freq      Total Category  logprob  loglift\n",
       "580          model  16.000000  16.000000  Default  30.0000  30.0000\n",
       "231          tesla  24.000000  24.000000  Default  29.0000  29.0000\n",
       "256              9  11.000000  11.000000  Default  28.0000  28.0000\n",
       "407              w   4.000000   4.000000  Default  27.0000  27.0000\n",
       "10            like   8.000000   8.000000  Default  26.0000  26.0000\n",
       "...            ...        ...        ...      ...      ...      ...\n",
       "90          rocket   0.741573  14.031013   Topic5  -6.0949  -0.6596\n",
       "1423          cape   0.562591   2.362744   Topic5  -6.3711   0.8456\n",
       "342         coming   0.578740   3.223474   Topic5  -6.3428   0.5633\n",
       "1347  @teslamotors   0.617345   6.650134   Topic5  -6.2782  -0.0963\n",
       "328        landing   0.623593   9.202336   Topic5  -6.2681  -0.4111\n",
       "\n",
       "[368 rows x 6 columns], token_table=      Topic      Freq     Term\n",
       "term                          \n",
       "1013      1  0.655448  #dragon\n",
       "1013      4  0.655448  #dragon\n",
       "2277      2  0.620273       --\n",
       "272       1  0.319114      ...\n",
       "272       2  0.159557      ...\n",
       "...     ...       ...      ...\n",
       "884       3  0.428042    yeah,\n",
       "144       1  0.287404     yes,\n",
       "144       2  0.287404     yes,\n",
       "144       3  0.287404     yes,\n",
       "2695      3  1.604613     yet.\n",
       "\n",
       "[322 rows x 3 columns], R=30, lambda_step=0.01, plot_opts={'xlab': 'PC1', 'ylab': 'PC2'}, topic_order=[5, 1, 2, 4, 3])"
      ]
     },
     "execution_count": 18,
     "metadata": {},
     "output_type": "execute_result"
    }
   ],
   "source": [
    "\n",
    "panel =gensimvis.prepare(lda, corpus_lda, dictionary, mds='tsne')\n",
    "panel"
   ]
  },
  {
   "cell_type": "code",
   "execution_count": 19,
   "metadata": {
    "executionInfo": {
     "elapsed": 20,
     "status": "ok",
     "timestamp": 1642537938520,
     "user": {
      "displayName": "Leonardo Mendonza",
      "photoUrl": "https://lh3.googleusercontent.com/a-/AOh14Gj5F1JVSmHodKCvWHgDPYmDyFo_nUl5lqEXNbsW=s64",
      "userId": "09205135724810578413"
     },
     "user_tz": 180
    },
    "id": "Kxe2e4B53l-O"
   },
   "outputs": [],
   "source": []
  }
 ],
 "metadata": {
  "anaconda-cloud": {},
  "colab": {
   "collapsed_sections": [],
   "name": "lda_allan.ipynb",
   "provenance": []
  },
  "kernelspec": {
   "display_name": "Python 3 (ipykernel)",
   "language": "python",
   "name": "python3"
  },
  "language_info": {
   "codemirror_mode": {
    "name": "ipython",
    "version": 3
   },
   "file_extension": ".py",
   "mimetype": "text/x-python",
   "name": "python",
   "nbconvert_exporter": "python",
   "pygments_lexer": "ipython3",
   "version": "3.8.11"
  }
 },
 "nbformat": 4,
 "nbformat_minor": 1
}
