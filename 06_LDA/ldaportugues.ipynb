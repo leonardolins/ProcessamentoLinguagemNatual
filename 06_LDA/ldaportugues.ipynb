{
 "cells": [
  {
   "cell_type": "markdown",
   "metadata": {
    "_cell_guid": "b370038e-edd0-42b6-985a-c30f6eea960b",
    "_uuid": "a9f0d9e1da1d1c9ce96322ecedc81d7a7847f043",
    "id": "3dbAf_6UePPt"
   },
   "source": [
    "\n",
    "#Vamos fazer um projeto de LDA com noticias em portugues "
   ]
  },
  {
   "cell_type": "code",
   "execution_count": 4,
   "metadata": {
    "ExecuteTime": {
     "end_time": "2022-02-08T23:44:39.666913Z",
     "start_time": "2022-02-08T23:44:39.661810Z"
    },
    "colab": {
     "base_uri": "https://localhost:8080/"
    },
    "executionInfo": {
     "elapsed": 3060,
     "status": "ok",
     "timestamp": 1642538328247,
     "user": {
      "displayName": "Leonardo Mendonza",
      "photoUrl": "https://lh3.googleusercontent.com/a-/AOh14Gj5F1JVSmHodKCvWHgDPYmDyFo_nUl5lqEXNbsW=s64",
      "userId": "09205135724810578413"
     },
     "user_tz": 180
    },
    "id": "qA1BuaMH5Wab",
    "outputId": "eff861f6-ecf7-4cdd-caf0-8a3b7f3d5ce7"
   },
   "outputs": [],
   "source": [
    "#!pip install pyLDAvis"
   ]
  },
  {
   "cell_type": "code",
   "execution_count": 1,
   "metadata": {
    "ExecuteTime": {
     "end_time": "2022-02-23T15:45:33.611556Z",
     "start_time": "2022-02-23T15:45:31.169143Z"
    },
    "_cell_guid": "a614ee7b-dc9a-4a69-a22a-6712176d67c2",
    "_uuid": "49cf47103ed18adfb84e28e636784cf89dbb3144",
    "colab": {
     "base_uri": "https://localhost:8080/"
    },
    "executionInfo": {
     "elapsed": 12,
     "status": "ok",
     "timestamp": 1642538328248,
     "user": {
      "displayName": "Leonardo Mendonza",
      "photoUrl": "https://lh3.googleusercontent.com/a-/AOh14Gj5F1JVSmHodKCvWHgDPYmDyFo_nUl5lqEXNbsW=s64",
      "userId": "09205135724810578413"
     },
     "user_tz": 180
    },
    "id": "gP7-aZ4hePPu",
    "outputId": "d1611436-3cc6-4a9d-8c90-b00883bb96af"
   },
   "outputs": [
    {
     "name": "stdout",
     "output_type": "stream",
     "text": [
      "Populating the interactive namespace from numpy and matplotlib\n"
     ]
    }
   ],
   "source": [
    "%pylab inline\n",
    "\n",
    "import pandas as pd\n",
    "import pickle as pk\n",
    "from scipy import sparse as sp"
   ]
  },
  {
   "cell_type": "code",
   "execution_count": 2,
   "metadata": {
    "ExecuteTime": {
     "end_time": "2022-02-23T15:45:34.570481Z",
     "start_time": "2022-02-23T15:45:34.565505Z"
    },
    "colab": {
     "base_uri": "https://localhost:8080/"
    },
    "executionInfo": {
     "elapsed": 2295,
     "status": "ok",
     "timestamp": 1642538330536,
     "user": {
      "displayName": "Leonardo Mendonza",
      "photoUrl": "https://lh3.googleusercontent.com/a-/AOh14Gj5F1JVSmHodKCvWHgDPYmDyFo_nUl5lqEXNbsW=s64",
      "userId": "09205135724810578413"
     },
     "user_tz": 180
    },
    "id": "3XFrIzJO9dFN",
    "outputId": "a74408f0-ea69-46a9-b5a7-d2d5e78b4c82"
   },
   "outputs": [],
   "source": [
    "#from google.colab import drive\n",
    "#drive.mount('/content/drive')\n",
    "\n",
    "#import os\n",
    "#workdir_path = '/content/drive/My Drive/'  # Inserir o local da pasta onde estão os arquivos de entrada (treino e teste)\n",
    "#os.chdir(workdir_path)"
   ]
  },
  {
   "cell_type": "code",
   "execution_count": 3,
   "metadata": {
    "ExecuteTime": {
     "end_time": "2022-02-23T15:45:36.211307Z",
     "start_time": "2022-02-23T15:45:35.533917Z"
    },
    "_cell_guid": "9b886989-75f5-4522-b9d6-2a40737885f0",
    "_uuid": "eda4ba077f4beb7a55182bc37b147050f444827f",
    "executionInfo": {
     "elapsed": 731,
     "status": "ok",
     "timestamp": 1642538331263,
     "user": {
      "displayName": "Leonardo Mendonza",
      "photoUrl": "https://lh3.googleusercontent.com/a-/AOh14Gj5F1JVSmHodKCvWHgDPYmDyFo_nUl5lqEXNbsW=s64",
      "userId": "09205135724810578413"
     },
     "user_tz": 180
    },
    "id": "PpSqPeCsePPx"
   },
   "outputs": [],
   "source": [
    "data = pd.read_csv('materias.csv')"
   ]
  },
  {
   "cell_type": "code",
   "execution_count": 4,
   "metadata": {
    "ExecuteTime": {
     "end_time": "2022-02-23T15:45:36.983612Z",
     "start_time": "2022-02-23T15:45:36.963786Z"
    },
    "executionInfo": {
     "elapsed": 22,
     "status": "ok",
     "timestamp": 1642538331268,
     "user": {
      "displayName": "Leonardo Mendonza",
      "photoUrl": "https://lh3.googleusercontent.com/a-/AOh14Gj5F1JVSmHodKCvWHgDPYmDyFo_nUl5lqEXNbsW=s64",
      "userId": "09205135724810578413"
     },
     "user_tz": 180
    },
    "id": "ouTIuUfm-ION"
   },
   "outputs": [],
   "source": [
    "data.dropna(subset = [\"conteudo_noticia\"], inplace=True)"
   ]
  },
  {
   "cell_type": "code",
   "execution_count": 5,
   "metadata": {
    "ExecuteTime": {
     "end_time": "2022-02-23T15:45:38.084390Z",
     "start_time": "2022-02-23T15:45:38.057817Z"
    },
    "colab": {
     "base_uri": "https://localhost:8080/",
     "height": 206
    },
    "executionInfo": {
     "elapsed": 22,
     "status": "ok",
     "timestamp": 1642538331270,
     "user": {
      "displayName": "Leonardo Mendonza",
      "photoUrl": "https://lh3.googleusercontent.com/a-/AOh14Gj5F1JVSmHodKCvWHgDPYmDyFo_nUl5lqEXNbsW=s64",
      "userId": "09205135724810578413"
     },
     "user_tz": 180
    },
    "id": "_sTqlU-hrYdb",
    "outputId": "edba75e5-b417-46e0-90f4-a86a68810e33"
   },
   "outputs": [
    {
     "data": {
      "text/html": [
       "<div>\n",
       "<style scoped>\n",
       "    .dataframe tbody tr th:only-of-type {\n",
       "        vertical-align: middle;\n",
       "    }\n",
       "\n",
       "    .dataframe tbody tr th {\n",
       "        vertical-align: top;\n",
       "    }\n",
       "\n",
       "    .dataframe thead th {\n",
       "        text-align: right;\n",
       "    }\n",
       "</style>\n",
       "<table border=\"1\" class=\"dataframe\">\n",
       "  <thead>\n",
       "    <tr style=\"text-align: right;\">\n",
       "      <th></th>\n",
       "      <th>data</th>\n",
       "      <th>url_noticia</th>\n",
       "      <th>url_noticia_curto</th>\n",
       "      <th>titulo</th>\n",
       "      <th>conteudo_noticia</th>\n",
       "      <th>assunto</th>\n",
       "    </tr>\n",
       "  </thead>\n",
       "  <tbody>\n",
       "    <tr>\n",
       "      <th>0</th>\n",
       "      <td>2014-01-25</td>\n",
       "      <td>https://web.archive.org/web/20140125123631/htt...</td>\n",
       "      <td>http://g1.globo.com/economia/noticia/2014/01/m...</td>\n",
       "      <td>Mesmo com alta do dólar, gastos de brasileiros...</td>\n",
       "      <td>\\n\\tA alta de 15% no dólar em 2013, a maior do...</td>\n",
       "      <td>economia</td>\n",
       "    </tr>\n",
       "    <tr>\n",
       "      <th>1</th>\n",
       "      <td>2014-01-25</td>\n",
       "      <td>https://web.archive.org/web/20140125123631/htt...</td>\n",
       "      <td>http://g1.globo.com/economia/noticia/2014/01/p...</td>\n",
       "      <td>Para Dilma, é 'apressada' a tese de que emerge...</td>\n",
       "      <td>\\n\\tA presidente Dilma Rousseff afirmou nesta ...</td>\n",
       "      <td>economia</td>\n",
       "    </tr>\n",
       "    <tr>\n",
       "      <th>2</th>\n",
       "      <td>2014-01-25</td>\n",
       "      <td>https://web.archive.org/web/20140125123631/htt...</td>\n",
       "      <td>http://g1.globo.com/economia/noticia/2014/01/t...</td>\n",
       "      <td>Temos sido capazes de reduzir a inflação', diz...</td>\n",
       "      <td>\\n\\tO presidente do Banco Central, Alexandre T...</td>\n",
       "      <td>economia</td>\n",
       "    </tr>\n",
       "    <tr>\n",
       "      <th>3</th>\n",
       "      <td>2014-01-25</td>\n",
       "      <td>https://web.archive.org/web/20140125123631/htt...</td>\n",
       "      <td>http://g1.globo.com/economia/noticia/2014/01/g...</td>\n",
       "      <td>Governo argentino autoriza compra de dólares a...</td>\n",
       "      <td>\\n\\tO governo argentino anunciou nesta sexta-f...</td>\n",
       "      <td>economia</td>\n",
       "    </tr>\n",
       "    <tr>\n",
       "      <th>4</th>\n",
       "      <td>2014-01-25</td>\n",
       "      <td>https://web.archive.org/web/20140125123631/htt...</td>\n",
       "      <td>http://g1.globo.com/economia/noticia/2014/01/p...</td>\n",
       "      <td>Petrobras desiste de parte da área de Bem-te-v...</td>\n",
       "      <td>\\n\\tA Petrobras afirmou que propôs à Agência N...</td>\n",
       "      <td>economia</td>\n",
       "    </tr>\n",
       "  </tbody>\n",
       "</table>\n",
       "</div>"
      ],
      "text/plain": [
       "         data                                        url_noticia  \\\n",
       "0  2014-01-25  https://web.archive.org/web/20140125123631/htt...   \n",
       "1  2014-01-25  https://web.archive.org/web/20140125123631/htt...   \n",
       "2  2014-01-25  https://web.archive.org/web/20140125123631/htt...   \n",
       "3  2014-01-25  https://web.archive.org/web/20140125123631/htt...   \n",
       "4  2014-01-25  https://web.archive.org/web/20140125123631/htt...   \n",
       "\n",
       "                                   url_noticia_curto  \\\n",
       "0  http://g1.globo.com/economia/noticia/2014/01/m...   \n",
       "1  http://g1.globo.com/economia/noticia/2014/01/p...   \n",
       "2  http://g1.globo.com/economia/noticia/2014/01/t...   \n",
       "3  http://g1.globo.com/economia/noticia/2014/01/g...   \n",
       "4  http://g1.globo.com/economia/noticia/2014/01/p...   \n",
       "\n",
       "                                              titulo  \\\n",
       "0  Mesmo com alta do dólar, gastos de brasileiros...   \n",
       "1  Para Dilma, é 'apressada' a tese de que emerge...   \n",
       "2  Temos sido capazes de reduzir a inflação', diz...   \n",
       "3  Governo argentino autoriza compra de dólares a...   \n",
       "4  Petrobras desiste de parte da área de Bem-te-v...   \n",
       "\n",
       "                                    conteudo_noticia   assunto  \n",
       "0  \\n\\tA alta de 15% no dólar em 2013, a maior do...  economia  \n",
       "1  \\n\\tA presidente Dilma Rousseff afirmou nesta ...  economia  \n",
       "2  \\n\\tO presidente do Banco Central, Alexandre T...  economia  \n",
       "3  \\n\\tO governo argentino anunciou nesta sexta-f...  economia  \n",
       "4  \\n\\tA Petrobras afirmou que propôs à Agência N...  economia  "
      ]
     },
     "execution_count": 5,
     "metadata": {},
     "output_type": "execute_result"
    }
   ],
   "source": [
    "data.head()"
   ]
  },
  {
   "cell_type": "markdown",
   "metadata": {
    "id": "6i581zo3oEnJ"
   },
   "source": [
    "##vamos testar o LDA, pegaremos só o conteudo das noticias"
   ]
  },
  {
   "cell_type": "code",
   "execution_count": 6,
   "metadata": {
    "ExecuteTime": {
     "end_time": "2022-02-23T15:45:39.217025Z",
     "start_time": "2022-02-23T15:45:39.204936Z"
    },
    "colab": {
     "base_uri": "https://localhost:8080/",
     "height": 105
    },
    "executionInfo": {
     "elapsed": 21,
     "status": "ok",
     "timestamp": 1642538331271,
     "user": {
      "displayName": "Leonardo Mendonza",
      "photoUrl": "https://lh3.googleusercontent.com/a-/AOh14Gj5F1JVSmHodKCvWHgDPYmDyFo_nUl5lqEXNbsW=s64",
      "userId": "09205135724810578413"
     },
     "user_tz": 180
    },
    "id": "F2EZppkzriTS",
    "outputId": "c722e61a-2308-478c-e848-8e51df59d343"
   },
   "outputs": [
    {
     "data": {
      "text/plain": [
       "'\\n\\tA presidente Dilma Rousseff afirmou nesta sexta-feira (24), durante discurso no Fórum Econômico Mundial em Davos, na Suíça, que é\\xa0 \"apressada\" a tese de que as economias dos países emergentes vão perder dinamismo com o fim da crise financeira mundial. Segundo a presidente, apesar de as economias desenvolvidas darem claros sinais de recuperação, as emergentes vão continuar desempenhando um \"papel estratégico\". O discurso de Dilma durou aproximadamente 30 minutos.\\n\\t\\xa0\"Ainda que as economias desenvolvidas mostrem claros sinais de recuperação, as emergentes continuarão a desempenhar papel estratégico. Estamos falando de países com grandes capacidade de investimento e de ampliação do consumo, com demanda por infraestrutura social, urbana, energia, petróleo, investimentos industriais e agrícolas [...] É apressada a tese de que após a crise as economias emergentes serão menos dinâmicas. Lá estão grandes oportunidades\", afirmou a presidente.\\n\\tAinda segundo Dilma, os países emergentes são \"sociedades em processo de forte mobilidade social, nas quais se constituem mercados internos dinâmicos, integrados por milhões, às vezes bilhões de consumidores\".\\n\\tPara a presidente, a saída definitiva da crise financeira mundial não pode prever apenas as ações a curto prazo. \"É imprescindível resgatar o horizonte de médio e longo prazos para dar suporte aos diagnósticos e ações necessários para o crescimento das diferentes economias\", afirmou. \"Como as economias desenvolvidas foram as mais afetadas pela crise, ao dela saírem, criarão um ambiente econômico global mais favorável para todo o mundo\", concluiu Dilma.\\n\\tA presidente argumentou ainda que, à medida que a crise for \"se dissipando\", um olhar \"mais atento\" sobre os países emergentes \"ganhará fôlego\", dentro de um novo ciclo de crescimento econômico mundial.\\n\\tDilma sustentou também que o sucesso do Brasil nos próximos anos estará associado a uma parceria com investidores de todo o mundo e destacou a abertura do país para o investimento estrangeiro.\\n\\t\"Sempre recebemos bem o investimento externo. Meu governo adotou medidas para facilitar ainda mais essa relação. Aspectos da conjuntura recente não devem obscurecer essa realidade. Como eu disse até aqui, o Brasil mais que precisa e mais que quer a parceria com investimento privado nacional e externo.\"Oportunidades no Brasil\\n\\tDiante de uma plateia de empresários e líderes mundiais, Dilma Rousseff usou seu discurso no Fórum para tentar dobrar as desconfianças de investidores internacionais com relação ao Brasil. Na tentativa de atrair o interesse do capital estrangeiro para o país, a chefe do Executivo ressaltou que , com as mudanças sociais, há oportunidades de negócios ainda não exploradas no Brasil, citando, entre outros pontos, que apenas 47% dos domicílios têm computador e apenas 8% tem TV com tela plana.\\n\\t\"Estamos nos tornando, por meio de um processo acelerado de ascensão social, uma nação dominantemente de classe média\", destacou.\\n\\tPara Dilma, os avanços sociais do país criaram um contingente de cidadãos com mais qualidade de vida e informação, mas também com novos desejos e demandas. Parte dessas demandas, segundo a presidente, esteve presente nas manifestações de junho de 2013.\\n\\tEm um momento em que imagens da violenta repressão do governo da Ucrânia às manifestações populares circulam o mundo, a presidente fez questão de enfatizar que, durante os protestos do ano passado nas ruas brasileiras, sua gestão não reprimiu o povo. Segundo ela, o governo \"ouviu e compreendeu a voz das ruas\".\\n\\tAo longo de seu pronunciamento em Davos, Dilma tentou demonstrar aos donos de uma fatia significativa do PIB mundial que sua administração tem feito o dever de casa para manter o Brasil um mercado atraente para os investidores.\\n\\tEla disse que o Executivo federal tem se esforçado para manter a economia equilibrada, apesar do cenário de crise internacional. Segundo a presidente, o país está sendo \"construído sem abdicar do nosso compromisso com a solidez dos fundamentos macroeconômicos\", entre eles, o controle da inflação.\\n\\t\"A estabilidade da moeda é hoje um valor central do nosso país. Quero enfatizar que nós não transigimos com a inflação\", concluiu a presidente.\\n\\tAo desfiar as medidas que, de acordo com ela, têm sido adotadas pelo governo para manter as contas públicas sob controle, Dilma assegurou que a responsabilidade fiscal é um \"princípio basilar\" da visão de desenvolvimento econômico e social de sua gestão.\\n\\tSob os olhares de líderes de muitos países que apesar de ricos enfrentam dificuldades para reduzir o endividamento, a presidente do Brasil ostentou que seu governo reduziu a dívida líquida do setor público, que caiu de 42,1%, em 2009, no início da crise, para 34% do PIB, em 2013. Ela também ressaltou que a dívida bruta brasileira caiu neste mesmo período, passando de 60,9% para 58,5% do PIB.\\n\\t\"Em breve, meu governo definirá a meta de superávit primário para o ano, consistente com essa tendência de redução do endividamento público. Creio que temos um dos menores endividamentos públicos do mundo\", gabou-se Dilma.Copa do Mundo\\n\\tA presidente finalizou o discurso no Fórum Econômico Mundial convidando as pessoas presentes a participar da Copa de 2014, que será realizada em 12 cidades-sede do país, e das Olimpíadas de 2016, no Rio.\\n\\t\"Quero dizer aos senhores que estamos preparados para a Copa. Os investimentos que eu relatei aqui são também investimentos para esta Copa e para este evento. Mas são sobretudo investimentos originados da necessidade do país\", justificou Dilma, acrescentando que \"estamos de braços abertos\" para receber todos os visitantes.'"
      ]
     },
     "execution_count": 6,
     "metadata": {},
     "output_type": "execute_result"
    }
   ],
   "source": [
    "docs = array(data['conteudo_noticia'])\n",
    "docs[1]"
   ]
  },
  {
   "cell_type": "markdown",
   "metadata": {
    "_cell_guid": "7364c06e-8044-4da4-9b50-4daa5bf5765e",
    "_uuid": "365398b9b4072a8c5bf3c8de0067122e70fff748",
    "id": "OYeZKng1ePPz"
   },
   "source": [
    "## Primeiro pré-processar deixando todo em minuscula e tokenizar o texto"
   ]
  },
  {
   "cell_type": "code",
   "execution_count": 7,
   "metadata": {
    "ExecuteTime": {
     "end_time": "2022-02-23T15:45:42.522692Z",
     "start_time": "2022-02-23T15:45:40.412644Z"
    },
    "colab": {
     "base_uri": "https://localhost:8080/"
    },
    "executionInfo": {
     "elapsed": 20,
     "status": "ok",
     "timestamp": 1642538331272,
     "user": {
      "displayName": "Leonardo Mendonza",
      "photoUrl": "https://lh3.googleusercontent.com/a-/AOh14Gj5F1JVSmHodKCvWHgDPYmDyFo_nUl5lqEXNbsW=s64",
      "userId": "09205135724810578413"
     },
     "user_tz": 180
    },
    "id": "pn-4I7gqV5xk",
    "outputId": "d0290218-286d-49b2-97f3-12f4e2ce186f"
   },
   "outputs": [
    {
     "name": "stderr",
     "output_type": "stream",
     "text": [
      "[nltk_data] Downloading package wordnet to\n",
      "[nltk_data]     /Users/LeonardoLins/nltk_data...\n",
      "[nltk_data]   Package wordnet is already up-to-date!\n"
     ]
    },
    {
     "data": {
      "text/plain": [
       "True"
      ]
     },
     "execution_count": 7,
     "metadata": {},
     "output_type": "execute_result"
    }
   ],
   "source": [
    "import nltk\n",
    "nltk.download('wordnet')"
   ]
  },
  {
   "cell_type": "code",
   "execution_count": 8,
   "metadata": {
    "ExecuteTime": {
     "end_time": "2022-02-23T15:45:42.537061Z",
     "start_time": "2022-02-23T15:45:42.526708Z"
    },
    "_cell_guid": "125f9eb3-99d9-422a-8242-384da62d43dd",
    "_uuid": "f10f622826eaa4e9bd97c1414aac5538ddabafd2",
    "executionInfo": {
     "elapsed": 17,
     "status": "ok",
     "timestamp": 1642538331273,
     "user": {
      "displayName": "Leonardo Mendonza",
      "photoUrl": "https://lh3.googleusercontent.com/a-/AOh14Gj5F1JVSmHodKCvWHgDPYmDyFo_nUl5lqEXNbsW=s64",
      "userId": "09205135724810578413"
     },
     "user_tz": 180
    },
    "id": "_jFrxinGePPz"
   },
   "outputs": [],
   "source": [
    "from nltk.stem.wordnet import WordNetLemmatizer\n",
    "from nltk.tokenize import RegexpTokenizer\n",
    "\n",
    "def docs_preprocessor(docs):\n",
    "    tokenizer = RegexpTokenizer(r'\\w+')\n",
    "    for idx in range(len(docs)):\n",
    "        docs[idx] = str(docs[idx]).lower()  # Convert to lowercase.\n",
    "        docs[idx] = tokenizer.tokenize(docs[idx])  # Split into words.\n",
    "\n",
    "    # Remove numbers, but not words that contain numbers.\n",
    "    docs = [[token for token in doc if not token.isdigit()] for doc in docs]\n",
    "    \n",
    "    # Remove words that are only one character.\n",
    "    docs = [[token for token in doc if len(token) > 3] for doc in docs]\n",
    "    \n",
    "    # Lemmatize all words in documents.\n",
    "    lemmatizer = WordNetLemmatizer()\n",
    "    docs = [[lemmatizer.lemmatize(token) for token in doc] for doc in docs]\n",
    "  \n",
    "    return docs"
   ]
  },
  {
   "cell_type": "code",
   "execution_count": 9,
   "metadata": {
    "ExecuteTime": {
     "end_time": "2022-02-23T15:46:09.051768Z",
     "start_time": "2022-02-23T15:45:42.540540Z"
    },
    "_cell_guid": "c87ebee3-e88b-4233-9000-b71103f281c3",
    "_uuid": "790063fc1a341eb17e0244c220de736d51196cfe",
    "executionInfo": {
     "elapsed": 14853,
     "status": "ok",
     "timestamp": 1642538346109,
     "user": {
      "displayName": "Leonardo Mendonza",
      "photoUrl": "https://lh3.googleusercontent.com/a-/AOh14Gj5F1JVSmHodKCvWHgDPYmDyFo_nUl5lqEXNbsW=s64",
      "userId": "09205135724810578413"
     },
     "user_tz": 180
    },
    "id": "XuXIp0hWePP2"
   },
   "outputs": [],
   "source": [
    "docs = docs_preprocessor(docs)"
   ]
  },
  {
   "cell_type": "markdown",
   "metadata": {
    "_cell_guid": "b167c49c-6187-4921-9d2b-2fa1ba8377a4",
    "_uuid": "f649c357b776963b7e626064fa6ced1a03a3219d",
    "id": "-GZlfsohePP4"
   },
   "source": [
    "### **Computar bigramas e trigramas :**\n",
    "Sine tópicos são muito semelhantes, o que os faria distingui-los são frases ao invés de palavras únicas / individuais."
   ]
  },
  {
   "cell_type": "code",
   "execution_count": 10,
   "metadata": {
    "ExecuteTime": {
     "end_time": "2022-02-23T15:47:24.206922Z",
     "start_time": "2022-02-23T15:46:09.054758Z"
    },
    "_cell_guid": "66b3e9bf-1c76-4ee1-bb22-60405308c401",
    "_uuid": "d6ce91b0d51d55e3504cbb352f0548cffcdb0169",
    "colab": {
     "base_uri": "https://localhost:8080/"
    },
    "executionInfo": {
     "elapsed": 50781,
     "status": "ok",
     "timestamp": 1642538396879,
     "user": {
      "displayName": "Leonardo Mendonza",
      "photoUrl": "https://lh3.googleusercontent.com/a-/AOh14Gj5F1JVSmHodKCvWHgDPYmDyFo_nUl5lqEXNbsW=s64",
      "userId": "09205135724810578413"
     },
     "user_tz": 180
    },
    "id": "PeYS98CfePP4",
    "outputId": "3a8e6eed-2afc-481a-e29a-79bad736efd4"
   },
   "outputs": [
    {
     "name": "stderr",
     "output_type": "stream",
     "text": [
      "/opt/anaconda3/lib/python3.8/site-packages/gensim/models/phrases.py:598: UserWarning: For a faster implementation, use the gensim.models.phrases.Phraser class\n",
      "  warnings.warn(\"For a faster implementation, use the gensim.models.phrases.Phraser class\")\n"
     ]
    }
   ],
   "source": [
    "from gensim.models import Phrases\n",
    "# Add bigrams and trigrams to docs (only ones that appear 10 times or more).\n",
    "bigram = Phrases(docs, min_count=10)\n",
    "trigram = Phrases(bigram[docs])\n",
    "\n",
    "for idx in range(len(docs)):\n",
    "    for token in bigram[docs[idx]]:\n",
    "        if '_' in token:\n",
    "            # Token is a bigram, add to document.\n",
    "            docs[idx].append(token)\n",
    "    for token in trigram[docs[idx]]:\n",
    "        if '_' in token:\n",
    "            # Token is a bigram, add to document.\n",
    "            docs[idx].append(token)"
   ]
  },
  {
   "cell_type": "code",
   "execution_count": 11,
   "metadata": {
    "ExecuteTime": {
     "end_time": "2022-02-23T15:47:24.327568Z",
     "start_time": "2022-02-23T15:47:24.211047Z"
    },
    "colab": {
     "base_uri": "https://localhost:8080/"
    },
    "executionInfo": {
     "elapsed": 15,
     "status": "ok",
     "timestamp": 1642538396880,
     "user": {
      "displayName": "Leonardo Mendonza",
      "photoUrl": "https://lh3.googleusercontent.com/a-/AOh14Gj5F1JVSmHodKCvWHgDPYmDyFo_nUl5lqEXNbsW=s64",
      "userId": "09205135724810578413"
     },
     "user_tz": 180
    },
    "id": "nWzohYYpOydW",
    "outputId": "2f201851-fb06-4c42-ad23-c1cb097fb1d4"
   },
   "outputs": [
    {
     "name": "stdout",
     "output_type": "stream",
     "text": [
      "Phrases<1707445 vocab, min_count=5, threshold=10.0, max_vocab_size=40000000>\n"
     ]
    }
   ],
   "source": [
    "print(trigram)"
   ]
  },
  {
   "cell_type": "markdown",
   "metadata": {
    "_cell_guid": "b9849dae-b405-4bc6-ab61-c062f2a13746",
    "_uuid": "c75a2e62b9a0e570a0a34b84af5912c22aa9ba28",
    "id": "GXcCXaDSePP7"
   },
   "source": [
    "### Remover Tokens comuns e pouco comuns**"
   ]
  },
  {
   "cell_type": "code",
   "execution_count": 12,
   "metadata": {
    "ExecuteTime": {
     "end_time": "2022-02-23T15:47:29.650576Z",
     "start_time": "2022-02-23T15:47:24.330614Z"
    },
    "_cell_guid": "df440d67-082a-4b2d-a6fb-80029af194b5",
    "_uuid": "73f7ba9fedcde10c4e70cf2456c7ef20c8e32d35",
    "colab": {
     "base_uri": "https://localhost:8080/"
    },
    "executionInfo": {
     "elapsed": 4697,
     "status": "ok",
     "timestamp": 1642538401565,
     "user": {
      "displayName": "Leonardo Mendonza",
      "photoUrl": "https://lh3.googleusercontent.com/a-/AOh14Gj5F1JVSmHodKCvWHgDPYmDyFo_nUl5lqEXNbsW=s64",
      "userId": "09205135724810578413"
     },
     "user_tz": 180
    },
    "id": "qRe_v6O5ePP7",
    "outputId": "52e25b3d-d0de-4a72-9519-753bcea623c5"
   },
   "outputs": [
    {
     "name": "stdout",
     "output_type": "stream",
     "text": [
      "Number of unique words in initital documents: 99667\n",
      "Number of unique words after removing rare and common words: 26722\n"
     ]
    }
   ],
   "source": [
    "from gensim.corpora import Dictionary\n",
    "\n",
    "# Create a dictionary representation of the documents.\n",
    "dictionary = Dictionary(docs)\n",
    "print('Number of unique words in initital documents:', len(dictionary))\n",
    "\n",
    "# Filter out words that occur less than 10 documents, or more than 20% of the documents.\n",
    "dictionary.filter_extremes(no_below=10, no_above=0.2)\n",
    "print('Number of unique words after removing rare and common words:', len(dictionary))"
   ]
  },
  {
   "cell_type": "markdown",
   "metadata": {
    "_cell_guid": "ac2ede6e-8815-4da1-a739-1ffc71614cb9",
    "_uuid": "f5e4e52fe4ff798ac96f8f23538770c5cc4d217a",
    "id": "1KLQtDWtePP-"
   },
   "source": [
    "Eliminando as palavras comuns e raras, acabamos com apenas cerca de 6% das palavras."
   ]
  },
  {
   "cell_type": "markdown",
   "metadata": {
    "_cell_guid": "0e6a6363-b43f-45f0-80d9-0f5b5b9462fc",
    "_uuid": "78cd228789c6fa5d094886b58dce875f63625c33",
    "id": "5tkGL0wBePP-"
   },
   "source": [
    "** Vetorizar dados: **\n",
    "A primeira etapa é obter uma representação por trás das palavras de cada documento.\n",
    "Passos\n",
    "1-converter um corpus\n",
    "doc2bow:converter documento (uma lista de palavras) no formato de saco de palavras = lista de (token_id, token_count) 2-tuplas. Cada palavra é considerada uma string tokenizada e normalizada (codificada em unicode ou em utf8). Nenhum outro pré-processamento é feito nas palavras do documento; aplique tokenização, lematização etc. antes de chamar esse método.\n"
   ]
  },
  {
   "cell_type": "code",
   "execution_count": 13,
   "metadata": {
    "ExecuteTime": {
     "end_time": "2022-02-23T15:47:32.916934Z",
     "start_time": "2022-02-23T15:47:29.655960Z"
    },
    "_cell_guid": "ca1d1e18-2939-4880-bca7-712d4bc42735",
    "_uuid": "27e71950ec4bca8f6b62ec6d6cd9f613a50019ea",
    "executionInfo": {
     "elapsed": 2663,
     "status": "ok",
     "timestamp": 1642538404216,
     "user": {
      "displayName": "Leonardo Mendonza",
      "photoUrl": "https://lh3.googleusercontent.com/a-/AOh14Gj5F1JVSmHodKCvWHgDPYmDyFo_nUl5lqEXNbsW=s64",
      "userId": "09205135724810578413"
     },
     "user_tz": 180
    },
    "id": "JGXwd5TZePP_"
   },
   "outputs": [],
   "source": [
    "corpus = [dictionary.doc2bow(doc) for doc in docs]"
   ]
  },
  {
   "cell_type": "code",
   "execution_count": 14,
   "metadata": {
    "ExecuteTime": {
     "end_time": "2022-02-23T15:47:32.926701Z",
     "start_time": "2022-02-23T15:47:32.919292Z"
    },
    "_cell_guid": "ad5717c6-b2e8-4122-8c7d-b5bca9dfb1ab",
    "_uuid": "80752c24b3b1bab16b48054a6ca6e7fb84d49372",
    "colab": {
     "base_uri": "https://localhost:8080/"
    },
    "executionInfo": {
     "elapsed": 16,
     "status": "ok",
     "timestamp": 1642538404217,
     "user": {
      "displayName": "Leonardo Mendonza",
      "photoUrl": "https://lh3.googleusercontent.com/a-/AOh14Gj5F1JVSmHodKCvWHgDPYmDyFo_nUl5lqEXNbsW=s64",
      "userId": "09205135724810578413"
     },
     "user_tz": 180
    },
    "id": "2gY7iFHjePQB",
    "outputId": "9753e4dc-b87e-4913-a417-5d306109ff17"
   },
   "outputs": [
    {
     "name": "stdout",
     "output_type": "stream",
     "text": [
      "Number of unique tokens: 26722\n",
      "Number of documents: 10103\n"
     ]
    }
   ],
   "source": [
    "print('Number of unique tokens: %d' % len(dictionary))\n",
    "print('Number of documents: %d' % len(corpus))"
   ]
  },
  {
   "cell_type": "markdown",
   "metadata": {
    "_cell_guid": "a0a1a95d-8ed7-47a1-a1b0-0471a77e9af0",
    "_uuid": "bb7f095fc6b213d727b36798294d56a6ab950f5b",
    "id": "hBlY7rrUePQD"
   },
   "source": [
    "\n",
    "\n",
    "Com o corpus de bag of words, podemos prosseguir para aprender nosso modelo de tópico a partir dos documentos."
   ]
  },
  {
   "cell_type": "markdown",
   "metadata": {
    "_cell_guid": "ff8fbb06-d7f2-4170-b91c-151e3c5c9cad",
    "_uuid": "49a8f93233d2640b476e093390182e21102ae555",
    "id": "No58jWGgePQD"
   },
   "source": [
    "# Entrenando LDA"
   ]
  },
  {
   "cell_type": "code",
   "execution_count": 15,
   "metadata": {
    "ExecuteTime": {
     "end_time": "2022-02-23T15:47:32.935837Z",
     "start_time": "2022-02-23T15:47:32.930225Z"
    },
    "_cell_guid": "f15e826a-f41b-410a-9ff9-ef19edc05085",
    "_uuid": "b11f495c4fcf6991c523d5a3b6669506f39533ee",
    "executionInfo": {
     "elapsed": 14,
     "status": "ok",
     "timestamp": 1642538404218,
     "user": {
      "displayName": "Leonardo Mendonza",
      "photoUrl": "https://lh3.googleusercontent.com/a-/AOh14Gj5F1JVSmHodKCvWHgDPYmDyFo_nUl5lqEXNbsW=s64",
      "userId": "09205135724810578413"
     },
     "user_tz": 180
    },
    "id": "Fb1p3x-MePQD"
   },
   "outputs": [],
   "source": [
    "from gensim.models import LdaModel"
   ]
  },
  {
   "cell_type": "code",
   "execution_count": 16,
   "metadata": {
    "ExecuteTime": {
     "end_time": "2022-02-23T15:59:58.897803Z",
     "start_time": "2022-02-23T15:47:32.939053Z"
    },
    "_cell_guid": "5f8f0fa0-b911-4043-af2c-ec311384d7a5",
    "_uuid": "084c1198f0e528c52edc746436d797c855de8c51",
    "colab": {
     "base_uri": "https://localhost:8080/"
    },
    "executionInfo": {
     "elapsed": 428682,
     "status": "ok",
     "timestamp": 1642539723825,
     "user": {
      "displayName": "Leonardo Mendonza",
      "photoUrl": "https://lh3.googleusercontent.com/a-/AOh14Gj5F1JVSmHodKCvWHgDPYmDyFo_nUl5lqEXNbsW=s64",
      "userId": "09205135724810578413"
     },
     "user_tz": 180
    },
    "id": "0NNGy2ZmePQF",
    "outputId": "eed91373-a25b-4fd6-ca60-5b63a8373ca5"
   },
   "outputs": [
    {
     "name": "stdout",
     "output_type": "stream",
     "text": [
      "CPU times: user 12min 16s, sys: 3.58 s, total: 12min 20s\n",
      "Wall time: 12min 25s\n"
     ]
    }
   ],
   "source": [
    "# Set training parameters.\n",
    "num_topics = 6\n",
    "chunksize = 500 # size of the doc looked at every pass\n",
    "passes = 20 # number of passes through documents\n",
    "iterations = 400\n",
    "eval_every = 1  # Don't evaluate model perplexity, takes too much time.\n",
    "\n",
    "# Make a index to word dictionary.\n",
    "temp = dictionary[0]  # This is only to \"load\" the dictionary.\n",
    "id2word = dictionary.id2token\n",
    "\n",
    "%time model = LdaModel(corpus=corpus, id2word=id2word, chunksize=chunksize, \\\n",
    "                       alpha='auto', eta='auto', \\\n",
    "                       iterations=iterations, num_topics=num_topics, \\\n",
    "                       passes=passes, eval_every=eval_every)"
   ]
  },
  {
   "cell_type": "code",
   "execution_count": 17,
   "metadata": {
    "ExecuteTime": {
     "end_time": "2022-02-23T15:59:58.917066Z",
     "start_time": "2022-02-23T15:59:58.900990Z"
    },
    "colab": {
     "base_uri": "https://localhost:8080/"
    },
    "executionInfo": {
     "elapsed": 318,
     "status": "ok",
     "timestamp": 1642539062025,
     "user": {
      "displayName": "Leonardo Mendonza",
      "photoUrl": "https://lh3.googleusercontent.com/a-/AOh14Gj5F1JVSmHodKCvWHgDPYmDyFo_nUl5lqEXNbsW=s64",
      "userId": "09205135724810578413"
     },
     "user_tz": 180
    },
    "id": "Bxe73cma8e-m",
    "outputId": "ed5eeda0-e384-4821-8c1a-78b65e426173"
   },
   "outputs": [
    {
     "data": {
      "text/plain": [
       "[(0,\n",
       "  '0.007*\"clube\" + 0.005*\"jogador\" + 0.005*\"flamengo\" + 0.004*\"jogos\" + 0.004*\"partida\" + 0.004*\"copa\" + 0.004*\"pontos\" + 0.004*\"gols\" + 0.004*\"jogadores\" + 0.004*\"vitória\" + 0.004*\"temporada\" + 0.003*\"palmeiras\" + 0.003*\"corinthian\" + 0.003*\"campo\" + 0.003*\"técnico\" + 0.003*\"campeonato\" + 0.003*\"atacante\" + 0.003*\"santos\" + 0.003*\"bola\" + 0.003*\"rubro_negro\"'),\n",
       " (1,\n",
       "  '0.007*\"federal\" + 0.007*\"ministro\" + 0.005*\"governo\" + 0.005*\"bolsonaro\" + 0.004*\"tribunal\" + 0.004*\"justiça\" + 0.004*\"decisão\" + 0.004*\"supremo_tribunal\" + 0.004*\"temer\" + 0.004*\"ministério\" + 0.004*\"nesta_quarta\" + 0.003*\"ministério_público\" + 0.003*\"câmara\" + 0.003*\"presidente_michel\" + 0.003*\"supremo\" + 0.003*\"proposta\" + 0.003*\"processo\" + 0.003*\"nacional\" + 0.003*\"pedido\" + 0.003*\"defesa\"'),\n",
       " (2,\n",
       "  '0.007*\"empresa\" + 0.006*\"dado\" + 0.005*\"rede_social\" + 0.005*\"você\" + 0.005*\"segurança\" + 0.005*\"rede\" + 0.005*\"facebook\" + 0.004*\"seus\" + 0.004*\"conta\" + 0.004*\"apple\" + 0.004*\"estados_unidos\" + 0.004*\"site\" + 0.004*\"google\" + 0.004*\"informações\" + 0.004*\"pessoas\" + 0.004*\"usuários\" + 0.003*\"redes_sociais\" + 0.003*\"acesso\" + 0.003*\"possível\" + 0.003*\"celular\"'),\n",
       " (3,\n",
       "  '0.008*\"estados_unidos\" + 0.006*\"bilhões\" + 0.006*\"mercado\" + 0.005*\"governo\" + 0.005*\"estados\" + 0.005*\"banco_central\" + 0.005*\"milhões\" + 0.004*\"país\" + 0.004*\"banco\" + 0.004*\"valor\" + 0.004*\"economia\" + 0.004*\"empresas\" + 0.004*\"alta\" + 0.003*\"queda\" + 0.003*\"unidos\" + 0.003*\"china\" + 0.003*\"trimestre\" + 0.003*\"nesta_quarta\" + 0.003*\"me\" + 0.003*\"norte\"'),\n",
       " (4,\n",
       "  '0.010*\"luta\" + 0.009*\"aparelho\" + 0.008*\"peso\" + 0.006*\"venceu\" + 0.005*\"pontos\" + 0.005*\"decisão_unânime\" + 0.003*\"combate\" + 0.003*\"americano\" + 0.003*\"decisão\" + 0.003*\"nocaute_técnico\" + 0.003*\"dispositivos\" + 0.003*\"evento\" + 0.003*\"campeão\" + 0.003*\"vitória\" + 0.003*\"round\" + 0.003*\"médio\" + 0.002*\"nocaute\" + 0.002*\"principal\" + 0.002*\"pontos_rebotes\" + 0.002*\"lutar\"'),\n",
       " (5,\n",
       "  '0.005*\"gente\" + 0.005*\"sempre\" + 0.004*\"minha\" + 0.004*\"tudo\" + 0.004*\"aqui\" + 0.004*\"hoje\" + 0.004*\"você\" + 0.003*\"tinha\" + 0.003*\"vida\" + 0.003*\"eles\" + 0.003*\"todo_mundo\" + 0.003*\"tenho\" + 0.003*\"estou\" + 0.003*\"trabalho\" + 0.003*\"todo\" + 0.003*\"temos\" + 0.003*\"acho\" + 0.003*\"então\" + 0.002*\"estar\" + 0.002*\"pouco\"')]"
      ]
     },
     "execution_count": 17,
     "metadata": {},
     "output_type": "execute_result"
    }
   ],
   "source": [
    "model.show_topics(num_topics,20)"
   ]
  },
  {
   "cell_type": "markdown",
   "metadata": {
    "_cell_guid": "93191a68-99d9-4b7d-88b2-5b75e3f44b1d",
    "_uuid": "f5f7c3e213b2fdffa3c767ebd5a1eb7631e76b13",
    "id": "-nUU7q-OePQI"
   },
   "source": [
    "# Como escolher a quantidade de tópicos?\n",
    "__LDA__ é uma técnica não supervisionada, o que significa que não sabemos antes de executar o modelo quantos tópicos existem em nosso corpus. A coerência do tópico é uma das principais técnicas utilizadas para desestimar o número de tópicos."
   ]
  },
  {
   "cell_type": "code",
   "execution_count": 18,
   "metadata": {
    "ExecuteTime": {
     "end_time": "2022-02-23T20:54:47.311803Z",
     "start_time": "2022-02-23T20:54:47.083327Z"
    },
    "_cell_guid": "8b9015bc-0e3d-4ee9-9d79-92f2d9dba89f",
    "_uuid": "7e100266faefe67e6ce1131fa464c78630293984",
    "colab": {
     "base_uri": "https://localhost:8080/",
     "height": 35
    },
    "executionInfo": {
     "elapsed": 23,
     "status": "ok",
     "timestamp": 1642538837898,
     "user": {
      "displayName": "Leonardo Mendonza",
      "photoUrl": "https://lh3.googleusercontent.com/a-/AOh14Gj5F1JVSmHodKCvWHgDPYmDyFo_nUl5lqEXNbsW=s64",
      "userId": "09205135724810578413"
     },
     "user_tz": 180
    },
    "id": "4fk6tS_cePQI",
    "outputId": "fdab19fd-52e2-40a2-eb45-ae15a605afce"
   },
   "outputs": [
    {
     "data": {
      "text/plain": [
       "'3.3.1'"
      ]
     },
     "execution_count": 18,
     "metadata": {},
     "output_type": "execute_result"
    }
   ],
   "source": [
    "import pyLDAvis\n",
    "import pyLDAvis.gensim_models as gensimvis\n",
    "pyLDAvis.enable_notebook()\n",
    "pyLDAvis.__version__"
   ]
  },
  {
   "cell_type": "code",
   "execution_count": 19,
   "metadata": {
    "ExecuteTime": {
     "end_time": "2022-02-23T20:55:03.947612Z",
     "start_time": "2022-02-23T20:54:51.267358Z"
    },
    "_cell_guid": "483a506d-d21b-4219-948d-87ae641b04ab",
    "_uuid": "f195b367d556a559c4db98446e9c9148758a95f6",
    "colab": {
     "base_uri": "https://localhost:8080/",
     "height": 896
    },
    "executionInfo": {
     "elapsed": 6979,
     "status": "ok",
     "timestamp": 1642538844862,
     "user": {
      "displayName": "Leonardo Mendonza",
      "photoUrl": "https://lh3.googleusercontent.com/a-/AOh14Gj5F1JVSmHodKCvWHgDPYmDyFo_nUl5lqEXNbsW=s64",
      "userId": "09205135724810578413"
     },
     "user_tz": 180
    },
    "id": "wCAN5DPxePQK",
    "outputId": "0c25f11a-2e33-42c7-e57a-18f9805ea53a"
   },
   "outputs": [
    {
     "name": "stderr",
     "output_type": "stream",
     "text": [
      "/opt/anaconda3/lib/python3.8/site-packages/pyLDAvis/_prepare.py:246: FutureWarning: In a future version of pandas all arguments of DataFrame.drop except for the argument 'labels' will be keyword-only\n",
      "  default_term_info = default_term_info.sort_values(\n"
     ]
    },
    {
     "data": {
      "text/html": [
       "\n",
       "<link rel=\"stylesheet\" type=\"text/css\" href=\"https://cdn.jsdelivr.net/gh/bmabey/pyLDAvis@3.3.1/pyLDAvis/js/ldavis.v1.0.0.css\">\n",
       "\n",
       "\n",
       "<div id=\"ldavis_el61959643808642033094139\"></div>\n",
       "<script type=\"text/javascript\">\n",
       "\n",
       "var ldavis_el61959643808642033094139_data = {\"mdsDat\": {\"x\": [0.16692429878977677, 0.05194734888985584, -0.18300236065955564, -0.1650762968464848, -0.15830369497100463, 0.28751070479741286], \"y\": [0.09407181409409025, -0.1780803488165145, 0.13352390977484946, 0.16286496552999513, -0.2376098393341848, 0.025229498751764307], \"topics\": [1, 2, 3, 4, 5, 6], \"cluster\": [1, 1, 1, 1, 1, 1], \"Freq\": [24.531348789791405, 21.644609104027023, 17.385869180257448, 15.297555737040033, 10.9353796216817, 10.205237567202396]}, \"tinfo\": {\"Term\": [\"luta\", \"clube\", \"aparelho\", \"ministro\", \"bilh\\u00f5es\", \"estados_unidos\", \"peso\", \"governo\", \"federal\", \"gente\", \"empresa\", \"flamengo\", \"jogador\", \"mercado\", \"dado\", \"voc\\u00ea\", \"bolsonaro\", \"pontos\", \"venceu\", \"banco_central\", \"partida\", \"gols\", \"vit\\u00f3ria\", \"minha\", \"sempre\", \"rede_social\", \"tribunal\", \"justi\\u00e7a\", \"seguran\\u00e7a\", \"jogos\", \"flamengo\", \"partida\", \"gols\", \"palmeiras\", \"corinthian\", \"campeonato\", \"atacante\", \"bola\", \"rubro_negro\", \"copa_brasil\", \"campeonato_brasileiro\", \"clique_aqui\", \"rodada\", \"atl\\u00e9tico\", \"libertadores\", \"gr\\u00eamio\", \"cruzeiro\", \"clube\", \"segundo_tempo\", \"vasco\", \"primeiro_tempo\", \"milh\\u00f5es_euro\", \"botafogo\", \"eleitoral\", \"goleiro\", \"torcedores\", \"partidas\", \"forum_casa\", \"partido\", \"brasileir\\u00e3o\", \"real_madrid\", \"liga_campe\\u00f5es\", \"clubes\", \"jogador\", \"fluminense\", \"temporada\", \"campo\", \"santos\", \"jogadores\", \"jogos\", \"camisa\", \"copa\", \"minutos\", \"vit\\u00f3ria\", \"t\\u00e9cnico\", \"pontos\", \"domingo\", \"futebol\", \"neste_domingo\", \"veja\", \"quarta_feira\", \"atriz\", \"coisa\", \"coisas\", \"neymar\", \"feliz\", \"copa_am\\u00e9rica\", \"ator\", \"intelig\\u00eancia\", \"personagem\", \"ar\\u00e1bia_saudita\", \"novela\", \"muito_dif\\u00edcil\", \"tudo_isso\", \"artificial\", \"amor\", \"sobre_assunto\", \"contas_p\\u00fablicas\", \"pasta\", \"manchester_city\", \"p\\u00e1ginas\", \"muita_gente\", \"tenho_certeza\", \"alguma_coisa\", \"daniel_alves\", \"bateria\", \"teatro\", \"deus\", \"paris_saint\", \"muita_coisa\", \"jogos_ol\\u00edmpicos\", \"gente\", \"todo_mundo\", \"vida\", \"falar\", \"minha_vida\", \"tenho\", \"minha\", \"temos\", \"muito_importante\", \"sempre\", \"vamos\", \"tudo\", \"acho\", \"nosso\", \"falou\", \"muito_grande\", \"estou\", \"hoje\", \"nunca\", \"amigo\", \"aqui\", \"tinha\", \"mundial\", \"estamos\", \"nossa\", \"estar\", \"nada\", \"eles\", \"fam\\u00edlia\", \"entrevista\", \"voc\\u00ea\", \"todo\", \"dele\", \"ent\\u00e3o\", \"trabalho\", \"copa_mundo\", \"pouco\", \"onde\", \"sele\\u00e7\\u00e3o\", \"importante\", \"lado\", \"ministro\", \"bolsonaro\", \"tribunal\", \"justi\\u00e7a\", \"supremo_tribunal\", \"temer\", \"minist\\u00e9rio_p\\u00fablico\", \"c\\u00e2mara\", \"presidente_michel\", \"supremo\", \"pol\\u00edcia_federal\", \"presidente_eleito\", \"lula\", \"pris\\u00e3o\", \"deputados\", \"deputado\", \"senado\", \"crime\", \"jair_bolsonaro\", \"pal\\u00e1cio_planalto\", \"ministros\", \"seguran\\u00e7a_p\\u00fablica\", \"congresso_nacional\", \"presid\\u00eancia\", \"presidente_rep\\u00fablica\", \"c\\u00e2mara_deputados\", \"medida_provis\\u00f3ria\", \"senador\", \"relator\", \"procuradoria_geral\", \"pol\\u00edcia\", \"rep\\u00fablica\", \"federal\", \"minist\\u00e9rio\", \"cargo\", \"texto\", \"pedido\", \"proposta\", \"governo\", \"processo\", \"decis\\u00e3o\", \"nesta_quarta\", \"defesa\", \"nacional\", \"geral\", \"projeto\", \"p\\u00fablico\", \"nesta_ter\\u00e7a\", \"bilh\\u00f5es\", \"banco_central\", \"economia\", \"trimestre\", \"d\\u00f3lar\", \"juros\", \"pre\\u00e7os\", \"aumento\", \"infla\\u00e7\\u00e3o\", \"taxon\", \"guerra_comercial\", \"vendas\", \"trump\", \"sal\\u00e1rio_m\\u00ednimo\", \"\\u00edndice\", \"investidores\", \"mesmo_per\\u00edodo\", \"comercial\", \"banco_brasil\", \"com\\u00e9rcio\", \"investimentos\", \"petr\\u00f3leo\", \"segundo_dado\", \"clientes\", \"previd\\u00eancia\", \"amazon\", \"terceiro_trimestre\", \"presidente_executivo\", \"donald_trump\", \"cr\\u00e9dito\", \"reuters\", \"moeda\", \"reino_unido\", \"crescimento\", \"alta\", \"mercado\", \"valor\", \"banco\", \"china\", \"pre\\u00e7o\", \"queda\", \"empresas\", \"estados\", \"estados_unidos\", \"norte\", \"pa\\u00eds\", \"pa\\u00edses\", \"governo\", \"milh\\u00f5es\", \"central\", \"unidos\", \"setor\", \"me\", \"nesta_quarta\", \"passado\", \"nesta_sexta\", \"per\\u00edodo\", \"rede_social\", \"facebook\", \"apple\", \"google\", \"usu\\u00e1rios\", \"celular\", \"tecnologia\", \"aplicativos\", \"whatsapp\", \"aplicativo\", \"v\\u00edrus\", \"internet\", \"intelig\\u00eancia_artificial\", \"mail\", \"mensagens\", \"iphone\", \"d\\u00favidas_sobre\", \"hacker\", \"seguran\\u00e7a_hacker\", \"v\\u00edrus_envie\", \"android\", \"tela\", \"g1seguranca\", \"bitcoin\", \"vers\\u00e3o\", \"informa\\u00e7\\u00f5es_sobre\", \"para_g1seguranca\", \"globomail\", \"sistema_operacional\", \"p\\u00e1gina\", \"rede\", \"acesso\", \"twitter\", \"informa\\u00e7\\u00f5es\", \"site\", \"empresa\", \"dado\", \"seguran\\u00e7a\", \"seus\", \"servi\\u00e7o\", \"voc\\u00ea\", \"poss\\u00edvel\", \"sistema\", \"conta\", \"redes_sociais\", \"pessoas\", \"podem\", \"estados_unidos\", \"outras\", \"luta\", \"aparelho\", \"decis\\u00e3o_un\\u00e2nime\", \"dispositivos\", \"nocaute_t\\u00e9cnico\", \"round\", \"nocaute\", \"pontos_rebotes\", \"lutar\", \"golden_state\", \"peso_meio\", \"allen\", \"jorge_jesus\", \"ibovespa\", \"rebotes\", \"luta_contra\", \"cintur\\u00e3o\", \"pesado\", \"paul\", \"card\", \"segundo_round\", \"un\\u00e2nime\", \"lutador\", \"suas_pr\\u00f3prias\", \"sal\\u00e1rios_m\\u00ednimos\", \"peso_leve\", \"quando_assunto\", \"lebron_james\", \"leste_pr\\u00f3ximos\", \"warrior\", \"peso_pena\", \"peso\", \"venceu\", \"combate\", \"leste\", \"leve\", \"americano\", \"evento\", \"m\\u00e9dio\", \"pontos\", \"campe\\u00e3o\", \"decis\\u00e3o\", \"vit\\u00f3ria\", \"principal\", \"vit\\u00f3rias\", \"conseguiu\", \"s\\u00e1bado\"], \"Freq\": [3141.0, 4954.0, 2720.0, 3455.0, 2948.0, 6137.0, 2562.0, 4890.0, 4005.0, 3509.0, 3242.0, 3682.0, 3853.0, 3059.0, 2816.0, 3965.0, 2458.0, 4993.0, 2165.0, 2161.0, 2887.0, 2788.0, 3504.0, 2947.0, 3209.0, 1695.0, 2135.0, 2121.0, 2219.0, 3457.0, 3682.0798940174986, 2887.3030896869686, 2787.8077858326965, 2463.9155920488784, 2450.332280341272, 2344.4932600243715, 2242.4457175502102, 2157.956852838437, 2097.1847867281986, 1980.0264822725794, 1742.528453625965, 1599.9543054452822, 1615.3691574041297, 1585.7984986819836, 1558.2605132786614, 1542.8705895268317, 1531.900471027508, 4953.82071806652, 1384.5710966170132, 1360.6096259561864, 1340.5285039035293, 1149.3071304685218, 1145.7385551892205, 1079.8815617001862, 1108.4136020436338, 1078.9987446153496, 1048.007690316614, 1036.9061011364422, 996.8055799546687, 976.3304727123276, 1925.9635186730402, 1011.5249178636019, 1445.0014243276191, 3726.5309849179025, 1291.303149135762, 2652.6473888638293, 2417.153861247286, 2210.1338097618127, 2709.464236374273, 3004.8283168609546, 1462.8076767487473, 2840.8727674457996, 1685.558451309391, 2655.6587504198224, 2406.479807891586, 2834.0881973494706, 1840.4966486886738, 1979.5542122683905, 1760.0321527399992, 1696.2690432698982, 1713.6404179973645, 1392.8157469454004, 1315.050537147289, 1225.59631397368, 1029.9898474044408, 970.4515954209571, 919.7847669228815, 847.0585431397761, 777.6951082956955, 754.0893754484124, 753.6174671807171, 724.9765145456242, 669.8574782297248, 674.0706059451281, 562.3977890629021, 573.6186227356287, 559.6246406537289, 546.5927036468496, 529.6324786874226, 511.6784593577102, 473.67056072499315, 507.46115113011905, 497.59122549043013, 477.9723454285971, 454.4119579567574, 437.0491986345908, 405.40193046460234, 427.9026899147655, 420.9588968329632, 414.511530157904, 421.14724585504973, 3500.57199217738, 2052.3440457911206, 2154.156917535728, 1125.6493818312035, 927.8795190358705, 1906.4301600688204, 2825.06329003962, 1671.4138167930446, 836.5492627712448, 3025.47418199408, 1451.5414730735563, 2577.837591438907, 1668.1480458665965, 1131.9127683077238, 892.747021880706, 788.012160428128, 1807.349008234227, 2270.1157386296054, 1207.2852186434873, 1272.3373025668855, 2329.4011261191304, 2200.3168525970896, 1452.936182328887, 1246.7698172975981, 1056.7044501531745, 1520.8249885765317, 1298.4898335688447, 2118.7888805317075, 1243.5905942721208, 1419.7736479710147, 2267.540543121869, 1736.7949183243109, 1413.837471313308, 1629.3296928035095, 1757.4008512097478, 1488.2831284606084, 1497.7008055385666, 1385.6615724124133, 1402.6114025847785, 1307.2821662831307, 1314.350922783306, 3454.947057662747, 2458.0542784903632, 2135.0833976948543, 2121.445824862361, 1923.4691679522764, 1914.5012839894005, 1673.7456061346697, 1614.4138147789351, 1542.5129489767844, 1495.1990417901634, 1229.7865838511862, 1129.423970439102, 1165.5793904597715, 1090.1103692883948, 1031.9674790247566, 1024.2583176226935, 987.0934509953812, 964.2195385183003, 899.5710298818092, 881.0633188505316, 864.6012437441279, 853.1912419807289, 870.1923460860885, 786.7930823630041, 784.2513146846853, 738.9045699004729, 726.7374226782193, 723.1175364981161, 714.1834741998958, 701.6737540522759, 1133.9140838155217, 1252.3600946019437, 3499.7235534498595, 1871.3623860118896, 971.2766496878178, 1101.9369402130706, 1380.4395319473256, 1415.2711272405109, 2534.9046030679765, 1394.5176939784271, 2030.6655727409554, 1830.813053771871, 1331.5203360189491, 1386.0528392104466, 1150.3670228371973, 1125.011544034807, 1142.3370699038217, 1178.0508116561805, 2948.089179022488, 2161.0639419339022, 1801.8052303775412, 1234.1564023781218, 1140.1671909477627, 1093.5299612915328, 1082.7618314771798, 1086.7520073106964, 1007.093400164047, 947.9570053988408, 827.1788569066779, 826.766594103087, 810.1214301716852, 823.9720549309664, 804.4824693058836, 781.0014834097221, 754.2541772250372, 718.0933418248338, 691.9151861609639, 655.4242317466764, 651.9035478636854, 641.4437633693738, 634.755353039834, 629.2899961258028, 643.5965375495923, 611.4486631688476, 616.9802994204912, 602.2257735581404, 609.0653753084188, 619.4766614279794, 603.7056394432415, 806.9122857936806, 774.2598366644293, 1111.6361986532745, 1652.9317231809969, 2636.3495051128893, 1941.484595627885, 1988.424846962581, 1413.0158531116829, 1012.7531764684081, 1426.7306185379625, 1765.2231884559003, 2263.157545879999, 3659.614744235879, 1166.8207478043066, 1992.0834663987878, 1078.1150376917665, 2355.418383836522, 2148.844268007629, 1037.3737410801775, 1418.7264169566722, 996.6014608746207, 1188.6416093116275, 1194.1414634230666, 1064.5738229808414, 1039.5531334682726, 1022.3347730484587, 1695.5694942656287, 1512.2599775004428, 1291.0957674579297, 1233.8031711972048, 1197.4005342622809, 976.331311446695, 953.4935811879645, 913.2222697678743, 866.7936853638384, 866.9516929624772, 805.4431251681333, 788.458373876317, 765.0949410724048, 689.6245448162697, 689.1760955045264, 601.955139940381, 709.2579783974047, 572.998573035524, 531.9393547459215, 531.9393547459215, 519.0390542119787, 501.4696519717313, 489.13976952449246, 465.8043457746743, 477.7349469779543, 552.4178930339374, 419.9775374200781, 419.38641698904377, 405.9868626770324, 408.8478962188568, 1563.5789579715934, 1052.3602143303883, 707.8020403654399, 1226.3730845947455, 1260.6672790935, 2346.9112182793583, 2057.1851060622294, 1588.4825081928723, 1394.8076625123656, 721.0000132106909, 1615.0375270438535, 1042.0856865061928, 902.9151661959827, 1341.4192087237845, 1114.170183902482, 1201.9233114944125, 855.9981739111837, 1268.1080974259246, 847.1801930114334, 3141.5309516156512, 2720.660189478859, 1388.7583049050265, 955.9472399087103, 1002.8514071875531, 807.0053099893896, 723.1024199227298, 701.0746234937637, 692.3136802904929, 667.263854953885, 674.0844802971912, 607.0999374176814, 620.2490944580724, 583.5234452878794, 644.2142965299857, 553.0075661842164, 554.9145000930084, 547.2888598334995, 512.6946338863137, 533.9658931579607, 515.5968357181507, 516.0828563264462, 518.0683135501771, 473.6566488896312, 482.08858259964296, 499.5804234501291, 469.46440594886286, 459.7399806058443, 449.69144681771775, 431.63346387612177, 445.75416492532014, 2458.9359787786675, 1758.8701188477846, 1064.695744972358, 654.3522922042868, 676.6659831087208, 1059.330801959546, 908.8495167427494, 784.3833502592337, 1483.5548044174227, 868.4616836437582, 1013.3191936816299, 848.1977673413251, 712.0381971775961, 620.0458075043359, 607.7112188725578, 628.9029959285406], \"Total\": [3141.0, 4954.0, 2720.0, 3455.0, 2948.0, 6137.0, 2562.0, 4890.0, 4005.0, 3509.0, 3242.0, 3682.0, 3853.0, 3059.0, 2816.0, 3965.0, 2458.0, 4993.0, 2165.0, 2161.0, 2887.0, 2788.0, 3504.0, 2947.0, 3209.0, 1695.0, 2135.0, 2121.0, 2219.0, 3457.0, 3682.321877951382, 2887.539732367729, 2788.0424519890375, 2464.1479125250225, 2450.5648886011754, 2344.72954822135, 2242.680773314399, 2158.1908316119284, 2097.4168414786814, 1980.257156152964, 1742.7590429123102, 1600.180572435509, 1615.5994578699042, 1586.0284749137352, 1558.4886501550102, 1543.0987581805775, 1532.1284302560032, 4954.58430460969, 1384.8005196973186, 1360.8378997974066, 1340.7583502616626, 1149.5319011197312, 1145.9654700214683, 1080.1020758518077, 1108.641144618608, 1079.227759820748, 1048.2341067000934, 1037.1323375475865, 997.0278997327854, 976.5541418218934, 1926.5228233070284, 1011.8104430336591, 1451.893509414185, 3853.5679836573076, 1300.4688823323368, 2800.0683904779235, 2564.379814602184, 2356.289317412698, 2985.0888470949853, 3457.3715794042732, 1512.0209057652723, 3405.205809547089, 1828.3098127227263, 3504.2852799845978, 3276.9794435682534, 4993.64073536611, 2402.7542589251084, 3089.995857371551, 2238.6824383752923, 2740.6985763100497, 3100.4542251780877, 1393.042453584804, 1315.2865645528427, 1225.8311135173547, 1030.2225964087793, 970.6837787175488, 920.0177744394558, 847.2822758188228, 777.916331522626, 754.3109077240748, 753.8429402790777, 725.198656969167, 670.0858282388401, 674.3010235532182, 562.6137944432465, 573.8428274230752, 559.8484510256689, 546.818760601378, 529.8548306498425, 511.9058709185004, 473.88824239357183, 507.6949674925121, 497.8254172378962, 478.1988255987385, 454.63788320533826, 437.26932275251187, 405.6166966602969, 428.1296988466895, 421.1836912447254, 414.73624127169217, 421.3761033657006, 3509.5028393801504, 2076.5837737782836, 2186.3579369553263, 1141.599598077238, 941.1369456528174, 1963.6503592141407, 2947.598344498105, 1729.8588258166296, 851.0748208413186, 3209.9283662397797, 1533.570818151604, 2814.157538842075, 1818.8296352338473, 1206.9884983950988, 937.1275750547402, 818.0198992337458, 2077.701162812839, 2709.5406190413087, 1327.1612343230463, 1413.6991946685775, 2911.9723191885196, 2747.4085159811543, 1718.5817774195446, 1417.2054496489775, 1159.206240689043, 1879.4416281845351, 1525.0912804657712, 2966.268305089536, 1492.0680451419348, 1847.0486126147714, 3965.7494864559267, 2632.108017280691, 1883.515137445778, 2685.935522343021, 3252.0134926781893, 2342.5684738317455, 2393.7622400945, 2232.9708066194235, 2468.1102244249855, 1841.1380981891732, 2334.9676928035715, 3455.2037372572827, 2458.3049699625244, 2135.3333831107498, 2121.6972310790015, 1923.7175287454718, 1914.7499697634746, 1673.9951195569013, 1614.6631944838173, 1542.757586847726, 1495.4452494254817, 1230.0301815327828, 1129.6591724889024, 1165.8221410847523, 1090.3515326946356, 1032.2113701870117, 1024.5023387972954, 987.3378314871605, 964.4616462256652, 899.8088360613795, 881.3075140976722, 864.8424929382415, 853.4295178308989, 870.4461412260139, 787.034555762154, 784.4932955949185, 739.1457517780184, 726.977850738378, 723.3577004222911, 714.4234367473474, 701.9112585025955, 1137.7941644819514, 1267.1787443729886, 4005.08233762227, 2185.212452255232, 1033.0210669820958, 1219.410464305944, 1658.1112252682105, 1843.5255598112856, 4890.986355667773, 2016.9565091934332, 4022.84057847233, 4650.105909197021, 2279.6046934469077, 2625.8962077433393, 1639.360124228987, 1552.42808488387, 1891.782874129503, 3049.429706144599, 2948.3478499742405, 2161.3189484456057, 1802.0607239931905, 1234.4042006218838, 1140.4128690262644, 1093.7786999674452, 1083.0092500549094, 1087.0012170474063, 1007.3419892194033, 948.2045704872031, 827.4198053071852, 827.0090116032036, 810.3629768040721, 824.2183440706276, 804.7281885143869, 781.243709150418, 754.4990860305328, 718.3357570362257, 692.1620147165764, 655.6669195486228, 652.1478741082053, 641.6861146275278, 634.997196889448, 629.5298638459665, 643.8428206024907, 611.6847725770516, 617.2201950645348, 602.4615106487909, 609.3045061091349, 619.7210006020312, 603.944107219495, 813.4514751193201, 782.7447283243129, 1156.7918089696182, 1792.6643760307418, 3059.7957187424695, 2376.548494198291, 2458.294463779896, 1668.754678735265, 1119.7470614299227, 1714.1684161414357, 2296.973872738612, 3169.433127460108, 6137.967939939373, 1477.1639564569716, 3428.4775540511564, 1314.7282532827508, 4890.986355667773, 4454.157600381476, 1262.3950561508786, 2320.3447820145043, 1333.4487545301051, 2381.9539627182025, 4650.105909197021, 2642.429546365362, 2957.0829878978943, 2092.3290287531336, 1695.8316517545634, 1512.517731017124, 1291.3510641022706, 1234.0592938347488, 1197.656171998904, 976.585844656771, 953.7481894974633, 913.4752616279548, 867.0464781937989, 867.2062206548192, 805.6951045158592, 788.7131874798799, 765.3433977110177, 689.8767852917053, 689.4293106882199, 602.2012839963895, 709.5565751427017, 573.247857145857, 532.186447069981, 532.186447069981, 519.2875347410219, 501.71809920116857, 489.3856422181265, 466.0462013612969, 477.98486601854563, 552.7255923562283, 420.22218931441705, 419.63103846302755, 406.2313451362646, 409.0953587458682, 1674.381538088715, 1110.1795051618312, 754.974775117935, 1411.0631282088386, 1465.148687714331, 3242.2900842636373, 2816.505166251364, 2219.0930140156297, 2750.1166922550688, 910.3896179078824, 3965.7494864559267, 1803.6848447187829, 1433.293740961111, 3216.381361410124, 2310.580196313324, 3108.3809886405465, 1350.8045773754632, 6137.967939939373, 1792.127055446413, 3141.7440327867025, 2720.856702014576, 1388.962656409435, 956.1364810526525, 1003.052161380072, 807.2053165062424, 723.3009857592792, 701.2693929099192, 692.5137717187306, 667.4587855488268, 674.2857329820088, 607.2834846269644, 620.4418979713348, 583.7114332764008, 644.4234647971391, 553.2057694213953, 555.1141471789218, 547.4868278523625, 512.8846199695398, 534.1650639127201, 515.7927388283275, 516.2789742602922, 518.2674848054306, 473.8425034273285, 482.27936683589144, 499.78017842404154, 469.65282033427553, 459.9306897274583, 449.8815439295497, 431.8246831123155, 445.951781550738, 2562.3437323070766, 2165.517390130379, 1253.7984172586598, 718.618619879498, 806.652016872483, 1746.400854159833, 1371.4871007814552, 1154.9028396980946, 4993.64073536611, 1842.1763445218464, 4022.84057847233, 3504.2852799845978, 1787.9562955135607, 1135.4062221387962, 1492.7430814202971, 2347.02349498728], \"Category\": [\"Default\", \"Default\", \"Default\", \"Default\", \"Default\", \"Default\", \"Default\", \"Default\", \"Default\", \"Default\", \"Default\", \"Default\", \"Default\", \"Default\", \"Default\", \"Default\", \"Default\", \"Default\", \"Default\", \"Default\", \"Default\", \"Default\", \"Default\", \"Default\", \"Default\", \"Default\", \"Default\", \"Default\", \"Default\", \"Default\", \"Topic1\", \"Topic1\", \"Topic1\", \"Topic1\", \"Topic1\", \"Topic1\", \"Topic1\", \"Topic1\", \"Topic1\", \"Topic1\", \"Topic1\", \"Topic1\", \"Topic1\", \"Topic1\", \"Topic1\", \"Topic1\", \"Topic1\", \"Topic1\", \"Topic1\", \"Topic1\", \"Topic1\", \"Topic1\", \"Topic1\", \"Topic1\", \"Topic1\", \"Topic1\", \"Topic1\", \"Topic1\", \"Topic1\", \"Topic1\", \"Topic1\", \"Topic1\", \"Topic1\", \"Topic1\", \"Topic1\", \"Topic1\", \"Topic1\", \"Topic1\", \"Topic1\", \"Topic1\", \"Topic1\", \"Topic1\", \"Topic1\", \"Topic1\", \"Topic1\", \"Topic1\", \"Topic1\", \"Topic1\", \"Topic1\", \"Topic1\", \"Topic1\", \"Topic2\", \"Topic2\", \"Topic2\", \"Topic2\", \"Topic2\", \"Topic2\", \"Topic2\", \"Topic2\", \"Topic2\", \"Topic2\", \"Topic2\", \"Topic2\", \"Topic2\", \"Topic2\", \"Topic2\", \"Topic2\", \"Topic2\", \"Topic2\", \"Topic2\", \"Topic2\", \"Topic2\", \"Topic2\", \"Topic2\", \"Topic2\", \"Topic2\", \"Topic2\", \"Topic2\", \"Topic2\", \"Topic2\", \"Topic2\", \"Topic2\", \"Topic2\", \"Topic2\", \"Topic2\", \"Topic2\", \"Topic2\", \"Topic2\", \"Topic2\", \"Topic2\", \"Topic2\", \"Topic2\", \"Topic2\", \"Topic2\", \"Topic2\", \"Topic2\", \"Topic2\", \"Topic2\", \"Topic2\", \"Topic2\", \"Topic2\", \"Topic2\", \"Topic2\", \"Topic2\", \"Topic2\", \"Topic2\", \"Topic2\", \"Topic2\", \"Topic2\", \"Topic2\", \"Topic2\", \"Topic2\", \"Topic2\", \"Topic2\", \"Topic2\", \"Topic2\", \"Topic2\", \"Topic2\", \"Topic2\", \"Topic2\", \"Topic2\", \"Topic2\", \"Topic3\", \"Topic3\", \"Topic3\", \"Topic3\", \"Topic3\", \"Topic3\", \"Topic3\", \"Topic3\", \"Topic3\", \"Topic3\", \"Topic3\", \"Topic3\", \"Topic3\", \"Topic3\", \"Topic3\", \"Topic3\", \"Topic3\", \"Topic3\", \"Topic3\", \"Topic3\", \"Topic3\", \"Topic3\", \"Topic3\", \"Topic3\", \"Topic3\", \"Topic3\", \"Topic3\", \"Topic3\", \"Topic3\", \"Topic3\", \"Topic3\", \"Topic3\", \"Topic3\", \"Topic3\", \"Topic3\", \"Topic3\", \"Topic3\", \"Topic3\", \"Topic3\", \"Topic3\", \"Topic3\", \"Topic3\", \"Topic3\", \"Topic3\", \"Topic3\", \"Topic3\", \"Topic3\", \"Topic3\", \"Topic4\", \"Topic4\", \"Topic4\", \"Topic4\", \"Topic4\", \"Topic4\", \"Topic4\", \"Topic4\", \"Topic4\", \"Topic4\", \"Topic4\", \"Topic4\", \"Topic4\", \"Topic4\", \"Topic4\", \"Topic4\", \"Topic4\", \"Topic4\", \"Topic4\", \"Topic4\", \"Topic4\", \"Topic4\", \"Topic4\", \"Topic4\", \"Topic4\", \"Topic4\", \"Topic4\", \"Topic4\", \"Topic4\", \"Topic4\", \"Topic4\", \"Topic4\", \"Topic4\", \"Topic4\", \"Topic4\", \"Topic4\", \"Topic4\", \"Topic4\", \"Topic4\", \"Topic4\", \"Topic4\", \"Topic4\", \"Topic4\", \"Topic4\", \"Topic4\", \"Topic4\", \"Topic4\", \"Topic4\", \"Topic4\", \"Topic4\", \"Topic4\", \"Topic4\", \"Topic4\", \"Topic4\", \"Topic4\", \"Topic4\", \"Topic4\", \"Topic5\", \"Topic5\", \"Topic5\", \"Topic5\", \"Topic5\", \"Topic5\", \"Topic5\", \"Topic5\", \"Topic5\", \"Topic5\", \"Topic5\", \"Topic5\", \"Topic5\", \"Topic5\", \"Topic5\", \"Topic5\", \"Topic5\", \"Topic5\", \"Topic5\", \"Topic5\", \"Topic5\", \"Topic5\", \"Topic5\", \"Topic5\", \"Topic5\", \"Topic5\", \"Topic5\", \"Topic5\", \"Topic5\", \"Topic5\", \"Topic5\", \"Topic5\", \"Topic5\", \"Topic5\", \"Topic5\", \"Topic5\", \"Topic5\", \"Topic5\", \"Topic5\", \"Topic5\", \"Topic5\", \"Topic5\", \"Topic5\", \"Topic5\", \"Topic5\", \"Topic5\", \"Topic5\", \"Topic5\", \"Topic5\", \"Topic6\", \"Topic6\", \"Topic6\", \"Topic6\", \"Topic6\", \"Topic6\", \"Topic6\", \"Topic6\", \"Topic6\", \"Topic6\", \"Topic6\", \"Topic6\", \"Topic6\", \"Topic6\", \"Topic6\", \"Topic6\", \"Topic6\", \"Topic6\", \"Topic6\", \"Topic6\", \"Topic6\", \"Topic6\", \"Topic6\", \"Topic6\", \"Topic6\", \"Topic6\", \"Topic6\", \"Topic6\", \"Topic6\", \"Topic6\", \"Topic6\", \"Topic6\", \"Topic6\", \"Topic6\", \"Topic6\", \"Topic6\", \"Topic6\", \"Topic6\", \"Topic6\", \"Topic6\", \"Topic6\", \"Topic6\", \"Topic6\", \"Topic6\", \"Topic6\", \"Topic6\", \"Topic6\"], \"logprob\": [30.0, 29.0, 28.0, 27.0, 26.0, 25.0, 24.0, 23.0, 22.0, 21.0, 20.0, 19.0, 18.0, 17.0, 16.0, 15.0, 14.0, 13.0, 12.0, 11.0, 10.0, 9.0, 8.0, 7.0, 6.0, 5.0, 4.0, 3.0, 2.0, 1.0, -5.2941, -5.5373, -5.5723, -5.6958, -5.7014, -5.7455, -5.79, -5.8284, -5.857, -5.9145, -6.0423, -6.1276, -6.118, -6.1365, -6.154, -6.1639, -6.1711, -4.9974, -6.2722, -6.2897, -6.3045, -6.4584, -6.4615, -6.5207, -6.4947, -6.5216, -6.5507, -6.5614, -6.6008, -6.6215, -5.9422, -6.5861, -6.2295, -5.2821, -6.3419, -5.622, -5.715, -5.8045, -5.6008, -5.4974, -6.2172, -5.5535, -6.0755, -5.6209, -5.7194, -5.5559, -5.9876, -5.9147, -6.0323, -6.0692, -6.059, -6.1411, -6.1985, -6.269, -6.4428, -6.5024, -6.556, -6.6384, -6.7238, -6.7546, -6.7553, -6.794, -6.8731, -6.8668, -7.0479, -7.0282, -7.0529, -7.0764, -7.108, -7.1425, -7.2196, -7.1507, -7.1704, -7.2106, -7.2611, -7.3001, -7.3753, -7.3213, -7.3376, -7.3531, -7.3372, -5.2195, -5.7534, -5.705, -6.354, -6.5473, -5.8272, -5.4339, -5.9587, -6.6509, -5.3653, -6.0998, -5.5254, -5.9607, -6.3485, -6.5858, -6.7106, -5.8805, -5.6526, -6.284, -6.2315, -5.6268, -5.6838, -6.0988, -6.2518, -6.4172, -6.0531, -6.2112, -5.7216, -6.2544, -6.1219, -5.6537, -5.9204, -6.1261, -5.9842, -5.9086, -6.0748, -6.0685, -6.1462, -6.1341, -6.2044, -6.1991, -5.0135, -5.3539, -5.4948, -5.5012, -5.5992, -5.6038, -5.7382, -5.7743, -5.8199, -5.851, -6.0465, -6.1316, -6.1001, -6.167, -6.2218, -6.2293, -6.2663, -6.2897, -6.3591, -6.3799, -6.3988, -6.4121, -6.3923, -6.4931, -6.4963, -6.5559, -6.5725, -6.5775, -6.5899, -6.6076, -6.1276, -6.0283, -5.0006, -5.6266, -6.2824, -6.1562, -5.9309, -5.906, -5.3231, -5.9207, -5.5449, -5.6485, -5.967, -5.9268, -6.1132, -6.1355, -6.1202, -6.0894, -5.0442, -5.3547, -5.5365, -5.9149, -5.9942, -6.0359, -6.0458, -6.0421, -6.1183, -6.1788, -6.3151, -6.3156, -6.3359, -6.319, -6.3429, -6.3725, -6.4074, -6.4565, -6.4936, -6.5478, -6.5532, -6.5694, -6.5798, -6.5885, -6.566, -6.6173, -6.6083, -6.6325, -6.6212, -6.6042, -6.63, -6.3399, -6.3812, -6.0195, -5.6228, -5.1559, -5.4619, -5.438, -5.7796, -6.1127, -5.7699, -5.5571, -5.3086, -4.828, -5.9711, -5.4362, -6.0501, -5.2686, -5.3604, -6.0886, -5.7756, -6.1287, -5.9525, -5.9479, -6.0628, -6.0865, -6.1032, -5.2616, -5.376, -5.5342, -5.5795, -5.6095, -5.8136, -5.8373, -5.8804, -5.9326, -5.9324, -6.006, -6.0273, -6.0574, -6.1613, -6.1619, -6.2972, -6.1332, -6.3465, -6.4209, -6.4209, -6.4454, -6.4799, -6.5048, -6.5536, -6.5283, -6.3831, -6.6572, -6.6586, -6.6911, -6.6841, -5.3427, -5.7386, -6.1352, -5.5856, -5.558, -4.9365, -5.0683, -5.3269, -5.4569, -6.1168, -5.3103, -5.7484, -5.8918, -5.4959, -5.6815, -5.6057, -5.9451, -5.5521, -5.9555, -4.5758, -4.7197, -5.3921, -5.7656, -5.7177, -5.935, -6.0447, -6.0757, -6.0883, -6.1251, -6.1149, -6.2196, -6.1982, -6.2592, -6.1603, -6.3129, -6.3095, -6.3233, -6.3886, -6.348, -6.383, -6.382, -6.3782, -6.4678, -6.4502, -6.4145, -6.4767, -6.4976, -6.5197, -6.5607, -6.5285, -4.8208, -5.1559, -5.6579, -6.1447, -6.1111, -5.6629, -5.8161, -5.9634, -5.3261, -5.8616, -5.7073, -5.8852, -6.0602, -6.1985, -6.2186, -6.1843], \"loglift\": [30.0, 29.0, 28.0, 27.0, 26.0, 25.0, 24.0, 23.0, 22.0, 21.0, 20.0, 19.0, 18.0, 17.0, 16.0, 15.0, 14.0, 13.0, 12.0, 11.0, 10.0, 9.0, 8.0, 7.0, 6.0, 5.0, 4.0, 3.0, 2.0, 1.0, 1.4052, 1.4051, 1.4051, 1.4051, 1.4051, 1.4051, 1.4051, 1.4051, 1.4051, 1.4051, 1.4051, 1.4051, 1.4051, 1.4051, 1.4051, 1.4051, 1.4051, 1.4051, 1.4051, 1.4051, 1.405, 1.405, 1.405, 1.405, 1.405, 1.405, 1.405, 1.405, 1.405, 1.405, 1.4049, 1.4049, 1.4005, 1.3717, 1.3981, 1.3511, 1.3461, 1.3412, 1.3083, 1.2649, 1.3721, 1.224, 1.3239, 1.1279, 1.0965, 0.8388, 1.1386, 0.9599, 1.1647, 0.9254, 0.8123, 1.5303, 1.5302, 1.5302, 1.5302, 1.5302, 1.5302, 1.5301, 1.5301, 1.5301, 1.5301, 1.5301, 1.5301, 1.5301, 1.53, 1.53, 1.53, 1.53, 1.53, 1.53, 1.53, 1.53, 1.5299, 1.5299, 1.5299, 1.5299, 1.5299, 1.5299, 1.5299, 1.5299, 1.5299, 1.5279, 1.5187, 1.5156, 1.5163, 1.5162, 1.5008, 1.488, 1.496, 1.5132, 1.4712, 1.4754, 1.4427, 1.4439, 1.4662, 1.4819, 1.493, 1.391, 1.3535, 1.4357, 1.4251, 1.3072, 1.3084, 1.3625, 1.4023, 1.4378, 1.3187, 1.3696, 1.194, 1.3483, 1.2673, 0.9714, 1.1147, 1.2436, 1.0306, 0.915, 1.0768, 1.0615, 1.0533, 0.9653, 1.188, 0.9558, 1.7494, 1.7494, 1.7494, 1.7494, 1.7494, 1.7494, 1.7494, 1.7494, 1.7494, 1.7493, 1.7493, 1.7493, 1.7493, 1.7493, 1.7493, 1.7493, 1.7493, 1.7493, 1.7492, 1.7492, 1.7492, 1.7492, 1.7492, 1.7492, 1.7492, 1.7492, 1.7492, 1.7492, 1.7492, 1.7492, 1.7461, 1.7377, 1.6146, 1.5945, 1.6879, 1.6482, 1.5662, 1.4852, 1.0923, 1.3805, 1.0659, 0.8174, 1.2118, 1.1106, 1.3953, 1.4275, 1.2451, 0.7984, 1.8774, 1.8774, 1.8773, 1.8773, 1.8773, 1.8772, 1.8772, 1.8772, 1.8772, 1.8772, 1.8772, 1.8772, 1.8772, 1.8772, 1.8772, 1.8772, 1.8772, 1.8771, 1.8771, 1.8771, 1.8771, 1.8771, 1.8771, 1.8771, 1.8771, 1.8771, 1.8771, 1.8771, 1.8771, 1.8771, 1.8771, 1.8694, 1.8666, 1.8377, 1.7963, 1.7285, 1.6753, 1.6654, 1.7111, 1.777, 1.6939, 1.6142, 1.5407, 1.3603, 1.6416, 1.3345, 1.6791, 1.1468, 1.1486, 1.6812, 1.3855, 1.5863, 1.1824, 0.518, 0.9684, 0.8321, 1.1613, 2.213, 2.213, 2.213, 2.213, 2.213, 2.2129, 2.2129, 2.2129, 2.2129, 2.2129, 2.2129, 2.2128, 2.2128, 2.2128, 2.2128, 2.2128, 2.2127, 2.2127, 2.2127, 2.2127, 2.2127, 2.2127, 2.2127, 2.2126, 2.2126, 2.2126, 2.2126, 2.2126, 2.2126, 2.2126, 2.1447, 2.1597, 2.1486, 2.0729, 2.0629, 1.89, 1.899, 1.8788, 1.5343, 1.9799, 1.3148, 1.6646, 1.7511, 1.3386, 1.4838, 1.263, 1.757, 0.6362, 1.4639, 2.2822, 2.2822, 2.2821, 2.2821, 2.2821, 2.282, 2.282, 2.282, 2.282, 2.282, 2.282, 2.282, 2.282, 2.2819, 2.2819, 2.2819, 2.2819, 2.2819, 2.2819, 2.2819, 2.2819, 2.2819, 2.2819, 2.2819, 2.2819, 2.2819, 2.2819, 2.2819, 2.2818, 2.2818, 2.2818, 2.2411, 2.0743, 2.1188, 2.1886, 2.1066, 1.7823, 1.8708, 1.8954, 1.0685, 1.5303, 0.9035, 0.8636, 1.3616, 1.6773, 1.3836, 0.9653]}, \"token.table\": {\"Topic\": [1, 3, 5, 2, 6, 2, 6, 1, 2, 4, 4, 1, 2, 3, 4, 5, 6, 2, 3, 5, 2, 5, 6, 5, 5, 5, 1, 2, 3, 4, 5, 6, 2, 2, 1, 1, 2, 2, 4, 1, 4, 5, 4, 4, 2, 4, 5, 1, 3, 1, 1, 1, 2, 1, 1, 1, 2, 6, 1, 2, 4, 6, 2, 3, 5, 1, 2, 3, 4, 6, 1, 2, 4, 5, 6, 6, 4, 1, 1, 1, 2, 2, 2, 3, 6, 4, 4, 3, 1, 2, 3, 4, 5, 6, 1, 2, 3, 4, 5, 6, 2, 1, 2, 2, 1, 1, 2, 1, 2, 4, 3, 1, 4, 3, 3, 4, 5, 2, 1, 2, 3, 4, 5, 6, 6, 1, 3, 6, 1, 2, 3, 5, 6, 3, 3, 2, 6, 1, 2, 3, 4, 5, 6, 4, 4, 5, 4, 1, 1, 2, 3, 4, 5, 6, 4, 5, 3, 4, 5, 1, 2, 3, 6, 1, 2, 3, 4, 5, 6, 1, 2, 3, 4, 5, 6, 1, 2, 3, 4, 5, 6, 2, 3, 4, 5, 6, 1, 2, 3, 4, 5, 6, 2, 6, 1, 2, 3, 4, 5, 6, 5, 2, 3, 2, 3, 6, 2, 3, 4, 5, 6, 3, 4, 2, 1, 1, 2, 1, 1, 2, 5, 2, 4, 1, 2, 3, 4, 5, 6, 5, 6, 1, 1, 5, 3, 4, 1, 4, 5, 1, 2, 3, 4, 5, 6, 6, 1, 2, 3, 4, 5, 6, 4, 3, 4, 5, 5, 2, 5, 5, 4, 4, 5, 3, 1, 2, 1, 2, 1, 2, 2, 6, 4, 3, 1, 2, 3, 4, 5, 6, 6, 1, 6, 6, 2, 4, 6, 1, 1, 3, 6, 6, 6, 6, 5, 2, 1, 2, 3, 4, 5, 6, 3, 5, 1, 4, 4, 1, 2, 3, 4, 5, 6, 1, 2, 6, 2, 6, 3, 3, 3, 4, 3, 1, 6, 1, 4, 2, 2, 2, 2, 4, 2, 5, 1, 2, 4, 6, 4, 6, 1, 2, 3, 4, 5, 6, 1, 2, 3, 4, 5, 6, 1, 2, 3, 4, 5, 6, 1, 2, 3, 4, 5, 6, 1, 2, 3, 4, 5, 6, 1, 2, 3, 4, 5, 6, 2, 6, 6, 1, 2, 3, 4, 5, 6, 2, 3, 4, 5, 6, 2, 3, 2, 2, 5, 6, 1, 2, 3, 4, 5, 6, 1, 2, 3, 4, 5, 6, 1, 3, 5, 2, 1, 1, 1, 1, 2, 3, 4, 5, 6, 2, 6, 1, 2, 3, 4, 5, 6, 2, 4, 5, 1, 2, 3, 4, 5, 6, 2, 1, 2, 3, 4, 5, 6, 6, 2, 4, 6, 6, 6, 6, 1, 2, 3, 4, 5, 6, 4, 1, 2, 3, 4, 5, 6, 3, 5, 3, 1, 2, 3, 4, 5, 6, 6, 1, 2, 3, 4, 5, 6, 1, 2, 3, 4, 5, 6, 3, 4, 3, 3, 3, 4, 2, 4, 5, 4, 1, 1, 2, 3, 4, 5, 6, 3, 1, 2, 3, 4, 5, 6, 3, 1, 2, 3, 4, 5, 6, 1, 2, 3, 4, 6, 5, 2, 1, 2, 3, 4, 5, 6, 6, 1, 2, 3, 4, 5, 6, 1, 4, 6, 1, 6, 1, 3, 5, 5, 1, 2, 5, 2, 4, 3, 2, 3, 4, 1, 6, 1, 4, 6, 1, 2, 3, 4, 6, 1, 3, 5, 5, 3, 1, 2, 2, 3, 5, 6, 3, 3, 1, 3, 4, 5, 6, 1, 3, 4, 1, 2, 3, 4, 5, 6, 1, 2, 3, 4, 5, 6, 5, 1, 5, 6, 2, 6, 3, 3, 1, 2, 3, 4, 5, 6, 4, 2, 5, 5, 3, 2, 3, 4, 1, 2, 6, 2, 6, 2, 4, 3, 5, 1, 2, 3, 4, 5, 6, 1, 2, 3, 4, 5, 6, 2, 5, 1, 1, 2, 3, 4, 5, 6, 3, 4, 4, 1, 2, 5, 6, 2, 2, 3, 5, 6, 1, 2, 6, 1, 2, 3, 4, 5, 6, 6, 5, 1, 2, 3, 4, 5, 6, 2, 3, 1, 1, 2, 3, 4, 5, 6, 1, 6, 4, 5, 2, 3, 5, 6, 1, 6, 1, 6, 2, 5, 6, 5, 5, 6, 5, 4], \"Freq\": [0.020717370382951975, 0.030625677957407265, 0.9475945062115424, 0.9170732473718161, 0.08247061577084677, 0.9995842198096376, 0.9995331922666421, 0.05355157456331008, 0.023986642773149304, 0.9220911745119954, 0.9988805139383041, 0.024049461439484672, 0.07730184034120073, 0.000572606224749635, 0.1941135101901263, 0.09677045198268833, 0.6063899920098635, 0.8997670825569106, 0.0212209217584177, 0.0785174105061455, 1.0002738948182566, 0.9994462899226624, 1.000052666494828, 0.9997622011352001, 0.9994797214025175, 0.999728142011859, 0.15110033742443504, 0.7998015587761573, 0.00034340985778280695, 0.00034340985778280695, 0.03708826464054315, 0.010989115449049822, 0.9989090305831304, 1.0002083454159088, 0.9996964466265107, 0.9999820464044715, 0.9996668455993016, 0.9999695245577802, 0.9999988803624253, 0.16271443714068182, 0.8086907525891887, 0.028068240406767614, 0.9997659294888599, 0.999852428793152, 0.9993840803859357, 0.9998820186789549, 0.9999008652765285, 0.9999115779711724, 0.9998759429906986, 1.000030131779216, 0.9994325539177382, 0.9675792142963383, 0.03240695933049937, 0.999688856131871, 1.0001382618490318, 0.4033272939420207, 0.12485232517720696, 0.4711818184948506, 0.9425280866106617, 0.05147443418808744, 0.005849367521373573, 0.999690987067722, 0.05905010260653014, 0.9399614693596846, 0.9994001094118081, 0.15050756027144296, 0.01267432086496362, 0.00633716043248181, 0.8214544210604545, 0.008713595594662487, 0.06411967041260636, 0.06232192264402861, 0.8467391990001194, 0.02576771801628106, 0.0005992492561925827, 0.9997943716990426, 0.9991583181729785, 0.9998871549632463, 0.9998820678842529, 0.9952520557675291, 0.004132534487616038, 0.9997821276666502, 1.0001377730429446, 0.1507419353848244, 0.84941884224782, 0.999532590389749, 0.9989828378880515, 0.9994874568283048, 0.4729547962990816, 0.05962178026999754, 0.01674769108707796, 0.009378707008763658, 0.03483519746112216, 0.407303847237736, 0.10539794940590497, 0.3155720314070606, 0.0037309008639258394, 0.135866973127966, 0.4169281715437126, 0.022696313588882192, 1.0003314432709343, 0.834310804954802, 0.16562875536589522, 0.9999806803303701, 0.999870140020873, 0.3645571130747397, 0.6352002157555183, 0.9997694863727938, 0.038900690384454366, 0.9612792823891835, 0.9995213430959419, 0.9999161752673816, 0.9988365722618231, 0.9995892676032482, 0.9998028105043318, 0.2694829070774237, 0.7303377336735976, 0.9985969422503005, 0.18096665423327746, 0.02510663746917723, 0.5048671356425639, 0.03579560193625268, 0.0017400639830122831, 0.25181211639877754, 1.0000268859572232, 0.3447966229669048, 0.5843118343408615, 0.07106495282523992, 0.008494755195701528, 0.7507239904201225, 0.19697213610032918, 0.0005309221997313455, 0.04300469817823899, 0.9995096753045142, 0.9997952258683477, 0.9996970571136763, 0.9998572577708758, 0.7657878425000229, 0.1098739078369598, 0.06326073481521928, 0.02039326319701148, 0.0029133233138587825, 0.0374570140353272, 0.9995002398536663, 0.9996379653040772, 0.9992156014584322, 0.9999663030260956, 0.9999054942545803, 0.0020227435224605857, 0.7143655873489969, 0.06304217311668826, 0.008765221930662538, 0.20160010440523837, 0.010450841532713027, 0.27603945875905955, 0.7238710722988969, 0.04963051663451499, 0.7684022970168329, 0.18110785017507225, 0.002165617067510425, 0.7687940589662008, 0.17758059953585484, 0.050892001086494984, 0.027550921972783474, 0.6064925931576254, 0.16567784159308982, 0.01787086830667036, 0.07297271225223731, 0.10945906837835596, 0.0012620553389638745, 0.1015954547865919, 0.054268379575446606, 0.714007808018812, 0.11390049434148969, 0.015144664067566496, 0.0009775222123527846, 0.17285851121771742, 0.0003258407374509282, 0.5962885495351987, 0.2065830275438885, 0.022971771990290442, 0.8799006525898309, 0.06138841762254634, 0.05574350565725472, 0.0021168419869843566, 0.0007056139956614522, 0.0021282916904760904, 0.8092829153035334, 0.0015962187678570678, 0.003724510458333158, 0.13035786604166053, 0.05320729226190226, 0.8697112136923688, 0.12995131582564448, 0.0007291355488726166, 0.0962458924511854, 0.06635133494740811, 0.0007291355488726166, 0.17353426063168276, 0.6627842139252085, 0.9996577025138238, 0.9863353157240841, 0.01401542189305981, 0.9529118806986737, 0.03734817001618542, 0.009603815147019109, 0.8337421366608404, 0.07908486505303791, 0.004691475045519198, 0.08176570793619174, 0.0006702107207884569, 0.8738896494392356, 0.12608979227623257, 0.9992955700584054, 0.9999125883173579, 0.9927188705081857, 0.006920580816865741, 0.9998724005193981, 0.6407775580916962, 0.359223782566557, 0.9992119870612088, 0.9975771954691872, 0.0022795251538856036, 0.036599645869890125, 0.04513956323953115, 0.7014932125062273, 0.09820904975087183, 0.1158988785879854, 0.00304997048915751, 0.9984962064166205, 0.9993126383849311, 0.9994216842648136, 0.999984773549984, 0.9999519521995053, 0.5183003622699522, 0.48149796968273667, 0.9999360000906915, 0.9994926332382998, 0.9995676265636805, 0.0007381325033273136, 0.8377803912765008, 0.07787297910103158, 0.0324778301464018, 0.04908581147126635, 0.0018453312583182838, 1.0004943653784188, 0.1346992929231746, 0.709886999397537, 0.02607083088835637, 0.061375081049672285, 0.06300450798019457, 0.004888280791566819, 0.9996605033612583, 0.10205071418937103, 0.02834742060815862, 0.8688484416400617, 0.9986872466803371, 1.000107554596791, 0.9995513155113839, 0.9990957581397127, 0.999688049775552, 0.9997732506474739, 0.9996657529604491, 1.0002124495014488, 0.9671556375301869, 0.032956470610768375, 0.9075106768216737, 0.09212456113915109, 0.8691573731620077, 0.13073515230257154, 0.9991074402114963, 0.9992877689711483, 1.0002023261493038, 0.9996713805019923, 0.3246297592622694, 0.5627486855812955, 0.00299790015149853, 0.04796640242397648, 0.01498950075749265, 0.04668158807333425, 1.0001506972117533, 0.0890597574701472, 0.9100793966480667, 1.000263305023397, 0.07810059193090588, 0.08181966773713949, 0.8392714402733854, 0.9996864589581954, 1.0001873443466076, 1.000152560934451, 1.0000814729687162, 0.9996280418014972, 0.999483886577351, 0.999258106134907, 1.0001786039346758, 1.00018387966782, 0.048699513851067404, 0.3341794226331867, 0.07262944738133328, 0.49917001697344093, 0.028128167482944104, 0.017632582601248545, 1.0000304675879732, 0.9993772955666893, 0.13824452312582708, 0.8614954207084637, 0.999338520032995, 0.3154356280253013, 0.0004490186875805001, 0.03996266319466451, 0.4824705798052473, 0.1614222181851898, 0.0004490186875805001, 0.9995372889441232, 0.9584073777463802, 0.04138962834869323, 0.9860414090494503, 0.013813080083666869, 0.9999410346616943, 1.0001821222512128, 0.8562096550699445, 0.14323550082142847, 1.000002915446432, 0.922163184963276, 0.07766736196013357, 0.007375977773130103, 0.9920690104859988, 1.000635967398217, 0.998631131807462, 0.9998719145589667, 0.963301749429487, 0.036673924470665746, 0.9834622990873998, 0.016449787559406924, 0.08844502018881431, 0.8454645679891263, 0.06517001487596844, 0.0005818751328211468, 0.3203732706179183, 0.6788449842282378, 0.15613716901337416, 0.01523289453789016, 0.5278197957378941, 0.2997072000329889, 0.000380822363447254, 0.000380822363447254, 0.04721028893300787, 0.8510965977089474, 0.03671911361456168, 0.0006556984574028871, 0.011146873775849081, 0.053111575049633854, 0.27891837848999995, 0.027311205912282185, 0.3937544726408557, 0.25676834534854276, 0.007526710290786429, 0.03569811166487277, 0.2654643116925285, 0.0882626564990445, 0.23401439960666204, 0.35169794160538803, 0.003381710976974885, 0.057150915510875554, 0.26890273887858457, 0.09542767928496111, 0.3863017395109422, 0.13182792808437926, 0.10460972402715668, 0.012789276605200973, 0.7861767126191008, 0.10497245878720948, 0.08933826279762509, 0.008040443651786258, 0.0008933826279762509, 0.01072059153571501, 0.999783933676513, 0.9995838720460705, 0.9999479973404372, 0.029109835649616698, 0.05348086084464463, 0.023017079350859716, 0.7900274000721556, 0.09613015493594351, 0.008800647987093421, 0.9118308398440896, 0.037957007524257284, 0.012939888928724073, 0.03709434826234234, 0.0008626592619149382, 0.9378714059870421, 0.06213812318818742, 0.9997260654480563, 0.9094599576785124, 0.0452092771008374, 0.0452092771008374, 0.09852345554533518, 0.6206977699356117, 0.09180594721269869, 0.02552653166401866, 0.1383806716523117, 0.025078697775176226, 0.06528554972953951, 0.21427052218925788, 0.1021132957308182, 0.12052716873145755, 0.4726227403497433, 0.025109826819053657, 0.9999399741694601, 0.999651070605035, 0.9994712575393043, 0.9995638690468224, 0.9998130822714996, 0.9997766656335669, 0.9999720170992278, 0.13169698336088878, 0.25733893300403554, 0.15061896372883257, 0.40303818183720275, 0.015894463509072785, 0.04162835680947634, 1.0002739794784534, 1.000224962937019, 0.0008750239582158388, 0.26804900586678526, 0.14846239824395396, 0.5810159082553169, 0.0008750239582158388, 0.0008750239582158388, 0.07986441284563943, 0.8199413052152315, 0.09964036269313109, 0.057294105818886255, 0.0018092875521753555, 0.8322722740006635, 0.0006030958507251185, 0.10252629462327013, 0.004824766805800948, 0.9995878254962361, 0.18448341283589903, 0.09415345162868421, 0.06165378304619424, 0.4884509013427171, 0.018639515804663373, 0.1529396168587764, 0.9991107953148898, 0.00546374782722641, 0.03473382547308218, 0.9596682790821245, 1.0004398365230323, 0.999576243470635, 1.0001081248046466, 0.0006434217707896553, 0.3451957800286501, 0.1335100174388535, 0.13286659566806383, 0.38669648424458286, 0.000965132656184483, 0.9989307628575911, 0.04515827161210806, 0.0333134790581125, 0.14361810971719613, 0.13177331716320057, 0.6336964016387623, 0.012585092088620279, 0.9966653331504131, 0.002636680775530193, 0.9999754627705597, 0.5675218042677683, 0.00020025469451932546, 0.008610951864330994, 0.12636071224169435, 0.00020025469451932546, 0.29717796666667895, 0.9996158496112294, 0.09536033997492337, 0.167989436118615, 0.11753716322490555, 0.03714617894372015, 0.5777062456620358, 0.003326523487497327, 0.21054722626926525, 0.6257931447447607, 0.0008355048661478781, 0.06433387469338661, 0.0008355048661478781, 0.09775406933930172, 0.9994164855162021, 0.9992339582850798, 1.0001571297748528, 0.9993711920832358, 0.9999560937167231, 1.0002441269708686, 0.05536964742807691, 0.904668594268418, 0.03929458849734491, 0.9999914589326832, 1.000180233625463, 0.2623106622778425, 0.07047152120897261, 0.0391508451160959, 0.1923984388562427, 0.0380322495413503, 0.39822002460943257, 0.9996775969179712, 0.0004957965109519853, 0.037184738321398896, 0.6916361327780195, 0.014873895328559558, 0.2558309996512244, 0.0004957965109519853, 1.0001264283715776, 0.0006441522217596349, 0.18293923097973633, 0.7246712494795893, 0.03349591553150102, 0.057973699958367146, 0.0006441522217596349, 0.17032581855395754, 0.008136583688883321, 0.7675510613179933, 0.05370145234662992, 0.0005424389125922214, 0.9997669033788099, 1.0002358311442032, 0.01638665854519089, 0.21408376486459066, 0.6036633567292902, 0.06501803229220901, 0.04070234541869995, 0.059732013406663564, 0.9986099937953936, 0.5528222239441543, 0.0029028004757861076, 0.19029469785708927, 0.21319456827717967, 0.025157604123479598, 0.01580413592372436, 0.0746717760021071, 0.8324736277734909, 0.09275634675261742, 0.9997286181608112, 0.9993428780603568, 0.06330695698006658, 0.0023889417728327014, 0.9340762331775863, 1.0000992717910782, 0.0008655834595964796, 0.5167533253790983, 0.4821299869952391, 0.01022044570919854, 0.9888281223649588, 0.9994073028325117, 0.01104816511653794, 0.9880216232789644, 1.0000925462800894, 0.9996289563808751, 0.9997456452502926, 0.9998012595920668, 0.9997350895279166, 0.9994207364961012, 0.9379153840185764, 0.02801014269014753, 0.033527292007903865, 1.0000044143668125, 1.0004018303401154, 1.0001440498467786, 0.28389977167291586, 0.7156076784390324, 0.9996496583650194, 0.9994967155202334, 0.4315042292116922, 0.5684511113464827, 0.9423886314147218, 0.000934600295617906, 0.028349542300409813, 0.02803800886853718, 0.9996578359742868, 0.9995054999454871, 0.021968616081058708, 0.007689015628370548, 0.17794579025657553, 0.7919686097221664, 0.0010984308040529354, 0.15598649688888663, 0.09599169039316101, 0.7476852759529806, 0.1341761246128882, 0.21271824633750566, 0.0203627722989749, 0.03854381899448821, 0.5072512028048213, 0.08726902413846387, 0.006279243216373044, 0.000697693690708116, 0.17930727851198583, 0.1827957469655264, 0.6300174027094287, 0.000697693690708116, 0.9994305088983544, 0.07166508142173793, 0.8606635016458241, 0.06756993391192433, 1.0002706964251729, 1.000332381691242, 0.9997022629710764, 0.9996270093011318, 0.5202333945986414, 0.11461325401067528, 0.09501396150327356, 0.0012782147287435904, 0.000852143152495727, 0.2679990214599061, 0.9997842549028233, 0.9984796073106098, 0.9992155272159862, 0.998568719760535, 1.0001305811413885, 0.9659747807519243, 0.008671227834397884, 0.0248575197919406, 0.9474768577160283, 0.009285487486097527, 0.04321323022376156, 0.9706412300216152, 0.029027570887320074, 1.0003506907362674, 0.9996432471485938, 0.9037153872771044, 0.09594800391236046, 0.05787271862743642, 0.8007545973607555, 0.0313022251695568, 0.014195195135031575, 0.05132109010357569, 0.044041502854841555, 0.07484495267923182, 0.6599273238772877, 0.05508892456085591, 0.09308128632696343, 0.0752248762968929, 0.04217152156037935, 0.9881614341358577, 0.011557443674103598, 0.9997889603759027, 0.04674027347740821, 0.5402806611829356, 0.1491383726088354, 0.24969146094510172, 0.012300071967739001, 0.0018450107951608504, 0.9998438730395044, 0.9996725540777647, 0.9995520812099491, 0.024518883199549313, 0.9160823317164947, 0.0003553461333268016, 0.05898745813224907, 0.9995535769000735, 0.015894570779699857, 0.010596380519799905, 0.9377796760022915, 0.03576278425432468, 0.7342127228543561, 0.1074159927035467, 0.15807239835351472, 0.0008619408699527905, 0.17195720355558172, 0.00043097043497639526, 0.6115470472315049, 0.19307475486942507, 0.02284143305374895, 0.9994596443508242, 0.9994521198869548, 0.07026997362253956, 0.00504933942197889, 0.07405697818902372, 0.8167306515050855, 0.026088253680224265, 0.007574009132968336, 0.9468098784965663, 0.05346997936413116, 1.000119117936543, 0.6188203309403751, 0.08683917379941586, 0.05947388793825539, 0.17112425425179006, 0.030649120164499714, 0.03283834303339255, 0.1874840635546944, 0.8122770142677525, 0.9999891033796765, 1.0000316620515215, 0.9852000734150661, 0.01006239629300439, 0.0004573816496820177, 0.0036590531974561415, 0.7579291603826483, 0.2419894307245805, 0.45358215408568064, 0.5460600689963534, 0.5718969409807185, 0.4072370192609614, 0.020677049894364603, 0.9991372610905004, 0.9996496583650194, 1.0004059908906109, 0.9999463948070054, 0.9990951124556339], \"Term\": [\"acesso\", \"acesso\", \"acesso\", \"acho\", \"acho\", \"alguma_coisa\", \"allen\", \"alta\", \"alta\", \"alta\", \"amazon\", \"americano\", \"americano\", \"americano\", \"americano\", \"americano\", \"americano\", \"amigo\", \"amigo\", \"amigo\", \"amor\", \"android\", \"aparelho\", \"aplicativo\", \"aplicativos\", \"apple\", \"aqui\", \"aqui\", \"aqui\", \"aqui\", \"aqui\", \"aqui\", \"artificial\", \"ar\\u00e1bia_saudita\", \"atacante\", \"atl\\u00e9tico\", \"ator\", \"atriz\", \"aumento\", \"banco\", \"banco\", \"banco\", \"banco_brasil\", \"banco_central\", \"bateria\", \"bilh\\u00f5es\", \"bitcoin\", \"bola\", \"bolsonaro\", \"botafogo\", \"brasileir\\u00e3o\", \"camisa\", \"camisa\", \"campeonato\", \"campeonato_brasileiro\", \"campe\\u00e3o\", \"campe\\u00e3o\", \"campe\\u00e3o\", \"campo\", \"campo\", \"campo\", \"card\", \"cargo\", \"cargo\", \"celular\", \"central\", \"central\", \"central\", \"central\", \"central\", \"china\", \"china\", \"china\", \"china\", \"china\", \"cintur\\u00e3o\", \"clientes\", \"clique_aqui\", \"clube\", \"clubes\", \"clubes\", \"coisa\", \"coisas\", \"combate\", \"combate\", \"comercial\", \"com\\u00e9rcio\", \"congresso_nacional\", \"conseguiu\", \"conseguiu\", \"conseguiu\", \"conseguiu\", \"conseguiu\", \"conseguiu\", \"conta\", \"conta\", \"conta\", \"conta\", \"conta\", \"conta\", \"contas_p\\u00fablicas\", \"copa\", \"copa\", \"copa_am\\u00e9rica\", \"copa_brasil\", \"copa_mundo\", \"copa_mundo\", \"corinthian\", \"crescimento\", \"crescimento\", \"crime\", \"cruzeiro\", \"cr\\u00e9dito\", \"c\\u00e2mara\", \"c\\u00e2mara_deputados\", \"dado\", \"dado\", \"daniel_alves\", \"decis\\u00e3o\", \"decis\\u00e3o\", \"decis\\u00e3o\", \"decis\\u00e3o\", \"decis\\u00e3o\", \"decis\\u00e3o\", \"decis\\u00e3o_un\\u00e2nime\", \"defesa\", \"defesa\", \"defesa\", \"dele\", \"dele\", \"dele\", \"dele\", \"dele\", \"deputado\", \"deputados\", \"deus\", \"dispositivos\", \"domingo\", \"domingo\", \"domingo\", \"domingo\", \"domingo\", \"domingo\", \"donald_trump\", \"d\\u00f3lar\", \"d\\u00favidas_sobre\", \"economia\", \"eleitoral\", \"eles\", \"eles\", \"eles\", \"eles\", \"eles\", \"eles\", \"empresa\", \"empresa\", \"empresas\", \"empresas\", \"empresas\", \"entrevista\", \"entrevista\", \"entrevista\", \"entrevista\", \"ent\\u00e3o\", \"ent\\u00e3o\", \"ent\\u00e3o\", \"ent\\u00e3o\", \"ent\\u00e3o\", \"ent\\u00e3o\", \"estados\", \"estados\", \"estados\", \"estados\", \"estados\", \"estados\", \"estados_unidos\", \"estados_unidos\", \"estados_unidos\", \"estados_unidos\", \"estados_unidos\", \"estados_unidos\", \"estamos\", \"estamos\", \"estamos\", \"estamos\", \"estamos\", \"estar\", \"estar\", \"estar\", \"estar\", \"estar\", \"estar\", \"estou\", \"estou\", \"evento\", \"evento\", \"evento\", \"evento\", \"evento\", \"evento\", \"facebook\", \"falar\", \"falar\", \"falou\", \"falou\", \"falou\", \"fam\\u00edlia\", \"fam\\u00edlia\", \"fam\\u00edlia\", \"fam\\u00edlia\", \"fam\\u00edlia\", \"federal\", \"federal\", \"feliz\", \"flamengo\", \"fluminense\", \"fluminense\", \"forum_casa\", \"futebol\", \"futebol\", \"g1seguranca\", \"gente\", \"gente\", \"geral\", \"geral\", \"geral\", \"geral\", \"geral\", \"geral\", \"globomail\", \"golden_state\", \"goleiro\", \"gols\", \"google\", \"governo\", \"governo\", \"gr\\u00eamio\", \"guerra_comercial\", \"hacker\", \"hoje\", \"hoje\", \"hoje\", \"hoje\", \"hoje\", \"hoje\", \"ibovespa\", \"importante\", \"importante\", \"importante\", \"importante\", \"importante\", \"importante\", \"infla\\u00e7\\u00e3o\", \"informa\\u00e7\\u00f5es\", \"informa\\u00e7\\u00f5es\", \"informa\\u00e7\\u00f5es\", \"informa\\u00e7\\u00f5es_sobre\", \"intelig\\u00eancia\", \"intelig\\u00eancia_artificial\", \"internet\", \"investidores\", \"investimentos\", \"iphone\", \"jair_bolsonaro\", \"jogador\", \"jogador\", \"jogadores\", \"jogadores\", \"jogos\", \"jogos\", \"jogos_ol\\u00edmpicos\", \"jorge_jesus\", \"juros\", \"justi\\u00e7a\", \"lado\", \"lado\", \"lado\", \"lado\", \"lado\", \"lado\", \"lebron_james\", \"leste\", \"leste\", \"leste_pr\\u00f3ximos\", \"leve\", \"leve\", \"leve\", \"libertadores\", \"liga_campe\\u00f5es\", \"lula\", \"luta\", \"luta_contra\", \"lutador\", \"lutar\", \"mail\", \"manchester_city\", \"me\", \"me\", \"me\", \"me\", \"me\", \"me\", \"medida_provis\\u00f3ria\", \"mensagens\", \"mercado\", \"mercado\", \"mesmo_per\\u00edodo\", \"milh\\u00f5es\", \"milh\\u00f5es\", \"milh\\u00f5es\", \"milh\\u00f5es\", \"milh\\u00f5es\", \"milh\\u00f5es\", \"milh\\u00f5es_euro\", \"minha\", \"minha\", \"minha_vida\", \"minha_vida\", \"ministro\", \"ministros\", \"minist\\u00e9rio\", \"minist\\u00e9rio\", \"minist\\u00e9rio_p\\u00fablico\", \"minutos\", \"minutos\", \"moeda\", \"moeda\", \"muita_coisa\", \"muita_gente\", \"muito_dif\\u00edcil\", \"muito_grande\", \"muito_grande\", \"muito_importante\", \"muito_importante\", \"mundial\", \"mundial\", \"mundial\", \"mundial\", \"m\\u00e9dio\", \"m\\u00e9dio\", \"nacional\", \"nacional\", \"nacional\", \"nacional\", \"nacional\", \"nacional\", \"nada\", \"nada\", \"nada\", \"nada\", \"nada\", \"nada\", \"nesta_quarta\", \"nesta_quarta\", \"nesta_quarta\", \"nesta_quarta\", \"nesta_quarta\", \"nesta_quarta\", \"nesta_sexta\", \"nesta_sexta\", \"nesta_sexta\", \"nesta_sexta\", \"nesta_sexta\", \"nesta_sexta\", \"nesta_ter\\u00e7a\", \"nesta_ter\\u00e7a\", \"nesta_ter\\u00e7a\", \"nesta_ter\\u00e7a\", \"nesta_ter\\u00e7a\", \"nesta_ter\\u00e7a\", \"neste_domingo\", \"neste_domingo\", \"neste_domingo\", \"neste_domingo\", \"neste_domingo\", \"neste_domingo\", \"neymar\", \"nocaute\", \"nocaute_t\\u00e9cnico\", \"norte\", \"norte\", \"norte\", \"norte\", \"norte\", \"norte\", \"nossa\", \"nossa\", \"nossa\", \"nossa\", \"nossa\", \"nosso\", \"nosso\", \"novela\", \"nunca\", \"nunca\", \"nunca\", \"onde\", \"onde\", \"onde\", \"onde\", \"onde\", \"onde\", \"outras\", \"outras\", \"outras\", \"outras\", \"outras\", \"outras\", \"palmeiras\", \"pal\\u00e1cio_planalto\", \"para_g1seguranca\", \"paris_saint\", \"partida\", \"partidas\", \"partido\", \"passado\", \"passado\", \"passado\", \"passado\", \"passado\", \"passado\", \"pasta\", \"paul\", \"pa\\u00eds\", \"pa\\u00eds\", \"pa\\u00eds\", \"pa\\u00eds\", \"pa\\u00eds\", \"pa\\u00eds\", \"pa\\u00edses\", \"pa\\u00edses\", \"pa\\u00edses\", \"pedido\", \"pedido\", \"pedido\", \"pedido\", \"pedido\", \"pedido\", \"personagem\", \"per\\u00edodo\", \"per\\u00edodo\", \"per\\u00edodo\", \"per\\u00edodo\", \"per\\u00edodo\", \"per\\u00edodo\", \"pesado\", \"peso\", \"peso\", \"peso\", \"peso_leve\", \"peso_meio\", \"peso_pena\", \"pessoas\", \"pessoas\", \"pessoas\", \"pessoas\", \"pessoas\", \"pessoas\", \"petr\\u00f3leo\", \"podem\", \"podem\", \"podem\", \"podem\", \"podem\", \"podem\", \"pol\\u00edcia\", \"pol\\u00edcia\", \"pol\\u00edcia_federal\", \"pontos\", \"pontos\", \"pontos\", \"pontos\", \"pontos\", \"pontos\", \"pontos_rebotes\", \"poss\\u00edvel\", \"poss\\u00edvel\", \"poss\\u00edvel\", \"poss\\u00edvel\", \"poss\\u00edvel\", \"poss\\u00edvel\", \"pouco\", \"pouco\", \"pouco\", \"pouco\", \"pouco\", \"pouco\", \"presidente_eleito\", \"presidente_executivo\", \"presidente_michel\", \"presidente_rep\\u00fablica\", \"presid\\u00eancia\", \"previd\\u00eancia\", \"pre\\u00e7o\", \"pre\\u00e7o\", \"pre\\u00e7o\", \"pre\\u00e7os\", \"primeiro_tempo\", \"principal\", \"principal\", \"principal\", \"principal\", \"principal\", \"principal\", \"pris\\u00e3o\", \"processo\", \"processo\", \"processo\", \"processo\", \"processo\", \"processo\", \"procuradoria_geral\", \"projeto\", \"projeto\", \"projeto\", \"projeto\", \"projeto\", \"projeto\", \"proposta\", \"proposta\", \"proposta\", \"proposta\", \"proposta\", \"p\\u00e1gina\", \"p\\u00e1ginas\", \"p\\u00fablico\", \"p\\u00fablico\", \"p\\u00fablico\", \"p\\u00fablico\", \"p\\u00fablico\", \"p\\u00fablico\", \"quando_assunto\", \"quarta_feira\", \"quarta_feira\", \"quarta_feira\", \"quarta_feira\", \"quarta_feira\", \"quarta_feira\", \"queda\", \"queda\", \"queda\", \"real_madrid\", \"rebotes\", \"rede\", \"rede\", \"rede\", \"rede_social\", \"redes_sociais\", \"redes_sociais\", \"redes_sociais\", \"reino_unido\", \"reino_unido\", \"relator\", \"rep\\u00fablica\", \"rep\\u00fablica\", \"reuters\", \"rodada\", \"round\", \"rubro_negro\", \"sal\\u00e1rio_m\\u00ednimo\", \"sal\\u00e1rios_m\\u00ednimos\", \"santos\", \"santos\", \"santos\", \"segundo_dado\", \"segundo_round\", \"segundo_tempo\", \"seguran\\u00e7a\", \"seguran\\u00e7a\", \"seguran\\u00e7a_hacker\", \"seguran\\u00e7a_p\\u00fablica\", \"sele\\u00e7\\u00e3o\", \"sele\\u00e7\\u00e3o\", \"sempre\", \"sempre\", \"sempre\", \"sempre\", \"senado\", \"senador\", \"servi\\u00e7o\", \"servi\\u00e7o\", \"servi\\u00e7o\", \"servi\\u00e7o\", \"servi\\u00e7o\", \"setor\", \"setor\", \"setor\", \"seus\", \"seus\", \"seus\", \"seus\", \"seus\", \"seus\", \"sistema\", \"sistema\", \"sistema\", \"sistema\", \"sistema\", \"sistema\", \"sistema_operacional\", \"site\", \"site\", \"site\", \"sobre_assunto\", \"suas_pr\\u00f3prias\", \"supremo\", \"supremo_tribunal\", \"s\\u00e1bado\", \"s\\u00e1bado\", \"s\\u00e1bado\", \"s\\u00e1bado\", \"s\\u00e1bado\", \"s\\u00e1bado\", \"taxon\", \"teatro\", \"tecnologia\", \"tela\", \"temer\", \"temos\", \"temos\", \"temos\", \"temporada\", \"temporada\", \"temporada\", \"tenho\", \"tenho\", \"tenho_certeza\", \"terceiro_trimestre\", \"texto\", \"texto\", \"tinha\", \"tinha\", \"tinha\", \"tinha\", \"tinha\", \"tinha\", \"todo\", \"todo\", \"todo\", \"todo\", \"todo\", \"todo\", \"todo_mundo\", \"todo_mundo\", \"torcedores\", \"trabalho\", \"trabalho\", \"trabalho\", \"trabalho\", \"trabalho\", \"trabalho\", \"tribunal\", \"trimestre\", \"trump\", \"tudo\", \"tudo\", \"tudo\", \"tudo\", \"tudo_isso\", \"twitter\", \"twitter\", \"twitter\", \"twitter\", \"t\\u00e9cnico\", \"t\\u00e9cnico\", \"t\\u00e9cnico\", \"unidos\", \"unidos\", \"unidos\", \"unidos\", \"unidos\", \"unidos\", \"un\\u00e2nime\", \"usu\\u00e1rios\", \"valor\", \"valor\", \"valor\", \"valor\", \"valor\", \"valor\", \"vamos\", \"vamos\", \"vasco\", \"veja\", \"veja\", \"veja\", \"veja\", \"veja\", \"veja\", \"venceu\", \"venceu\", \"vendas\", \"vers\\u00e3o\", \"vida\", \"vida\", \"vida\", \"vida\", \"vit\\u00f3ria\", \"vit\\u00f3ria\", \"vit\\u00f3rias\", \"vit\\u00f3rias\", \"voc\\u00ea\", \"voc\\u00ea\", \"voc\\u00ea\", \"v\\u00edrus\", \"v\\u00edrus_envie\", \"warrior\", \"whatsapp\", \"\\u00edndice\"]}, \"R\": 30, \"lambda.step\": 0.01, \"plot.opts\": {\"xlab\": \"PC1\", \"ylab\": \"PC2\"}, \"topic.order\": [1, 6, 2, 4, 3, 5]};\n",
       "\n",
       "function LDAvis_load_lib(url, callback){\n",
       "  var s = document.createElement('script');\n",
       "  s.src = url;\n",
       "  s.async = true;\n",
       "  s.onreadystatechange = s.onload = callback;\n",
       "  s.onerror = function(){console.warn(\"failed to load library \" + url);};\n",
       "  document.getElementsByTagName(\"head\")[0].appendChild(s);\n",
       "}\n",
       "\n",
       "if(typeof(LDAvis) !== \"undefined\"){\n",
       "   // already loaded: just create the visualization\n",
       "   !function(LDAvis){\n",
       "       new LDAvis(\"#\" + \"ldavis_el61959643808642033094139\", ldavis_el61959643808642033094139_data);\n",
       "   }(LDAvis);\n",
       "}else if(typeof define === \"function\" && define.amd){\n",
       "   // require.js is available: use it to load d3/LDAvis\n",
       "   require.config({paths: {d3: \"https://d3js.org/d3.v5\"}});\n",
       "   require([\"d3\"], function(d3){\n",
       "      window.d3 = d3;\n",
       "      LDAvis_load_lib(\"https://cdn.jsdelivr.net/gh/bmabey/pyLDAvis@3.3.1/pyLDAvis/js/ldavis.v3.0.0.js\", function(){\n",
       "        new LDAvis(\"#\" + \"ldavis_el61959643808642033094139\", ldavis_el61959643808642033094139_data);\n",
       "      });\n",
       "    });\n",
       "}else{\n",
       "    // require.js not available: dynamically load d3 & LDAvis\n",
       "    LDAvis_load_lib(\"https://d3js.org/d3.v5.js\", function(){\n",
       "         LDAvis_load_lib(\"https://cdn.jsdelivr.net/gh/bmabey/pyLDAvis@3.3.1/pyLDAvis/js/ldavis.v3.0.0.js\", function(){\n",
       "                 new LDAvis(\"#\" + \"ldavis_el61959643808642033094139\", ldavis_el61959643808642033094139_data);\n",
       "            })\n",
       "         });\n",
       "}\n",
       "</script>"
      ],
      "text/plain": [
       "PreparedData(topic_coordinates=              x         y  topics  cluster       Freq\n",
       "topic                                                \n",
       "0      0.166924  0.094072       1        1  24.531349\n",
       "5      0.051947 -0.178080       2        1  21.644609\n",
       "1     -0.183002  0.133524       3        1  17.385869\n",
       "3     -0.165076  0.162865       4        1  15.297556\n",
       "2     -0.158304 -0.237610       5        1  10.935380\n",
       "4      0.287511  0.025229       6        1  10.205238, topic_info=           Term         Freq        Total Category  logprob  loglift\n",
       "3572       luta  3141.000000  3141.000000  Default  30.0000  30.0000\n",
       "5673      clube  4954.000000  4954.000000  Default  29.0000  29.0000\n",
       "3259   aparelho  2720.000000  2720.000000  Default  28.0000  28.0000\n",
       "563    ministro  3455.000000  3455.000000  Default  27.0000  27.0000\n",
       "24      bilhões  2948.000000  2948.000000  Default  26.0000  26.0000\n",
       "...         ...          ...          ...      ...      ...      ...\n",
       "5379    vitória   848.197767  3504.285280   Topic6  -5.8852   0.8636\n",
       "2890  principal   712.038197  1787.956296   Topic6  -6.0602   1.3616\n",
       "5381   vitórias   620.045808  1135.406222   Topic6  -6.1985   1.6773\n",
       "4610  conseguiu   607.711219  1492.743081   Topic6  -6.2186   1.3836\n",
       "3294     sábado   628.902996  2347.023495   Topic6  -6.1843   0.9653\n",
       "\n",
       "[353 rows x 6 columns], token_table=       Topic      Freq         Term\n",
       "term                               \n",
       "648        1  0.020717       acesso\n",
       "648        3  0.030626       acesso\n",
       "648        5  0.947595       acesso\n",
       "1775       2  0.917073         acho\n",
       "1775       6  0.082471         acho\n",
       "...      ...       ...          ...\n",
       "24677      5  0.999137        vírus\n",
       "26558      5  0.999650  vírus_envie\n",
       "5387       6  1.000406      warrior\n",
       "22898      5  0.999946     whatsapp\n",
       "640        4  0.999095       índice\n",
       "\n",
       "[709 rows x 3 columns], R=30, lambda_step=0.01, plot_opts={'xlab': 'PC1', 'ylab': 'PC2'}, topic_order=[1, 6, 2, 4, 3, 5])"
      ]
     },
     "execution_count": 19,
     "metadata": {},
     "output_type": "execute_result"
    }
   ],
   "source": [
    "gensimvis.prepare(model, corpus, dictionary)"
   ]
  },
  {
   "cell_type": "markdown",
   "metadata": {
    "_cell_guid": "aa6b35ff-22bf-44a7-ba48-2c7a368407fe",
    "_uuid": "864ddc392f72ba631bf372d038385d72301816ec",
    "id": "_cmy3kuwePQM"
   },
   "source": [
    "** O que vemos aqui? **\n",
    "\n",
    "** O painel esquerdo **, rotulado Mapa de distância intertópica, os círculos representam diferentes tópicos e a distância entre eles. Tópicos semelhantes aparecem mais próximos e tópicos diferentes mais distantes.\n",
    "O tamanho relativo do círculo de um tópico no gráfico corresponde à frequência relativa do tópico no corpus.\n",
    "Um tópico individual pode ser selecionado para um exame mais detalhado clicando em seu círculo ou inserindo seu número na caixa \"tópico selecionado\" no canto superior esquerdo.\n",
    " \n",
    "** O painel direito ** inclui o gráfico de barras dos 30 principais termos. Quando nenhum tópico é selecionado no gráfico à esquerda, o gráfico de barras mostra os 30 termos mais \"salientes\" no corpus. A saliência de um termo é uma medida de quão frequente o termo é no corpus e quão \"distinto\" ele é na distinção entre diferentes tópicos.\n",
    "Selecionar cada tópico à direita modifica o gráfico de barras para mostrar os termos \"relevantes\" para o tópico selecionado.\n",
    "A relevância é definida como no rodapé 2 e pode ser ajustada pelo parâmetro $ \\ lambda $, menor $ \\ lambda $ dá maior peso à distinção do termo, enquanto $ \\ lambda $ s maior corresponde à probabilidade da ocorrência do termo por tópicos.\n",
    "\n",
    "Portanto, para ter uma noção melhor dos termos por tópico, usaremos $ \\ lambda $ = 0."
   ]
  },
  {
   "cell_type": "markdown",
   "metadata": {
    "_cell_guid": "66d42d65-8258-40bf-9fb0-d304f4ed54ea",
    "_uuid": "132463131ee73972307d5a3560da8db816f519e2",
    "id": "7oK7drBkePQN"
   },
   "source": []
  },
  {
   "cell_type": "code",
   "execution_count": null,
   "metadata": {
    "executionInfo": {
     "elapsed": 15,
     "status": "ok",
     "timestamp": 1642538844863,
     "user": {
      "displayName": "Leonardo Mendonza",
      "photoUrl": "https://lh3.googleusercontent.com/a-/AOh14Gj5F1JVSmHodKCvWHgDPYmDyFo_nUl5lqEXNbsW=s64",
      "userId": "09205135724810578413"
     },
     "user_tz": 180
    },
    "id": "AFB7R9NO3OSZ"
   },
   "outputs": [],
   "source": []
  }
 ],
 "metadata": {
  "colab": {
   "collapsed_sections": [],
   "name": "ldaportugues.ipynb",
   "provenance": []
  },
  "kernelspec": {
   "display_name": "Python 3 (ipykernel)",
   "language": "python",
   "name": "python3"
  },
  "language_info": {
   "codemirror_mode": {
    "name": "ipython",
    "version": 3
   },
   "file_extension": ".py",
   "mimetype": "text/x-python",
   "name": "python",
   "nbconvert_exporter": "python",
   "pygments_lexer": "ipython3",
   "version": "3.8.11"
  }
 },
 "nbformat": 4,
 "nbformat_minor": 1
}
