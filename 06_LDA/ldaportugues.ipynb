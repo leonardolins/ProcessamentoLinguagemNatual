{
 "cells": [
  {
   "cell_type": "markdown",
   "metadata": {
    "_cell_guid": "b370038e-edd0-42b6-985a-c30f6eea960b",
    "_uuid": "a9f0d9e1da1d1c9ce96322ecedc81d7a7847f043",
    "id": "3dbAf_6UePPt"
   },
   "source": [
    "\n",
    "#Vamos fazer um projeto de LDA com noticias em portugues "
   ]
  },
  {
   "cell_type": "code",
   "execution_count": 4,
   "metadata": {
    "ExecuteTime": {
     "end_time": "2022-02-08T23:44:39.666913Z",
     "start_time": "2022-02-08T23:44:39.661810Z"
    },
    "colab": {
     "base_uri": "https://localhost:8080/"
    },
    "executionInfo": {
     "elapsed": 3060,
     "status": "ok",
     "timestamp": 1642538328247,
     "user": {
      "displayName": "Leonardo Mendonza",
      "photoUrl": "https://lh3.googleusercontent.com/a-/AOh14Gj5F1JVSmHodKCvWHgDPYmDyFo_nUl5lqEXNbsW=s64",
      "userId": "09205135724810578413"
     },
     "user_tz": 180
    },
    "id": "qA1BuaMH5Wab",
    "outputId": "eff861f6-ecf7-4cdd-caf0-8a3b7f3d5ce7"
   },
   "outputs": [],
   "source": [
    "#!pip install pyLDAvis"
   ]
  },
  {
   "cell_type": "code",
   "execution_count": 1,
   "metadata": {
    "ExecuteTime": {
     "end_time": "2022-02-23T15:45:33.611556Z",
     "start_time": "2022-02-23T15:45:31.169143Z"
    },
    "_cell_guid": "a614ee7b-dc9a-4a69-a22a-6712176d67c2",
    "_uuid": "49cf47103ed18adfb84e28e636784cf89dbb3144",
    "colab": {
     "base_uri": "https://localhost:8080/"
    },
    "executionInfo": {
     "elapsed": 12,
     "status": "ok",
     "timestamp": 1642538328248,
     "user": {
      "displayName": "Leonardo Mendonza",
      "photoUrl": "https://lh3.googleusercontent.com/a-/AOh14Gj5F1JVSmHodKCvWHgDPYmDyFo_nUl5lqEXNbsW=s64",
      "userId": "09205135724810578413"
     },
     "user_tz": 180
    },
    "id": "gP7-aZ4hePPu",
    "outputId": "d1611436-3cc6-4a9d-8c90-b00883bb96af"
   },
   "outputs": [
    {
     "name": "stdout",
     "output_type": "stream",
     "text": [
      "Populating the interactive namespace from numpy and matplotlib\n"
     ]
    }
   ],
   "source": [
    "%pylab inline\n",
    "\n",
    "import pandas as pd\n",
    "import pickle as pk\n",
    "from scipy import sparse as sp"
   ]
  },
  {
   "cell_type": "code",
   "execution_count": 2,
   "metadata": {
    "ExecuteTime": {
     "end_time": "2022-02-23T15:45:34.570481Z",
     "start_time": "2022-02-23T15:45:34.565505Z"
    },
    "colab": {
     "base_uri": "https://localhost:8080/"
    },
    "executionInfo": {
     "elapsed": 2295,
     "status": "ok",
     "timestamp": 1642538330536,
     "user": {
      "displayName": "Leonardo Mendonza",
      "photoUrl": "https://lh3.googleusercontent.com/a-/AOh14Gj5F1JVSmHodKCvWHgDPYmDyFo_nUl5lqEXNbsW=s64",
      "userId": "09205135724810578413"
     },
     "user_tz": 180
    },
    "id": "3XFrIzJO9dFN",
    "outputId": "a74408f0-ea69-46a9-b5a7-d2d5e78b4c82"
   },
   "outputs": [],
   "source": [
    "#from google.colab import drive\n",
    "#drive.mount('/content/drive')\n",
    "\n",
    "#import os\n",
    "#workdir_path = '/content/drive/My Drive/'  # Inserir o local da pasta onde estão os arquivos de entrada (treino e teste)\n",
    "#os.chdir(workdir_path)"
   ]
  },
  {
   "cell_type": "code",
   "execution_count": 3,
   "metadata": {
    "ExecuteTime": {
     "end_time": "2022-02-23T15:45:36.211307Z",
     "start_time": "2022-02-23T15:45:35.533917Z"
    },
    "_cell_guid": "9b886989-75f5-4522-b9d6-2a40737885f0",
    "_uuid": "eda4ba077f4beb7a55182bc37b147050f444827f",
    "executionInfo": {
     "elapsed": 731,
     "status": "ok",
     "timestamp": 1642538331263,
     "user": {
      "displayName": "Leonardo Mendonza",
      "photoUrl": "https://lh3.googleusercontent.com/a-/AOh14Gj5F1JVSmHodKCvWHgDPYmDyFo_nUl5lqEXNbsW=s64",
      "userId": "09205135724810578413"
     },
     "user_tz": 180
    },
    "id": "PpSqPeCsePPx"
   },
   "outputs": [],
   "source": [
    "data = pd.read_csv('materias.csv')"
   ]
  },
  {
   "cell_type": "code",
   "execution_count": 4,
   "metadata": {
    "ExecuteTime": {
     "end_time": "2022-02-23T15:45:36.983612Z",
     "start_time": "2022-02-23T15:45:36.963786Z"
    },
    "executionInfo": {
     "elapsed": 22,
     "status": "ok",
     "timestamp": 1642538331268,
     "user": {
      "displayName": "Leonardo Mendonza",
      "photoUrl": "https://lh3.googleusercontent.com/a-/AOh14Gj5F1JVSmHodKCvWHgDPYmDyFo_nUl5lqEXNbsW=s64",
      "userId": "09205135724810578413"
     },
     "user_tz": 180
    },
    "id": "ouTIuUfm-ION"
   },
   "outputs": [],
   "source": [
    "data.dropna(subset = [\"conteudo_noticia\"], inplace=True)"
   ]
  },
  {
   "cell_type": "code",
   "execution_count": 5,
   "metadata": {
    "ExecuteTime": {
     "end_time": "2022-02-23T15:45:38.084390Z",
     "start_time": "2022-02-23T15:45:38.057817Z"
    },
    "colab": {
     "base_uri": "https://localhost:8080/",
     "height": 206
    },
    "executionInfo": {
     "elapsed": 22,
     "status": "ok",
     "timestamp": 1642538331270,
     "user": {
      "displayName": "Leonardo Mendonza",
      "photoUrl": "https://lh3.googleusercontent.com/a-/AOh14Gj5F1JVSmHodKCvWHgDPYmDyFo_nUl5lqEXNbsW=s64",
      "userId": "09205135724810578413"
     },
     "user_tz": 180
    },
    "id": "_sTqlU-hrYdb",
    "outputId": "edba75e5-b417-46e0-90f4-a86a68810e33"
   },
   "outputs": [
    {
     "data": {
      "text/html": [
       "<div>\n",
       "<style scoped>\n",
       "    .dataframe tbody tr th:only-of-type {\n",
       "        vertical-align: middle;\n",
       "    }\n",
       "\n",
       "    .dataframe tbody tr th {\n",
       "        vertical-align: top;\n",
       "    }\n",
       "\n",
       "    .dataframe thead th {\n",
       "        text-align: right;\n",
       "    }\n",
       "</style>\n",
       "<table border=\"1\" class=\"dataframe\">\n",
       "  <thead>\n",
       "    <tr style=\"text-align: right;\">\n",
       "      <th></th>\n",
       "      <th>data</th>\n",
       "      <th>url_noticia</th>\n",
       "      <th>url_noticia_curto</th>\n",
       "      <th>titulo</th>\n",
       "      <th>conteudo_noticia</th>\n",
       "      <th>assunto</th>\n",
       "    </tr>\n",
       "  </thead>\n",
       "  <tbody>\n",
       "    <tr>\n",
       "      <th>0</th>\n",
       "      <td>2014-01-25</td>\n",
       "      <td>https://web.archive.org/web/20140125123631/htt...</td>\n",
       "      <td>http://g1.globo.com/economia/noticia/2014/01/m...</td>\n",
       "      <td>Mesmo com alta do dólar, gastos de brasileiros...</td>\n",
       "      <td>\\n\\tA alta de 15% no dólar em 2013, a maior do...</td>\n",
       "      <td>economia</td>\n",
       "    </tr>\n",
       "    <tr>\n",
       "      <th>1</th>\n",
       "      <td>2014-01-25</td>\n",
       "      <td>https://web.archive.org/web/20140125123631/htt...</td>\n",
       "      <td>http://g1.globo.com/economia/noticia/2014/01/p...</td>\n",
       "      <td>Para Dilma, é 'apressada' a tese de que emerge...</td>\n",
       "      <td>\\n\\tA presidente Dilma Rousseff afirmou nesta ...</td>\n",
       "      <td>economia</td>\n",
       "    </tr>\n",
       "    <tr>\n",
       "      <th>2</th>\n",
       "      <td>2014-01-25</td>\n",
       "      <td>https://web.archive.org/web/20140125123631/htt...</td>\n",
       "      <td>http://g1.globo.com/economia/noticia/2014/01/t...</td>\n",
       "      <td>Temos sido capazes de reduzir a inflação', diz...</td>\n",
       "      <td>\\n\\tO presidente do Banco Central, Alexandre T...</td>\n",
       "      <td>economia</td>\n",
       "    </tr>\n",
       "    <tr>\n",
       "      <th>3</th>\n",
       "      <td>2014-01-25</td>\n",
       "      <td>https://web.archive.org/web/20140125123631/htt...</td>\n",
       "      <td>http://g1.globo.com/economia/noticia/2014/01/g...</td>\n",
       "      <td>Governo argentino autoriza compra de dólares a...</td>\n",
       "      <td>\\n\\tO governo argentino anunciou nesta sexta-f...</td>\n",
       "      <td>economia</td>\n",
       "    </tr>\n",
       "    <tr>\n",
       "      <th>4</th>\n",
       "      <td>2014-01-25</td>\n",
       "      <td>https://web.archive.org/web/20140125123631/htt...</td>\n",
       "      <td>http://g1.globo.com/economia/noticia/2014/01/p...</td>\n",
       "      <td>Petrobras desiste de parte da área de Bem-te-v...</td>\n",
       "      <td>\\n\\tA Petrobras afirmou que propôs à Agência N...</td>\n",
       "      <td>economia</td>\n",
       "    </tr>\n",
       "  </tbody>\n",
       "</table>\n",
       "</div>"
      ],
      "text/plain": [
       "         data                                        url_noticia  \\\n",
       "0  2014-01-25  https://web.archive.org/web/20140125123631/htt...   \n",
       "1  2014-01-25  https://web.archive.org/web/20140125123631/htt...   \n",
       "2  2014-01-25  https://web.archive.org/web/20140125123631/htt...   \n",
       "3  2014-01-25  https://web.archive.org/web/20140125123631/htt...   \n",
       "4  2014-01-25  https://web.archive.org/web/20140125123631/htt...   \n",
       "\n",
       "                                   url_noticia_curto  \\\n",
       "0  http://g1.globo.com/economia/noticia/2014/01/m...   \n",
       "1  http://g1.globo.com/economia/noticia/2014/01/p...   \n",
       "2  http://g1.globo.com/economia/noticia/2014/01/t...   \n",
       "3  http://g1.globo.com/economia/noticia/2014/01/g...   \n",
       "4  http://g1.globo.com/economia/noticia/2014/01/p...   \n",
       "\n",
       "                                              titulo  \\\n",
       "0  Mesmo com alta do dólar, gastos de brasileiros...   \n",
       "1  Para Dilma, é 'apressada' a tese de que emerge...   \n",
       "2  Temos sido capazes de reduzir a inflação', diz...   \n",
       "3  Governo argentino autoriza compra de dólares a...   \n",
       "4  Petrobras desiste de parte da área de Bem-te-v...   \n",
       "\n",
       "                                    conteudo_noticia   assunto  \n",
       "0  \\n\\tA alta de 15% no dólar em 2013, a maior do...  economia  \n",
       "1  \\n\\tA presidente Dilma Rousseff afirmou nesta ...  economia  \n",
       "2  \\n\\tO presidente do Banco Central, Alexandre T...  economia  \n",
       "3  \\n\\tO governo argentino anunciou nesta sexta-f...  economia  \n",
       "4  \\n\\tA Petrobras afirmou que propôs à Agência N...  economia  "
      ]
     },
     "execution_count": 5,
     "metadata": {},
     "output_type": "execute_result"
    }
   ],
   "source": [
    "data.head()"
   ]
  },
  {
   "cell_type": "markdown",
   "metadata": {
    "id": "6i581zo3oEnJ"
   },
   "source": [
    "##vamos testar o LDA, pegaremos só o conteudo das noticias"
   ]
  },
  {
   "cell_type": "code",
   "execution_count": 6,
   "metadata": {
    "ExecuteTime": {
     "end_time": "2022-02-23T15:45:39.217025Z",
     "start_time": "2022-02-23T15:45:39.204936Z"
    },
    "colab": {
     "base_uri": "https://localhost:8080/",
     "height": 105
    },
    "executionInfo": {
     "elapsed": 21,
     "status": "ok",
     "timestamp": 1642538331271,
     "user": {
      "displayName": "Leonardo Mendonza",
      "photoUrl": "https://lh3.googleusercontent.com/a-/AOh14Gj5F1JVSmHodKCvWHgDPYmDyFo_nUl5lqEXNbsW=s64",
      "userId": "09205135724810578413"
     },
     "user_tz": 180
    },
    "id": "F2EZppkzriTS",
    "outputId": "c722e61a-2308-478c-e848-8e51df59d343"
   },
   "outputs": [
    {
     "data": {
      "text/plain": [
       "'\\n\\tA presidente Dilma Rousseff afirmou nesta sexta-feira (24), durante discurso no Fórum Econômico Mundial em Davos, na Suíça, que é\\xa0 \"apressada\" a tese de que as economias dos países emergentes vão perder dinamismo com o fim da crise financeira mundial. Segundo a presidente, apesar de as economias desenvolvidas darem claros sinais de recuperação, as emergentes vão continuar desempenhando um \"papel estratégico\". O discurso de Dilma durou aproximadamente 30 minutos.\\n\\t\\xa0\"Ainda que as economias desenvolvidas mostrem claros sinais de recuperação, as emergentes continuarão a desempenhar papel estratégico. Estamos falando de países com grandes capacidade de investimento e de ampliação do consumo, com demanda por infraestrutura social, urbana, energia, petróleo, investimentos industriais e agrícolas [...] É apressada a tese de que após a crise as economias emergentes serão menos dinâmicas. Lá estão grandes oportunidades\", afirmou a presidente.\\n\\tAinda segundo Dilma, os países emergentes são \"sociedades em processo de forte mobilidade social, nas quais se constituem mercados internos dinâmicos, integrados por milhões, às vezes bilhões de consumidores\".\\n\\tPara a presidente, a saída definitiva da crise financeira mundial não pode prever apenas as ações a curto prazo. \"É imprescindível resgatar o horizonte de médio e longo prazos para dar suporte aos diagnósticos e ações necessários para o crescimento das diferentes economias\", afirmou. \"Como as economias desenvolvidas foram as mais afetadas pela crise, ao dela saírem, criarão um ambiente econômico global mais favorável para todo o mundo\", concluiu Dilma.\\n\\tA presidente argumentou ainda que, à medida que a crise for \"se dissipando\", um olhar \"mais atento\" sobre os países emergentes \"ganhará fôlego\", dentro de um novo ciclo de crescimento econômico mundial.\\n\\tDilma sustentou também que o sucesso do Brasil nos próximos anos estará associado a uma parceria com investidores de todo o mundo e destacou a abertura do país para o investimento estrangeiro.\\n\\t\"Sempre recebemos bem o investimento externo. Meu governo adotou medidas para facilitar ainda mais essa relação. Aspectos da conjuntura recente não devem obscurecer essa realidade. Como eu disse até aqui, o Brasil mais que precisa e mais que quer a parceria com investimento privado nacional e externo.\"Oportunidades no Brasil\\n\\tDiante de uma plateia de empresários e líderes mundiais, Dilma Rousseff usou seu discurso no Fórum para tentar dobrar as desconfianças de investidores internacionais com relação ao Brasil. Na tentativa de atrair o interesse do capital estrangeiro para o país, a chefe do Executivo ressaltou que , com as mudanças sociais, há oportunidades de negócios ainda não exploradas no Brasil, citando, entre outros pontos, que apenas 47% dos domicílios têm computador e apenas 8% tem TV com tela plana.\\n\\t\"Estamos nos tornando, por meio de um processo acelerado de ascensão social, uma nação dominantemente de classe média\", destacou.\\n\\tPara Dilma, os avanços sociais do país criaram um contingente de cidadãos com mais qualidade de vida e informação, mas também com novos desejos e demandas. Parte dessas demandas, segundo a presidente, esteve presente nas manifestações de junho de 2013.\\n\\tEm um momento em que imagens da violenta repressão do governo da Ucrânia às manifestações populares circulam o mundo, a presidente fez questão de enfatizar que, durante os protestos do ano passado nas ruas brasileiras, sua gestão não reprimiu o povo. Segundo ela, o governo \"ouviu e compreendeu a voz das ruas\".\\n\\tAo longo de seu pronunciamento em Davos, Dilma tentou demonstrar aos donos de uma fatia significativa do PIB mundial que sua administração tem feito o dever de casa para manter o Brasil um mercado atraente para os investidores.\\n\\tEla disse que o Executivo federal tem se esforçado para manter a economia equilibrada, apesar do cenário de crise internacional. Segundo a presidente, o país está sendo \"construído sem abdicar do nosso compromisso com a solidez dos fundamentos macroeconômicos\", entre eles, o controle da inflação.\\n\\t\"A estabilidade da moeda é hoje um valor central do nosso país. Quero enfatizar que nós não transigimos com a inflação\", concluiu a presidente.\\n\\tAo desfiar as medidas que, de acordo com ela, têm sido adotadas pelo governo para manter as contas públicas sob controle, Dilma assegurou que a responsabilidade fiscal é um \"princípio basilar\" da visão de desenvolvimento econômico e social de sua gestão.\\n\\tSob os olhares de líderes de muitos países que apesar de ricos enfrentam dificuldades para reduzir o endividamento, a presidente do Brasil ostentou que seu governo reduziu a dívida líquida do setor público, que caiu de 42,1%, em 2009, no início da crise, para 34% do PIB, em 2013. Ela também ressaltou que a dívida bruta brasileira caiu neste mesmo período, passando de 60,9% para 58,5% do PIB.\\n\\t\"Em breve, meu governo definirá a meta de superávit primário para o ano, consistente com essa tendência de redução do endividamento público. Creio que temos um dos menores endividamentos públicos do mundo\", gabou-se Dilma.Copa do Mundo\\n\\tA presidente finalizou o discurso no Fórum Econômico Mundial convidando as pessoas presentes a participar da Copa de 2014, que será realizada em 12 cidades-sede do país, e das Olimpíadas de 2016, no Rio.\\n\\t\"Quero dizer aos senhores que estamos preparados para a Copa. Os investimentos que eu relatei aqui são também investimentos para esta Copa e para este evento. Mas são sobretudo investimentos originados da necessidade do país\", justificou Dilma, acrescentando que \"estamos de braços abertos\" para receber todos os visitantes.'"
      ]
     },
     "execution_count": 6,
     "metadata": {},
     "output_type": "execute_result"
    }
   ],
   "source": [
    "docs = array(data['conteudo_noticia'])\n",
    "docs[1]"
   ]
  },
  {
   "cell_type": "markdown",
   "metadata": {
    "_cell_guid": "7364c06e-8044-4da4-9b50-4daa5bf5765e",
    "_uuid": "365398b9b4072a8c5bf3c8de0067122e70fff748",
    "id": "OYeZKng1ePPz"
   },
   "source": [
    "## Primeiro pré-processar deixando todo em minuscula e tokenizar o texto"
   ]
  },
  {
   "cell_type": "code",
   "execution_count": 7,
   "metadata": {
    "ExecuteTime": {
     "end_time": "2022-02-23T15:45:42.522692Z",
     "start_time": "2022-02-23T15:45:40.412644Z"
    },
    "colab": {
     "base_uri": "https://localhost:8080/"
    },
    "executionInfo": {
     "elapsed": 20,
     "status": "ok",
     "timestamp": 1642538331272,
     "user": {
      "displayName": "Leonardo Mendonza",
      "photoUrl": "https://lh3.googleusercontent.com/a-/AOh14Gj5F1JVSmHodKCvWHgDPYmDyFo_nUl5lqEXNbsW=s64",
      "userId": "09205135724810578413"
     },
     "user_tz": 180
    },
    "id": "pn-4I7gqV5xk",
    "outputId": "d0290218-286d-49b2-97f3-12f4e2ce186f"
   },
   "outputs": [
    {
     "name": "stderr",
     "output_type": "stream",
     "text": [
      "[nltk_data] Downloading package wordnet to\n",
      "[nltk_data]     /Users/LeonardoLins/nltk_data...\n",
      "[nltk_data]   Package wordnet is already up-to-date!\n"
     ]
    },
    {
     "data": {
      "text/plain": [
       "True"
      ]
     },
     "execution_count": 7,
     "metadata": {},
     "output_type": "execute_result"
    }
   ],
   "source": [
    "import nltk\n",
    "nltk.download('wordnet')"
   ]
  },
  {
   "cell_type": "code",
   "execution_count": 8,
   "metadata": {
    "ExecuteTime": {
     "end_time": "2022-02-23T15:45:42.537061Z",
     "start_time": "2022-02-23T15:45:42.526708Z"
    },
    "_cell_guid": "125f9eb3-99d9-422a-8242-384da62d43dd",
    "_uuid": "f10f622826eaa4e9bd97c1414aac5538ddabafd2",
    "executionInfo": {
     "elapsed": 17,
     "status": "ok",
     "timestamp": 1642538331273,
     "user": {
      "displayName": "Leonardo Mendonza",
      "photoUrl": "https://lh3.googleusercontent.com/a-/AOh14Gj5F1JVSmHodKCvWHgDPYmDyFo_nUl5lqEXNbsW=s64",
      "userId": "09205135724810578413"
     },
     "user_tz": 180
    },
    "id": "_jFrxinGePPz"
   },
   "outputs": [],
   "source": [
    "from nltk.stem.wordnet import WordNetLemmatizer\n",
    "from nltk.tokenize import RegexpTokenizer\n",
    "\n",
    "def docs_preprocessor(docs):\n",
    "    tokenizer = RegexpTokenizer(r'\\w+')\n",
    "    for idx in range(len(docs)):\n",
    "        docs[idx] = str(docs[idx]).lower()  # Convert to lowercase.\n",
    "        docs[idx] = tokenizer.tokenize(docs[idx])  # Split into words.\n",
    "\n",
    "    # Remove numbers, but not words that contain numbers.\n",
    "    docs = [[token for token in doc if not token.isdigit()] for doc in docs]\n",
    "    \n",
    "    # Remove words that are only one character.\n",
    "    docs = [[token for token in doc if len(token) > 3] for doc in docs]\n",
    "    \n",
    "    # Lemmatize all words in documents.\n",
    "    lemmatizer = WordNetLemmatizer()\n",
    "    docs = [[lemmatizer.lemmatize(token) for token in doc] for doc in docs]\n",
    "  \n",
    "    return docs"
   ]
  },
  {
   "cell_type": "code",
   "execution_count": 9,
   "metadata": {
    "ExecuteTime": {
     "end_time": "2022-02-23T15:46:09.051768Z",
     "start_time": "2022-02-23T15:45:42.540540Z"
    },
    "_cell_guid": "c87ebee3-e88b-4233-9000-b71103f281c3",
    "_uuid": "790063fc1a341eb17e0244c220de736d51196cfe",
    "executionInfo": {
     "elapsed": 14853,
     "status": "ok",
     "timestamp": 1642538346109,
     "user": {
      "displayName": "Leonardo Mendonza",
      "photoUrl": "https://lh3.googleusercontent.com/a-/AOh14Gj5F1JVSmHodKCvWHgDPYmDyFo_nUl5lqEXNbsW=s64",
      "userId": "09205135724810578413"
     },
     "user_tz": 180
    },
    "id": "XuXIp0hWePP2"
   },
   "outputs": [],
   "source": [
    "docs = docs_preprocessor(docs)"
   ]
  },
  {
   "cell_type": "markdown",
   "metadata": {
    "_cell_guid": "b167c49c-6187-4921-9d2b-2fa1ba8377a4",
    "_uuid": "f649c357b776963b7e626064fa6ced1a03a3219d",
    "id": "-GZlfsohePP4"
   },
   "source": [
    "### **Computar bigramas e trigramas :**\n",
    "Sine tópicos são muito semelhantes, o que os faria distingui-los são frases ao invés de palavras únicas / individuais."
   ]
  },
  {
   "cell_type": "code",
   "execution_count": 10,
   "metadata": {
    "ExecuteTime": {
     "end_time": "2022-02-23T15:47:24.206922Z",
     "start_time": "2022-02-23T15:46:09.054758Z"
    },
    "_cell_guid": "66b3e9bf-1c76-4ee1-bb22-60405308c401",
    "_uuid": "d6ce91b0d51d55e3504cbb352f0548cffcdb0169",
    "colab": {
     "base_uri": "https://localhost:8080/"
    },
    "executionInfo": {
     "elapsed": 50781,
     "status": "ok",
     "timestamp": 1642538396879,
     "user": {
      "displayName": "Leonardo Mendonza",
      "photoUrl": "https://lh3.googleusercontent.com/a-/AOh14Gj5F1JVSmHodKCvWHgDPYmDyFo_nUl5lqEXNbsW=s64",
      "userId": "09205135724810578413"
     },
     "user_tz": 180
    },
    "id": "PeYS98CfePP4",
    "outputId": "3a8e6eed-2afc-481a-e29a-79bad736efd4"
   },
   "outputs": [
    {
     "name": "stderr",
     "output_type": "stream",
     "text": [
      "/opt/anaconda3/lib/python3.8/site-packages/gensim/models/phrases.py:598: UserWarning: For a faster implementation, use the gensim.models.phrases.Phraser class\n",
      "  warnings.warn(\"For a faster implementation, use the gensim.models.phrases.Phraser class\")\n"
     ]
    }
   ],
   "source": [
    "from gensim.models import Phrases\n",
    "# Add bigrams and trigrams to docs (only ones that appear 10 times or more).\n",
    "bigram = Phrases(docs, min_count=10)\n",
    "trigram = Phrases(bigram[docs])\n",
    "\n",
    "for idx in range(len(docs)):\n",
    "    for token in bigram[docs[idx]]:\n",
    "        if '_' in token:\n",
    "            # Token is a bigram, add to document.\n",
    "            docs[idx].append(token)\n",
    "    for token in trigram[docs[idx]]:\n",
    "        if '_' in token:\n",
    "            # Token is a bigram, add to document.\n",
    "            docs[idx].append(token)"
   ]
  },
  {
   "cell_type": "code",
   "execution_count": 11,
   "metadata": {
    "ExecuteTime": {
     "end_time": "2022-02-23T15:47:24.327568Z",
     "start_time": "2022-02-23T15:47:24.211047Z"
    },
    "colab": {
     "base_uri": "https://localhost:8080/"
    },
    "executionInfo": {
     "elapsed": 15,
     "status": "ok",
     "timestamp": 1642538396880,
     "user": {
      "displayName": "Leonardo Mendonza",
      "photoUrl": "https://lh3.googleusercontent.com/a-/AOh14Gj5F1JVSmHodKCvWHgDPYmDyFo_nUl5lqEXNbsW=s64",
      "userId": "09205135724810578413"
     },
     "user_tz": 180
    },
    "id": "nWzohYYpOydW",
    "outputId": "2f201851-fb06-4c42-ad23-c1cb097fb1d4"
   },
   "outputs": [
    {
     "name": "stdout",
     "output_type": "stream",
     "text": [
      "Phrases<1707445 vocab, min_count=5, threshold=10.0, max_vocab_size=40000000>\n"
     ]
    }
   ],
   "source": [
    "print(trigram)"
   ]
  },
  {
   "cell_type": "markdown",
   "metadata": {
    "_cell_guid": "b9849dae-b405-4bc6-ab61-c062f2a13746",
    "_uuid": "c75a2e62b9a0e570a0a34b84af5912c22aa9ba28",
    "id": "GXcCXaDSePP7"
   },
   "source": [
    "### Remover Tokens comuns e pouco comuns**"
   ]
  },
  {
   "cell_type": "code",
   "execution_count": 12,
   "metadata": {
    "ExecuteTime": {
     "end_time": "2022-02-23T15:47:29.650576Z",
     "start_time": "2022-02-23T15:47:24.330614Z"
    },
    "_cell_guid": "df440d67-082a-4b2d-a6fb-80029af194b5",
    "_uuid": "73f7ba9fedcde10c4e70cf2456c7ef20c8e32d35",
    "colab": {
     "base_uri": "https://localhost:8080/"
    },
    "executionInfo": {
     "elapsed": 4697,
     "status": "ok",
     "timestamp": 1642538401565,
     "user": {
      "displayName": "Leonardo Mendonza",
      "photoUrl": "https://lh3.googleusercontent.com/a-/AOh14Gj5F1JVSmHodKCvWHgDPYmDyFo_nUl5lqEXNbsW=s64",
      "userId": "09205135724810578413"
     },
     "user_tz": 180
    },
    "id": "qRe_v6O5ePP7",
    "outputId": "52e25b3d-d0de-4a72-9519-753bcea623c5"
   },
   "outputs": [
    {
     "name": "stdout",
     "output_type": "stream",
     "text": [
      "Number of unique words in initital documents: 99667\n",
      "Number of unique words after removing rare and common words: 26722\n"
     ]
    }
   ],
   "source": [
    "from gensim.corpora import Dictionary\n",
    "\n",
    "# Create a dictionary representation of the documents.\n",
    "dictionary = Dictionary(docs)\n",
    "print('Number of unique words in initital documents:', len(dictionary))\n",
    "\n",
    "# Filter out words that occur less than 10 documents, or more than 20% of the documents.\n",
    "dictionary.filter_extremes(no_below=10, no_above=0.2)\n",
    "print('Number of unique words after removing rare and common words:', len(dictionary))"
   ]
  },
  {
   "cell_type": "markdown",
   "metadata": {
    "_cell_guid": "ac2ede6e-8815-4da1-a739-1ffc71614cb9",
    "_uuid": "f5e4e52fe4ff798ac96f8f23538770c5cc4d217a",
    "id": "1KLQtDWtePP-"
   },
   "source": [
    "Eliminando as palavras comuns e raras, acabamos com apenas cerca de 6% das palavras."
   ]
  },
  {
   "cell_type": "markdown",
   "metadata": {
    "_cell_guid": "0e6a6363-b43f-45f0-80d9-0f5b5b9462fc",
    "_uuid": "78cd228789c6fa5d094886b58dce875f63625c33",
    "id": "5tkGL0wBePP-"
   },
   "source": [
    "** Vetorizar dados: **\n",
    "A primeira etapa é obter uma representação por trás das palavras de cada documento.\n",
    "Passos\n",
    "1-converter um corpus\n",
    "doc2bow:converter documento (uma lista de palavras) no formato de saco de palavras = lista de (token_id, token_count) 2-tuplas. Cada palavra é considerada uma string tokenizada e normalizada (codificada em unicode ou em utf8). Nenhum outro pré-processamento é feito nas palavras do documento; aplique tokenização, lematização etc. antes de chamar esse método.\n"
   ]
  },
  {
   "cell_type": "code",
   "execution_count": 13,
   "metadata": {
    "ExecuteTime": {
     "end_time": "2022-02-23T15:47:32.916934Z",
     "start_time": "2022-02-23T15:47:29.655960Z"
    },
    "_cell_guid": "ca1d1e18-2939-4880-bca7-712d4bc42735",
    "_uuid": "27e71950ec4bca8f6b62ec6d6cd9f613a50019ea",
    "executionInfo": {
     "elapsed": 2663,
     "status": "ok",
     "timestamp": 1642538404216,
     "user": {
      "displayName": "Leonardo Mendonza",
      "photoUrl": "https://lh3.googleusercontent.com/a-/AOh14Gj5F1JVSmHodKCvWHgDPYmDyFo_nUl5lqEXNbsW=s64",
      "userId": "09205135724810578413"
     },
     "user_tz": 180
    },
    "id": "JGXwd5TZePP_"
   },
   "outputs": [],
   "source": [
    "corpus = [dictionary.doc2bow(doc) for doc in docs]"
   ]
  },
  {
   "cell_type": "code",
   "execution_count": 14,
   "metadata": {
    "ExecuteTime": {
     "end_time": "2022-02-23T15:47:32.926701Z",
     "start_time": "2022-02-23T15:47:32.919292Z"
    },
    "_cell_guid": "ad5717c6-b2e8-4122-8c7d-b5bca9dfb1ab",
    "_uuid": "80752c24b3b1bab16b48054a6ca6e7fb84d49372",
    "colab": {
     "base_uri": "https://localhost:8080/"
    },
    "executionInfo": {
     "elapsed": 16,
     "status": "ok",
     "timestamp": 1642538404217,
     "user": {
      "displayName": "Leonardo Mendonza",
      "photoUrl": "https://lh3.googleusercontent.com/a-/AOh14Gj5F1JVSmHodKCvWHgDPYmDyFo_nUl5lqEXNbsW=s64",
      "userId": "09205135724810578413"
     },
     "user_tz": 180
    },
    "id": "2gY7iFHjePQB",
    "outputId": "9753e4dc-b87e-4913-a417-5d306109ff17"
   },
   "outputs": [
    {
     "name": "stdout",
     "output_type": "stream",
     "text": [
      "Number of unique tokens: 26722\n",
      "Number of documents: 10103\n"
     ]
    }
   ],
   "source": [
    "print('Number of unique tokens: %d' % len(dictionary))\n",
    "print('Number of documents: %d' % len(corpus))"
   ]
  },
  {
   "cell_type": "markdown",
   "metadata": {
    "_cell_guid": "a0a1a95d-8ed7-47a1-a1b0-0471a77e9af0",
    "_uuid": "bb7f095fc6b213d727b36798294d56a6ab950f5b",
    "id": "hBlY7rrUePQD"
   },
   "source": [
    "\n",
    "\n",
    "Com o corpus de bag of words, podemos prosseguir para aprender nosso modelo de tópico a partir dos documentos."
   ]
  },
  {
   "cell_type": "markdown",
   "metadata": {
    "_cell_guid": "ff8fbb06-d7f2-4170-b91c-151e3c5c9cad",
    "_uuid": "49a8f93233d2640b476e093390182e21102ae555",
    "id": "No58jWGgePQD"
   },
   "source": [
    "# Entrenando LDA"
   ]
  },
  {
   "cell_type": "code",
   "execution_count": 15,
   "metadata": {
    "ExecuteTime": {
     "end_time": "2022-02-23T15:47:32.935837Z",
     "start_time": "2022-02-23T15:47:32.930225Z"
    },
    "_cell_guid": "f15e826a-f41b-410a-9ff9-ef19edc05085",
    "_uuid": "b11f495c4fcf6991c523d5a3b6669506f39533ee",
    "executionInfo": {
     "elapsed": 14,
     "status": "ok",
     "timestamp": 1642538404218,
     "user": {
      "displayName": "Leonardo Mendonza",
      "photoUrl": "https://lh3.googleusercontent.com/a-/AOh14Gj5F1JVSmHodKCvWHgDPYmDyFo_nUl5lqEXNbsW=s64",
      "userId": "09205135724810578413"
     },
     "user_tz": 180
    },
    "id": "Fb1p3x-MePQD"
   },
   "outputs": [],
   "source": [
    "from gensim.models import LdaModel"
   ]
  },
  {
   "cell_type": "code",
   "execution_count": null,
   "metadata": {
    "ExecuteTime": {
     "start_time": "2022-02-23T15:46:20.182Z"
    },
    "_cell_guid": "5f8f0fa0-b911-4043-af2c-ec311384d7a5",
    "_uuid": "084c1198f0e528c52edc746436d797c855de8c51",
    "colab": {
     "base_uri": "https://localhost:8080/"
    },
    "executionInfo": {
     "elapsed": 428682,
     "status": "ok",
     "timestamp": 1642539723825,
     "user": {
      "displayName": "Leonardo Mendonza",
      "photoUrl": "https://lh3.googleusercontent.com/a-/AOh14Gj5F1JVSmHodKCvWHgDPYmDyFo_nUl5lqEXNbsW=s64",
      "userId": "09205135724810578413"
     },
     "user_tz": 180
    },
    "id": "0NNGy2ZmePQF",
    "outputId": "eed91373-a25b-4fd6-ca60-5b63a8373ca5"
   },
   "outputs": [],
   "source": [
    "# Set training parameters.\n",
    "num_topics = 6\n",
    "chunksize = 500 # size of the doc looked at every pass\n",
    "passes = 20 # number of passes through documents\n",
    "iterations = 400\n",
    "eval_every = 1  # Don't evaluate model perplexity, takes too much time.\n",
    "\n",
    "# Make a index to word dictionary.\n",
    "temp = dictionary[0]  # This is only to \"load\" the dictionary.\n",
    "id2word = dictionary.id2token\n",
    "\n",
    "%time model = LdaModel(corpus=corpus, id2word=id2word, chunksize=chunksize, \\\n",
    "                       alpha='auto', eta='auto', \\\n",
    "                       iterations=iterations, num_topics=num_topics, \\\n",
    "                       passes=passes, eval_every=eval_every)"
   ]
  },
  {
   "cell_type": "code",
   "execution_count": null,
   "metadata": {
    "ExecuteTime": {
     "start_time": "2022-02-23T15:46:36.567Z"
    },
    "colab": {
     "base_uri": "https://localhost:8080/"
    },
    "executionInfo": {
     "elapsed": 318,
     "status": "ok",
     "timestamp": 1642539062025,
     "user": {
      "displayName": "Leonardo Mendonza",
      "photoUrl": "https://lh3.googleusercontent.com/a-/AOh14Gj5F1JVSmHodKCvWHgDPYmDyFo_nUl5lqEXNbsW=s64",
      "userId": "09205135724810578413"
     },
     "user_tz": 180
    },
    "id": "Bxe73cma8e-m",
    "outputId": "ed5eeda0-e384-4821-8c1a-78b65e426173"
   },
   "outputs": [],
   "source": [
    "model.show_topics(num_topics,20)"
   ]
  },
  {
   "cell_type": "markdown",
   "metadata": {
    "_cell_guid": "93191a68-99d9-4b7d-88b2-5b75e3f44b1d",
    "_uuid": "f5f7c3e213b2fdffa3c767ebd5a1eb7631e76b13",
    "id": "-nUU7q-OePQI"
   },
   "source": [
    "# Como escolher a quantidade de tópicos?\n",
    "__LDA__ é uma técnica não supervisionada, o que significa que não sabemos antes de executar o modelo quantos tópicos existem em nosso corpus. A coerência do tópico é uma das principais técnicas utilizadas para desestimar o número de tópicos."
   ]
  },
  {
   "cell_type": "code",
   "execution_count": null,
   "metadata": {
    "ExecuteTime": {
     "end_time": "2022-02-08T23:57:21.759835Z",
     "start_time": "2022-02-08T23:57:21.759808Z"
    },
    "_cell_guid": "8b9015bc-0e3d-4ee9-9d79-92f2d9dba89f",
    "_uuid": "7e100266faefe67e6ce1131fa464c78630293984",
    "colab": {
     "base_uri": "https://localhost:8080/",
     "height": 35
    },
    "executionInfo": {
     "elapsed": 23,
     "status": "ok",
     "timestamp": 1642538837898,
     "user": {
      "displayName": "Leonardo Mendonza",
      "photoUrl": "https://lh3.googleusercontent.com/a-/AOh14Gj5F1JVSmHodKCvWHgDPYmDyFo_nUl5lqEXNbsW=s64",
      "userId": "09205135724810578413"
     },
     "user_tz": 180
    },
    "id": "4fk6tS_cePQI",
    "outputId": "fdab19fd-52e2-40a2-eb45-ae15a605afce"
   },
   "outputs": [],
   "source": [
    "import pyLDAvis\n",
    "import pyLDAvis.gensim_models as gensimvis\n",
    "pyLDAvis.enable_notebook()\n",
    "pyLDAvis.__version__"
   ]
  },
  {
   "cell_type": "code",
   "execution_count": null,
   "metadata": {
    "ExecuteTime": {
     "end_time": "2022-02-08T23:57:21.762133Z",
     "start_time": "2022-02-08T23:57:21.762099Z"
    },
    "_cell_guid": "483a506d-d21b-4219-948d-87ae641b04ab",
    "_uuid": "f195b367d556a559c4db98446e9c9148758a95f6",
    "colab": {
     "base_uri": "https://localhost:8080/",
     "height": 896
    },
    "executionInfo": {
     "elapsed": 6979,
     "status": "ok",
     "timestamp": 1642538844862,
     "user": {
      "displayName": "Leonardo Mendonza",
      "photoUrl": "https://lh3.googleusercontent.com/a-/AOh14Gj5F1JVSmHodKCvWHgDPYmDyFo_nUl5lqEXNbsW=s64",
      "userId": "09205135724810578413"
     },
     "user_tz": 180
    },
    "id": "wCAN5DPxePQK",
    "outputId": "0c25f11a-2e33-42c7-e57a-18f9805ea53a"
   },
   "outputs": [],
   "source": [
    "gensimvis.prepare(model, corpus, dictionary)"
   ]
  },
  {
   "cell_type": "markdown",
   "metadata": {
    "_cell_guid": "aa6b35ff-22bf-44a7-ba48-2c7a368407fe",
    "_uuid": "864ddc392f72ba631bf372d038385d72301816ec",
    "id": "_cmy3kuwePQM"
   },
   "source": [
    "** O que vemos aqui? **\n",
    "\n",
    "** O painel esquerdo **, rotulado Mapa de distância intertópica, os círculos representam diferentes tópicos e a distância entre eles. Tópicos semelhantes aparecem mais próximos e tópicos diferentes mais distantes.\n",
    "O tamanho relativo do círculo de um tópico no gráfico corresponde à frequência relativa do tópico no corpus.\n",
    "Um tópico individual pode ser selecionado para um exame mais detalhado clicando em seu círculo ou inserindo seu número na caixa \"tópico selecionado\" no canto superior esquerdo.\n",
    " \n",
    "** O painel direito ** inclui o gráfico de barras dos 30 principais termos. Quando nenhum tópico é selecionado no gráfico à esquerda, o gráfico de barras mostra os 30 termos mais \"salientes\" no corpus. A saliência de um termo é uma medida de quão frequente o termo é no corpus e quão \"distinto\" ele é na distinção entre diferentes tópicos.\n",
    "Selecionar cada tópico à direita modifica o gráfico de barras para mostrar os termos \"relevantes\" para o tópico selecionado.\n",
    "A relevância é definida como no rodapé 2 e pode ser ajustada pelo parâmetro $ \\ lambda $, menor $ \\ lambda $ dá maior peso à distinção do termo, enquanto $ \\ lambda $ s maior corresponde à probabilidade da ocorrência do termo por tópicos.\n",
    "\n",
    "Portanto, para ter uma noção melhor dos termos por tópico, usaremos $ \\ lambda $ = 0."
   ]
  },
  {
   "cell_type": "markdown",
   "metadata": {
    "_cell_guid": "66d42d65-8258-40bf-9fb0-d304f4ed54ea",
    "_uuid": "132463131ee73972307d5a3560da8db816f519e2",
    "id": "7oK7drBkePQN"
   },
   "source": []
  },
  {
   "cell_type": "code",
   "execution_count": null,
   "metadata": {
    "executionInfo": {
     "elapsed": 15,
     "status": "ok",
     "timestamp": 1642538844863,
     "user": {
      "displayName": "Leonardo Mendonza",
      "photoUrl": "https://lh3.googleusercontent.com/a-/AOh14Gj5F1JVSmHodKCvWHgDPYmDyFo_nUl5lqEXNbsW=s64",
      "userId": "09205135724810578413"
     },
     "user_tz": 180
    },
    "id": "AFB7R9NO3OSZ"
   },
   "outputs": [],
   "source": []
  }
 ],
 "metadata": {
  "colab": {
   "collapsed_sections": [],
   "name": "ldaportugues.ipynb",
   "provenance": []
  },
  "kernelspec": {
   "display_name": "Python 3 (ipykernel)",
   "language": "python",
   "name": "python3"
  },
  "language_info": {
   "codemirror_mode": {
    "name": "ipython",
    "version": 3
   },
   "file_extension": ".py",
   "mimetype": "text/x-python",
   "name": "python",
   "nbconvert_exporter": "python",
   "pygments_lexer": "ipython3",
   "version": "3.8.11"
  }
 },
 "nbformat": 4,
 "nbformat_minor": 1
}
