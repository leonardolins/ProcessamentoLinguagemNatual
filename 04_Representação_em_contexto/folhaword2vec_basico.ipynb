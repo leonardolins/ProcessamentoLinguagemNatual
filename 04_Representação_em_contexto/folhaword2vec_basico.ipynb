{
 "cells": [
  {
   "cell_type": "markdown",
   "metadata": {
    "_cell_guid": "cf9c206a-45c3-4926-9734-bb9f8c3ebcbe",
    "_uuid": "b170c0be3d0e00464d14336dd1c2700638a3113f",
    "id": "zlSF4AhsJQag"
   },
   "source": [
    "## Vamos a usar as seguintes bibliotecas"
   ]
  },
  {
   "cell_type": "code",
   "execution_count": 1,
   "metadata": {
    "ExecuteTime": {
     "end_time": "2022-01-15T03:51:21.066391Z",
     "start_time": "2022-01-15T03:51:11.570471Z"
    },
    "_cell_guid": "2dac8430-eb94-437b-9a43-d75507b355cb",
    "_uuid": "391497a173f27115dc4deeccfd1d69145ee30cb2",
    "colab": {
     "base_uri": "https://localhost:8080/"
    },
    "executionInfo": {
     "elapsed": 7908,
     "status": "ok",
     "timestamp": 1640114991020,
     "user": {
      "displayName": "Leonardo Mendonza",
      "photoUrl": "https://lh3.googleusercontent.com/a-/AOh14Gj5F1JVSmHodKCvWHgDPYmDyFo_nUl5lqEXNbsW=s64",
      "userId": "09205135724810578413"
     },
     "user_tz": 180
    },
    "id": "17PM9Ng8JQai",
    "outputId": "b1e9380f-5c4b-42ae-f8fc-70bb9709ca68"
   },
   "outputs": [
    {
     "name": "stdout",
     "output_type": "stream",
     "text": [
      "2.6.2\n"
     ]
    }
   ],
   "source": [
    "#Load required libraries\n",
    "import numpy as np\n",
    "import pandas as pd\n",
    "#For displaying complete rows info\n",
    "pd.options.display.max_colwidth=500\n",
    "import tensorflow as tf\n",
    "import spacy\n",
    "from nltk.tokenize import sent_tokenize, word_tokenize\n",
    "from nltk.corpus import stopwords\n",
    "from collections import Counter\n",
    "print(tf.__version__)\n"
   ]
  },
  {
   "cell_type": "code",
   "execution_count": 2,
   "metadata": {
    "ExecuteTime": {
     "end_time": "2022-01-11T23:35:45.748661Z",
     "start_time": "2022-01-11T23:35:45.742972Z"
    },
    "colab": {
     "base_uri": "https://localhost:8080/"
    },
    "executionInfo": {
     "elapsed": 17411,
     "status": "ok",
     "timestamp": 1640115008426,
     "user": {
      "displayName": "Leonardo Mendonza",
      "photoUrl": "https://lh3.googleusercontent.com/a-/AOh14Gj5F1JVSmHodKCvWHgDPYmDyFo_nUl5lqEXNbsW=s64",
      "userId": "09205135724810578413"
     },
     "user_tz": 180
    },
    "id": "YgIh2HiYJa1A",
    "outputId": "f03145b6-f674-4076-bbbd-47c9a03bcb7e"
   },
   "outputs": [],
   "source": [
    "#from google.colab import drive\n",
    "#drive.mount('/content/drive')"
   ]
  },
  {
   "cell_type": "code",
   "execution_count": 3,
   "metadata": {
    "ExecuteTime": {
     "end_time": "2022-01-11T23:35:45.772835Z",
     "start_time": "2022-01-11T23:35:45.761924Z"
    },
    "executionInfo": {
     "elapsed": 948,
     "status": "ok",
     "timestamp": 1640115014898,
     "user": {
      "displayName": "Leonardo Mendonza",
      "photoUrl": "https://lh3.googleusercontent.com/a-/AOh14Gj5F1JVSmHodKCvWHgDPYmDyFo_nUl5lqEXNbsW=s64",
      "userId": "09205135724810578413"
     },
     "user_tz": 180
    },
    "id": "0bPf4IMrJc-P"
   },
   "outputs": [],
   "source": [
    "#import os\n",
    "#workdir_path = '/content/drive/My Drive' #MODIFICAR!!! #Caminho para o seu workspace\n",
    "#os.chdir(workdir_path)"
   ]
  },
  {
   "cell_type": "markdown",
   "metadata": {
    "_cell_guid": "391f6f76-d17a-471a-9a20-8637bd3289e2",
    "_uuid": "afc9ee988519685b5d099ce9c0d30a4f35e6896a",
    "id": "tD4qk-_TJQak"
   },
   "source": [
    "### Carregamos os artigos"
   ]
  },
  {
   "cell_type": "code",
   "execution_count": 2,
   "metadata": {
    "ExecuteTime": {
     "end_time": "2022-01-15T03:51:46.689335Z",
     "start_time": "2022-01-15T03:51:32.410241Z"
    },
    "_cell_guid": "4b4bd792-e1ed-4c44-a4d8-6ac9c440c004",
    "_uuid": "0d366b2ab84088cf2a5564fdac06c151e27fa443",
    "executionInfo": {
     "elapsed": 12101,
     "status": "ok",
     "timestamp": 1640115027524,
     "user": {
      "displayName": "Leonardo Mendonza",
      "photoUrl": "https://lh3.googleusercontent.com/a-/AOh14Gj5F1JVSmHodKCvWHgDPYmDyFo_nUl5lqEXNbsW=s64",
      "userId": "09205135724810578413"
     },
     "user_tz": 180
    },
    "id": "CxUrL_PKJQal",
    "jupyter": {
     "outputs_hidden": true
    }
   },
   "outputs": [],
   "source": [
    "#Load data into pandas dataframe\n",
    "df=pd.read_csv(\"folha.csv\",encoding=\"utf8\")"
   ]
  },
  {
   "cell_type": "code",
   "execution_count": 3,
   "metadata": {
    "ExecuteTime": {
     "end_time": "2022-01-15T03:51:46.763602Z",
     "start_time": "2022-01-15T03:51:46.693429Z"
    },
    "_cell_guid": "9a239a57-0153-4183-b657-034e5873fd49",
    "_uuid": "18cf97c429b5d410fa09ba47ffab67d651670a70",
    "colab": {
     "base_uri": "https://localhost:8080/",
     "height": 260
    },
    "executionInfo": {
     "elapsed": 33,
     "status": "ok",
     "timestamp": 1640115027524,
     "user": {
      "displayName": "Leonardo Mendonza",
      "photoUrl": "https://lh3.googleusercontent.com/a-/AOh14Gj5F1JVSmHodKCvWHgDPYmDyFo_nUl5lqEXNbsW=s64",
      "userId": "09205135724810578413"
     },
     "user_tz": 180
    },
    "id": "otEV3KAHJQam",
    "outputId": "512e8198-8b0d-454e-cb06-b7308d64d188"
   },
   "outputs": [
    {
     "data": {
      "text/html": [
       "<div>\n",
       "<style scoped>\n",
       "    .dataframe tbody tr th:only-of-type {\n",
       "        vertical-align: middle;\n",
       "    }\n",
       "\n",
       "    .dataframe tbody tr th {\n",
       "        vertical-align: top;\n",
       "    }\n",
       "\n",
       "    .dataframe thead th {\n",
       "        text-align: right;\n",
       "    }\n",
       "</style>\n",
       "<table border=\"1\" class=\"dataframe\">\n",
       "  <thead>\n",
       "    <tr style=\"text-align: right;\">\n",
       "      <th></th>\n",
       "      <th>title</th>\n",
       "      <th>text</th>\n",
       "      <th>date</th>\n",
       "      <th>category</th>\n",
       "      <th>subcategory</th>\n",
       "      <th>link</th>\n",
       "    </tr>\n",
       "  </thead>\n",
       "  <tbody>\n",
       "    <tr>\n",
       "      <th>0</th>\n",
       "      <td>Lula diz que está 'lascado', mas que ainda tem força como cabo eleitoral</td>\n",
       "      <td>Com a possibilidade de uma condenação impedir sua candidatura em 2018, o ex-presidente Luiz Inácio Lula da Silva fez, nesta segunda (9), um discurso inflamado contra a Lava Jato, no qual disse saber que está \"lascado\", exigiu um pedido de desculpas do juiz Sergio Moro e afirmou que, mesmo fora da disputa pelo Planalto, será um cabo eleitoral expressivo para a sucessão de Michel Temer.  Segundo o petista, réu em sete ações penais, o objetivo de Moro é impedir sua candidatura no ano que vem, d...</td>\n",
       "      <td>2017-09-10</td>\n",
       "      <td>poder</td>\n",
       "      <td>NaN</td>\n",
       "      <td>http://www1.folha.uol.com.br/poder/2017/10/1925743-lula-diz-que-esta-lascado-mas-que-ainda-tem-forca-como-cabo-eleitoral.shtml</td>\n",
       "    </tr>\n",
       "    <tr>\n",
       "      <th>1</th>\n",
       "      <td>'Decidi ser escrava das mulheres que sofrem', diz cantora Oumou Sangaré</td>\n",
       "      <td>Para Oumou Sangaré, cantora e ativista malinesa, o sofrimento da mulher é universal. \"Canto com todas as minhas forças e vejo mulheres chorando ao meu redor\", disse durante um encontro na Casa da Cultura de Paraty, no Rio de Janeiro, neste domingo (8).  Herdeira da tradição musical de sua família –sua avó foi uma \"grande estrela\" do país africano–, ela conta que começou a cantar na rua para ajudar nas finanças de casa após o divórcio dos pais, que deixou seis filhos dependentes de sua mãe, t...</td>\n",
       "      <td>2017-09-10</td>\n",
       "      <td>ilustrada</td>\n",
       "      <td>NaN</td>\n",
       "      <td>http://www1.folha.uol.com.br/ilustrada/2017/10/1925745-decidi-ser-escrava-das-mulheres-que-sofrem-diz-cantora-oumou-sangare.shtml</td>\n",
       "    </tr>\n",
       "  </tbody>\n",
       "</table>\n",
       "</div>"
      ],
      "text/plain": [
       "                                                                      title  \\\n",
       "0  Lula diz que está 'lascado', mas que ainda tem força como cabo eleitoral   \n",
       "1   'Decidi ser escrava das mulheres que sofrem', diz cantora Oumou Sangaré   \n",
       "\n",
       "                                                                                                                                                                                                                                                                                                                                                                                                                                                                                                                  text  \\\n",
       "0  Com a possibilidade de uma condenação impedir sua candidatura em 2018, o ex-presidente Luiz Inácio Lula da Silva fez, nesta segunda (9), um discurso inflamado contra a Lava Jato, no qual disse saber que está \"lascado\", exigiu um pedido de desculpas do juiz Sergio Moro e afirmou que, mesmo fora da disputa pelo Planalto, será um cabo eleitoral expressivo para a sucessão de Michel Temer.  Segundo o petista, réu em sete ações penais, o objetivo de Moro é impedir sua candidatura no ano que vem, d...   \n",
       "1  Para Oumou Sangaré, cantora e ativista malinesa, o sofrimento da mulher é universal. \"Canto com todas as minhas forças e vejo mulheres chorando ao meu redor\", disse durante um encontro na Casa da Cultura de Paraty, no Rio de Janeiro, neste domingo (8).  Herdeira da tradição musical de sua família –sua avó foi uma \"grande estrela\" do país africano–, ela conta que começou a cantar na rua para ajudar nas finanças de casa após o divórcio dos pais, que deixou seis filhos dependentes de sua mãe, t...   \n",
       "\n",
       "         date   category subcategory  \\\n",
       "0  2017-09-10      poder         NaN   \n",
       "1  2017-09-10  ilustrada         NaN   \n",
       "\n",
       "                                                                                                                                link  \n",
       "0     http://www1.folha.uol.com.br/poder/2017/10/1925743-lula-diz-que-esta-lascado-mas-que-ainda-tem-forca-como-cabo-eleitoral.shtml  \n",
       "1  http://www1.folha.uol.com.br/ilustrada/2017/10/1925745-decidi-ser-escrava-das-mulheres-que-sofrem-diz-cantora-oumou-sangare.shtml  "
      ]
     },
     "execution_count": 3,
     "metadata": {},
     "output_type": "execute_result"
    }
   ],
   "source": [
    "df.head(2)"
   ]
  },
  {
   "cell_type": "code",
   "execution_count": 4,
   "metadata": {
    "ExecuteTime": {
     "end_time": "2022-01-15T03:51:50.099196Z",
     "start_time": "2022-01-15T03:51:50.090668Z"
    },
    "_cell_guid": "c172ce01-4093-46d3-b468-19fe2d7aafc3",
    "_uuid": "64b27adae324663955c353a723d08e8b69504d16",
    "colab": {
     "base_uri": "https://localhost:8080/"
    },
    "executionInfo": {
     "elapsed": 462,
     "status": "ok",
     "timestamp": 1640115027980,
     "user": {
      "displayName": "Leonardo Mendonza",
      "photoUrl": "https://lh3.googleusercontent.com/a-/AOh14Gj5F1JVSmHodKCvWHgDPYmDyFo_nUl5lqEXNbsW=s64",
      "userId": "09205135724810578413"
     },
     "user_tz": 180
    },
    "id": "uNGR9LKrJQan",
    "outputId": "699a88f1-1d43-41db-c403-46f41963331f"
   },
   "outputs": [
    {
     "name": "stdout",
     "output_type": "stream",
     "text": [
      "Lula diz que está 'lascado', mas que ainda tem força como cabo eleitoral \n",
      " Com a possibilidade de uma condenação impedir sua candidatura em 2018, o ex-presidente Luiz Inácio Lula da Silva fez, nesta segunda (9), um discurso inflamado contra a Lava Jato, no qual disse saber que está \"lascado\", exigiu um pedido de desculpas do juiz Sergio Moro e afirmou que, mesmo fora da disputa pelo Planalto, será um cabo eleitoral expressivo para a sucessão de Michel Temer.  Segundo o petista, réu em sete ações penais, o objetivo de Moro é impedir sua candidatura no ano que vem, desidratando-o, inclusive, no apoio a um nome alternativo, como o do ex-prefeito de São Paulo Fernando Haddad (PT), caso ele não possa concorrer à Presidência.  \"Eu sei que tô lascado, todo dia tem um processo. Eu não quero nem que Moro me absolva, eu só quero que ele peça desculpas\", disse Lula durante um seminário sobre educação em Brasília. \"Eles [investigadores] chegam a dizer: 'Ah, se o Lula não for candidato, ele não vai ter força como cabo eleitoral'. Testem\", completou o petista.  Para o ex-presidente, Moro usou \"mentiras contadas pela Polícia Federal e pelo Ministério Público\" para julgá-lo e condená-lo a nove anos e seis meses de prisão pelo caso do tríplex em Guarujá (SP).  O ex-presidente disse ainda não ter \"medo\" dos investigadores que, de acordo com ele, estão acostumados a \"mexer com deputados e senadores\" que temem as apurações.  \"Eu quero que eles saibam o seguinte: se eles estão acostumados a lidar com deputado que tem medo deles, a mexer com senadores que têm medo deles, quero dizer que tenho respeito profundo por quem me respeita, pelas leis que nós ajudamos a criar, mas não tenho respeito por quem não me respeita e eles não me respeitaram\", afirmou o petista.    De acordo com aliados, Lula não gosta de discutir, mesmo que nos bastidores, a chance de não ser candidato ao Planalto e a projeção do nome de Haddad como plano B do PT tem incomodado os mais próximos ao ex-presidente. O ex-prefeito, que estava no evento nesta segunda, fez um discurso rápido, de menos de dez minutos, em que encerrou dizendo esperar que Lula assuma a Presidência em 2019.  \"Espero que dia 1º de janeiro de 2019 esse pesadelo chamado Temer acabe e o senhor assuma a Presidência da República\", disse Haddad.  'DEMÔNIO DO MERCADO'  Lula voltou a fazer um discurso mais agressivo em relação ao mercado e disse que \"não tem cara de demônio\", mas quer que o respeitem \"como se fosse\".  \"Não tenho cara de demônio, mas quero que eles me respeitem como se eu fosse, porque eles sabem que a economia não vai ficar subordinada ao elitismo da sociedade brasileira\", disse o ex-presidente.  O petista rivalizou ainda com o deputado Jair Bolsonaro (PSC-RJ), segundo colocado nas últimas pesquisas empatado com Marina Silva, e disse que se ele \"agrada ao mercado\", o PT tem que \"desagradar\".  A Folha publicou nesta segunda (9) reportagem em que mostrou que o deputado ensaia movimento ao centro no debate econômico, adotando um discurso simpático aos investidores do mercado financeiro.\n"
     ]
    }
   ],
   "source": [
    "print(df[\"title\"][0],\"\\n\",df[\"text\"][0])"
   ]
  },
  {
   "cell_type": "markdown",
   "metadata": {
    "id": "uw9QrYMqmvNH"
   },
   "source": [
    "## removemos nans"
   ]
  },
  {
   "cell_type": "code",
   "execution_count": 5,
   "metadata": {
    "ExecuteTime": {
     "end_time": "2022-01-15T03:52:04.880273Z",
     "start_time": "2022-01-15T03:52:03.704928Z"
    },
    "_cell_guid": "b0ded491-8ba3-47ca-bd34-87d7681a2130",
    "_uuid": "d129ec892ff7fa4d254fd16ca6bec2225f7a0c7e",
    "executionInfo": {
     "elapsed": 6,
     "status": "ok",
     "timestamp": 1640115028207,
     "user": {
      "displayName": "Leonardo Mendonza",
      "photoUrl": "https://lh3.googleusercontent.com/a-/AOh14Gj5F1JVSmHodKCvWHgDPYmDyFo_nUl5lqEXNbsW=s64",
      "userId": "09205135724810578413"
     },
     "user_tz": 180
    },
    "id": "B476D68QJQap",
    "jupyter": {
     "outputs_hidden": true
    }
   },
   "outputs": [],
   "source": [
    "df.drop_duplicates(subset=[\"text\"],inplace=True)\n",
    "df.dropna(inplace=True)\n",
    "df.reset_index(drop=True,inplace=True)"
   ]
  },
  {
   "cell_type": "markdown",
   "metadata": {
    "_cell_guid": "c7036d1d-1af4-4c9f-8dd4-7778fdd61638",
    "_uuid": "64905c8257f5664ca7b548b5ed8bfd96a0676f15",
    "id": "Z4JbNiniJQaq"
   },
   "source": [
    "### WORD2VEC MODEL Usando Gensim"
   ]
  },
  {
   "cell_type": "code",
   "execution_count": 6,
   "metadata": {
    "ExecuteTime": {
     "end_time": "2022-01-15T03:52:11.332692Z",
     "start_time": "2022-01-15T03:52:08.786506Z"
    },
    "_cell_guid": "0cb07663-4eb5-4e16-925e-d3b21464e17b",
    "_uuid": "8701242bf521dbed094f5d427d6e68b55b77f978",
    "executionInfo": {
     "elapsed": 576,
     "status": "ok",
     "timestamp": 1640115028779,
     "user": {
      "displayName": "Leonardo Mendonza",
      "photoUrl": "https://lh3.googleusercontent.com/a-/AOh14Gj5F1JVSmHodKCvWHgDPYmDyFo_nUl5lqEXNbsW=s64",
      "userId": "09205135724810578413"
     },
     "user_tz": 180
    },
    "id": "FjgcsSodJQas",
    "jupyter": {
     "outputs_hidden": true
    }
   },
   "outputs": [],
   "source": [
    "import gensim\n",
    "import string\n",
    "import re"
   ]
  },
  {
   "cell_type": "code",
   "execution_count": 7,
   "metadata": {
    "ExecuteTime": {
     "end_time": "2022-01-15T03:52:13.422083Z",
     "start_time": "2022-01-15T03:52:13.176441Z"
    },
    "colab": {
     "base_uri": "https://localhost:8080/"
    },
    "executionInfo": {
     "elapsed": 709,
     "status": "ok",
     "timestamp": 1640115029485,
     "user": {
      "displayName": "Leonardo Mendonza",
      "photoUrl": "https://lh3.googleusercontent.com/a-/AOh14Gj5F1JVSmHodKCvWHgDPYmDyFo_nUl5lqEXNbsW=s64",
      "userId": "09205135724810578413"
     },
     "user_tz": 180
    },
    "id": "qKTOzHxkLC8V",
    "outputId": "6ce1a605-c10c-46f9-dd15-dc92aa4be2d8"
   },
   "outputs": [
    {
     "name": "stderr",
     "output_type": "stream",
     "text": [
      "[nltk_data] Downloading package punkt to\n",
      "[nltk_data]     /Users/LeonardoLins/nltk_data...\n",
      "[nltk_data]   Package punkt is already up-to-date!\n"
     ]
    },
    {
     "data": {
      "text/plain": [
       "True"
      ]
     },
     "execution_count": 7,
     "metadata": {},
     "output_type": "execute_result"
    }
   ],
   "source": [
    "import nltk\n",
    "nltk.download('punkt')"
   ]
  },
  {
   "cell_type": "markdown",
   "metadata": {
    "id": "WYczsGsrnyr7"
   },
   "source": [
    "## Deixamos todo mundo minúscula e tiramos a pontuação "
   ]
  },
  {
   "cell_type": "code",
   "execution_count": 8,
   "metadata": {
    "ExecuteTime": {
     "end_time": "2022-01-15T03:53:07.607653Z",
     "start_time": "2022-01-15T03:52:40.830683Z"
    },
    "colab": {
     "base_uri": "https://localhost:8080/",
     "height": 597
    },
    "executionInfo": {
     "elapsed": 14668,
     "status": "ok",
     "timestamp": 1640115044152,
     "user": {
      "displayName": "Leonardo Mendonza",
      "photoUrl": "https://lh3.googleusercontent.com/a-/AOh14Gj5F1JVSmHodKCvWHgDPYmDyFo_nUl5lqEXNbsW=s64",
      "userId": "09205135724810578413"
     },
     "user_tz": 180
    },
    "id": "CpfGwXEun-M6",
    "outputId": "24c1f2b8-327d-40b9-941a-fe51b3b71dbe"
   },
   "outputs": [
    {
     "data": {
      "text/html": [
       "<div>\n",
       "<style scoped>\n",
       "    .dataframe tbody tr th:only-of-type {\n",
       "        vertical-align: middle;\n",
       "    }\n",
       "\n",
       "    .dataframe tbody tr th {\n",
       "        vertical-align: top;\n",
       "    }\n",
       "\n",
       "    .dataframe thead th {\n",
       "        text-align: right;\n",
       "    }\n",
       "</style>\n",
       "<table border=\"1\" class=\"dataframe\">\n",
       "  <thead>\n",
       "    <tr style=\"text-align: right;\">\n",
       "      <th></th>\n",
       "      <th>title</th>\n",
       "      <th>text</th>\n",
       "      <th>date</th>\n",
       "      <th>category</th>\n",
       "      <th>subcategory</th>\n",
       "      <th>link</th>\n",
       "    </tr>\n",
       "  </thead>\n",
       "  <tbody>\n",
       "    <tr>\n",
       "      <th>0</th>\n",
       "      <td>\\n\\t\\tDa escola ao 1º emprego: como buscar um caminho profissional sem ter (ao menos ainda) um diploma universitário\\n\\t\\t</td>\n",
       "      <td>da bbc brasil  o trimestre de maio a julho deste ano foi encerrado com um índice de desemprego na casa de        o percentual assusta  mas é menor do que os      apurados no fim do período imediatamente anterior  os dados mostram um quadro preocupante  mas que sugere que o pior da crise pode já ter ficado para trás   só que a situação dos trabalhadores entre   e   anos é mais complicada do que a da média   segundo a mesma pesquisa do ibge  nada menos do que      dos jovens nessa faixa etária...</td>\n",
       "      <td>2017-09-10</td>\n",
       "      <td>sobretudo</td>\n",
       "      <td>carreiras</td>\n",
       "      <td>http://www1.folha.uol.com.br/sobretudo/carreiras/2017/10/1925565-da-escola-ao-1-emprego-como-buscar-um-caminho-profissional-sem-ter-ao-menos-ainda-um-diploma-universitario.shtml</td>\n",
       "    </tr>\n",
       "    <tr>\n",
       "      <th>1</th>\n",
       "      <td>50 anos depois da morte, o Che é apenas uma foto na camiseta</td>\n",
       "      <td>ernesto rafael guevara de la serna  o homem  morreu  assassinado  na bolívia há exatos   anos neste   de outubro   mas o  che   o revolucionário  morrera antes na cuba em que estão enterrados seus restos   o  che  perdeu internamente a batalha de ideias pelo modelo econômico que deveria ser implantado na ilha  prevaleceu o modelo soviético  imposto pela necessidade de preservar o financiamento que a união soviética concedia a cuba   escreve  por exemplo  para  el país  o historiador cubano r...</td>\n",
       "      <td>2017-09-10</td>\n",
       "      <td>colunas</td>\n",
       "      <td>clovisrossi</td>\n",
       "      <td>http://www1.folha.uol.com.br/colunas/clovisrossi/2017/10/1925562-50-anos-depois-da-morte-o-che-e-apenas-uma-foto-na-camiseta.shtml</td>\n",
       "    </tr>\n",
       "    <tr>\n",
       "      <th>2</th>\n",
       "      <td>Afinal, nosso voto tem preço?</td>\n",
       "      <td>a reforma política aprovada pelo congresso deixa claro o seu objetivo  impedir a renovação  os mecanismos implementados servirão basicamente para resolver o maior problema dos grandes partidos políticos  a falta de dinheiro para financiar as suas campanhas   essa demanda desesperada por recursos públicos revela a natureza e a qualidade da nossa representatividade   os partidos não conseguem convencer o cidadão dos seus planos para o país que justifique um investimento nas suas propostas  ao ...</td>\n",
       "      <td>2017-09-10</td>\n",
       "      <td>colunas</td>\n",
       "      <td>joao-amoedo</td>\n",
       "      <td>http://www1.folha.uol.com.br/colunas/joao-amoedo/2017/10/1925545-afinal-nosso-voto-tem-preco.shtml</td>\n",
       "    </tr>\n",
       "    <tr>\n",
       "      <th>3</th>\n",
       "      <td>Cientista dá psicodélico para minicérebros, e eles gostam</td>\n",
       "      <td>a batalha de jovens neurocientistas para reabilitar drogas psicodélicas dá mais um passo nesta segunda feira      desta vez com a ajuda de minicérebros  um grupo do rio de janeiro tratou essas esferas de células neurais com dmt e constatou uma série de efeitos benéficos   a pesquisa aparece no periódico  scientific reports   do grupo nature  sob o título  alterações de curto prazo no proteoma de organoides cerebrais humanos induzidas por   meo dmt    o composto   meo dmt pertence à da famíli...</td>\n",
       "      <td>2017-09-10</td>\n",
       "      <td>colunas</td>\n",
       "      <td>marceloleite</td>\n",
       "      <td>http://www1.folha.uol.com.br/colunas/marceloleite/2017/10/1925096-cientista-da-psicodelico-para-minicerebros-e-eles-gostam.shtml</td>\n",
       "    </tr>\n",
       "    <tr>\n",
       "      <th>4</th>\n",
       "      <td>Reestruturação da Sabesp deverá ser levada à Justiça por setor de limpeza</td>\n",
       "      <td>associações de empresas de limpeza urbana e resíduos sólidos estudam entrar com uma ação contra a reestruturação societária da sabesp  aprovada em setembro   o temor é que a companhia paulista passe a oferecer novos serviços —como coleta ou operação de aterros—  e aproveite sua capilaridade entre os municípios para ter uma concorrência desleal    possivelmente seria uma adi  ação direta de inconstitucionalidade  ou uma ação junto ao cade  órgão que regula a concorrência   afirma wladimir rib...</td>\n",
       "      <td>2017-09-10</td>\n",
       "      <td>colunas</td>\n",
       "      <td>mercadoaberto</td>\n",
       "      <td>http://www1.folha.uol.com.br/colunas/mercadoaberto/2017/10/1925191-reestruturacao-da-sabesp-devera-ser-levada-a-justica-por-setor-de-limpeza.shtml</td>\n",
       "    </tr>\n",
       "  </tbody>\n",
       "</table>\n",
       "</div>"
      ],
      "text/plain": [
       "                                                                                                                        title  \\\n",
       "0  \\n\\t\\tDa escola ao 1º emprego: como buscar um caminho profissional sem ter (ao menos ainda) um diploma universitário\\n\\t\\t   \n",
       "1                                                                50 anos depois da morte, o Che é apenas uma foto na camiseta   \n",
       "2                                                                                               Afinal, nosso voto tem preço?   \n",
       "3                                                                   Cientista dá psicodélico para minicérebros, e eles gostam   \n",
       "4                                                   Reestruturação da Sabesp deverá ser levada à Justiça por setor de limpeza   \n",
       "\n",
       "                                                                                                                                                                                                                                                                                                                                                                                                                                                                                                                  text  \\\n",
       "0  da bbc brasil  o trimestre de maio a julho deste ano foi encerrado com um índice de desemprego na casa de        o percentual assusta  mas é menor do que os      apurados no fim do período imediatamente anterior  os dados mostram um quadro preocupante  mas que sugere que o pior da crise pode já ter ficado para trás   só que a situação dos trabalhadores entre   e   anos é mais complicada do que a da média   segundo a mesma pesquisa do ibge  nada menos do que      dos jovens nessa faixa etária...   \n",
       "1  ernesto rafael guevara de la serna  o homem  morreu  assassinado  na bolívia há exatos   anos neste   de outubro   mas o  che   o revolucionário  morrera antes na cuba em que estão enterrados seus restos   o  che  perdeu internamente a batalha de ideias pelo modelo econômico que deveria ser implantado na ilha  prevaleceu o modelo soviético  imposto pela necessidade de preservar o financiamento que a união soviética concedia a cuba   escreve  por exemplo  para  el país  o historiador cubano r...   \n",
       "2  a reforma política aprovada pelo congresso deixa claro o seu objetivo  impedir a renovação  os mecanismos implementados servirão basicamente para resolver o maior problema dos grandes partidos políticos  a falta de dinheiro para financiar as suas campanhas   essa demanda desesperada por recursos públicos revela a natureza e a qualidade da nossa representatividade   os partidos não conseguem convencer o cidadão dos seus planos para o país que justifique um investimento nas suas propostas  ao ...   \n",
       "3  a batalha de jovens neurocientistas para reabilitar drogas psicodélicas dá mais um passo nesta segunda feira      desta vez com a ajuda de minicérebros  um grupo do rio de janeiro tratou essas esferas de células neurais com dmt e constatou uma série de efeitos benéficos   a pesquisa aparece no periódico  scientific reports   do grupo nature  sob o título  alterações de curto prazo no proteoma de organoides cerebrais humanos induzidas por   meo dmt    o composto   meo dmt pertence à da famíli...   \n",
       "4  associações de empresas de limpeza urbana e resíduos sólidos estudam entrar com uma ação contra a reestruturação societária da sabesp  aprovada em setembro   o temor é que a companhia paulista passe a oferecer novos serviços —como coleta ou operação de aterros—  e aproveite sua capilaridade entre os municípios para ter uma concorrência desleal    possivelmente seria uma adi  ação direta de inconstitucionalidade  ou uma ação junto ao cade  órgão que regula a concorrência   afirma wladimir rib...   \n",
       "\n",
       "         date   category    subcategory  \\\n",
       "0  2017-09-10  sobretudo      carreiras   \n",
       "1  2017-09-10    colunas    clovisrossi   \n",
       "2  2017-09-10    colunas    joao-amoedo   \n",
       "3  2017-09-10    colunas   marceloleite   \n",
       "4  2017-09-10    colunas  mercadoaberto   \n",
       "\n",
       "                                                                                                                                                                                link  \n",
       "0  http://www1.folha.uol.com.br/sobretudo/carreiras/2017/10/1925565-da-escola-ao-1-emprego-como-buscar-um-caminho-profissional-sem-ter-ao-menos-ainda-um-diploma-universitario.shtml  \n",
       "1                                                 http://www1.folha.uol.com.br/colunas/clovisrossi/2017/10/1925562-50-anos-depois-da-morte-o-che-e-apenas-uma-foto-na-camiseta.shtml  \n",
       "2                                                                                 http://www1.folha.uol.com.br/colunas/joao-amoedo/2017/10/1925545-afinal-nosso-voto-tem-preco.shtml  \n",
       "3                                                   http://www1.folha.uol.com.br/colunas/marceloleite/2017/10/1925096-cientista-da-psicodelico-para-minicerebros-e-eles-gostam.shtml  \n",
       "4                                 http://www1.folha.uol.com.br/colunas/mercadoaberto/2017/10/1925191-reestruturacao-da-sabesp-devera-ser-levada-a-justica-por-setor-de-limpeza.shtml  "
      ]
     },
     "execution_count": 8,
     "metadata": {},
     "output_type": "execute_result"
    }
   ],
   "source": [
    "import re\n",
    "import string\n",
    "\n",
    "alphanumeric = lambda x: re.sub(r\"\"\"\\w*\\d\\w*\"\"\", ' ', x)\n",
    "punc_lower = lambda x: re.sub('[%s]' % re.escape(string.punctuation), ' ', x.lower())\n",
    "\n",
    "df['text'] = df.text.map(alphanumeric).map(punc_lower)\n",
    "df.head()"
   ]
  },
  {
   "cell_type": "markdown",
   "metadata": {
    "id": "RqwYGQo5LNQB"
   },
   "source": [
    "## Tokenizamos e guardamos todo em um unico repositorio"
   ]
  },
  {
   "cell_type": "code",
   "execution_count": 9,
   "metadata": {
    "ExecuteTime": {
     "end_time": "2022-01-15T04:37:32.920224Z",
     "start_time": "2022-01-15T04:37:32.904126Z"
    },
    "executionInfo": {
     "elapsed": 4,
     "status": "ok",
     "timestamp": 1640115044153,
     "user": {
      "displayName": "Leonardo Mendonza",
      "photoUrl": "https://lh3.googleusercontent.com/a-/AOh14Gj5F1JVSmHodKCvWHgDPYmDyFo_nUl5lqEXNbsW=s64",
      "userId": "09205135724810578413"
     },
     "user_tz": 180
    },
    "id": "aYNDOBrh-qGZ"
   },
   "outputs": [],
   "source": [
    "from nltk.tokenize import word_tokenize"
   ]
  },
  {
   "cell_type": "markdown",
   "metadata": {
    "id": "OChAE3jJ_vJ2"
   },
   "source": [
    "## transformando em uma lista de tokens"
   ]
  },
  {
   "cell_type": "markdown",
   "metadata": {
    "id": "bgx7Z4dOBNea"
   },
   "source": [
    "#### Aplicamos o modelo word2vec. Por default o modelo vem com uma janela de 5. Troque e compare os resultados com os dados na aula agregue window= ??? e 50 dimensões."
   ]
  },
  {
   "cell_type": "code",
   "execution_count": 10,
   "metadata": {
    "ExecuteTime": {
     "end_time": "2022-01-15T04:40:15.490090Z",
     "start_time": "2022-01-15T04:38:42.975577Z"
    },
    "executionInfo": {
     "elapsed": 58171,
     "status": "ok",
     "timestamp": 1640115102321,
     "user": {
      "displayName": "Leonardo Mendonza",
      "photoUrl": "https://lh3.googleusercontent.com/a-/AOh14Gj5F1JVSmHodKCvWHgDPYmDyFo_nUl5lqEXNbsW=s64",
      "userId": "09205135724810578413"
     },
     "user_tz": 180
    },
    "id": "_x5GKKi0_Eyd"
   },
   "outputs": [],
   "source": [
    "corpus = df.text.apply(lambda x:word_tokenize(x))"
   ]
  },
  {
   "cell_type": "code",
   "execution_count": 11,
   "metadata": {
    "ExecuteTime": {
     "end_time": "2022-01-15T04:41:54.960757Z",
     "start_time": "2022-01-15T04:40:20.429040Z"
    },
    "_cell_guid": "3bdf461b-9c34-4253-b3a2-78ad8db2d38e",
    "_uuid": "40a70124009f92e3f43f9c4d1f587900702f8170",
    "executionInfo": {
     "elapsed": 124302,
     "status": "ok",
     "timestamp": 1640115226618,
     "user": {
      "displayName": "Leonardo Mendonza",
      "photoUrl": "https://lh3.googleusercontent.com/a-/AOh14Gj5F1JVSmHodKCvWHgDPYmDyFo_nUl5lqEXNbsW=s64",
      "userId": "09205135724810578413"
     },
     "user_tz": 180
    },
    "id": "w02aUgmaJQau",
    "jupyter": {
     "outputs_hidden": true
    }
   },
   "outputs": [],
   "source": [
    "model = gensim.models.Word2Vec(corpus, window=3, vector_size=100) # size = 100"
   ]
  },
  {
   "cell_type": "code",
   "execution_count": 12,
   "metadata": {
    "ExecuteTime": {
     "end_time": "2022-01-15T04:43:20.526286Z",
     "start_time": "2022-01-15T04:43:20.506608Z"
    },
    "colab": {
     "base_uri": "https://localhost:8080/"
    },
    "executionInfo": {
     "elapsed": 29,
     "status": "ok",
     "timestamp": 1640115226619,
     "user": {
      "displayName": "Leonardo Mendonza",
      "photoUrl": "https://lh3.googleusercontent.com/a-/AOh14Gj5F1JVSmHodKCvWHgDPYmDyFo_nUl5lqEXNbsW=s64",
      "userId": "09205135724810578413"
     },
     "user_tz": 180
    },
    "id": "wsAxZgmI9UOZ",
    "outputId": "95fc41a9-45b7-4573-e2ee-430583c3e98a"
   },
   "outputs": [
    {
     "data": {
      "text/plain": [
       "array([ 0.2636147 ,  0.65593046,  0.00799805,  0.2070306 ,  0.6517422 ,\n",
       "       -0.9403182 , -0.03978563,  1.210654  , -0.9878935 ,  0.01232203,\n",
       "        0.00344867,  0.23950419, -1.1713128 , -0.28245938, -0.16706863,\n",
       "       -0.29117787, -0.02720916, -0.43869367,  0.70226115, -0.50060475,\n",
       "       -0.6800562 ,  1.3212764 ,  0.9921837 ,  0.16720484, -0.7411293 ,\n",
       "        0.14260462,  0.3613299 , -1.3521957 , -0.45617908,  1.0293871 ,\n",
       "       -0.20602031,  0.57930523,  0.01221772, -1.3924181 ,  0.83379257,\n",
       "       -1.1919478 ,  0.04067051,  0.8620389 , -0.3266618 ,  0.83124244,\n",
       "        0.5161149 , -0.2970001 ,  0.16783258,  0.08364815, -1.3535153 ,\n",
       "        1.216139  ,  0.4905827 , -1.5111136 ,  0.698743  ,  0.4880476 ,\n",
       "        1.1044104 ,  0.46687508, -1.3265029 , -0.49161437, -0.7723586 ,\n",
       "       -1.9111967 , -0.16028227, -0.44543266, -0.5156889 , -2.0125527 ,\n",
       "        0.6659786 , -0.29586506, -0.5731451 , -0.7506465 , -0.5536642 ,\n",
       "        0.05319941,  0.01309001,  0.8342715 , -1.5442085 ,  0.358604  ,\n",
       "       -0.89758587, -0.35336357,  0.6162894 ,  2.036178  ,  0.3563722 ,\n",
       "        2.0809414 ,  1.0645036 ,  0.05107787, -0.9719281 ,  0.52200156,\n",
       "       -0.5439055 , -0.28281096,  0.9892798 , -0.10979988,  0.18365084,\n",
       "        0.5768328 , -0.40817744,  0.9283373 ,  0.460547  ,  0.2873438 ,\n",
       "       -1.2409918 ,  0.76905155, -0.56403005, -0.5552877 ,  0.02565559,\n",
       "       -0.80624866, -0.04342258,  0.52263737,  0.20672056,  0.6210363 ],\n",
       "      dtype=float32)"
      ]
     },
     "execution_count": 12,
     "metadata": {},
     "output_type": "execute_result"
    }
   ],
   "source": [
    "model.wv['fluminense'] #vetor com 100 posições, pode ser com qualquer valor."
   ]
  },
  {
   "cell_type": "code",
   "execution_count": 13,
   "metadata": {
    "ExecuteTime": {
     "end_time": "2022-01-15T04:43:24.772118Z",
     "start_time": "2022-01-15T04:43:24.704684Z"
    },
    "_cell_guid": "bfcd34ad-161c-42bf-ac2f-92c9973c9176",
    "_uuid": "2a6eb0f479b76176465ab64b80629c692d665b69",
    "colab": {
     "base_uri": "https://localhost:8080/"
    },
    "executionInfo": {
     "elapsed": 20,
     "status": "ok",
     "timestamp": 1640115226619,
     "user": {
      "displayName": "Leonardo Mendonza",
      "photoUrl": "https://lh3.googleusercontent.com/a-/AOh14Gj5F1JVSmHodKCvWHgDPYmDyFo_nUl5lqEXNbsW=s64",
      "userId": "09205135724810578413"
     },
     "user_tz": 180
    },
    "id": "hRJnNAcFJQau",
    "outputId": "fb4f42de-27c8-4e2a-f7e1-df81cade632c"
   },
   "outputs": [
    {
     "data": {
      "text/plain": [
       "[('equipe', 0.7990208864212036),\n",
       " ('natação', 0.7541236281394958),\n",
       " ('delegação', 0.7075871229171753),\n",
       " ('libertadores', 0.7010970115661621),\n",
       " ('cbf', 0.6900712847709656),\n",
       " ('torcida', 0.6796157956123352),\n",
       " ('competição', 0.6743165254592896),\n",
       " ('fifa', 0.6611928939819336),\n",
       " ('semifinal', 0.6492189764976501),\n",
       " ('partida', 0.6424492597579956)]"
      ]
     },
     "execution_count": 13,
     "metadata": {},
     "output_type": "execute_result"
    }
   ],
   "source": [
    "model.wv.most_similar(\"seleção\") #distancia vetorial entre pontos mais similares"
   ]
  },
  {
   "cell_type": "code",
   "execution_count": 14,
   "metadata": {
    "ExecuteTime": {
     "end_time": "2022-01-15T04:43:30.692724Z",
     "start_time": "2022-01-15T04:43:30.679994Z"
    },
    "_cell_guid": "44e57fdf-9443-416f-a8fa-2453c53acee2",
    "_uuid": "bab8165906ad21695f62a809151b0d64d9a5ba38",
    "colab": {
     "base_uri": "https://localhost:8080/"
    },
    "executionInfo": {
     "elapsed": 17,
     "status": "ok",
     "timestamp": 1640115226621,
     "user": {
      "displayName": "Leonardo Mendonza",
      "photoUrl": "https://lh3.googleusercontent.com/a-/AOh14Gj5F1JVSmHodKCvWHgDPYmDyFo_nUl5lqEXNbsW=s64",
      "userId": "09205135724810578413"
     },
     "user_tz": 180
    },
    "id": "JJZ526YHJQaw",
    "outputId": "fed852e1-5c41-4cdd-f03b-7e4649af9f25"
   },
   "outputs": [
    {
     "data": {
      "text/plain": [
       "[('propinas', 0.7173401117324829),\n",
       " ('empreiteira', 0.6591830849647522),\n",
       " ('suborno', 0.6528440713882446),\n",
       " ('odebrecht', 0.6420326828956604),\n",
       " ('indenização', 0.6302095055580139),\n",
       " ('petrobras', 0.6067284941673279),\n",
       " ('oas', 0.6043866276741028),\n",
       " ('pf', 0.5961465835571289),\n",
       " ('multa', 0.5902708172798157),\n",
       " ('pensão', 0.5792675018310547)]"
      ]
     },
     "execution_count": 14,
     "metadata": {},
     "output_type": "execute_result"
    }
   ],
   "source": [
    "model.wv.most_similar(\"propina\")"
   ]
  },
  {
   "cell_type": "code",
   "execution_count": 15,
   "metadata": {
    "ExecuteTime": {
     "end_time": "2022-01-15T04:43:35.059925Z",
     "start_time": "2022-01-15T04:43:35.047447Z"
    },
    "_uuid": "eb4654db298b9cb91b227cb5071b941255ec5d9a",
    "colab": {
     "base_uri": "https://localhost:8080/"
    },
    "executionInfo": {
     "elapsed": 13,
     "status": "ok",
     "timestamp": 1640115226621,
     "user": {
      "displayName": "Leonardo Mendonza",
      "photoUrl": "https://lh3.googleusercontent.com/a-/AOh14Gj5F1JVSmHodKCvWHgDPYmDyFo_nUl5lqEXNbsW=s64",
      "userId": "09205135724810578413"
     },
     "user_tz": 180
    },
    "id": "bTkQfdWEJQaw",
    "outputId": "3137c7eb-8bc2-49b5-f733-756d9091f16f"
   },
   "outputs": [
    {
     "data": {
      "text/plain": [
       "[('zavascki', 0.7483001351356506),\n",
       " ('gabus', 0.728987455368042),\n",
       " ('lewandowski', 0.7208383679389954),\n",
       " ('fachin', 0.7190772294998169),\n",
       " ('teori', 0.683875560760498),\n",
       " ('barroso', 0.6820991635322571),\n",
       " ('geddel', 0.675216019153595),\n",
       " ('mendes', 0.6696389317512512),\n",
       " ('stf', 0.6501621007919312),\n",
       " ('supremo', 0.644054651260376)]"
      ]
     },
     "execution_count": 15,
     "metadata": {},
     "output_type": "execute_result"
    }
   ],
   "source": [
    "model.wv.most_similar(\"gilmar\")"
   ]
  },
  {
   "cell_type": "code",
   "execution_count": 16,
   "metadata": {
    "ExecuteTime": {
     "end_time": "2022-01-15T04:43:39.522214Z",
     "start_time": "2022-01-15T04:43:39.509721Z"
    },
    "_uuid": "ec5b707cbaaf555a44f5f2c49bd96b71f48d3abe",
    "colab": {
     "base_uri": "https://localhost:8080/"
    },
    "executionInfo": {
     "elapsed": 12,
     "status": "ok",
     "timestamp": 1640115226622,
     "user": {
      "displayName": "Leonardo Mendonza",
      "photoUrl": "https://lh3.googleusercontent.com/a-/AOh14Gj5F1JVSmHodKCvWHgDPYmDyFo_nUl5lqEXNbsW=s64",
      "userId": "09205135724810578413"
     },
     "user_tz": 180
    },
    "id": "o5RkOxXqJQaw",
    "jupyter": {
     "outputs_hidden": true
    },
    "outputId": "02b684eb-52f1-45a5-ba56-c73e0810c038"
   },
   "outputs": [
    {
     "data": {
      "text/plain": [
       "[('mensalão', 0.8578479886054993),\n",
       " ('escândalo', 0.7335081100463867),\n",
       " ('cartel', 0.655720055103302),\n",
       " ('stf', 0.6485605835914612),\n",
       " ('petismo', 0.638002872467041),\n",
       " ('carf', 0.6244016885757446),\n",
       " ('delcídio', 0.6164947152137756),\n",
       " ('fbi', 0.6140791773796082),\n",
       " ('tcu', 0.6134937405586243),\n",
       " ('suborno', 0.6067258715629578)]"
      ]
     },
     "execution_count": 16,
     "metadata": {},
     "output_type": "execute_result"
    }
   ],
   "source": [
    "model.wv.most_similar(\"petrolão\")"
   ]
  },
  {
   "cell_type": "code",
   "execution_count": 17,
   "metadata": {
    "ExecuteTime": {
     "end_time": "2022-01-15T04:43:47.291957Z",
     "start_time": "2022-01-15T04:43:47.279582Z"
    },
    "executionInfo": {
     "elapsed": 10,
     "status": "ok",
     "timestamp": 1640115226622,
     "user": {
      "displayName": "Leonardo Mendonza",
      "photoUrl": "https://lh3.googleusercontent.com/a-/AOh14Gj5F1JVSmHodKCvWHgDPYmDyFo_nUl5lqEXNbsW=s64",
      "userId": "09205135724810578413"
     },
     "user_tz": 180
    },
    "id": "DWde1rpZBnUg"
   },
   "outputs": [
    {
     "data": {
      "text/plain": [
       "[('verde', 0.8184996247291565),\n",
       " ('vermelha', 0.7660054564476013),\n",
       " ('amarela', 0.7543870210647583),\n",
       " ('marrom', 0.729994535446167),\n",
       " ('amarelo', 0.7208455801010132),\n",
       " ('batata', 0.7017553448677063),\n",
       " ('vermelho', 0.6948390007019043),\n",
       " ('cinza', 0.6891679167747498),\n",
       " ('roxo', 0.6871031522750854),\n",
       " ('jeans', 0.6674363017082214)]"
      ]
     },
     "execution_count": 17,
     "metadata": {},
     "output_type": "execute_result"
    }
   ],
   "source": [
    "model.wv.most_similar(\"azul\")"
   ]
  },
  {
   "cell_type": "code",
   "execution_count": 19,
   "metadata": {
    "ExecuteTime": {
     "end_time": "2022-01-15T04:44:16.653460Z",
     "start_time": "2022-01-15T04:44:16.641342Z"
    }
   },
   "outputs": [
    {
     "data": {
      "text/plain": [
       "[('barriga', 0.7912265062332153),\n",
       " ('garganta', 0.7672030329704285),\n",
       " ('nuca', 0.7306966185569763),\n",
       " ('cintura', 0.7266094088554382),\n",
       " ('testa', 0.7202082276344299),\n",
       " ('bagagem', 0.7200389504432678),\n",
       " ('geladeira', 0.7179006934165955),\n",
       " ('superfície', 0.715384304523468),\n",
       " ('cabeça', 0.7118871212005615),\n",
       " ('calcinha', 0.7105823159217834)]"
      ]
     },
     "execution_count": 19,
     "metadata": {},
     "output_type": "execute_result"
    }
   ],
   "source": [
    "model.wv.most_similar(\"pele\")"
   ]
  },
  {
   "cell_type": "code",
   "execution_count": null,
   "metadata": {},
   "outputs": [],
   "source": []
  }
 ],
 "metadata": {
  "colab": {
   "name": "folhaword2vec_basico.ipynb",
   "provenance": []
  },
  "kernelspec": {
   "display_name": "Python 3 (ipykernel)",
   "language": "python",
   "name": "python3"
  },
  "language_info": {
   "codemirror_mode": {
    "name": "ipython",
    "version": 3
   },
   "file_extension": ".py",
   "mimetype": "text/x-python",
   "name": "python",
   "nbconvert_exporter": "python",
   "pygments_lexer": "ipython3",
   "version": "3.8.11"
  }
 },
 "nbformat": 4,
 "nbformat_minor": 1
}
