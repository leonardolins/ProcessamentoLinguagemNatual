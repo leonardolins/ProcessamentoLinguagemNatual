{
 "cells": [
  {
   "cell_type": "markdown",
   "metadata": {
    "id": "9R0lau59dfgR"
   },
   "source": [
    "## Vamos a fazer analise de sentiemntos de filmes em 5 passos"
   ]
  },
  {
   "cell_type": "code",
   "execution_count": 1,
   "metadata": {
    "ExecuteTime": {
     "end_time": "2022-01-10T19:05:14.422609Z",
     "start_time": "2022-01-10T19:05:14.414590Z"
    },
    "colab": {
     "base_uri": "https://localhost:8080/"
    },
    "id": "4gpExF9LTpih",
    "outputId": "f5feecf5-8557-4b6f-bf0f-2ca0813a6e69"
   },
   "outputs": [],
   "source": [
    "#from google.colab import drive\n",
    "#drive.mount('/content/drive')\n",
    "\n",
    "#import os\n",
    "#workdir_path = '/content/drive/My Drive' #MODIFICAR!!! #Caminho para o seu workspace\n",
    "#os.chdir(workdir_path)"
   ]
  },
  {
   "cell_type": "markdown",
   "metadata": {
    "id": "w62iBFsAerZ7"
   },
   "source": [
    "## Passo 1 - carregar os dados"
   ]
  },
  {
   "cell_type": "code",
   "execution_count": 2,
   "metadata": {
    "ExecuteTime": {
     "end_time": "2022-01-10T19:05:17.906913Z",
     "start_time": "2022-01-10T19:05:14.425828Z"
    },
    "colab": {
     "base_uri": "https://localhost:8080/",
     "height": 206
    },
    "id": "nWw3GFPLTtSW",
    "outputId": "187ce385-852c-4916-9427-0ee318781b16"
   },
   "outputs": [
    {
     "data": {
      "text/html": [
       "<div>\n",
       "<style scoped>\n",
       "    .dataframe tbody tr th:only-of-type {\n",
       "        vertical-align: middle;\n",
       "    }\n",
       "\n",
       "    .dataframe tbody tr th {\n",
       "        vertical-align: top;\n",
       "    }\n",
       "\n",
       "    .dataframe thead th {\n",
       "        text-align: right;\n",
       "    }\n",
       "</style>\n",
       "<table border=\"1\" class=\"dataframe\">\n",
       "  <thead>\n",
       "    <tr style=\"text-align: right;\">\n",
       "      <th></th>\n",
       "      <th>id</th>\n",
       "      <th>text_en</th>\n",
       "      <th>text_pt</th>\n",
       "      <th>sentiment</th>\n",
       "    </tr>\n",
       "  </thead>\n",
       "  <tbody>\n",
       "    <tr>\n",
       "      <th>12532</th>\n",
       "      <td>12534</td>\n",
       "      <td>This was unusual: a modern-day film which was ...</td>\n",
       "      <td>Isso era incomum: um filme moderno que era ult...</td>\n",
       "      <td>pos</td>\n",
       "    </tr>\n",
       "    <tr>\n",
       "      <th>35445</th>\n",
       "      <td>35447</td>\n",
       "      <td>Some of my old friends suggested me to watch t...</td>\n",
       "      <td>Alguns dos meus velhos amigos sugeriram que eu...</td>\n",
       "      <td>neg</td>\n",
       "    </tr>\n",
       "    <tr>\n",
       "      <th>20279</th>\n",
       "      <td>20281</td>\n",
       "      <td>What a pleasure. This is really a parody. Only...</td>\n",
       "      <td>Que prazer. Isto é realmente uma paródia. Some...</td>\n",
       "      <td>pos</td>\n",
       "    </tr>\n",
       "    <tr>\n",
       "      <th>2969</th>\n",
       "      <td>2971</td>\n",
       "      <td>There are about ten minutes about half way thr...</td>\n",
       "      <td>Há cerca de dez minutos a meio da Strangeland,...</td>\n",
       "      <td>neg</td>\n",
       "    </tr>\n",
       "    <tr>\n",
       "      <th>45161</th>\n",
       "      <td>45163</td>\n",
       "      <td>Othello, the classic Shakespearen story of lov...</td>\n",
       "      <td>Otelo, a clássica história de Shakespearen sob...</td>\n",
       "      <td>pos</td>\n",
       "    </tr>\n",
       "  </tbody>\n",
       "</table>\n",
       "</div>"
      ],
      "text/plain": [
       "          id                                            text_en  \\\n",
       "12532  12534  This was unusual: a modern-day film which was ...   \n",
       "35445  35447  Some of my old friends suggested me to watch t...   \n",
       "20279  20281  What a pleasure. This is really a parody. Only...   \n",
       "2969    2971  There are about ten minutes about half way thr...   \n",
       "45161  45163  Othello, the classic Shakespearen story of lov...   \n",
       "\n",
       "                                                 text_pt sentiment  \n",
       "12532  Isso era incomum: um filme moderno que era ult...       pos  \n",
       "35445  Alguns dos meus velhos amigos sugeriram que eu...       neg  \n",
       "20279  Que prazer. Isto é realmente uma paródia. Some...       pos  \n",
       "2969   Há cerca de dez minutos a meio da Strangeland,...       neg  \n",
       "45161  Otelo, a clássica história de Shakespearen sob...       pos  "
      ]
     },
     "execution_count": 2,
     "metadata": {},
     "output_type": "execute_result"
    }
   ],
   "source": [
    "import pandas as pd\n",
    "df = pd.read_csv('imdb-reviews-pt-br.csv').sample(2000, random_state=42) #quando trabalhemos com n-grams, reducão do tamanho da amostra\n",
    "\n",
    "df.head()"
   ]
  },
  {
   "cell_type": "code",
   "execution_count": 3,
   "metadata": {
    "ExecuteTime": {
     "end_time": "2022-01-10T19:05:17.923936Z",
     "start_time": "2022-01-10T19:05:17.910865Z"
    },
    "colab": {
     "base_uri": "https://localhost:8080/"
    },
    "id": "PbFGoZA3UPpU",
    "outputId": "0fc3a401-9781-482a-fc15-6f221255a71d"
   },
   "outputs": [
    {
     "data": {
      "text/plain": [
       "neg    1016\n",
       "pos     984\n",
       "Name: sentiment, dtype: int64"
      ]
     },
     "execution_count": 3,
     "metadata": {},
     "output_type": "execute_result"
    }
   ],
   "source": [
    "df.sentiment.value_counts()"
   ]
  },
  {
   "cell_type": "markdown",
   "metadata": {
    "id": "ITmrTIZIg6CU"
   },
   "source": [
    "## Passo 2 - mudar os labels "
   ]
  },
  {
   "cell_type": "code",
   "execution_count": 4,
   "metadata": {
    "ExecuteTime": {
     "end_time": "2022-01-10T19:05:17.952801Z",
     "start_time": "2022-01-10T19:05:17.931043Z"
    },
    "colab": {
     "base_uri": "https://localhost:8080/",
     "height": 206
    },
    "id": "Wb2LMoxPUb2l",
    "outputId": "bbb46596-fafb-4608-c39e-50d1b9e4e8b9"
   },
   "outputs": [
    {
     "data": {
      "text/html": [
       "<div>\n",
       "<style scoped>\n",
       "    .dataframe tbody tr th:only-of-type {\n",
       "        vertical-align: middle;\n",
       "    }\n",
       "\n",
       "    .dataframe tbody tr th {\n",
       "        vertical-align: top;\n",
       "    }\n",
       "\n",
       "    .dataframe thead th {\n",
       "        text-align: right;\n",
       "    }\n",
       "</style>\n",
       "<table border=\"1\" class=\"dataframe\">\n",
       "  <thead>\n",
       "    <tr style=\"text-align: right;\">\n",
       "      <th></th>\n",
       "      <th>id</th>\n",
       "      <th>text_en</th>\n",
       "      <th>text_pt</th>\n",
       "      <th>sentiment</th>\n",
       "    </tr>\n",
       "  </thead>\n",
       "  <tbody>\n",
       "    <tr>\n",
       "      <th>12532</th>\n",
       "      <td>12534</td>\n",
       "      <td>This was unusual: a modern-day film which was ...</td>\n",
       "      <td>Isso era incomum: um filme moderno que era ult...</td>\n",
       "      <td>1</td>\n",
       "    </tr>\n",
       "    <tr>\n",
       "      <th>35445</th>\n",
       "      <td>35447</td>\n",
       "      <td>Some of my old friends suggested me to watch t...</td>\n",
       "      <td>Alguns dos meus velhos amigos sugeriram que eu...</td>\n",
       "      <td>0</td>\n",
       "    </tr>\n",
       "    <tr>\n",
       "      <th>20279</th>\n",
       "      <td>20281</td>\n",
       "      <td>What a pleasure. This is really a parody. Only...</td>\n",
       "      <td>Que prazer. Isto é realmente uma paródia. Some...</td>\n",
       "      <td>1</td>\n",
       "    </tr>\n",
       "    <tr>\n",
       "      <th>2969</th>\n",
       "      <td>2971</td>\n",
       "      <td>There are about ten minutes about half way thr...</td>\n",
       "      <td>Há cerca de dez minutos a meio da Strangeland,...</td>\n",
       "      <td>0</td>\n",
       "    </tr>\n",
       "    <tr>\n",
       "      <th>45161</th>\n",
       "      <td>45163</td>\n",
       "      <td>Othello, the classic Shakespearen story of lov...</td>\n",
       "      <td>Otelo, a clássica história de Shakespearen sob...</td>\n",
       "      <td>1</td>\n",
       "    </tr>\n",
       "  </tbody>\n",
       "</table>\n",
       "</div>"
      ],
      "text/plain": [
       "          id                                            text_en  \\\n",
       "12532  12534  This was unusual: a modern-day film which was ...   \n",
       "35445  35447  Some of my old friends suggested me to watch t...   \n",
       "20279  20281  What a pleasure. This is really a parody. Only...   \n",
       "2969    2971  There are about ten minutes about half way thr...   \n",
       "45161  45163  Othello, the classic Shakespearen story of lov...   \n",
       "\n",
       "                                                 text_pt  sentiment  \n",
       "12532  Isso era incomum: um filme moderno que era ult...          1  \n",
       "35445  Alguns dos meus velhos amigos sugeriram que eu...          0  \n",
       "20279  Que prazer. Isto é realmente uma paródia. Some...          1  \n",
       "2969   Há cerca de dez minutos a meio da Strangeland,...          0  \n",
       "45161  Otelo, a clássica história de Shakespearen sob...          1  "
      ]
     },
     "execution_count": 4,
     "metadata": {},
     "output_type": "execute_result"
    }
   ],
   "source": [
    "df.sentiment = df['sentiment'].map({'pos': 1, 'neg': 0})\n",
    "df.head()"
   ]
  },
  {
   "cell_type": "markdown",
   "metadata": {
    "id": "jfJKaqVDhQ6i"
   },
   "source": [
    "## Passo 3 - limpeza de Dados"
   ]
  },
  {
   "cell_type": "code",
   "execution_count": 5,
   "metadata": {
    "ExecuteTime": {
     "end_time": "2022-01-10T19:05:18.778099Z",
     "start_time": "2022-01-10T19:05:17.956486Z"
    },
    "colab": {
     "base_uri": "https://localhost:8080/",
     "height": 206
    },
    "id": "eukI7WI-Utf6",
    "outputId": "cbf6001f-37de-4f62-f066-f7879f092a2b"
   },
   "outputs": [
    {
     "data": {
      "text/html": [
       "<div>\n",
       "<style scoped>\n",
       "    .dataframe tbody tr th:only-of-type {\n",
       "        vertical-align: middle;\n",
       "    }\n",
       "\n",
       "    .dataframe tbody tr th {\n",
       "        vertical-align: top;\n",
       "    }\n",
       "\n",
       "    .dataframe thead th {\n",
       "        text-align: right;\n",
       "    }\n",
       "</style>\n",
       "<table border=\"1\" class=\"dataframe\">\n",
       "  <thead>\n",
       "    <tr style=\"text-align: right;\">\n",
       "      <th></th>\n",
       "      <th>id</th>\n",
       "      <th>text_en</th>\n",
       "      <th>text_pt</th>\n",
       "      <th>sentiment</th>\n",
       "    </tr>\n",
       "  </thead>\n",
       "  <tbody>\n",
       "    <tr>\n",
       "      <th>12532</th>\n",
       "      <td>12534</td>\n",
       "      <td>This was unusual: a modern-day film which was ...</td>\n",
       "      <td>isso era incomum  um filme moderno que era ult...</td>\n",
       "      <td>1</td>\n",
       "    </tr>\n",
       "    <tr>\n",
       "      <th>35445</th>\n",
       "      <td>35447</td>\n",
       "      <td>Some of my old friends suggested me to watch t...</td>\n",
       "      <td>alguns dos meus velhos amigos sugeriram que eu...</td>\n",
       "      <td>0</td>\n",
       "    </tr>\n",
       "    <tr>\n",
       "      <th>20279</th>\n",
       "      <td>20281</td>\n",
       "      <td>What a pleasure. This is really a parody. Only...</td>\n",
       "      <td>que prazer  isto é realmente uma paródia  some...</td>\n",
       "      <td>1</td>\n",
       "    </tr>\n",
       "    <tr>\n",
       "      <th>2969</th>\n",
       "      <td>2971</td>\n",
       "      <td>There are about ten minutes about half way thr...</td>\n",
       "      <td>há cerca de dez minutos a meio da strangeland ...</td>\n",
       "      <td>0</td>\n",
       "    </tr>\n",
       "    <tr>\n",
       "      <th>45161</th>\n",
       "      <td>45163</td>\n",
       "      <td>Othello, the classic Shakespearen story of lov...</td>\n",
       "      <td>otelo  a clássica história de shakespearen sob...</td>\n",
       "      <td>1</td>\n",
       "    </tr>\n",
       "  </tbody>\n",
       "</table>\n",
       "</div>"
      ],
      "text/plain": [
       "          id                                            text_en  \\\n",
       "12532  12534  This was unusual: a modern-day film which was ...   \n",
       "35445  35447  Some of my old friends suggested me to watch t...   \n",
       "20279  20281  What a pleasure. This is really a parody. Only...   \n",
       "2969    2971  There are about ten minutes about half way thr...   \n",
       "45161  45163  Othello, the classic Shakespearen story of lov...   \n",
       "\n",
       "                                                 text_pt  sentiment  \n",
       "12532  isso era incomum  um filme moderno que era ult...          1  \n",
       "35445  alguns dos meus velhos amigos sugeriram que eu...          0  \n",
       "20279  que prazer  isto é realmente uma paródia  some...          1  \n",
       "2969   há cerca de dez minutos a meio da strangeland ...          0  \n",
       "45161  otelo  a clássica história de shakespearen sob...          1  "
      ]
     },
     "execution_count": 5,
     "metadata": {},
     "output_type": "execute_result"
    }
   ],
   "source": [
    "# Etapas de pré-processamento de texto - remova números, letras maiúsculas e pontuação\n",
    "import re\n",
    "import string\n",
    "\n",
    "alphanumeric = lambda x: re.sub(r\"\"\"\\w*\\d\\w*\"\"\", ' ', x) #limpar os numeros entre as palavras\n",
    "punc_lower = lambda x: re.sub('[%s]' % re.escape(string.punctuation), ' ', x.lower()) #retirar pontuação\n",
    "\n",
    "df['text_pt'] = df.text_pt.map(alphanumeric).map(punc_lower)\n",
    "df.head()"
   ]
  },
  {
   "cell_type": "code",
   "execution_count": 6,
   "metadata": {
    "ExecuteTime": {
     "end_time": "2022-01-10T19:05:21.943603Z",
     "start_time": "2022-01-10T19:05:18.782617Z"
    },
    "colab": {
     "base_uri": "https://localhost:8080/"
    },
    "id": "1F6LaQNYbkYc",
    "outputId": "3843e145-5fa6-49ec-f636-0bed252c3ed0"
   },
   "outputs": [
    {
     "name": "stderr",
     "output_type": "stream",
     "text": [
      "[nltk_data] Downloading package stopwords to\n",
      "[nltk_data]     /Users/LeonardoLins/nltk_data...\n",
      "[nltk_data]   Package stopwords is already up-to-date!\n"
     ]
    }
   ],
   "source": [
    "import nltk\n",
    "nltk.download('stopwords')\n",
    "from nltk.corpus import stopwords"
   ]
  },
  {
   "cell_type": "markdown",
   "metadata": {
    "id": "0gmLe6fShi_P"
   },
   "source": [
    "## Passo 4 - Representação "
   ]
  },
  {
   "cell_type": "code",
   "execution_count": 7,
   "metadata": {
    "ExecuteTime": {
     "end_time": "2022-01-10T19:05:23.225551Z",
     "start_time": "2022-01-10T19:05:21.946653Z"
    },
    "id": "156nIOrqVSYS"
   },
   "outputs": [],
   "source": [
    "from sklearn.feature_extraction.text import CountVectorizer #bag of words\n",
    "vect = CountVectorizer(stop_words = stopwords.words('portuguese'))\n",
    "vect.fit(df.text_pt)\n",
    "text_vect = vect.transform(df.text_pt)"
   ]
  },
  {
   "cell_type": "code",
   "execution_count": 8,
   "metadata": {
    "ExecuteTime": {
     "end_time": "2022-01-10T19:05:23.548341Z",
     "start_time": "2022-01-10T19:05:23.228135Z"
    }
   },
   "outputs": [],
   "source": [
    "dt = pd.DataFrame(text_vect.toarray(), columns=vect.get_feature_names_out())"
   ]
  },
  {
   "cell_type": "code",
   "execution_count": 9,
   "metadata": {
    "ExecuteTime": {
     "end_time": "2022-01-10T19:05:23.587710Z",
     "start_time": "2022-01-10T19:05:23.554863Z"
    }
   },
   "outputs": [
    {
     "data": {
      "text/html": [
       "<div>\n",
       "<style scoped>\n",
       "    .dataframe tbody tr th:only-of-type {\n",
       "        vertical-align: middle;\n",
       "    }\n",
       "\n",
       "    .dataframe tbody tr th {\n",
       "        vertical-align: top;\n",
       "    }\n",
       "\n",
       "    .dataframe thead th {\n",
       "        text-align: right;\n",
       "    }\n",
       "</style>\n",
       "<table border=\"1\" class=\"dataframe\">\n",
       "  <thead>\n",
       "    <tr style=\"text-align: right;\">\n",
       "      <th></th>\n",
       "      <th>aaaaaaaaaaaaaaaaaaaaaaaaaaaaaaaaaaaaaaaaaaaaaaaaaaaaaaaaaaaaaaaaaaaaaaaaaaaaaaaaaaaaa</th>\n",
       "      <th>aaaaargh</th>\n",
       "      <th>aaawwwwnnn</th>\n",
       "      <th>aahe</th>\n",
       "      <th>aaliyah</th>\n",
       "      <th>aalox</th>\n",
       "      <th>aamir</th>\n",
       "      <th>aamr</th>\n",
       "      <th>aaron</th>\n",
       "      <th>aasman</th>\n",
       "      <th>...</th>\n",
       "      <th>últimos</th>\n",
       "      <th>úmido</th>\n",
       "      <th>única</th>\n",
       "      <th>únicas</th>\n",
       "      <th>único</th>\n",
       "      <th>únicos</th>\n",
       "      <th>úteis</th>\n",
       "      <th>útero</th>\n",
       "      <th>útil</th>\n",
       "      <th>œaberrações</th>\n",
       "    </tr>\n",
       "  </thead>\n",
       "  <tbody>\n",
       "    <tr>\n",
       "      <th>0</th>\n",
       "      <td>0</td>\n",
       "      <td>0</td>\n",
       "      <td>0</td>\n",
       "      <td>0</td>\n",
       "      <td>0</td>\n",
       "      <td>0</td>\n",
       "      <td>0</td>\n",
       "      <td>0</td>\n",
       "      <td>0</td>\n",
       "      <td>0</td>\n",
       "      <td>...</td>\n",
       "      <td>0</td>\n",
       "      <td>0</td>\n",
       "      <td>0</td>\n",
       "      <td>0</td>\n",
       "      <td>0</td>\n",
       "      <td>0</td>\n",
       "      <td>0</td>\n",
       "      <td>0</td>\n",
       "      <td>0</td>\n",
       "      <td>0</td>\n",
       "    </tr>\n",
       "    <tr>\n",
       "      <th>1</th>\n",
       "      <td>0</td>\n",
       "      <td>0</td>\n",
       "      <td>0</td>\n",
       "      <td>0</td>\n",
       "      <td>0</td>\n",
       "      <td>0</td>\n",
       "      <td>0</td>\n",
       "      <td>0</td>\n",
       "      <td>0</td>\n",
       "      <td>0</td>\n",
       "      <td>...</td>\n",
       "      <td>0</td>\n",
       "      <td>0</td>\n",
       "      <td>0</td>\n",
       "      <td>0</td>\n",
       "      <td>0</td>\n",
       "      <td>0</td>\n",
       "      <td>0</td>\n",
       "      <td>0</td>\n",
       "      <td>0</td>\n",
       "      <td>0</td>\n",
       "    </tr>\n",
       "    <tr>\n",
       "      <th>2</th>\n",
       "      <td>0</td>\n",
       "      <td>0</td>\n",
       "      <td>0</td>\n",
       "      <td>0</td>\n",
       "      <td>0</td>\n",
       "      <td>0</td>\n",
       "      <td>0</td>\n",
       "      <td>0</td>\n",
       "      <td>0</td>\n",
       "      <td>0</td>\n",
       "      <td>...</td>\n",
       "      <td>0</td>\n",
       "      <td>0</td>\n",
       "      <td>0</td>\n",
       "      <td>0</td>\n",
       "      <td>0</td>\n",
       "      <td>0</td>\n",
       "      <td>0</td>\n",
       "      <td>0</td>\n",
       "      <td>0</td>\n",
       "      <td>0</td>\n",
       "    </tr>\n",
       "    <tr>\n",
       "      <th>3</th>\n",
       "      <td>0</td>\n",
       "      <td>0</td>\n",
       "      <td>0</td>\n",
       "      <td>0</td>\n",
       "      <td>0</td>\n",
       "      <td>0</td>\n",
       "      <td>0</td>\n",
       "      <td>0</td>\n",
       "      <td>0</td>\n",
       "      <td>0</td>\n",
       "      <td>...</td>\n",
       "      <td>0</td>\n",
       "      <td>0</td>\n",
       "      <td>0</td>\n",
       "      <td>0</td>\n",
       "      <td>0</td>\n",
       "      <td>0</td>\n",
       "      <td>0</td>\n",
       "      <td>0</td>\n",
       "      <td>0</td>\n",
       "      <td>0</td>\n",
       "    </tr>\n",
       "    <tr>\n",
       "      <th>4</th>\n",
       "      <td>0</td>\n",
       "      <td>0</td>\n",
       "      <td>0</td>\n",
       "      <td>0</td>\n",
       "      <td>0</td>\n",
       "      <td>0</td>\n",
       "      <td>0</td>\n",
       "      <td>0</td>\n",
       "      <td>0</td>\n",
       "      <td>0</td>\n",
       "      <td>...</td>\n",
       "      <td>0</td>\n",
       "      <td>0</td>\n",
       "      <td>0</td>\n",
       "      <td>0</td>\n",
       "      <td>0</td>\n",
       "      <td>0</td>\n",
       "      <td>0</td>\n",
       "      <td>0</td>\n",
       "      <td>0</td>\n",
       "      <td>0</td>\n",
       "    </tr>\n",
       "  </tbody>\n",
       "</table>\n",
       "<p>5 rows × 30521 columns</p>\n",
       "</div>"
      ],
      "text/plain": [
       "   aaaaaaaaaaaaaaaaaaaaaaaaaaaaaaaaaaaaaaaaaaaaaaaaaaaaaaaaaaaaaaaaaaaaaaaaaaaaaaaaaaaaa  \\\n",
       "0                                                  0                                       \n",
       "1                                                  0                                       \n",
       "2                                                  0                                       \n",
       "3                                                  0                                       \n",
       "4                                                  0                                       \n",
       "\n",
       "   aaaaargh  aaawwwwnnn  aahe  aaliyah  aalox  aamir  aamr  aaron  aasman  \\\n",
       "0         0           0     0        0      0      0     0      0       0   \n",
       "1         0           0     0        0      0      0     0      0       0   \n",
       "2         0           0     0        0      0      0     0      0       0   \n",
       "3         0           0     0        0      0      0     0      0       0   \n",
       "4         0           0     0        0      0      0     0      0       0   \n",
       "\n",
       "   ...  últimos  úmido  única  únicas  único  únicos  úteis  útero  útil  \\\n",
       "0  ...        0      0      0       0      0       0      0      0     0   \n",
       "1  ...        0      0      0       0      0       0      0      0     0   \n",
       "2  ...        0      0      0       0      0       0      0      0     0   \n",
       "3  ...        0      0      0       0      0       0      0      0     0   \n",
       "4  ...        0      0      0       0      0       0      0      0     0   \n",
       "\n",
       "   œaberrações  \n",
       "0            0  \n",
       "1            0  \n",
       "2            0  \n",
       "3            0  \n",
       "4            0  \n",
       "\n",
       "[5 rows x 30521 columns]"
      ]
     },
     "execution_count": 9,
     "metadata": {},
     "output_type": "execute_result"
    }
   ],
   "source": [
    "dt.head()"
   ]
  },
  {
   "cell_type": "code",
   "execution_count": 10,
   "metadata": {
    "ExecuteTime": {
     "end_time": "2022-01-10T19:05:23.601250Z",
     "start_time": "2022-01-10T19:05:23.593040Z"
    }
   },
   "outputs": [
    {
     "data": {
      "text/plain": [
       "(2000, 30521)"
      ]
     },
     "execution_count": 10,
     "metadata": {},
     "output_type": "execute_result"
    }
   ],
   "source": [
    "dt.shape"
   ]
  },
  {
   "cell_type": "markdown",
   "metadata": {
    "id": "0X3HDXs2hvJ1"
   },
   "source": [
    "## Passo 5 - Data Mining "
   ]
  },
  {
   "cell_type": "markdown",
   "metadata": {
    "id": "cIjgSMproFiY"
   },
   "source": [
    "Classificação - divido em base de treino e teste"
   ]
  },
  {
   "cell_type": "code",
   "execution_count": 11,
   "metadata": {
    "ExecuteTime": {
     "end_time": "2022-01-10T19:05:23.620022Z",
     "start_time": "2022-01-10T19:05:23.604686Z"
    },
    "id": "fqOAC-BkW12f"
   },
   "outputs": [],
   "source": [
    "from sklearn.model_selection import train_test_split\n",
    "\n",
    "X_train,X_test,y_train,y_test = train_test_split(text_vect, \n",
    "                                                 df.sentiment,\n",
    "                                                 test_size = 0.3, # 30% para teste\n",
    "                                                 random_state = 42 #inserir aleatoriedade na base de teste e treino\n",
    "                                                )"
   ]
  },
  {
   "cell_type": "markdown",
   "metadata": {
    "id": "ET-DH4bpor13"
   },
   "source": [
    "## Utilizo Random Forest"
   ]
  },
  {
   "cell_type": "code",
   "execution_count": 12,
   "metadata": {
    "ExecuteTime": {
     "end_time": "2022-01-10T19:05:25.907457Z",
     "start_time": "2022-01-10T19:05:23.622925Z"
    },
    "id": "fwBUZ5g-YRYc"
   },
   "outputs": [],
   "source": [
    "from sklearn.ensemble import RandomForestClassifier #RF é mais rápido, pode qq classificador (reg linear, reg log, svm, etc...) \n",
    "import numpy as np\n",
    "clf = RandomForestClassifier()\n",
    "clf = clf.fit(X_train, y_train)"
   ]
  },
  {
   "cell_type": "markdown",
   "metadata": {
    "id": "eWs4qC5xo6SP"
   },
   "source": [
    "## Coloco a acurácia"
   ]
  },
  {
   "cell_type": "code",
   "execution_count": 13,
   "metadata": {
    "ExecuteTime": {
     "end_time": "2022-01-10T19:05:26.007846Z",
     "start_time": "2022-01-10T19:05:25.909912Z"
    },
    "colab": {
     "base_uri": "https://localhost:8080/"
    },
    "id": "OQeKtAzqZ7p2",
    "outputId": "68a0326f-fd5e-47e3-a830-54285afebe17"
   },
   "outputs": [
    {
     "name": "stdout",
     "output_type": "stream",
     "text": [
      "0.7716666666666666\n"
     ]
    }
   ],
   "source": [
    "from sklearn.metrics import accuracy_score\n",
    "y_prediction = clf.predict(X_test)\n",
    "\n",
    "accuracia = accuracy_score(y_prediction, y_test)\n",
    "\n",
    "print(accuracia)"
   ]
  },
  {
   "cell_type": "markdown",
   "metadata": {
    "id": "3J0IRXaDaFsM"
   },
   "source": [
    "## Representação TF-IDF"
   ]
  },
  {
   "cell_type": "code",
   "execution_count": 14,
   "metadata": {
    "ExecuteTime": {
     "end_time": "2022-01-10T19:05:27.092401Z",
     "start_time": "2022-01-10T19:05:26.011604Z"
    }
   },
   "outputs": [],
   "source": [
    "from sklearn.feature_extraction.text import TfidfVectorizer #TFidf\n",
    "cv_tfidf = TfidfVectorizer(stop_words=\"english\")\n",
    "cv_tfidf.fit(df.text_en)\n",
    "text_vect = cv_tfidf.transform(df.text_en)"
   ]
  },
  {
   "cell_type": "code",
   "execution_count": 15,
   "metadata": {
    "ExecuteTime": {
     "end_time": "2022-01-10T19:05:27.500127Z",
     "start_time": "2022-01-10T19:05:27.095961Z"
    }
   },
   "outputs": [
    {
     "data": {
      "text/html": [
       "<div>\n",
       "<style scoped>\n",
       "    .dataframe tbody tr th:only-of-type {\n",
       "        vertical-align: middle;\n",
       "    }\n",
       "\n",
       "    .dataframe tbody tr th {\n",
       "        vertical-align: top;\n",
       "    }\n",
       "\n",
       "    .dataframe thead th {\n",
       "        text-align: right;\n",
       "    }\n",
       "</style>\n",
       "<table border=\"1\" class=\"dataframe\">\n",
       "  <thead>\n",
       "    <tr style=\"text-align: right;\">\n",
       "      <th></th>\n",
       "      <th>00</th>\n",
       "      <th>000</th>\n",
       "      <th>0069</th>\n",
       "      <th>00pm</th>\n",
       "      <th>00s</th>\n",
       "      <th>01</th>\n",
       "      <th>01pm</th>\n",
       "      <th>02</th>\n",
       "      <th>05</th>\n",
       "      <th>06</th>\n",
       "      <th>...</th>\n",
       "      <th>zoã</th>\n",
       "      <th>zu</th>\n",
       "      <th>zubeidaa</th>\n",
       "      <th>zucchini</th>\n",
       "      <th>zucco</th>\n",
       "      <th>zucker</th>\n",
       "      <th>zuckerman</th>\n",
       "      <th>zuniga</th>\n",
       "      <th>zurer</th>\n",
       "      <th>ãºber</th>\n",
       "    </tr>\n",
       "  </thead>\n",
       "  <tbody>\n",
       "    <tr>\n",
       "      <th>0</th>\n",
       "      <td>0.0</td>\n",
       "      <td>0.0</td>\n",
       "      <td>0.0</td>\n",
       "      <td>0.0</td>\n",
       "      <td>0.0</td>\n",
       "      <td>0.0</td>\n",
       "      <td>0.0</td>\n",
       "      <td>0.0</td>\n",
       "      <td>0.0</td>\n",
       "      <td>0.0</td>\n",
       "      <td>...</td>\n",
       "      <td>0.0</td>\n",
       "      <td>0.0</td>\n",
       "      <td>0.0</td>\n",
       "      <td>0.0</td>\n",
       "      <td>0.0</td>\n",
       "      <td>0.0</td>\n",
       "      <td>0.0</td>\n",
       "      <td>0.0</td>\n",
       "      <td>0.0</td>\n",
       "      <td>0.0</td>\n",
       "    </tr>\n",
       "    <tr>\n",
       "      <th>1</th>\n",
       "      <td>0.0</td>\n",
       "      <td>0.0</td>\n",
       "      <td>0.0</td>\n",
       "      <td>0.0</td>\n",
       "      <td>0.0</td>\n",
       "      <td>0.0</td>\n",
       "      <td>0.0</td>\n",
       "      <td>0.0</td>\n",
       "      <td>0.0</td>\n",
       "      <td>0.0</td>\n",
       "      <td>...</td>\n",
       "      <td>0.0</td>\n",
       "      <td>0.0</td>\n",
       "      <td>0.0</td>\n",
       "      <td>0.0</td>\n",
       "      <td>0.0</td>\n",
       "      <td>0.0</td>\n",
       "      <td>0.0</td>\n",
       "      <td>0.0</td>\n",
       "      <td>0.0</td>\n",
       "      <td>0.0</td>\n",
       "    </tr>\n",
       "    <tr>\n",
       "      <th>2</th>\n",
       "      <td>0.0</td>\n",
       "      <td>0.0</td>\n",
       "      <td>0.0</td>\n",
       "      <td>0.0</td>\n",
       "      <td>0.0</td>\n",
       "      <td>0.0</td>\n",
       "      <td>0.0</td>\n",
       "      <td>0.0</td>\n",
       "      <td>0.0</td>\n",
       "      <td>0.0</td>\n",
       "      <td>...</td>\n",
       "      <td>0.0</td>\n",
       "      <td>0.0</td>\n",
       "      <td>0.0</td>\n",
       "      <td>0.0</td>\n",
       "      <td>0.0</td>\n",
       "      <td>0.0</td>\n",
       "      <td>0.0</td>\n",
       "      <td>0.0</td>\n",
       "      <td>0.0</td>\n",
       "      <td>0.0</td>\n",
       "    </tr>\n",
       "    <tr>\n",
       "      <th>3</th>\n",
       "      <td>0.0</td>\n",
       "      <td>0.0</td>\n",
       "      <td>0.0</td>\n",
       "      <td>0.0</td>\n",
       "      <td>0.0</td>\n",
       "      <td>0.0</td>\n",
       "      <td>0.0</td>\n",
       "      <td>0.0</td>\n",
       "      <td>0.0</td>\n",
       "      <td>0.0</td>\n",
       "      <td>...</td>\n",
       "      <td>0.0</td>\n",
       "      <td>0.0</td>\n",
       "      <td>0.0</td>\n",
       "      <td>0.0</td>\n",
       "      <td>0.0</td>\n",
       "      <td>0.0</td>\n",
       "      <td>0.0</td>\n",
       "      <td>0.0</td>\n",
       "      <td>0.0</td>\n",
       "      <td>0.0</td>\n",
       "    </tr>\n",
       "    <tr>\n",
       "      <th>4</th>\n",
       "      <td>0.0</td>\n",
       "      <td>0.0</td>\n",
       "      <td>0.0</td>\n",
       "      <td>0.0</td>\n",
       "      <td>0.0</td>\n",
       "      <td>0.0</td>\n",
       "      <td>0.0</td>\n",
       "      <td>0.0</td>\n",
       "      <td>0.0</td>\n",
       "      <td>0.0</td>\n",
       "      <td>...</td>\n",
       "      <td>0.0</td>\n",
       "      <td>0.0</td>\n",
       "      <td>0.0</td>\n",
       "      <td>0.0</td>\n",
       "      <td>0.0</td>\n",
       "      <td>0.0</td>\n",
       "      <td>0.0</td>\n",
       "      <td>0.0</td>\n",
       "      <td>0.0</td>\n",
       "      <td>0.0</td>\n",
       "    </tr>\n",
       "  </tbody>\n",
       "</table>\n",
       "<p>5 rows × 25818 columns</p>\n",
       "</div>"
      ],
      "text/plain": [
       "    00  000  0069  00pm  00s   01  01pm   02   05   06  ...  zoã   zu  \\\n",
       "0  0.0  0.0   0.0   0.0  0.0  0.0   0.0  0.0  0.0  0.0  ...  0.0  0.0   \n",
       "1  0.0  0.0   0.0   0.0  0.0  0.0   0.0  0.0  0.0  0.0  ...  0.0  0.0   \n",
       "2  0.0  0.0   0.0   0.0  0.0  0.0   0.0  0.0  0.0  0.0  ...  0.0  0.0   \n",
       "3  0.0  0.0   0.0   0.0  0.0  0.0   0.0  0.0  0.0  0.0  ...  0.0  0.0   \n",
       "4  0.0  0.0   0.0   0.0  0.0  0.0   0.0  0.0  0.0  0.0  ...  0.0  0.0   \n",
       "\n",
       "   zubeidaa  zucchini  zucco  zucker  zuckerman  zuniga  zurer  ãºber  \n",
       "0       0.0       0.0    0.0     0.0        0.0     0.0    0.0    0.0  \n",
       "1       0.0       0.0    0.0     0.0        0.0     0.0    0.0    0.0  \n",
       "2       0.0       0.0    0.0     0.0        0.0     0.0    0.0    0.0  \n",
       "3       0.0       0.0    0.0     0.0        0.0     0.0    0.0    0.0  \n",
       "4       0.0       0.0    0.0     0.0        0.0     0.0    0.0    0.0  \n",
       "\n",
       "[5 rows x 25818 columns]"
      ]
     },
     "execution_count": 15,
     "metadata": {},
     "output_type": "execute_result"
    }
   ],
   "source": [
    "df_tfidf = pd.DataFrame(text_vect.toarray(), columns=cv_tfidf.get_feature_names_out())\n",
    "df_tfidf.head()"
   ]
  },
  {
   "cell_type": "code",
   "execution_count": 16,
   "metadata": {
    "ExecuteTime": {
     "end_time": "2022-01-10T19:05:27.510222Z",
     "start_time": "2022-01-10T19:05:27.503617Z"
    }
   },
   "outputs": [
    {
     "data": {
      "text/plain": [
       "(2000, 25818)"
      ]
     },
     "execution_count": 16,
     "metadata": {},
     "output_type": "execute_result"
    }
   ],
   "source": [
    "df_tfidf.shape"
   ]
  },
  {
   "cell_type": "code",
   "execution_count": 17,
   "metadata": {
    "ExecuteTime": {
     "end_time": "2022-01-10T19:05:27.525812Z",
     "start_time": "2022-01-10T19:05:27.513625Z"
    }
   },
   "outputs": [],
   "source": [
    "from sklearn.model_selection import train_test_split\n",
    "\n",
    "X_train,X_test,y_train,y_test = train_test_split(text_vect, \n",
    "                                                 df.sentiment,\n",
    "                                                 test_size = 0.3, # 30% para teste\n",
    "                                                 random_state = 42 #inserir aleatoriedade na base de teste e treino\n",
    "                                                )"
   ]
  },
  {
   "cell_type": "code",
   "execution_count": 18,
   "metadata": {
    "ExecuteTime": {
     "end_time": "2022-01-10T19:05:29.431108Z",
     "start_time": "2022-01-10T19:05:27.528696Z"
    }
   },
   "outputs": [],
   "source": [
    "from sklearn.ensemble import RandomForestClassifier #RF é mais rápido, pode qq classificador (reg linear, reg log, svm, etc...) \n",
    "import numpy as np\n",
    "clf = RandomForestClassifier()\n",
    "clf = clf.fit(X_train, y_train)"
   ]
  },
  {
   "cell_type": "code",
   "execution_count": 19,
   "metadata": {
    "ExecuteTime": {
     "end_time": "2022-01-10T19:05:29.529486Z",
     "start_time": "2022-01-10T19:05:29.435569Z"
    }
   },
   "outputs": [
    {
     "name": "stdout",
     "output_type": "stream",
     "text": [
      "Acurácia: 0.765\n"
     ]
    }
   ],
   "source": [
    "from sklearn.metrics import accuracy_score\n",
    "y_prediction = clf.predict(X_test)\n",
    "\n",
    "accuracia = accuracy_score(y_prediction, y_test)\n",
    "\n",
    "print('Acurácia:',accuracia)"
   ]
  },
  {
   "cell_type": "code",
   "execution_count": 20,
   "metadata": {
    "ExecuteTime": {
     "end_time": "2022-01-10T19:05:29.546253Z",
     "start_time": "2022-01-10T19:05:29.533408Z"
    }
   },
   "outputs": [
    {
     "name": "stdout",
     "output_type": "stream",
     "text": [
      "Precision: 0.7667404348164888\n"
     ]
    }
   ],
   "source": [
    "from sklearn.metrics import precision_score\n",
    "\n",
    "precision = precision_score(y_prediction, y_test, average='weighted')\n",
    "\n",
    "print('Precision:',precision)"
   ]
  },
  {
   "cell_type": "code",
   "execution_count": 21,
   "metadata": {
    "ExecuteTime": {
     "end_time": "2022-01-10T19:05:29.562082Z",
     "start_time": "2022-01-10T19:05:29.550160Z"
    }
   },
   "outputs": [
    {
     "name": "stdout",
     "output_type": "stream",
     "text": [
      "Recall: 0.765\n"
     ]
    }
   ],
   "source": [
    "from sklearn.metrics import recall_score\n",
    "\n",
    "recall = recall_score(y_prediction, y_test, average='weighted')\n",
    "\n",
    "print('Recall:',recall)"
   ]
  },
  {
   "cell_type": "code",
   "execution_count": 22,
   "metadata": {
    "ExecuteTime": {
     "end_time": "2022-01-10T19:05:29.580000Z",
     "start_time": "2022-01-10T19:05:29.565686Z"
    }
   },
   "outputs": [
    {
     "name": "stdout",
     "output_type": "stream",
     "text": [
      "F1 Score: 0.7649314535731648\n"
     ]
    }
   ],
   "source": [
    "from sklearn.metrics import f1_score\n",
    "\n",
    "f1_score = f1_score(y_prediction, y_test, average='weighted')\n",
    "\n",
    "print('F1 Score:', f1_score)"
   ]
  },
  {
   "cell_type": "code",
   "execution_count": 24,
   "metadata": {
    "ExecuteTime": {
     "end_time": "2022-01-10T19:05:29.622232Z",
     "start_time": "2022-01-10T19:05:29.608478Z"
    }
   },
   "outputs": [],
   "source": [
    "from sklearn.metrics import confusion_matrix\n",
    "cm = confusion_matrix(y_true=y_test.ravel(), y_pred=y_prediction, \n",
    "                                  labels=[1,0])\n",
    "\n",
    "cm_frame = pd.DataFrame(cm, index=[1,0], columns=[1,0],)\n",
    "cm_frame.index.name = 'Actual'\n",
    "cm_frame.columns.name = 'Predicted'"
   ]
  },
  {
   "cell_type": "code",
   "execution_count": 25,
   "metadata": {
    "ExecuteTime": {
     "end_time": "2022-01-10T19:05:29.638630Z",
     "start_time": "2022-01-10T19:05:29.625275Z"
    }
   },
   "outputs": [
    {
     "name": "stdout",
     "output_type": "stream",
     "text": [
      "Predicted    1    0\n",
      "Actual             \n",
      "1          232   81\n",
      "0           60  227\n"
     ]
    }
   ],
   "source": [
    "print(cm_frame)"
   ]
  },
  {
   "cell_type": "markdown",
   "metadata": {},
   "source": [
    "## Representação N-gramas"
   ]
  },
  {
   "cell_type": "code",
   "execution_count": 28,
   "metadata": {
    "ExecuteTime": {
     "end_time": "2022-01-10T19:07:09.682636Z",
     "start_time": "2022-01-10T19:07:07.144898Z"
    }
   },
   "outputs": [],
   "source": [
    "from sklearn.feature_extraction.text import TfidfVectorizer #TFidf\n",
    "cv_tfidf = TfidfVectorizer(stop_words=\"english\", ngram_range = (2,2)) #cria vetores para unigramas e para bi-gramas\n",
    "cv_tfidf.fit(df.text_en)\n",
    "text_vect = cv_tfidf.transform(df.text_en)"
   ]
  },
  {
   "cell_type": "code",
   "execution_count": 32,
   "metadata": {
    "ExecuteTime": {
     "end_time": "2022-01-10T21:45:21.886746Z",
     "start_time": "2022-01-10T21:45:20.844356Z"
    }
   },
   "outputs": [
    {
     "data": {
      "text/html": [
       "<div>\n",
       "<style scoped>\n",
       "    .dataframe tbody tr th:only-of-type {\n",
       "        vertical-align: middle;\n",
       "    }\n",
       "\n",
       "    .dataframe tbody tr th {\n",
       "        vertical-align: top;\n",
       "    }\n",
       "\n",
       "    .dataframe thead th {\n",
       "        text-align: right;\n",
       "    }\n",
       "</style>\n",
       "<table border=\"1\" class=\"dataframe\">\n",
       "  <thead>\n",
       "    <tr style=\"text-align: right;\">\n",
       "      <th></th>\n",
       "      <th>00 late</th>\n",
       "      <th>00 oh</th>\n",
       "      <th>000 000</th>\n",
       "      <th>000 creates</th>\n",
       "      <th>000 creators</th>\n",
       "      <th>000 dollars</th>\n",
       "      <th>000 double</th>\n",
       "      <th>000 entertain</th>\n",
       "      <th>000 feet</th>\n",
       "      <th>000 finds</th>\n",
       "      <th>...</th>\n",
       "      <th>zucco turning</th>\n",
       "      <th>zucker brothers</th>\n",
       "      <th>zucker created</th>\n",
       "      <th>zucker lier</th>\n",
       "      <th>zuckerman elements</th>\n",
       "      <th>zuniga film</th>\n",
       "      <th>zuniga light</th>\n",
       "      <th>zuniga scrapes</th>\n",
       "      <th>zurer break</th>\n",
       "      <th>ãºber crap</th>\n",
       "    </tr>\n",
       "  </thead>\n",
       "  <tbody>\n",
       "    <tr>\n",
       "      <th>0</th>\n",
       "      <td>0.0</td>\n",
       "      <td>0.0</td>\n",
       "      <td>0.0</td>\n",
       "      <td>0.0</td>\n",
       "      <td>0.0</td>\n",
       "      <td>0.0</td>\n",
       "      <td>0.0</td>\n",
       "      <td>0.0</td>\n",
       "      <td>0.0</td>\n",
       "      <td>0.0</td>\n",
       "      <td>...</td>\n",
       "      <td>0.0</td>\n",
       "      <td>0.0</td>\n",
       "      <td>0.0</td>\n",
       "      <td>0.0</td>\n",
       "      <td>0.0</td>\n",
       "      <td>0.0</td>\n",
       "      <td>0.0</td>\n",
       "      <td>0.0</td>\n",
       "      <td>0.0</td>\n",
       "      <td>0.0</td>\n",
       "    </tr>\n",
       "    <tr>\n",
       "      <th>1</th>\n",
       "      <td>0.0</td>\n",
       "      <td>0.0</td>\n",
       "      <td>0.0</td>\n",
       "      <td>0.0</td>\n",
       "      <td>0.0</td>\n",
       "      <td>0.0</td>\n",
       "      <td>0.0</td>\n",
       "      <td>0.0</td>\n",
       "      <td>0.0</td>\n",
       "      <td>0.0</td>\n",
       "      <td>...</td>\n",
       "      <td>0.0</td>\n",
       "      <td>0.0</td>\n",
       "      <td>0.0</td>\n",
       "      <td>0.0</td>\n",
       "      <td>0.0</td>\n",
       "      <td>0.0</td>\n",
       "      <td>0.0</td>\n",
       "      <td>0.0</td>\n",
       "      <td>0.0</td>\n",
       "      <td>0.0</td>\n",
       "    </tr>\n",
       "    <tr>\n",
       "      <th>2</th>\n",
       "      <td>0.0</td>\n",
       "      <td>0.0</td>\n",
       "      <td>0.0</td>\n",
       "      <td>0.0</td>\n",
       "      <td>0.0</td>\n",
       "      <td>0.0</td>\n",
       "      <td>0.0</td>\n",
       "      <td>0.0</td>\n",
       "      <td>0.0</td>\n",
       "      <td>0.0</td>\n",
       "      <td>...</td>\n",
       "      <td>0.0</td>\n",
       "      <td>0.0</td>\n",
       "      <td>0.0</td>\n",
       "      <td>0.0</td>\n",
       "      <td>0.0</td>\n",
       "      <td>0.0</td>\n",
       "      <td>0.0</td>\n",
       "      <td>0.0</td>\n",
       "      <td>0.0</td>\n",
       "      <td>0.0</td>\n",
       "    </tr>\n",
       "    <tr>\n",
       "      <th>3</th>\n",
       "      <td>0.0</td>\n",
       "      <td>0.0</td>\n",
       "      <td>0.0</td>\n",
       "      <td>0.0</td>\n",
       "      <td>0.0</td>\n",
       "      <td>0.0</td>\n",
       "      <td>0.0</td>\n",
       "      <td>0.0</td>\n",
       "      <td>0.0</td>\n",
       "      <td>0.0</td>\n",
       "      <td>...</td>\n",
       "      <td>0.0</td>\n",
       "      <td>0.0</td>\n",
       "      <td>0.0</td>\n",
       "      <td>0.0</td>\n",
       "      <td>0.0</td>\n",
       "      <td>0.0</td>\n",
       "      <td>0.0</td>\n",
       "      <td>0.0</td>\n",
       "      <td>0.0</td>\n",
       "      <td>0.0</td>\n",
       "    </tr>\n",
       "    <tr>\n",
       "      <th>4</th>\n",
       "      <td>0.0</td>\n",
       "      <td>0.0</td>\n",
       "      <td>0.0</td>\n",
       "      <td>0.0</td>\n",
       "      <td>0.0</td>\n",
       "      <td>0.0</td>\n",
       "      <td>0.0</td>\n",
       "      <td>0.0</td>\n",
       "      <td>0.0</td>\n",
       "      <td>0.0</td>\n",
       "      <td>...</td>\n",
       "      <td>0.0</td>\n",
       "      <td>0.0</td>\n",
       "      <td>0.0</td>\n",
       "      <td>0.0</td>\n",
       "      <td>0.0</td>\n",
       "      <td>0.0</td>\n",
       "      <td>0.0</td>\n",
       "      <td>0.0</td>\n",
       "      <td>0.0</td>\n",
       "      <td>0.0</td>\n",
       "    </tr>\n",
       "  </tbody>\n",
       "</table>\n",
       "<p>5 rows × 174381 columns</p>\n",
       "</div>"
      ],
      "text/plain": [
       "   00 late  00 oh  000 000  000 creates  000 creators  000 dollars  \\\n",
       "0      0.0    0.0      0.0          0.0           0.0          0.0   \n",
       "1      0.0    0.0      0.0          0.0           0.0          0.0   \n",
       "2      0.0    0.0      0.0          0.0           0.0          0.0   \n",
       "3      0.0    0.0      0.0          0.0           0.0          0.0   \n",
       "4      0.0    0.0      0.0          0.0           0.0          0.0   \n",
       "\n",
       "   000 double  000 entertain  000 feet  000 finds  ...  zucco turning  \\\n",
       "0         0.0            0.0       0.0        0.0  ...            0.0   \n",
       "1         0.0            0.0       0.0        0.0  ...            0.0   \n",
       "2         0.0            0.0       0.0        0.0  ...            0.0   \n",
       "3         0.0            0.0       0.0        0.0  ...            0.0   \n",
       "4         0.0            0.0       0.0        0.0  ...            0.0   \n",
       "\n",
       "   zucker brothers  zucker created  zucker lier  zuckerman elements  \\\n",
       "0              0.0             0.0          0.0                 0.0   \n",
       "1              0.0             0.0          0.0                 0.0   \n",
       "2              0.0             0.0          0.0                 0.0   \n",
       "3              0.0             0.0          0.0                 0.0   \n",
       "4              0.0             0.0          0.0                 0.0   \n",
       "\n",
       "   zuniga film  zuniga light  zuniga scrapes  zurer break  ãºber crap  \n",
       "0          0.0           0.0             0.0          0.0         0.0  \n",
       "1          0.0           0.0             0.0          0.0         0.0  \n",
       "2          0.0           0.0             0.0          0.0         0.0  \n",
       "3          0.0           0.0             0.0          0.0         0.0  \n",
       "4          0.0           0.0             0.0          0.0         0.0  \n",
       "\n",
       "[5 rows x 174381 columns]"
      ]
     },
     "execution_count": 32,
     "metadata": {},
     "output_type": "execute_result"
    }
   ],
   "source": [
    "df_tfidf = pd.DataFrame(text_vect.toarray(), columns=cv_tfidf.get_feature_names_out())\n",
    "df_tfidf.head()"
   ]
  },
  {
   "cell_type": "code",
   "execution_count": 33,
   "metadata": {
    "ExecuteTime": {
     "end_time": "2022-01-10T21:45:41.324187Z",
     "start_time": "2022-01-10T21:45:41.316324Z"
    }
   },
   "outputs": [
    {
     "data": {
      "text/plain": [
       "(2000, 174381)"
      ]
     },
     "execution_count": 33,
     "metadata": {},
     "output_type": "execute_result"
    }
   ],
   "source": [
    "df_tfidf.shape"
   ]
  },
  {
   "cell_type": "code",
   "execution_count": 29,
   "metadata": {
    "ExecuteTime": {
     "end_time": "2022-01-10T19:07:09.699596Z",
     "start_time": "2022-01-10T19:07:09.686786Z"
    }
   },
   "outputs": [],
   "source": [
    "from sklearn.model_selection import train_test_split\n",
    "\n",
    "X_train,X_test,y_train,y_test = train_test_split(text_vect, \n",
    "                                                 df.sentiment,\n",
    "                                                 test_size = 0.3, # 30% para teste\n",
    "                                                 random_state = 42 #inserir aleatoriedade na base de teste e treino\n",
    "                                                )"
   ]
  },
  {
   "cell_type": "code",
   "execution_count": 30,
   "metadata": {
    "ExecuteTime": {
     "end_time": "2022-01-10T19:07:27.448987Z",
     "start_time": "2022-01-10T19:07:09.926854Z"
    }
   },
   "outputs": [],
   "source": [
    "from sklearn.ensemble import RandomForestClassifier #RF é mais rápido, pode qq classificador (reg linear, reg log, svm, etc...) \n",
    "import numpy as np\n",
    "clf = RandomForestClassifier()\n",
    "clf = clf.fit(X_train, y_train)"
   ]
  },
  {
   "cell_type": "code",
   "execution_count": 31,
   "metadata": {
    "ExecuteTime": {
     "end_time": "2022-01-10T19:07:27.756424Z",
     "start_time": "2022-01-10T19:07:27.453626Z"
    }
   },
   "outputs": [
    {
     "name": "stdout",
     "output_type": "stream",
     "text": [
      "Acurácia: 0.615\n"
     ]
    }
   ],
   "source": [
    "from sklearn.metrics import accuracy_score\n",
    "y_prediction = clf.predict(X_test)\n",
    "\n",
    "accuracia = accuracy_score(y_prediction, y_test)\n",
    "\n",
    "print('Acurácia:',accuracia)"
   ]
  },
  {
   "cell_type": "code",
   "execution_count": null,
   "metadata": {},
   "outputs": [],
   "source": []
  }
 ],
 "metadata": {
  "colab": {
   "name": "Solução1.ipynb",
   "provenance": []
  },
  "kernelspec": {
   "display_name": "Python 3 (ipykernel)",
   "language": "python",
   "name": "python3"
  },
  "language_info": {
   "codemirror_mode": {
    "name": "ipython",
    "version": 3
   },
   "file_extension": ".py",
   "mimetype": "text/x-python",
   "name": "python",
   "nbconvert_exporter": "python",
   "pygments_lexer": "ipython3",
   "version": "3.8.11"
  }
 },
 "nbformat": 4,
 "nbformat_minor": 1
}
