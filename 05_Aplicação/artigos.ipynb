{
 "cells": [
  {
   "cell_type": "markdown",
   "metadata": {
    "id": "UXYKlaMUihse"
   },
   "source": [
    "<table style=\"width:100%\">\n",
    "  <tr>\n",
    "    <td><center style=\"font-size:500%;\">Representação Distribuida de Palavras (Parte 2)</center></td>\n",
    "    <td><img src=\"https://logodownload.org/wp-content/uploads/2015/02/puc-rio-logo.gif\" width=\"100\"/></td> \n",
    "  </tr>    \n",
    "</table>\n"
   ]
  },
  {
   "cell_type": "markdown",
   "metadata": {
    "id": "VHABH3-BHT6V"
   },
   "source": [
    "##vamos criar nosso petrolês no proximo link teremos accesso aproximadamente 400 teses e tcc de petroleo"
   ]
  },
  {
   "cell_type": "code",
   "execution_count": 1,
   "metadata": {
    "ExecuteTime": {
     "end_time": "2022-01-19T15:29:43.241378Z",
     "start_time": "2022-01-19T15:29:38.389737Z"
    },
    "colab": {
     "base_uri": "https://localhost:8080/"
    },
    "id": "Mm506CD881JJ",
    "outputId": "4a9e38e8-ebb4-4eb6-b852-c6b15c70b658"
   },
   "outputs": [
    {
     "name": "stdout",
     "output_type": "stream",
     "text": [
      "Archive:  PRH.zip\n",
      "  inflating: PRH/20120904-MONOGRAFIA_0.txt  \n",
      "  inflating: PRH/20121011-MONOGRAFIA_0 (1).txt  \n",
      "  inflating: PRH/20121011-MONOGRAFIA_0 (2).txt  \n",
      "  inflating: PRH/20121011-MONOGRAFIA_0.txt  \n",
      "  inflating: PRH/20121011-TESEMSC_0 (1).txt  \n",
      "  inflating: PRH/20121011-TESEMSC_0 (2).txt  \n",
      "  inflating: PRH/20121011-TESEMSC_0.txt  \n",
      "  inflating: PRH/20121015-TESEMSC_0.txt  \n",
      "  inflating: PRH/20121105-MONOGRAFIA_0.txt  \n",
      "  inflating: PRH/20121105-TESEMSC_0 (1).txt  \n",
      "  inflating: PRH/20121105-TESEMSC_0.txt  \n",
      "  inflating: PRH/20121107-TESEMSC_0.txt  \n",
      "  inflating: PRH/20121113-TESEMSC_0.txt  \n",
      "  inflating: PRH/20121119-TESEMSC_0.txt  \n",
      "  inflating: PRH/20121130-MONOGRAFIA_0.txt  \n",
      "  inflating: PRH/20121206-TESEDSC_1.txt  \n",
      "  inflating: PRH/20121217-MONOGRAFIA_0.txt  \n",
      "  inflating: PRH/20121220-MONOGRAFIA_0.txt  \n",
      "  inflating: PRH/20130226-TESEMSC_0.txt  \n",
      "  inflating: PRH/20130317-TESEDSC_0.txt  \n",
      "  inflating: PRH/20130320-TESEMSC_0.txt  \n",
      "  inflating: PRH/20130513-TESEMSC_0.txt  \n",
      "  inflating: PRH/20130607-TESEMSC_0 (1).txt  \n",
      "  inflating: PRH/20130607-TESEMSC_0.txt  \n",
      "  inflating: PRH/20131018-MONOGRAFIA_0 (1).txt  \n",
      "  inflating: PRH/20131018-MONOGRAFIA_0 (2).txt  \n",
      "  inflating: PRH/20131018-MONOGRAFIA_0.txt  \n",
      "  inflating: PRH/20131018-TESEMSC_0.txt  \n",
      "  inflating: PRH/20131205-TESEMSC_0.txt  \n",
      "  inflating: PRH/20131211-MONOGRAFIA_0.txt  \n",
      "  inflating: PRH/20140128-TESEMSC_0.txt  \n",
      "  inflating: PRH/20140218-MONOGRAFIA_0.txt  \n",
      "  inflating: PRH/20140218-TESEMSC_0.txt  \n",
      "  inflating: PRH/20140220-MONOGRAFIA_0.txt  \n",
      "  inflating: PRH/20140227-MONOGRAFIA_0.txt  \n",
      "  inflating: PRH/20140327-TESEMSC_0 (1).txt  \n",
      "  inflating: PRH/20140327-TESEMSC_0 (2).txt  \n",
      "  inflating: PRH/20140327-TESEMSC_0.txt  \n",
      "  inflating: PRH/20140331-TESEDSC_0.txt  \n",
      "  inflating: PRH/20140404-MONOGRAFIA_0.txt  \n",
      "  inflating: PRH/20140404-TESEMSC_0.txt  \n",
      "  inflating: PRH/20140530-MONOGRAFIA_0.txt  \n",
      "  inflating: PRH/20140530-TESEMSC_0.txt  \n",
      "  inflating: PRH/20140609-MONOGRAFIA_0.txt  \n",
      "  inflating: PRH/20140804-MONOGRAFIA_0 (1).txt  \n",
      "  inflating: PRH/20140804-MONOGRAFIA_0 (2).txt  \n",
      "  inflating: PRH/20140804-MONOGRAFIA_0 (3).txt  \n",
      "  inflating: PRH/20140804-MONOGRAFIA_0.txt  \n",
      "  inflating: PRH/20140811-MONOGRAFIA_0.txt  \n",
      "  inflating: PRH/20140827-MONOGRAFIA_0.txt  \n",
      "  inflating: PRH/20140904-TESEDSC_0.txt  \n",
      "  inflating: PRH/20140905-MONOGRAFIA_0 (1).txt  \n",
      "  inflating: PRH/20140905-MONOGRAFIA_0.txt  \n",
      "  inflating: PRH/20140905-TESEMSC_0.txt  \n",
      "  inflating: PRH/20140908-MONOGRAFIA_0.txt  \n",
      "  inflating: PRH/20140908-TESEMSC_0 (1).txt  \n",
      "  inflating: PRH/20140908-TESEMSC_0.txt  \n",
      "  inflating: PRH/20140910-MONOGRAFIA_0 (1).txt  \n",
      "  inflating: PRH/20140910-MONOGRAFIA_0 (2).txt  \n",
      "  inflating: PRH/20140910-MONOGRAFIA_0 (3).txt  \n",
      "  inflating: PRH/20140910-MONOGRAFIA_0 (4).txt  \n",
      "  inflating: PRH/20140910-MONOGRAFIA_0 (5).txt  \n",
      "  inflating: PRH/20140910-MONOGRAFIA_0 (6).txt  \n",
      "  inflating: PRH/20140910-MONOGRAFIA_0 (7).txt  \n",
      "  inflating: PRH/20140910-MONOGRAFIA_0.txt  \n",
      "  inflating: PRH/20140910-TESEMSC_0 (1).txt  \n",
      "  inflating: PRH/20140910-TESEMSC_0.txt  \n",
      "  inflating: PRH/20140911-MONOGRAFIA_0.txt  \n",
      "  inflating: PRH/20140911-MONOGRAFIA_1.txt  \n",
      "  inflating: PRH/20140912-MONOGRAFIA_1.txt  \n",
      "  inflating: PRH/20140915-MONOGRAFIA_0 (1).txt  \n",
      "  inflating: PRH/20140915-MONOGRAFIA_0 (2).txt  \n",
      "  inflating: PRH/20140915-MONOGRAFIA_0 (3).txt  \n",
      "  inflating: PRH/20140915-MONOGRAFIA_0.txt  \n",
      "  inflating: PRH/20140915-TESEDSC_0 (1).txt  \n",
      "  inflating: PRH/20140915-TESEDSC_0 (2).txt  \n",
      "  inflating: PRH/20140915-TESEDSC_0.txt  \n",
      "  inflating: PRH/20140915-TESEMSC_0 (1).txt  \n",
      "  inflating: PRH/20140915-TESEMSC_0.txt  \n",
      "  inflating: PRH/20140916-MONOGRAFIA_0 (1).txt  \n",
      "  inflating: PRH/20140916-MONOGRAFIA_0 (2).txt  \n",
      "  inflating: PRH/20140916-MONOGRAFIA_0 (3).txt  \n",
      "  inflating: PRH/20140916-MONOGRAFIA_0.txt  \n",
      "  inflating: PRH/20140916-MONOGRAFIA_1.txt  \n",
      "  inflating: PRH/20140916-TESEDSC_0.txt  \n",
      "  inflating: PRH/20140916-TESEMSC_0.txt  \n",
      "  inflating: PRH/20140916-TESEMSC_1.txt  \n",
      "  inflating: PRH/20140917-MONOGRAFIA_0 (1).txt  \n",
      "  inflating: PRH/20140917-MONOGRAFIA_0 (2).txt  \n",
      "  inflating: PRH/20140917-MONOGRAFIA_0 (3).txt  \n",
      "  inflating: PRH/20140917-MONOGRAFIA_0 (4).txt  \n",
      "  inflating: PRH/20140917-MONOGRAFIA_0 (5).txt  \n",
      "  inflating: PRH/20140917-MONOGRAFIA_0 (6).txt  \n",
      "  inflating: PRH/20140917-MONOGRAFIA_0.txt  \n",
      "  inflating: PRH/20140922-MONOGRAFIA_0 (1).txt  \n",
      "  inflating: PRH/20140922-MONOGRAFIA_0 (2).txt  \n",
      "  inflating: PRH/20140922-MONOGRAFIA_0 (3).txt  \n",
      "  inflating: PRH/20140922-MONOGRAFIA_0 (4).txt  \n",
      "  inflating: PRH/20140922-MONOGRAFIA_0 (5).txt  \n",
      "  inflating: PRH/20140922-MONOGRAFIA_0 (6).txt  \n",
      "  inflating: PRH/20140922-MONOGRAFIA_0.txt  \n",
      "  inflating: PRH/20140922-TESEMSC_0 (1).txt  \n",
      "  inflating: PRH/20140922-TESEMSC_0 (2).txt  \n",
      "  inflating: PRH/20140922-TESEMSC_0.txt  \n",
      "  inflating: PRH/20140923-MONOGRAFIA_0.txt  \n",
      "  inflating: PRH/20140923-TESEDSC_0.txt  \n",
      "  inflating: PRH/20140924-MONOGRAFIA_0 (1).txt  \n",
      "  inflating: PRH/20140924-MONOGRAFIA_0 (2).txt  \n",
      "  inflating: PRH/20140924-MONOGRAFIA_0.txt  \n",
      "  inflating: PRH/20140924-TESEMSC_0.txt  \n",
      "  inflating: PRH/20140925-MONOGRAFIA_0 (1).txt  \n",
      "  inflating: PRH/20140925-MONOGRAFIA_0 (2).txt  \n",
      "  inflating: PRH/20140925-MONOGRAFIA_0.txt  \n",
      "  inflating: PRH/20140929-MONOGRAFIA_0.txt  \n",
      "  inflating: PRH/20140930-MONOGRAFIA_0.txt  \n",
      "  inflating: PRH/20140930-TESEMSC_0.txt  \n",
      "  inflating: PRH/20141001-MONOGRAFIA_0.txt  \n",
      "  inflating: PRH/20141003-MONOGRAFIA_0.txt  \n",
      "  inflating: PRH/20141015-MONOGRAFIA_0.txt  \n",
      "  inflating: PRH/20141015-MONOGRAFIA_1 (1).txt  \n",
      "  inflating: PRH/20141015-MONOGRAFIA_1 (2).txt  \n",
      "  inflating: PRH/20141015-MONOGRAFIA_1 (3).txt  \n",
      "  inflating: PRH/20141015-MONOGRAFIA_1 (4).txt  \n",
      "  inflating: PRH/20141015-MONOGRAFIA_1 (5).txt  \n",
      "  inflating: PRH/20141015-MONOGRAFIA_1 (6).txt  \n",
      "  inflating: PRH/20141015-MONOGRAFIA_1 (7).txt  \n",
      "  inflating: PRH/20141015-MONOGRAFIA_1 (8).txt  \n",
      "  inflating: PRH/20141015-MONOGRAFIA_1 (9).txt  \n",
      "  inflating: PRH/20141015-MONOGRAFIA_1.txt  \n",
      "  inflating: PRH/20141015-TESEMSC_1 (1).txt  \n",
      "  inflating: PRH/20141015-TESEMSC_1.txt  \n",
      "  inflating: PRH/20141016-MONOGRAFIA_0.txt  \n",
      "  inflating: PRH/20141017-TESEMSC_0.txt  \n",
      "  inflating: PRH/20141023-MONOGRAFIA_0.txt  \n",
      "  inflating: PRH/20141024-MONOGRAFIA_0.txt  \n",
      "  inflating: PRH/20141027-MONOGRAFIA_0.txt  \n",
      "  inflating: PRH/20141031-MONOGRAFIA_0 (1).txt  \n",
      "  inflating: PRH/20141031-MONOGRAFIA_0 (2).txt  \n",
      "  inflating: PRH/20141031-MONOGRAFIA_0.txt  \n",
      "  inflating: PRH/20141110-MONOGRAFIA_0.txt  \n",
      "  inflating: PRH/20141113-TESEMSC_0 (1).txt  \n",
      "  inflating: PRH/20141113-TESEMSC_0.txt  \n",
      "  inflating: PRH/20141119-TESEDSC_1.txt  \n",
      "  inflating: PRH/20141125-MONOGRAFIA_0.txt  \n",
      "  inflating: PRH/20141125-TESEMSC_0.txt  \n",
      "  inflating: PRH/20141126-TESEMSC_1.txt  \n",
      "  inflating: PRH/20141201-TESEDSC_0.txt  \n",
      "  inflating: PRH/20141205-TESEDSC_1.txt  \n",
      "  inflating: PRH/20141209-TESEDSC_0.txt  \n",
      "  inflating: PRH/20141209-TESEMSC_0 (1).txt  \n",
      "  inflating: PRH/20141209-TESEMSC_0 (2).txt  \n",
      "  inflating: PRH/20141209-TESEMSC_0 (3).txt  \n",
      "  inflating: PRH/20141209-TESEMSC_0 (4).txt  \n",
      "  inflating: PRH/20141209-TESEMSC_0.txt  \n",
      "  inflating: PRH/20141210-MONOGRAFIA_0 (1).txt  \n",
      "  inflating: PRH/20141210-MONOGRAFIA_0 (2).txt  \n",
      "  inflating: PRH/20141210-MONOGRAFIA_0 (3).txt  \n",
      "  inflating: PRH/20141210-MONOGRAFIA_0.txt  \n",
      "  inflating: PRH/20141210-TESEMSC_0 (1).txt  \n",
      "  inflating: PRH/20141210-TESEMSC_0 (2).txt  \n",
      "  inflating: PRH/20141210-TESEMSC_0.txt  \n",
      "  inflating: PRH/20141222-TESEDSC_0.txt  \n",
      "  inflating: PRH/20150115-MONOGRAFIA_0.txt  \n",
      "  inflating: PRH/20150121-MONOGRAFIA_0 (1).txt  \n",
      "  inflating: PRH/20150121-MONOGRAFIA_0.txt  \n",
      "  inflating: PRH/20150121-TESEMSC_0 (1).txt  \n",
      "  inflating: PRH/20150121-TESEMSC_0 (2).txt  \n",
      "  inflating: PRH/20150121-TESEMSC_0.txt  \n",
      "  inflating: PRH/20150122-MONOGRAFIA_0 (1).txt  \n",
      "  inflating: PRH/20150122-MONOGRAFIA_0 (2).txt  \n",
      "  inflating: PRH/20150122-MONOGRAFIA_0 (3).txt  \n",
      "  inflating: PRH/20150122-MONOGRAFIA_0 (4).txt  \n",
      "  inflating: PRH/20150122-MONOGRAFIA_0.txt  \n",
      "  inflating: PRH/20150123-MONOGRAFIA_0 (1).txt  \n",
      "  inflating: PRH/20150123-MONOGRAFIA_0.txt  \n",
      "  inflating: PRH/20150126-MONOGRAFIA_0 (1).txt  \n",
      "  inflating: PRH/20150126-MONOGRAFIA_0 (2).txt  \n",
      "  inflating: PRH/20150126-MONOGRAFIA_0 (3).txt  \n",
      "  inflating: PRH/20150126-MONOGRAFIA_0 (4).txt  \n",
      "  inflating: PRH/20150126-MONOGRAFIA_0.txt  \n",
      "  inflating: PRH/20150126-TESEDSC_0.txt  \n",
      "  inflating: PRH/20150127-TESEMSC_1.txt  \n",
      "  inflating: PRH/20150210-TESEDSC_0.txt  \n",
      "  inflating: PRH/20150225-TESEMSC_1.txt  \n",
      " extracting: PRH/20150226-TESEDSC_0.txt  \n",
      "  inflating: PRH/20150303-TESEDSC_0.txt  \n",
      "  inflating: PRH/20150313-TESEDSC_0.txt  \n",
      "  inflating: PRH/20150325-MONOGRAFIA_0.txt  \n",
      "  inflating: PRH/20150326-MONOGRAFIA_0 (1).txt  \n",
      "  inflating: PRH/20150326-MONOGRAFIA_0 (2).txt  \n",
      "  inflating: PRH/20150326-MONOGRAFIA_0 (3).txt  \n",
      "  inflating: PRH/20150326-MONOGRAFIA_0.txt  \n",
      "  inflating: PRH/20150326-MONOGRAFIA_1.txt  \n",
      "  inflating: PRH/20150331-MONOGRAFIA_0 (1).txt  \n",
      "  inflating: PRH/20150331-MONOGRAFIA_0.txt  \n",
      "  inflating: PRH/20150331-TESEMSC_0.txt  \n",
      "  inflating: PRH/20150401-TESEMSC_0 (1).txt  \n",
      "  inflating: PRH/20150401-TESEMSC_0.txt  \n",
      "  inflating: PRH/20150408-MONOGRAFIA_0.txt  \n",
      "  inflating: PRH/20150409-MONOGRAFIA_0 (1).txt  \n",
      "  inflating: PRH/20150409-MONOGRAFIA_0.txt  \n",
      "  inflating: PRH/20150409-TESEMSC_0 (1).txt  \n",
      "  inflating: PRH/20150409-TESEMSC_0 (2).txt  \n",
      "  inflating: PRH/20150409-TESEMSC_0.txt  \n",
      "  inflating: PRH/20150410-TESEMSC_0.txt  \n",
      "  inflating: PRH/20150413-MONOGRAFIA_0 (1).txt  \n",
      "  inflating: PRH/20150413-MONOGRAFIA_0 (2).txt  \n",
      "  inflating: PRH/20150413-MONOGRAFIA_0 (3).txt  \n",
      "  inflating: PRH/20150413-MONOGRAFIA_0 (4).txt  \n",
      "  inflating: PRH/20150413-MONOGRAFIA_0.txt  \n",
      "  inflating: PRH/20150430-MONOGRAFIA_0 (1).txt  \n",
      "  inflating: PRH/20150430-MONOGRAFIA_0 (2).txt  \n",
      "  inflating: PRH/20150430-MONOGRAFIA_0.txt  \n",
      "  inflating: PRH/20150504-TESEMSC_0.txt  \n",
      "  inflating: PRH/20150505-MONOGRAFIA_0.txt  \n",
      " extracting: PRH/20150506-MONOGRAFIA_0.txt  \n",
      "  inflating: PRH/20150507-TESEDSC_0.txt  \n",
      "  inflating: PRH/20150521-TESEMSC_1.txt  \n",
      "  inflating: PRH/20150811-TESEMSC_0 (1).txt  \n",
      "  inflating: PRH/20150811-TESEMSC_0.txt  \n",
      "  inflating: PRH/20150812-TESEMSC_0.txt  \n",
      "  inflating: PRH/20150819-MONOGRAFIA_0.txt  \n",
      "  inflating: PRH/20150827-MONOGRAFIA_0 (1).txt  \n",
      "  inflating: PRH/20150827-MONOGRAFIA_0 (2).txt  \n",
      "  inflating: PRH/20150827-MONOGRAFIA_0.txt  \n",
      "  inflating: PRH/20150902-MONOGRAFIA_0.txt  \n",
      "  inflating: PRH/20150902-TESEMSC_0 (1).txt  \n",
      "  inflating: PRH/20150902-TESEMSC_0.txt  \n",
      "  inflating: PRH/20150903-TESEMSC_0.txt  \n",
      "  inflating: PRH/20150904-TESEMSC_0.txt  \n",
      "  inflating: PRH/20150909-MONOGRAFIA_0.txt  \n",
      "  inflating: PRH/20150909-TESEMSC_0.txt  \n",
      "  inflating: PRH/20150911-MONOGRAFIA_0.txt  \n",
      "  inflating: PRH/20150914-MONOGRAFIA_0.txt  \n",
      "  inflating: PRH/20150914-TESEMSC_0.txt  \n",
      "  inflating: PRH/20150917-MONOGRAFIA_0 (1).txt  \n",
      "  inflating: PRH/20150917-MONOGRAFIA_0 (2).txt  \n",
      "  inflating: PRH/20150917-MONOGRAFIA_0.txt  \n",
      "  inflating: PRH/20150917-TESEMSC_0 (1).txt  \n",
      "  inflating: PRH/20150917-TESEMSC_0 (2).txt  \n",
      "  inflating: PRH/20150917-TESEMSC_0.txt  \n",
      "  inflating: PRH/20150918-MONOGRAFIA_1 (1).txt  \n",
      "  inflating: PRH/20150918-MONOGRAFIA_1.txt  \n",
      "  inflating: PRH/20150922-TESEMSC_0 (1).txt  \n",
      "  inflating: PRH/20150922-TESEMSC_0.txt  \n",
      "  inflating: PRH/20150923-TESEMSC_0.txt  \n",
      "  inflating: PRH/20151112-TESEDSC_0 (1).txt  \n",
      "  inflating: PRH/20151112-TESEDSC_0.txt  \n",
      "  inflating: PRH/20151203-TESEDSC_0.txt  \n",
      "  inflating: PRH/20151204-TESEMSC_0.txt  \n",
      "  inflating: PRH/20151209-TESEDSC_0.txt  \n",
      "  inflating: PRH/20151214-TESEMSC_0.txt  \n",
      "  inflating: PRH/20151215-MONOGRAFIA_0 (1).txt  \n",
      "  inflating: PRH/20151215-MONOGRAFIA_0 (2).txt  \n",
      "  inflating: PRH/20151215-MONOGRAFIA_0 (3).txt  \n",
      "  inflating: PRH/20151215-MONOGRAFIA_0 (4).txt  \n",
      "  inflating: PRH/20151215-MONOGRAFIA_0 (5).txt  \n",
      "  inflating: PRH/20151215-MONOGRAFIA_0.txt  \n",
      "  inflating: PRH/20151222-TESEMSC_0 (1).txt  \n",
      "  inflating: PRH/20151222-TESEMSC_0.txt  \n",
      "  inflating: PRH/20160229-MONOGRAFIA_0.txt  \n",
      "  inflating: PRH/20160602-MONOGRAFIA_0 (1).txt  \n",
      "  inflating: PRH/20160602-MONOGRAFIA_0 (2).txt  \n",
      "  inflating: PRH/20160602-MONOGRAFIA_0 (3).txt  \n",
      "  inflating: PRH/20160602-MONOGRAFIA_0 (4).txt  \n",
      "  inflating: PRH/20160602-MONOGRAFIA_0 (5).txt  \n",
      "  inflating: PRH/20160602-MONOGRAFIA_0 (6).txt  \n",
      "  inflating: PRH/20160602-MONOGRAFIA_0 (7).txt  \n",
      "  inflating: PRH/20160602-MONOGRAFIA_0 (8).txt  \n",
      "  inflating: PRH/20160602-MONOGRAFIA_0.txt  \n",
      "  inflating: PRH/20160602-TESEDSC_0.txt  \n",
      "  inflating: PRH/20160602-TESEMSC_0 (1).txt  \n",
      "  inflating: PRH/20160602-TESEMSC_0 (2).txt  \n",
      "  inflating: PRH/20160602-TESEMSC_0.txt  \n",
      "  inflating: PRH/20160606-TESEMSC_0.txt  \n",
      "  inflating: PRH/20160608-TESEMSC_0.txt  \n",
      "  inflating: PRH/20160614-MONOGRAFIA_0 (1).txt  \n",
      "  inflating: PRH/20160614-MONOGRAFIA_0 (2).txt  \n",
      "  inflating: PRH/20160614-MONOGRAFIA_0.txt  \n",
      "  inflating: PRH/20160614-TESEDSC_0.txt  \n",
      "  inflating: PRH/20160623-TESEDSC_0 (1).txt  \n",
      "  inflating: PRH/20160623-TESEDSC_0.txt  \n",
      "  inflating: PRH/20160623-TESEMSC_0.txt  \n",
      "  inflating: PRH/20160628-TESEMSC_1.txt  \n",
      "  inflating: PRH/20160701-TESEMSC_0.txt  \n",
      "  inflating: PRH/20160704-MONOGRAFIA_0.txt  \n",
      "  inflating: PRH/20160713-MONOGRAFIA_0.txt  \n",
      "  inflating: PRH/20160721-MONOGRAFIA_0 (1).txt  \n",
      "  inflating: PRH/20160721-MONOGRAFIA_0 (2).txt  \n",
      "  inflating: PRH/20160721-MONOGRAFIA_0 (3).txt  \n",
      "  inflating: PRH/20160721-MONOGRAFIA_0.txt  \n",
      "  inflating: PRH/20160722-MONOGRAFIA_0 (1).txt  \n",
      "  inflating: PRH/20160722-MONOGRAFIA_0 (2).txt  \n",
      "  inflating: PRH/20160722-MONOGRAFIA_0 (3).txt  \n",
      "  inflating: PRH/20160722-MONOGRAFIA_0.txt  \n",
      "  inflating: PRH/20160725-MONOGRAFIA_0 (1).txt  \n",
      "  inflating: PRH/20160725-MONOGRAFIA_0 (2).txt  \n",
      "  inflating: PRH/20160725-MONOGRAFIA_0 (3).txt  \n",
      "  inflating: PRH/20160725-MONOGRAFIA_0 (4).txt  \n",
      "  inflating: PRH/20160725-MONOGRAFIA_0 (5).txt  \n",
      "  inflating: PRH/20160725-MONOGRAFIA_0 (6).txt  \n",
      "  inflating: PRH/20160725-MONOGRAFIA_0 (7).txt  \n",
      "  inflating: PRH/20160725-MONOGRAFIA_0.txt  \n",
      "  inflating: PRH/20160808-TESEDSC_0.txt  \n",
      "  inflating: PRH/20160809-TESEMSC_0.txt  \n",
      "  inflating: PRH/20160914-MONOGRAFIA_0 (1).txt  \n",
      "  inflating: PRH/20160914-MONOGRAFIA_0 (2).txt  \n",
      "  inflating: PRH/20160914-MONOGRAFIA_0.txt  \n",
      "  inflating: PRH/20160914-TESEMSC_0 (1).txt  \n",
      "  inflating: PRH/20160914-TESEMSC_0.txt  \n",
      "  inflating: PRH/20160915-MONOGRAFIA_1.txt  \n",
      "  inflating: PRH/20160920-MONOGRAFIA_0.txt  \n",
      "  inflating: PRH/20160921-TESEMSC_0.txt  \n",
      "  inflating: PRH/20160923-TESEMSC_0.txt  \n",
      "  inflating: PRH/20160926-TESEMSC_0.txt  \n",
      "  inflating: PRH/20160928-MONOGRAFIA_0.txt  \n",
      "  inflating: PRH/convertAllPdfMiner.bat  \n"
     ]
    },
    {
     "name": "stderr",
     "output_type": "stream",
     "text": [
      "--2022-01-19 12:29:38--  https://github.com/fabiocorreacordeiro/wordEmbeddingsOG/raw/master/_corpus/PRH.zip\n",
      "Resolvendo github.com (github.com)... 20.201.28.151\n",
      "Conectando-se a github.com (github.com)|20.201.28.151|:443... conectado.\n",
      "A requisição HTTP foi enviada, aguardando resposta... 302 Found\n",
      "Localização: https://raw.githubusercontent.com/fabiocorreacordeiro/wordEmbeddingsOG/master/_corpus/PRH.zip [redirecionando]\n",
      "--2022-01-19 12:29:39--  https://raw.githubusercontent.com/fabiocorreacordeiro/wordEmbeddingsOG/master/_corpus/PRH.zip\n",
      "Resolvendo raw.githubusercontent.com (raw.githubusercontent.com)... 185.199.110.133, 185.199.108.133, 185.199.109.133, ...\n",
      "Conectando-se a raw.githubusercontent.com (raw.githubusercontent.com)|185.199.110.133|:443... conectado.\n",
      "A requisição HTTP foi enviada, aguardando resposta... 200 OK\n",
      "Tamanho: 14893401 (14M) [application/zip]\n",
      "Salvando em: “PRH.zip”\n",
      "\n",
      "     0K .......... .......... .......... .......... ..........  0%  722K 20s\n",
      "    50K .......... .......... .......... .......... ..........  0% 2,43M 13s\n",
      "   100K .......... .......... .......... .......... ..........  1% 1,03M 13s\n",
      "   150K .......... .......... .......... .......... ..........  1% 2,84M 11s\n",
      "   200K .......... .......... .......... .......... ..........  1% 1,20M 11s\n",
      "   250K .......... .......... .......... .......... ..........  2% 6,16M 10s\n",
      "   300K .......... .......... .......... .......... ..........  2% 1,36M 10s\n",
      "   350K .......... .......... .......... .......... ..........  2% 2,55M 9s\n",
      "   400K .......... .......... .......... .......... ..........  3% 9,68M 8s\n",
      "   450K .......... .......... .......... .......... ..........  3% 7,99M 8s\n",
      "   500K .......... .......... .......... .......... ..........  3% 1,60M 8s\n",
      "   550K .......... .......... .......... .......... ..........  4% 4,15M 7s\n",
      "   600K .......... .......... .......... .......... ..........  4% 3,56M 7s\n",
      "   650K .......... .......... .......... .......... ..........  4% 12,1M 7s\n",
      "   700K .......... .......... .......... .......... ..........  5% 2,98M 6s\n",
      "   750K .......... .......... .......... .......... ..........  5% 19,0M 6s\n",
      "   800K .......... .......... .......... .......... ..........  5% 2,94M 6s\n",
      "   850K .......... .......... .......... .......... ..........  6% 3,56M 6s\n",
      "   900K .......... .......... .......... .......... ..........  6% 13,4M 5s\n",
      "   950K .......... .......... .......... .......... ..........  6% 4,09M 5s\n",
      "  1000K .......... .......... .......... .......... ..........  7% 18,3M 5s\n",
      "  1050K .......... .......... .......... .......... ..........  7% 25,6M 5s\n",
      "  1100K .......... .......... .......... .......... ..........  7% 16,7M 5s\n",
      "  1150K .......... .......... .......... .......... ..........  8% 3,39M 5s\n",
      "  1200K .......... .......... .......... .......... ..........  8% 17,8M 4s\n",
      "  1250K .......... .......... .......... .......... ..........  8% 25,5M 4s\n",
      "  1300K .......... .......... .......... .......... ..........  9% 2,22M 4s\n",
      "  1350K .......... .......... .......... .......... ..........  9% 3,53M 4s\n",
      "  1400K .......... .......... .......... .......... ..........  9% 14,6M 4s\n",
      "  1450K .......... .......... .......... .......... .......... 10% 24,2M 4s\n",
      "  1500K .......... .......... .......... .......... .......... 10% 20,9M 4s\n",
      "  1550K .......... .......... .......... .......... .......... 11% 28,0M 4s\n",
      "  1600K .......... .......... .......... .......... .......... 11% 45,4M 4s\n",
      "  1650K .......... .......... .......... .......... .......... 11% 20,8M 4s\n",
      "  1700K .......... .......... .......... .......... .......... 12% 25,8M 3s\n",
      "  1750K .......... .......... .......... .......... .......... 12% 4,35M 3s\n",
      "  1800K .......... .......... .......... .......... .......... 12% 25,8M 3s\n",
      "  1850K .......... .......... .......... .......... .......... 13% 4,37M 3s\n",
      "  1900K .......... .......... .......... .......... .......... 13% 3,28M 3s\n",
      "  1950K .......... .......... .......... .......... .......... 13% 11,5M 3s\n",
      "  2000K .......... .......... .......... .......... .......... 14% 6,31M 3s\n",
      "  2050K .......... .......... .......... .......... .......... 14% 34,7M 3s\n",
      "  2100K .......... .......... .......... .......... .......... 14% 22,6M 3s\n",
      "  2150K .......... .......... .......... .......... .......... 15% 20,8M 3s\n",
      "  2200K .......... .......... .......... .......... .......... 15% 34,3M 3s\n",
      "  2250K .......... .......... .......... .......... .......... 15% 35,4M 3s\n",
      "  2300K .......... .......... .......... .......... .......... 16% 33,7M 3s\n",
      "  2350K .......... .......... .......... .......... .......... 16% 30,7M 3s\n",
      "  2400K .......... .......... .......... .......... .......... 16% 32,4M 3s\n",
      "  2450K .......... .......... .......... .......... .......... 17% 31,2M 3s\n",
      "  2500K .......... .......... .......... .......... .......... 17% 32,7M 3s\n",
      "  2550K .......... .......... .......... .......... .......... 17% 13,1M 2s\n",
      "  2600K .......... .......... .......... .......... .......... 18% 5,09M 2s\n",
      "  2650K .......... .......... .......... .......... .......... 18% 22,8M 2s\n",
      "  2700K .......... .......... .......... .......... .......... 18% 20,2M 2s\n",
      "  2750K .......... .......... .......... .......... .......... 19% 3,43M 2s\n",
      "  2800K .......... .......... .......... .......... .......... 19% 6,26M 2s\n",
      "  2850K .......... .......... .......... .......... .......... 19% 9,50M 2s\n",
      "  2900K .......... .......... .......... .......... .......... 20% 23,1M 2s\n",
      "  2950K .......... .......... .......... .......... .......... 20% 28,0M 2s\n",
      "  3000K .......... .......... .......... .......... .......... 20% 33,7M 2s\n",
      "  3050K .......... .......... .......... .......... .......... 21% 18,5M 2s\n",
      "  3100K .......... .......... .......... .......... .......... 21% 3,54M 2s\n",
      "  3150K .......... .......... .......... .......... .......... 22% 6,50M 2s\n",
      "  3200K .......... .......... .......... .......... .......... 22% 32,4M 2s\n",
      "  3250K .......... .......... .......... .......... .......... 22% 35,6M 2s\n",
      "  3300K .......... .......... .......... .......... .......... 23% 34,6M 2s\n",
      "  3350K .......... .......... .......... .......... .......... 23% 30,0M 2s\n",
      "  3400K .......... .......... .......... .......... .......... 23% 33,4M 2s\n",
      "  3450K .......... .......... .......... .......... .......... 24% 34,8M 2s\n",
      "  3500K .......... .......... .......... .......... .......... 24% 36,8M 2s\n",
      "  3550K .......... .......... .......... .......... .......... 24% 13,6M 2s\n",
      "  3600K .......... .......... .......... .......... .......... 25% 53,4M 2s\n",
      "  3650K .......... .......... .......... .......... .......... 25% 45,2M 2s\n",
      "  3700K .......... .......... .......... .......... .......... 25% 9,62M 2s\n",
      "  3750K .......... .......... .......... .......... .......... 26% 12,2M 2s\n",
      "  3800K .......... .......... .......... .......... .......... 26% 5,20M 2s\n",
      "  3850K .......... .......... .......... .......... .......... 26% 8,75M 2s\n",
      "  3900K .......... .......... .......... .......... .......... 27% 7,75M 2s\n",
      "  3950K .......... .......... .......... .......... .......... 27% 25,6M 2s\n",
      "  4000K .......... .......... .......... .......... .......... 27% 38,1M 2s\n",
      "  4050K .......... .......... .......... .......... .......... 28% 16,5M 2s\n",
      "  4100K .......... .......... .......... .......... .......... 28% 8,17M 2s\n",
      "  4150K .......... .......... .......... .......... .......... 28% 1,89M 2s\n",
      "  4200K .......... .......... .......... .......... .......... 29% 21,1M 2s\n",
      "  4250K .......... .......... .......... .......... .......... 29% 24,3M 2s\n",
      "  4300K .......... .......... .......... .......... .......... 29% 24,8M 2s\n",
      "  4350K .......... .......... .......... .......... .......... 30% 27,9M 2s\n",
      "  4400K .......... .......... .......... .......... .......... 30% 30,3M 2s\n",
      "  4450K .......... .......... .......... .......... .......... 30% 35,0M 2s\n",
      "  4500K .......... .......... .......... .......... .......... 31% 52,7M 2s\n",
      "  4550K .......... .......... .......... .......... .......... 31% 34,3M 2s\n",
      "  4600K .......... .......... .......... .......... .......... 31% 44,4M 2s\n",
      "  4650K .......... .......... .......... .......... .......... 32% 34,8M 1s\n",
      "  4700K .......... .......... .......... .......... .......... 32% 35,0M 1s\n",
      "  4750K .......... .......... .......... .......... .......... 33% 10,7M 1s\n",
      "  4800K .......... .......... .......... .......... .......... 33% 40,7M 1s\n",
      "  4850K .......... .......... .......... .......... .......... 33% 43,0M 1s\n",
      "  4900K .......... .......... .......... .......... .......... 34% 6,50M 1s\n",
      "  4950K .......... .......... .......... .......... .......... 34% 10,2M 1s\n",
      "  5000K .......... .......... .......... .......... .......... 34% 26,0M 1s\n",
      "  5050K .......... .......... .......... .......... .......... 35% 29,0M 1s\n",
      "  5100K .......... .......... .......... .......... .......... 35% 33,8M 1s\n",
      "  5150K .......... .......... .......... .......... .......... 35% 3,37M 1s\n",
      "  5200K .......... .......... .......... .......... .......... 36% 1,96M 1s\n",
      "  5250K .......... .......... .......... .......... .......... 36% 23,2M 1s\n",
      "  5300K .......... .......... .......... .......... .......... 36% 23,3M 1s\n",
      "  5350K .......... .......... .......... .......... .......... 37% 23,1M 1s\n",
      "  5400K .......... .......... .......... .......... .......... 37% 30,0M 1s\n",
      "  5450K .......... .......... .......... .......... .......... 37% 38,3M 1s\n",
      "  5500K .......... .......... .......... .......... .......... 38% 58,4M 1s\n",
      "  5550K .......... .......... .......... .......... .......... 38% 17,0M 1s\n",
      "  5600K .......... .......... .......... .......... .......... 38% 22,5M 1s\n",
      "  5650K .......... .......... .......... .......... .......... 39% 38,5M 1s\n",
      "  5700K .......... .......... .......... .......... .......... 39% 4,11M 1s\n",
      "  5750K .......... .......... .......... .......... .......... 39% 16,2M 1s\n",
      "  5800K .......... .......... .......... .......... .......... 40% 35,0M 1s\n",
      "  5850K .......... .......... .......... .......... .......... 40% 33,0M 1s\n",
      "  5900K .......... .......... .......... .......... .......... 40% 37,5M 1s\n",
      "  5950K .......... .......... .......... .......... .......... 41% 31,2M 1s\n",
      "  6000K .......... .......... .......... .......... .......... 41% 34,9M 1s\n",
      "  6050K .......... .......... .......... .......... .......... 41% 32,7M 1s\n",
      "  6100K .......... .......... .......... .......... .......... 42% 20,3M 1s\n",
      "  6150K .......... .......... .......... .......... .......... 42% 22,2M 1s\n",
      "  6200K .......... .......... .......... .......... .......... 42% 1,58M 1s\n",
      "  6250K .......... .......... .......... .......... .......... 43% 20,5M 1s\n",
      "  6300K .......... .......... .......... .......... .......... 43% 24,0M 1s\n",
      "  6350K .......... .......... .......... .......... .......... 44% 25,4M 1s\n",
      "  6400K .......... .......... .......... .......... .......... 44% 35,5M 1s\n",
      "  6450K .......... .......... .......... .......... .......... 44% 30,9M 1s\n",
      "  6500K .......... .......... .......... .......... .......... 45% 35,2M 1s\n",
      "  6550K .......... .......... .......... .......... .......... 45% 30,4M 1s\n",
      "  6600K .......... .......... .......... .......... .......... 45% 18,6M 1s\n",
      "  6650K .......... .......... .......... .......... .......... 46% 24,2M 1s\n",
      "  6700K .......... .......... .......... .......... .......... 46% 10,7M 1s\n",
      "  6750K .......... .......... .......... .......... .......... 46% 2,89M 1s\n",
      "  6800K .......... .......... .......... .......... .......... 47% 36,8M 1s\n",
      "  6850K .......... .......... .......... .......... .......... 47% 32,0M 1s\n",
      "  6900K .......... .......... .......... .......... .......... 47% 28,7M 1s\n",
      "  6950K .......... .......... .......... .......... .......... 48% 28,0M 1s\n",
      "  7000K .......... .......... .......... .......... .......... 48% 30,1M 1s\n",
      "  7050K .......... .......... .......... .......... .......... 48% 44,1M 1s\n",
      "  7100K .......... .......... .......... .......... .......... 49% 46,8M 1s\n",
      "  7150K .......... .......... .......... .......... .......... 49% 20,5M 1s\n",
      "  7200K .......... .......... .......... .......... .......... 49% 15,9M 1s\n",
      "  7250K .......... .......... .......... .......... .......... 50% 2,24M 1s\n",
      "  7300K .......... .......... .......... .......... .......... 50% 19,3M 1s\n",
      "  7350K .......... .......... .......... .......... .......... 50% 20,5M 1s\n",
      "  7400K .......... .......... .......... .......... .......... 51% 30,8M 1s\n",
      "  7450K .......... .......... .......... .......... .......... 51% 35,2M 1s\n",
      "  7500K .......... .......... .......... .......... .......... 51% 5,40M 1s\n",
      "  7550K .......... .......... .......... .......... .......... 52% 24,4M 1s\n",
      "  7600K .......... .......... .......... .......... .......... 52% 23,1M 1s\n",
      "  7650K .......... .......... .......... .......... .......... 52% 28,2M 1s\n",
      "  7700K .......... .......... .......... .......... .......... 53% 32,5M 1s\n",
      "  7750K .......... .......... .......... .......... .......... 53% 4,51M 1s\n",
      "  7800K .......... .......... .......... .......... .......... 53% 7,32M 1s\n",
      "  7850K .......... .......... .......... .......... .......... 54% 22,5M 1s\n",
      "  7900K .......... .......... .......... .......... .......... 54% 29,0M 1s\n",
      "  7950K .......... .......... .......... .......... .......... 55% 28,9M 1s\n",
      "  8000K .......... .......... .......... .......... .......... 55% 30,9M 1s\n",
      "  8050K .......... .......... .......... .......... .......... 55% 40,4M 1s\n",
      "  8100K .......... .......... .......... .......... .......... 56% 38,8M 1s\n",
      "  8150K .......... .......... .......... .......... .......... 56% 17,4M 1s\n",
      "  8200K .......... .......... .......... .......... .......... 56% 47,8M 1s\n",
      "  8250K .......... .......... .......... .......... .......... 57% 3,20M 1s\n",
      "  8300K .......... .......... .......... .......... .......... 57% 19,0M 1s\n",
      "  8350K .......... .......... .......... .......... .......... 57% 21,4M 1s\n",
      "  8400K .......... .......... .......... .......... .......... 58% 32,8M 1s\n",
      "  8450K .......... .......... .......... .......... .......... 58% 8,63M 1s\n",
      "  8500K .......... .......... .......... .......... .......... 58% 12,2M 1s\n",
      "  8550K .......... .......... .......... .......... .......... 59% 17,7M 1s\n",
      "  8600K .......... .......... .......... .......... .......... 59% 25,7M 1s\n",
      "  8650K .......... .......... .......... .......... .......... 59% 21,2M 1s\n",
      "  8700K .......... .......... .......... .......... .......... 60% 20,2M 1s\n",
      "  8750K .......... .......... .......... .......... .......... 60% 32,9M 1s\n",
      "  8800K .......... .......... .......... .......... .......... 60% 4,79M 1s\n",
      "  8850K .......... .......... .......... .......... .......... 61% 3,65M 1s\n",
      "  8900K .......... .......... .......... .......... .......... 61% 19,1M 1s\n",
      "  8950K .......... .......... .......... .......... .......... 61% 32,2M 1s\n",
      "  9000K .......... .......... .......... .......... .......... 62% 35,3M 1s\n",
      "  9050K .......... .......... .......... .......... .......... 62% 34,2M 1s\n",
      "  9100K .......... .......... .......... .......... .......... 62% 35,0M 1s\n",
      "  9150K .......... .......... .......... .......... .......... 63% 35,1M 1s\n",
      "  9200K .......... .......... .......... .......... .......... 63% 33,2M 1s\n",
      "  9250K .......... .......... .......... .......... .......... 63% 20,1M 1s\n",
      "  9300K .......... .......... .......... .......... .......... 64% 8,58M 1s\n",
      "  9350K .......... .......... .......... .......... .......... 64% 14,1M 1s\n",
      "  9400K .......... .......... .......... .......... .......... 64% 15,6M 1s\n",
      "  9450K .......... .......... .......... .......... .......... 65% 5,52M 1s\n",
      "  9500K .......... .......... .......... .......... .......... 65% 23,4M 1s\n",
      "  9550K .......... .......... .......... .......... .......... 66% 4,76M 1s\n",
      "  9600K .......... .......... .......... .......... .......... 66% 20,8M 1s\n",
      "  9650K .......... .......... .......... .......... .......... 66% 22,3M 1s\n",
      "  9700K .......... .......... .......... .......... .......... 67% 35,5M 1s\n",
      "  9750K .......... .......... .......... .......... .......... 67% 26,4M 1s\n",
      "  9800K .......... .......... .......... .......... .......... 67% 29,8M 1s\n",
      "  9850K .......... .......... .......... .......... .......... 68% 4,36M 1s\n",
      "  9900K .......... .......... .......... .......... .......... 68% 4,24M 1s\n",
      "  9950K .......... .......... .......... .......... .......... 68% 28,2M 1s\n",
      " 10000K .......... .......... .......... .......... .......... 69% 28,1M 1s\n",
      " 10050K .......... .......... .......... .......... .......... 69% 22,5M 0s\n",
      " 10100K .......... .......... .......... .......... .......... 69% 33,8M 0s\n",
      " 10150K .......... .......... .......... .......... .......... 70% 28,1M 0s\n",
      " 10200K .......... .......... .......... .......... .......... 70% 33,1M 0s\n",
      " 10250K .......... .......... .......... .......... .......... 70% 39,1M 0s\n",
      " 10300K .......... .......... .......... .......... .......... 71% 34,1M 0s\n",
      " 10350K .......... .......... .......... .......... .......... 71% 19,4M 0s\n",
      " 10400K .......... .......... .......... .......... .......... 71% 37,4M 0s\n",
      " 10450K .......... .......... .......... .......... .......... 72% 10,1M 0s\n",
      " 10500K .......... .......... .......... .......... .......... 72% 7,70M 0s\n",
      " 10550K .......... .......... .......... .......... .......... 72% 4,04M 0s\n",
      " 10600K .......... .......... .......... .......... .......... 73% 12,8M 0s\n",
      " 10650K .......... .......... .......... .......... .......... 73% 18,7M 0s\n",
      " 10700K .......... .......... .......... .......... .......... 73% 21,0M 0s\n",
      " 10750K .......... .......... .......... .......... .......... 74% 18,3M 0s\n",
      " 10800K .......... .......... .......... .......... .......... 74% 36,2M 0s\n",
      " 10850K .......... .......... .......... .......... .......... 74% 20,7M 0s\n",
      " 10900K .......... .......... .......... .......... .......... 75% 4,93M 0s\n",
      " 10950K .......... .......... .......... .......... .......... 75% 6,70M 0s\n",
      " 11000K .......... .......... .......... .......... .......... 75% 5,67M 0s\n",
      " 11050K .......... .......... .......... .......... .......... 76% 20,9M 0s\n",
      " 11100K .......... .......... .......... .......... .......... 76% 21,3M 0s\n",
      " 11150K .......... .......... .......... .......... .......... 77% 33,1M 0s\n",
      " 11200K .......... .......... .......... .......... .......... 77% 32,5M 0s\n",
      " 11250K .......... .......... .......... .......... .......... 77% 39,1M 0s\n",
      " 11300K .......... .......... .......... .......... .......... 78% 34,2M 0s\n",
      " 11350K .......... .......... .......... .......... .......... 78% 27,1M 0s\n",
      " 11400K .......... .......... .......... .......... .......... 78% 35,0M 0s\n",
      " 11450K .......... .......... .......... .......... .......... 79% 20,8M 0s\n",
      " 11500K .......... .......... .......... .......... .......... 79% 34,6M 0s\n",
      " 11550K .......... .......... .......... .......... .......... 79% 5,07M 0s\n",
      " 11600K .......... .......... .......... .......... .......... 80% 19,5M 0s\n",
      " 11650K .......... .......... .......... .......... .......... 80% 23,1M 0s\n",
      " 11700K .......... .......... .......... .......... .......... 80% 20,3M 0s\n",
      " 11750K .......... .......... .......... .......... .......... 81% 18,3M 0s\n",
      " 11800K .......... .......... .......... .......... .......... 81% 24,9M 0s\n",
      " 11850K .......... .......... .......... .......... .......... 81% 25,0M 0s\n",
      " 11900K .......... .......... .......... .......... .......... 82% 7,31M 0s\n",
      " 11950K .......... .......... .......... .......... .......... 82% 4,44M 0s\n",
      " 12000K .......... .......... .......... .......... .......... 82% 8,79M 0s\n",
      " 12050K .......... .......... .......... .......... .......... 83% 11,1M 0s\n",
      " 12100K .......... .......... .......... .......... .......... 83% 3,94M 0s\n",
      " 12150K .......... .......... .......... .......... .......... 83% 9,96M 0s\n",
      " 12200K .......... .......... .......... .......... .......... 84% 24,4M 0s\n",
      " 12250K .......... .......... .......... .......... .......... 84% 20,8M 0s\n",
      " 12300K .......... .......... .......... .......... .......... 84% 20,6M 0s\n",
      " 12350K .......... .......... .......... .......... .......... 85% 25,7M 0s\n",
      " 12400K .......... .......... .......... .......... .......... 85% 39,8M 0s\n",
      " 12450K .......... .......... .......... .......... .......... 85% 36,4M 0s\n",
      " 12500K .......... .......... .......... .......... .......... 86% 35,2M 0s\n",
      " 12550K .......... .......... .......... .......... .......... 86% 27,0M 0s\n",
      " 12600K .......... .......... .......... .......... .......... 86% 34,9M 0s\n",
      " 12650K .......... .......... .......... .......... .......... 87% 37,5M 0s\n",
      " 12700K .......... .......... .......... .......... .......... 87% 26,3M 0s\n",
      " 12750K .......... .......... .......... .......... .......... 88% 23,7M 0s\n",
      " 12800K .......... .......... .......... .......... .......... 88% 13,6M 0s\n",
      " 12850K .......... .......... .......... .......... .......... 88% 21,6M 0s\n",
      " 12900K .......... .......... .......... .......... .......... 89% 20,5M 0s\n",
      " 12950K .......... .......... .......... .......... .......... 89% 6,15M 0s\n",
      " 13000K .......... .......... .......... .......... .......... 89% 10,5M 0s\n",
      " 13050K .......... .......... .......... .......... .......... 90% 10,1M 0s\n",
      " 13100K .......... .......... .......... .......... .......... 90% 3,38M 0s\n",
      " 13150K .......... .......... .......... .......... .......... 90% 6,78M 0s\n",
      " 13200K .......... .......... .......... .......... .......... 91% 29,9M 0s\n",
      " 13250K .......... .......... .......... .......... .......... 91% 25,3M 0s\n",
      " 13300K .......... .......... .......... .......... .......... 91% 3,64M 0s\n",
      " 13350K .......... .......... .......... .......... .......... 92% 4,12M 0s\n",
      " 13400K .......... .......... .......... .......... .......... 92% 27,6M 0s\n",
      " 13450K .......... .......... .......... .......... .......... 92% 36,7M 0s\n",
      " 13500K .......... .......... .......... .......... .......... 93% 30,6M 0s\n",
      " 13550K .......... .......... .......... .......... .......... 93% 29,2M 0s\n",
      " 13600K .......... .......... .......... .......... .......... 93% 39,7M 0s\n",
      " 13650K .......... .......... .......... .......... .......... 94% 50,5M 0s\n",
      " 13700K .......... .......... .......... .......... .......... 94% 41,1M 0s\n",
      " 13750K .......... .......... .......... .......... .......... 94% 20,6M 0s\n",
      " 13800K .......... .......... .......... .......... .......... 95% 41,9M 0s\n",
      " 13850K .......... .......... .......... .......... .......... 95% 33,3M 0s\n",
      " 13900K .......... .......... .......... .......... .......... 95% 34,5M 0s\n",
      " 13950K .......... .......... .......... .......... .......... 96% 33,5M 0s\n",
      " 14000K .......... .......... .......... .......... .......... 96% 33,6M 0s\n",
      " 14050K .......... .......... .......... .......... .......... 96% 23,0M 0s\n",
      " 14100K .......... .......... .......... .......... .......... 97% 37,5M 0s\n",
      " 14150K .......... .......... .......... .......... .......... 97% 3,68M 0s\n",
      " 14200K .......... .......... .......... .......... .......... 97% 5,44M 0s\n",
      " 14250K .......... .......... .......... .......... .......... 98% 16,9M 0s\n",
      " 14300K .......... .......... .......... .......... .......... 98% 7,29M 0s\n",
      " 14350K .......... .......... .......... .......... .......... 99% 2,09M 0s\n",
      " 14400K .......... .......... .......... .......... .......... 99% 4,72M 0s\n",
      " 14450K .......... .......... .......... .......... .......... 99% 18,8M 0s\n",
      " 14500K .......... .......... .......... .......... ....      100% 34,7M=1,5s\n",
      "\n",
      "2022-01-19 12:29:42 (9,57 MB/s) - “PRH.zip” salvo [14893401/14893401]\n",
      "\n"
     ]
    }
   ],
   "source": [
    "%%bash\n",
    "\n",
    "wget https://github.com/fabiocorreacordeiro/wordEmbeddingsOG/raw/master/_corpus/PRH.zip\n",
    "unzip PRH.zip"
   ]
  },
  {
   "cell_type": "markdown",
   "metadata": {
    "id": "C7W3glYlHimR"
   },
   "source": [
    "##carregamos nossas bibliotecas"
   ]
  },
  {
   "cell_type": "code",
   "execution_count": 54,
   "metadata": {
    "ExecuteTime": {
     "end_time": "2022-01-19T19:03:10.476268Z",
     "start_time": "2022-01-19T19:03:10.026376Z"
    },
    "colab": {
     "base_uri": "https://localhost:8080/"
    },
    "id": "rA__3tfqVK2p",
    "outputId": "c063670d-bab2-4132-deb8-9f866c62cdc1"
   },
   "outputs": [
    {
     "name": "stderr",
     "output_type": "stream",
     "text": [
      "[nltk_data] Downloading package punkt to\n",
      "[nltk_data]     /Users/LeonardoLins/nltk_data...\n",
      "[nltk_data]   Package punkt is already up-to-date!\n",
      "[nltk_data] Downloading package stopwords to\n",
      "[nltk_data]     /Users/LeonardoLins/nltk_data...\n",
      "[nltk_data]   Package stopwords is already up-to-date!\n"
     ]
    }
   ],
   "source": [
    "%matplotlib inline\n",
    "import glob\n",
    "import numpy as np\n",
    "import matplotlib.pyplot as plt\n",
    "import nltk\n",
    "from nltk.corpus import stopwords\n",
    "import csv\n",
    "import gensim\n",
    "from itertools import groupby\n",
    "from gensim.similarities import WmdSimilarity\n",
    "from gensim.models import Word2Vec\n",
    "\n",
    "nltk.download('punkt') \n",
    "nltk.download('stopwords')\n",
    "stop_words = stopwords.words('portuguese')"
   ]
  },
  {
   "cell_type": "markdown",
   "metadata": {
    "id": "z6VnqqJdHv43"
   },
   "source": [
    "## Vamos criar uma função que leia todos os arquivos\n",
    "## Depois aplicamos um encoding "
   ]
  },
  {
   "cell_type": "code",
   "execution_count": 55,
   "metadata": {
    "ExecuteTime": {
     "end_time": "2022-01-19T19:03:14.480720Z",
     "start_time": "2022-01-19T19:03:14.473050Z"
    },
    "id": "BGoH0xvSXMfQ"
   },
   "outputs": [],
   "source": [
    "def read_files(filenames):\n",
    "  lines = []\n",
    "  # Lendo todos os documentos de texto\n",
    "  for index,filename in enumerate(filenames):\n",
    "\n",
    "      file = open(filename, 'r', encoding='utf-8')\n",
    "\n",
    "      for line in file:\n",
    "\n",
    "          # Remover espaços em branco \n",
    "          line = line.strip()\n",
    "\n",
    "          # Pula linhas em branco\n",
    "          if len(line) == 0:\n",
    "              continue\n",
    "\n",
    "          lines.append(line)\n",
    "\n",
    "      if index % 10 == 0:\n",
    "          print(\".\",end=\" \")\n",
    "  \n",
    "  print(\"LEITURA COMPLETA!\")\n",
    "  \n",
    "  text = \" \".join(lines)\n",
    "  \n",
    "  return text"
   ]
  },
  {
   "cell_type": "markdown",
   "metadata": {
    "id": "cqnO7QXXICwt"
   },
   "source": [
    "##criamos uma pasta com nossos arquivos"
   ]
  },
  {
   "cell_type": "code",
   "execution_count": 56,
   "metadata": {
    "ExecuteTime": {
     "end_time": "2022-01-19T19:05:13.716161Z",
     "start_time": "2022-01-19T19:03:17.640151Z"
    },
    "colab": {
     "base_uri": "https://localhost:8080/"
    },
    "id": "tZme1RalVL3s",
    "outputId": "b48d6981-18c5-4422-e0ab-d1519b6bb499"
   },
   "outputs": [
    {
     "name": "stdout",
     "output_type": "stream",
     "text": [
      ". . . . . . . . . . . . . . . . . . . . . . . . . . . . . . . . LEITURA COMPLETA!\n",
      "Tokenizando Completada!\n"
     ]
    }
   ],
   "source": [
    "filenames =  glob.glob(\"PRH/*\") #lista diretório de forma global\n",
    "\n",
    "text = read_files(filenames)\n",
    "text = nltk.word_tokenize(text , language='portuguese')\n",
    "print(\"Tokenizando Completada!\")"
   ]
  },
  {
   "cell_type": "markdown",
   "metadata": {
    "id": "zQT-IWGnIHdE"
   },
   "source": [
    "## Agrupamos o texto que se encontra entre ponto e ponto"
   ]
  },
  {
   "cell_type": "code",
   "execution_count": 58,
   "metadata": {
    "ExecuteTime": {
     "end_time": "2022-01-19T19:06:28.508144Z",
     "start_time": "2022-01-19T19:06:00.090478Z"
    },
    "id": "wZZoxmvgXh14"
   },
   "outputs": [],
   "source": [
    "# Agrupamos por texto que se encontra entre 2 ponto.\n",
    "sentences = [list(group) for k, group in groupby(text, lambda x: x == \".\") if not k] #k será falso ou verdadeiro.\n",
    "# sentence é uma lista de lista.\n",
    "\n",
    "# Remove stopwords numbers and punctuation.\n",
    "\n",
    "def preprocess(sentence):\n",
    "  return [word for word in sentence if word not in stop_words and word.isalpha()]\n",
    "\n",
    "sentences = [preprocess(sentence) for sentence in sentences] #\n",
    "\n",
    "# Seleccionamos frases com dimensão entre 3 e 150 palavras.\n",
    "sentences =  [sentence for sentence in sentences if len(sentence)>3 and len(sentence)<150]"
   ]
  },
  {
   "cell_type": "code",
   "execution_count": 59,
   "metadata": {
    "ExecuteTime": {
     "end_time": "2022-01-19T19:06:30.880417Z",
     "start_time": "2022-01-19T19:06:28.512585Z"
    },
    "colab": {
     "base_uri": "https://localhost:8080/",
     "height": 404
    },
    "id": "YfKZAAOnYlK_",
    "outputId": "b8085cb7-d1b7-4ddc-84f0-d5478db730fa"
   },
   "outputs": [
    {
     "data": {
      "image/png": "[encoded data removed]",
      "text/plain": [
       "<Figure size 720x432 with 1 Axes>"
      ]
     },
     "metadata": {
      "needs_background": "light"
     },
     "output_type": "display_data"
    }
   ],
   "source": [
    "lens = [len(sentence) for sentence in sentences]\n",
    "avg_len = sum(lens) / float(len(lens))\n",
    "\n",
    "plt.figure(figsize=(10,6))\n",
    "plt.hist([len(sentence) for sentence in sentences])\n",
    "plt.axvline(avg_len, color='#e41a1c')\n",
    "plt.title('Histograma de cumprimento de frases.')\n",
    "plt.xlabel('tamanho')\n",
    "plt.text(10, 40000, 'mean = %.2f' % avg_len)\n",
    "plt.show()"
   ]
  },
  {
   "cell_type": "markdown",
   "metadata": {
    "id": "_zc0F8pAIW-p"
   },
   "source": [
    "## agora é com voces que estou passando ao codigo???\n"
   ]
  },
  {
   "cell_type": "markdown",
   "metadata": {
    "id": "d2E5nFKWIfmx"
   },
   "source": [
    "##Wmdsimilarity vimos esse conceito em aula\n"
   ]
  },
  {
   "cell_type": "code",
   "execution_count": 60,
   "metadata": {
    "ExecuteTime": {
     "end_time": "2022-01-19T19:07:30.466038Z",
     "start_time": "2022-01-19T19:06:42.897570Z"
    },
    "id": "Xqcj6pq5ZBF-"
   },
   "outputs": [],
   "source": [
    "# Treinamos Word2Vec com todos as frases\n",
    "model = Word2Vec(sentences, workers=2, size=50)\n",
    "\n",
    "# Calculamos a similaridade entre um conjunto de frases\n",
    "num_best = 10\n",
    "instance = WmdSimilarity(sentences[:1000], model, num_best=10)"
   ]
  },
  {
   "cell_type": "markdown",
   "metadata": {
    "id": "lqobM-89KbbQ"
   },
   "source": [
    "##vamos a perguntar a similaridade com as sentençãs"
   ]
  },
  {
   "cell_type": "code",
   "execution_count": 61,
   "metadata": {
    "ExecuteTime": {
     "end_time": "2022-01-19T19:07:37.869872Z",
     "start_time": "2022-01-19T19:07:36.393122Z"
    },
    "id": "gBryTE1zZH1F"
   },
   "outputs": [],
   "source": [
    "text = 'muito obrigado'\n",
    "sentence = nltk.word_tokenize(text.lower(), language='portuguese')\n",
    "query = preprocess(sentence)\n",
    "sims = instance[query]  # A query observa na classe de similaridade."
   ]
  },
  {
   "cell_type": "markdown",
   "metadata": {
    "id": "1JaFgc4-Kk9A"
   },
   "source": [
    "##mostramos os resultados das consultas"
   ]
  },
  {
   "cell_type": "code",
   "execution_count": 62,
   "metadata": {
    "ExecuteTime": {
     "end_time": "2022-01-19T19:07:41.032210Z",
     "start_time": "2022-01-19T19:07:41.017059Z"
    },
    "colab": {
     "base_uri": "https://localhost:8080/"
    },
    "id": "M60_YkySdqa0",
    "outputId": "8c715063-3f5a-4c2f-bcd5-f1f0003d2e94"
   },
   "outputs": [
    {
     "name": "stdout",
     "output_type": "stream",
     "text": [
      "Query:\n",
      "muito obrigado\n",
      "\n",
      "sim = 0.6420\n",
      "Ao esposo Anderson amor companheirismo dedicação paciência compreensão\n",
      "\n",
      "sim = 0.6175\n",
      "Aos pais avó incentivo tudo fizeram fazem mim hoje\n",
      "\n",
      "sim = 0.6003\n",
      "Título DEDICATÓRIA Ao esposo especial filho\n",
      "\n",
      "sim = 0.5646\n",
      "Amo AGRADECIMENTOS A orientadora Profª Drª Suani Teixeira Coelho confiança aprendizado oportunidade\n",
      "\n",
      "sim = 0.5501\n",
      "FICHA CATALOGRÁFICA Garcilasso Vanessa Pecora\n",
      "\n",
      "sim = 0.5393\n",
      "Sob coordenação Profª Drª Suani Coelho parceiros\n",
      "\n",
      "sim = 0.5371\n",
      "À equipe CENBIO especial Cristiane Lima Cortez Naraisa Esteves Coluna equipe projeto especial Renata Grisoli contribuíram trabalho\n",
      "\n",
      "sim = 0.5180\n",
      "Ao filho Nathan presente Deus alegra dá forças incentiva inspira renova orgulha Obrigada filho existir vida Ao CNPq Programa Recursos Humanos ANP Setor Petróleo Gás n\n",
      "\n",
      "sim = 0.5096\n",
      "Dissertação Mestrado Faculdade Engenharia Química Universidade Estadual Campinas Campinas\n",
      "\n",
      "sim = 0.5046\n",
      "UNIVERSIDADE FEDERAL DE SÃO CARLOS CENTRO DE CIÊNCIAS EXATAS E TECNOLOGIA DEPARTAMENTO DE ENGENHARIA QUÍMICA PROGRAMA DE ESPECIALIZAÇÃO EM DESENVOLVIMENTO DE BIOCOMBUSTÍVEIS DESTILAÇÃO EXTRATIVA PARA A PRODUÇÃO DE ETANOL ANIDRO COM USO DA GLICERINA COMO SOLVENTE ANDRÉ BRAGA ESCADA SÃO CARLOS UNIVERSIDADE FEDERAL DE SÃO CARLOS CENTRO DE CIÊNCIAS EXATAS E TECNOLOGIA DEPARTAMENTO DE ENGENHARIA QUÍMICA PROGRAMA DE ESPECIALIZAÇÃO EM DESENVOLVIMENTO DE BIOCOMBUSTÍVEIS DESTILAÇÃO EXTRATIVA PARA A PRODUÇÃO DE ETANOL ANIDRO COM USO DA GLICERINA COMO SOLVENTE ANDRÉ BRAGA ESCADA Luiz Fernando Moura Orientador Relatório final projeto iniciação científica apresentado Programa Recursos Humanos ANP PRH referente especialização desenvolvimento biocombustíveis requisito obrigatório\n"
     ]
    }
   ],
   "source": [
    "# Mostramos os resultado à da frase perguntada na celula anterior \n",
    "print('Query:')\n",
    "print(text)\n",
    "for i in range(num_best):\n",
    "    print(\"\")\n",
    "    print('sim = %.4f' % sims[i][1])\n",
    "    print(\" \".join(sentences[sims[i][0]]))"
   ]
  },
  {
   "cell_type": "markdown",
   "metadata": {
    "id": "AAoBEbwgKpt-"
   },
   "source": [
    "##agora similaridade por token"
   ]
  },
  {
   "cell_type": "code",
   "execution_count": 63,
   "metadata": {
    "ExecuteTime": {
     "end_time": "2022-01-19T19:07:48.310273Z",
     "start_time": "2022-01-19T19:07:48.297687Z"
    },
    "colab": {
     "base_uri": "https://localhost:8080/"
    },
    "id": "VypFXL6_eDE3",
    "outputId": "56a36694-db4e-43c8-bf49-f61be5dceff9"
   },
   "outputs": [
    {
     "data": {
      "text/plain": [
       "[('petrolífera', 0.7467620372772217),\n",
       " ('maduros', 0.6785228252410889),\n",
       " ('natural', 0.6756860613822937),\n",
       " ('óleo', 0.6672649383544922),\n",
       " ('hidratos', 0.6578920483589172),\n",
       " ('petroquímica', 0.6551876664161682),\n",
       " ('exploração', 0.6506679058074951),\n",
       " ('petrolíferos', 0.6381402611732483),\n",
       " ('têxtil', 0.6358485221862793),\n",
       " ('proteção', 0.6288328766822815)]"
      ]
     },
     "execution_count": 63,
     "metadata": {},
     "output_type": "execute_result"
    }
   ],
   "source": [
    "model.wv.most_similar('petróleo')"
   ]
  },
  {
   "cell_type": "markdown",
   "metadata": {
    "id": "GndYd5_LKtr2"
   },
   "source": [
    "## criamos os vectores para mostrar em pca e t-sne"
   ]
  },
  {
   "cell_type": "markdown",
   "metadata": {
    "id": "m6dVPL5TK2Zt"
   },
   "source": [
    "##são dois vetores padrão w2v e metadados"
   ]
  },
  {
   "cell_type": "code",
   "execution_count": 64,
   "metadata": {
    "ExecuteTime": {
     "end_time": "2022-01-19T19:08:03.140096Z",
     "start_time": "2022-01-19T19:07:54.594048Z"
    },
    "id": "3j3bspM7eTeE"
   },
   "outputs": [],
   "source": [
    "tensor_file = 'word_tensor.w2v'\n",
    "model.wv.save_word2vec_format(tensor_file)\n",
    "key_vectors = gensim.models.KeyedVectors.load_word2vec_format(tensor_file, binary=False)"
   ]
  },
  {
   "cell_type": "code",
   "execution_count": 65,
   "metadata": {
    "ExecuteTime": {
     "end_time": "2022-01-19T19:08:03.696517Z",
     "start_time": "2022-01-19T19:08:03.648862Z"
    },
    "id": "QLn59GPXeWYY"
   },
   "outputs": [],
   "source": [
    "words_id = []\n",
    "vectors = []\n",
    "for word_id in key_vectors.index2word[:10000]:\n",
    "    words_id.append(word_id)\n",
    "    vectors.append(key_vectors[word_id])"
   ]
  },
  {
   "cell_type": "markdown",
   "metadata": {
    "id": "fPlRnSPwLABO"
   },
   "source": [
    "## codigo padrão tensor flow cria os vetores "
   ]
  },
  {
   "cell_type": "code",
   "execution_count": 66,
   "metadata": {
    "ExecuteTime": {
     "end_time": "2022-01-19T19:08:05.866395Z",
     "start_time": "2022-01-19T19:08:05.852371Z"
    },
    "id": "SS2gFMQUepCI"
   },
   "outputs": [],
   "source": [
    "def create_tensorboard_files(tensor_filename, vectors, metadatos, colnames=None):\n",
    "\n",
    "    out_file_tsv      = tensor_filename + '_tensor.tsv'\n",
    "    out_file_tsv_meta = tensor_filename + '_metadata.tsv'\n",
    "    \n",
    "    with open(out_file_tsv, 'w',encoding='utf-8') as f:   \n",
    "        for vector in vectors:\n",
    "            vector_str = \"\\t\".join([str(x) for x in vector])\n",
    "            f.write( vector_str + '\\n')\n",
    "\n",
    "    with open(out_file_tsv_meta, 'w',encoding='utf-8') as f:\n",
    "        writer = csv.writer(f, delimiter='\\t')\n",
    "        if len(metadatos)>=2:\n",
    "            if colnames is None:\n",
    "                colnames = \"\\t\".join([str(i) for i in range(len(metadatos))])\n",
    "            writer.writerow(colnames)\n",
    "            for metadato in zip(*metadatos):\n",
    "                line = [str(x) for x in metadato]\n",
    "                writer.writerow(line)\n",
    "        else:\n",
    "            for metadato in metadatos[0]:\n",
    "                writer.writerow([metadato])\n",
    "            \n",
    "    print(\"Arquivo com o Tensor 2D foi salvado em: %s\" % out_file_tsv)\n",
    "    print(\"Arquivo com o Tensor de metadatos foi salvado em: %s\" % out_file_tsv_meta)"
   ]
  },
  {
   "cell_type": "markdown",
   "metadata": {
    "id": "8c1Z1oPvLLIu"
   },
   "source": [
    "Guarda no desktop"
   ]
  },
  {
   "cell_type": "code",
   "execution_count": 67,
   "metadata": {
    "ExecuteTime": {
     "end_time": "2022-01-19T19:08:08.970498Z",
     "start_time": "2022-01-19T19:08:08.191033Z"
    },
    "colab": {
     "base_uri": "https://localhost:8080/"
    },
    "id": "OJjbsKD5ehEX",
    "outputId": "4c3959be-b674-4232-d54f-845ab10690e2"
   },
   "outputs": [
    {
     "name": "stdout",
     "output_type": "stream",
     "text": [
      "Arquivo com o Tensor 2D foi salvado em: word_tensor.tsv\n",
      "Arquivo com o Tensor de metadatos foi salvado em: word_metadata.tsv\n"
     ]
    }
   ],
   "source": [
    "metadatos=[words_id]\n",
    "create_tensorboard_files(tensor_filename=\"word\", \n",
    "                      vectors=vectors, \n",
    "                      metadatos=[words_id])"
   ]
  },
  {
   "cell_type": "markdown",
   "metadata": {
    "id": "WYLxTekKLOqi"
   },
   "source": [
    "##guarda no colab"
   ]
  },
  {
   "cell_type": "code",
   "execution_count": 17,
   "metadata": {
    "ExecuteTime": {
     "end_time": "2022-01-19T02:39:47.358998Z",
     "start_time": "2022-01-19T02:39:47.354121Z"
    },
    "id": "iX2k80K1EVv4"
   },
   "outputs": [],
   "source": [
    "#from google.colab import drive\n",
    "\n",
    "#drive.mount('/content/drive')"
   ]
  },
  {
   "cell_type": "markdown",
   "metadata": {
    "id": "qm4l3Us2fAx6"
   },
   "source": [
    "Baixa os arquivos gerados e colocar em Tensoboard:\n"
   ]
  },
  {
   "cell_type": "code",
   "execution_count": 18,
   "metadata": {
    "ExecuteTime": {
     "end_time": "2022-01-19T02:39:50.118825Z",
     "start_time": "2022-01-19T02:39:50.114517Z"
    },
    "id": "1DYtRM5Ef25U"
   },
   "outputs": [],
   "source": [
    "#from google.colab import files\n",
    "#files.download('word_tensor.tsv')\n",
    "#files.download('word_metadata.tsv')"
   ]
  },
  {
   "cell_type": "code",
   "execution_count": 19,
   "metadata": {
    "ExecuteTime": {
     "end_time": "2022-01-19T02:39:57.714428Z",
     "start_time": "2022-01-19T02:39:52.944208Z"
    },
    "id": "pwnVZPPAAnHc"
   },
   "outputs": [],
   "source": [
    "import tensorflow as tf\n",
    "import datetime\n"
   ]
  },
  {
   "cell_type": "code",
   "execution_count": 20,
   "metadata": {
    "ExecuteTime": {
     "end_time": "2022-01-19T02:40:00.558870Z",
     "start_time": "2022-01-19T02:40:00.384314Z"
    },
    "colab": {
     "base_uri": "https://localhost:8080/"
    },
    "id": "2M9eG78iqMTL",
    "outputId": "5befc9a1-0c44-48fe-bee1-ed090c6cc3dd"
   },
   "outputs": [
    {
     "name": "stdout",
     "output_type": "stream",
     "text": [
      "\u001b[34mPRH\u001b[m\u001b[m               \u001b[31martigos.ipynb\u001b[m\u001b[m     word_tensor.tsv\r\n",
      "PRH.zip           word_metadata.tsv word_tensor.w2v\r\n"
     ]
    }
   ],
   "source": [
    "!ls"
   ]
  },
  {
   "cell_type": "code",
   "execution_count": null,
   "metadata": {
    "id": "cdPzVyk1r_vy"
   },
   "outputs": [],
   "source": []
  }
 ],
 "metadata": {
  "accelerator": "GPU",
  "colab": {
   "collapsed_sections": [],
   "name": "artigos (1).ipynb",
   "provenance": [],
   "toc_visible": true
  },
  "kernelspec": {
   "display_name": "Python 3 (ipykernel)",
   "language": "python",
   "name": "python3"
  },
  "language_info": {
   "codemirror_mode": {
    "name": "ipython",
    "version": 3
   },
   "file_extension": ".py",
   "mimetype": "text/x-python",
   "name": "python",
   "nbconvert_exporter": "python",
   "pygments_lexer": "ipython3",
   "version": "3.8.11"
  }
 },
 "nbformat": 4,
 "nbformat_minor": 1
}
