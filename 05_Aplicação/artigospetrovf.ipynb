{
 "cells": [
  {
   "cell_type": "markdown",
   "metadata": {
    "id": "UXYKlaMUihse"
   },
   "source": [
    "<table style=\"width:100%\">\n",
    "  <tr>\n",
    "    <td><center style=\"font-size:500%;\">Representação Distribuida de Palavras (Parte 2)</center></td>\n",
    "    <td><img src=\"https://logodownload.org/wp-content/uploads/2015/02/puc-rio-logo.gif\" width=\"100\"/></td> \n",
    "  </tr>    \n",
    "</table>\n"
   ]
  },
  {
   "cell_type": "markdown",
   "metadata": {
    "id": "VHABH3-BHT6V"
   },
   "source": [
    "##vamos criar nosso petrolês no proximo link teremos accesso aproximadamente 400 teses e tcc de petroleo"
   ]
  },
  {
   "cell_type": "code",
   "execution_count": 1,
   "metadata": {
    "ExecuteTime": {
     "end_time": "2022-01-19T20:32:19.601302Z",
     "start_time": "2022-01-19T20:32:19.594559Z"
    },
    "id": "UKSJVefvr_K3"
   },
   "outputs": [],
   "source": [
    "#!wget -V"
   ]
  },
  {
   "cell_type": "code",
   "execution_count": 2,
   "metadata": {
    "ExecuteTime": {
     "end_time": "2022-01-19T00:58:30.108379Z",
     "start_time": "2022-01-19T00:58:26.588900Z"
    },
    "colab": {
     "base_uri": "https://localhost:8080/"
    },
    "executionInfo": {
     "elapsed": 755,
     "status": "ok",
     "timestamp": 1642537519923,
     "user": {
      "displayName": "Leonardo Mendonza",
      "photoUrl": "https://lh3.googleusercontent.com/a-/AOh14Gj5F1JVSmHodKCvWHgDPYmDyFo_nUl5lqEXNbsW=s64",
      "userId": "09205135724810578413"
     },
     "user_tz": 180
    },
    "id": "Mm506CD881JJ",
    "outputId": "3b9eb3d1-b970-4ffa-9c48-7b0478e24cac"
   },
   "outputs": [
    {
     "name": "stdout",
     "output_type": "stream",
     "text": [
      "Archive:  PRH.zip\n",
      "  inflating: PRH/20120904-MONOGRAFIA_0.txt  \n",
      "  inflating: PRH/20121011-MONOGRAFIA_0 (1).txt  \n",
      "  inflating: PRH/20121011-MONOGRAFIA_0 (2).txt  \n",
      "  inflating: PRH/20121011-MONOGRAFIA_0.txt  \n",
      "  inflating: PRH/20121011-TESEMSC_0 (1).txt  \n",
      "  inflating: PRH/20121011-TESEMSC_0 (2).txt  \n",
      "  inflating: PRH/20121011-TESEMSC_0.txt  \n",
      "  inflating: PRH/20121015-TESEMSC_0.txt  \n",
      "  inflating: PRH/20121105-MONOGRAFIA_0.txt  \n",
      "  inflating: PRH/20121105-TESEMSC_0 (1).txt  \n",
      "  inflating: PRH/20121105-TESEMSC_0.txt  \n",
      "  inflating: PRH/20121107-TESEMSC_0.txt  \n",
      "  inflating: PRH/20121113-TESEMSC_0.txt  \n",
      "  inflating: PRH/20121119-TESEMSC_0.txt  \n",
      "  inflating: PRH/20121130-MONOGRAFIA_0.txt  \n",
      "  inflating: PRH/20121206-TESEDSC_1.txt  \n",
      "  inflating: PRH/20121217-MONOGRAFIA_0.txt  \n",
      "  inflating: PRH/20121220-MONOGRAFIA_0.txt  \n",
      "  inflating: PRH/20130226-TESEMSC_0.txt  \n",
      "  inflating: PRH/20130317-TESEDSC_0.txt  \n",
      "  inflating: PRH/20130320-TESEMSC_0.txt  \n",
      "  inflating: PRH/20130513-TESEMSC_0.txt  \n",
      "  inflating: PRH/20130607-TESEMSC_0 (1).txt  \n",
      "  inflating: PRH/20130607-TESEMSC_0.txt  \n",
      "  inflating: PRH/20131018-MONOGRAFIA_0 (1).txt  \n",
      "  inflating: PRH/20131018-MONOGRAFIA_0 (2).txt  \n",
      "  inflating: PRH/20131018-MONOGRAFIA_0.txt  \n",
      "  inflating: PRH/20131018-TESEMSC_0.txt  \n",
      "  inflating: PRH/20131205-TESEMSC_0.txt  \n",
      "  inflating: PRH/20131211-MONOGRAFIA_0.txt  \n",
      "  inflating: PRH/20140128-TESEMSC_0.txt  \n",
      "  inflating: PRH/20140218-MONOGRAFIA_0.txt  \n",
      "  inflating: PRH/20140218-TESEMSC_0.txt  \n",
      "  inflating: PRH/20140220-MONOGRAFIA_0.txt  \n",
      "  inflating: PRH/20140227-MONOGRAFIA_0.txt  \n",
      "  inflating: PRH/20140327-TESEMSC_0 (1).txt  \n",
      "  inflating: PRH/20140327-TESEMSC_0 (2).txt  \n",
      "  inflating: PRH/20140327-TESEMSC_0.txt  \n",
      "  inflating: PRH/20140331-TESEDSC_0.txt  \n",
      "  inflating: PRH/20140404-MONOGRAFIA_0.txt  \n",
      "  inflating: PRH/20140404-TESEMSC_0.txt  \n",
      "  inflating: PRH/20140530-MONOGRAFIA_0.txt  \n",
      "  inflating: PRH/20140530-TESEMSC_0.txt  \n",
      "  inflating: PRH/20140609-MONOGRAFIA_0.txt  \n",
      "  inflating: PRH/20140804-MONOGRAFIA_0 (1).txt  \n",
      "  inflating: PRH/20140804-MONOGRAFIA_0 (2).txt  \n",
      "  inflating: PRH/20140804-MONOGRAFIA_0 (3).txt  \n",
      "  inflating: PRH/20140804-MONOGRAFIA_0.txt  \n",
      "  inflating: PRH/20140811-MONOGRAFIA_0.txt  \n",
      "  inflating: PRH/20140827-MONOGRAFIA_0.txt  \n",
      "  inflating: PRH/20140904-TESEDSC_0.txt  \n",
      "  inflating: PRH/20140905-MONOGRAFIA_0 (1).txt  \n",
      "  inflating: PRH/20140905-MONOGRAFIA_0.txt  \n",
      "  inflating: PRH/20140905-TESEMSC_0.txt  \n",
      "  inflating: PRH/20140908-MONOGRAFIA_0.txt  \n",
      "  inflating: PRH/20140908-TESEMSC_0 (1).txt  \n",
      "  inflating: PRH/20140908-TESEMSC_0.txt  \n",
      "  inflating: PRH/20140910-MONOGRAFIA_0 (1).txt  \n",
      "  inflating: PRH/20140910-MONOGRAFIA_0 (2).txt  \n",
      "  inflating: PRH/20140910-MONOGRAFIA_0 (3).txt  \n",
      "  inflating: PRH/20140910-MONOGRAFIA_0 (4).txt  \n",
      "  inflating: PRH/20140910-MONOGRAFIA_0 (5).txt  \n",
      "  inflating: PRH/20140910-MONOGRAFIA_0 (6).txt  \n",
      "  inflating: PRH/20140910-MONOGRAFIA_0 (7).txt  \n",
      "  inflating: PRH/20140910-MONOGRAFIA_0.txt  \n",
      "  inflating: PRH/20140910-TESEMSC_0 (1).txt  \n",
      "  inflating: PRH/20140910-TESEMSC_0.txt  \n",
      "  inflating: PRH/20140911-MONOGRAFIA_0.txt  \n",
      "  inflating: PRH/20140911-MONOGRAFIA_1.txt  \n",
      "  inflating: PRH/20140912-MONOGRAFIA_1.txt  \n",
      "  inflating: PRH/20140915-MONOGRAFIA_0 (1).txt  \n",
      "  inflating: PRH/20140915-MONOGRAFIA_0 (2).txt  \n",
      "  inflating: PRH/20140915-MONOGRAFIA_0 (3).txt  \n",
      "  inflating: PRH/20140915-MONOGRAFIA_0.txt  \n",
      "  inflating: PRH/20140915-TESEDSC_0 (1).txt  \n",
      "  inflating: PRH/20140915-TESEDSC_0 (2).txt  \n",
      "  inflating: PRH/20140915-TESEDSC_0.txt  \n",
      "  inflating: PRH/20140915-TESEMSC_0 (1).txt  \n",
      "  inflating: PRH/20140915-TESEMSC_0.txt  \n",
      "  inflating: PRH/20140916-MONOGRAFIA_0 (1).txt  \n",
      "  inflating: PRH/20140916-MONOGRAFIA_0 (2).txt  \n",
      "  inflating: PRH/20140916-MONOGRAFIA_0 (3).txt  \n",
      "  inflating: PRH/20140916-MONOGRAFIA_0.txt  \n",
      "  inflating: PRH/20140916-MONOGRAFIA_1.txt  \n",
      "  inflating: PRH/20140916-TESEDSC_0.txt  \n",
      "  inflating: PRH/20140916-TESEMSC_0.txt  \n",
      "  inflating: PRH/20140916-TESEMSC_1.txt  \n",
      "  inflating: PRH/20140917-MONOGRAFIA_0 (1).txt  \n",
      "  inflating: PRH/20140917-MONOGRAFIA_0 (2).txt  \n",
      "  inflating: PRH/20140917-MONOGRAFIA_0 (3).txt  \n",
      "  inflating: PRH/20140917-MONOGRAFIA_0 (4).txt  \n",
      "  inflating: PRH/20140917-MONOGRAFIA_0 (5).txt  \n",
      "  inflating: PRH/20140917-MONOGRAFIA_0 (6).txt  \n",
      "  inflating: PRH/20140917-MONOGRAFIA_0.txt  \n",
      "  inflating: PRH/20140922-MONOGRAFIA_0 (1).txt  \n",
      "  inflating: PRH/20140922-MONOGRAFIA_0 (2).txt  \n",
      "  inflating: PRH/20140922-MONOGRAFIA_0 (3).txt  \n",
      "  inflating: PRH/20140922-MONOGRAFIA_0 (4).txt  \n",
      "  inflating: PRH/20140922-MONOGRAFIA_0 (5).txt  \n",
      "  inflating: PRH/20140922-MONOGRAFIA_0 (6).txt  \n",
      "  inflating: PRH/20140922-MONOGRAFIA_0.txt  \n",
      "  inflating: PRH/20140922-TESEMSC_0 (1).txt  \n",
      "  inflating: PRH/20140922-TESEMSC_0 (2).txt  \n",
      "  inflating: PRH/20140922-TESEMSC_0.txt  \n",
      "  inflating: PRH/20140923-MONOGRAFIA_0.txt  \n",
      "  inflating: PRH/20140923-TESEDSC_0.txt  \n",
      "  inflating: PRH/20140924-MONOGRAFIA_0 (1).txt  \n",
      "  inflating: PRH/20140924-MONOGRAFIA_0 (2).txt  \n",
      "  inflating: PRH/20140924-MONOGRAFIA_0.txt  \n",
      "  inflating: PRH/20140924-TESEMSC_0.txt  \n",
      "  inflating: PRH/20140925-MONOGRAFIA_0 (1).txt  \n",
      "  inflating: PRH/20140925-MONOGRAFIA_0 (2).txt  \n",
      "  inflating: PRH/20140925-MONOGRAFIA_0.txt  \n",
      "  inflating: PRH/20140929-MONOGRAFIA_0.txt  \n",
      "  inflating: PRH/20140930-MONOGRAFIA_0.txt  \n",
      "  inflating: PRH/20140930-TESEMSC_0.txt  \n",
      "  inflating: PRH/20141001-MONOGRAFIA_0.txt  \n",
      "  inflating: PRH/20141003-MONOGRAFIA_0.txt  \n",
      "  inflating: PRH/20141015-MONOGRAFIA_0.txt  \n",
      "  inflating: PRH/20141015-MONOGRAFIA_1 (1).txt  \n",
      "  inflating: PRH/20141015-MONOGRAFIA_1 (2).txt  \n",
      "  inflating: PRH/20141015-MONOGRAFIA_1 (3).txt  \n",
      "  inflating: PRH/20141015-MONOGRAFIA_1 (4).txt  \n",
      "  inflating: PRH/20141015-MONOGRAFIA_1 (5).txt  \n",
      "  inflating: PRH/20141015-MONOGRAFIA_1 (6).txt  \n",
      "  inflating: PRH/20141015-MONOGRAFIA_1 (7).txt  \n",
      "  inflating: PRH/20141015-MONOGRAFIA_1 (8).txt  \n",
      "  inflating: PRH/20141015-MONOGRAFIA_1 (9).txt  \n",
      "  inflating: PRH/20141015-MONOGRAFIA_1.txt  \n",
      "  inflating: PRH/20141015-TESEMSC_1 (1).txt  \n",
      "  inflating: PRH/20141015-TESEMSC_1.txt  \n",
      "  inflating: PRH/20141016-MONOGRAFIA_0.txt  \n",
      "  inflating: PRH/20141017-TESEMSC_0.txt  \n",
      "  inflating: PRH/20141023-MONOGRAFIA_0.txt  \n",
      "  inflating: PRH/20141024-MONOGRAFIA_0.txt  \n",
      "  inflating: PRH/20141027-MONOGRAFIA_0.txt  \n",
      "  inflating: PRH/20141031-MONOGRAFIA_0 (1).txt  \n",
      "  inflating: PRH/20141031-MONOGRAFIA_0 (2).txt  \n",
      "  inflating: PRH/20141031-MONOGRAFIA_0.txt  \n",
      "  inflating: PRH/20141110-MONOGRAFIA_0.txt  \n",
      "  inflating: PRH/20141113-TESEMSC_0 (1).txt  \n",
      "  inflating: PRH/20141113-TESEMSC_0.txt  \n",
      "  inflating: PRH/20141119-TESEDSC_1.txt  \n",
      "  inflating: PRH/20141125-MONOGRAFIA_0.txt  \n",
      "  inflating: PRH/20141125-TESEMSC_0.txt  \n",
      "  inflating: PRH/20141126-TESEMSC_1.txt  \n",
      "  inflating: PRH/20141201-TESEDSC_0.txt  \n",
      "  inflating: PRH/20141205-TESEDSC_1.txt  \n",
      "  inflating: PRH/20141209-TESEDSC_0.txt  \n",
      "  inflating: PRH/20141209-TESEMSC_0 (1).txt  \n",
      "  inflating: PRH/20141209-TESEMSC_0 (2).txt  \n",
      "  inflating: PRH/20141209-TESEMSC_0 (3).txt  \n",
      "  inflating: PRH/20141209-TESEMSC_0 (4).txt  \n",
      "  inflating: PRH/20141209-TESEMSC_0.txt  \n",
      "  inflating: PRH/20141210-MONOGRAFIA_0 (1).txt  \n",
      "  inflating: PRH/20141210-MONOGRAFIA_0 (2).txt  \n",
      "  inflating: PRH/20141210-MONOGRAFIA_0 (3).txt  \n",
      "  inflating: PRH/20141210-MONOGRAFIA_0.txt  \n",
      "  inflating: PRH/20141210-TESEMSC_0 (1).txt  \n",
      "  inflating: PRH/20141210-TESEMSC_0 (2).txt  \n",
      "  inflating: PRH/20141210-TESEMSC_0.txt  \n",
      "  inflating: PRH/20141222-TESEDSC_0.txt  \n",
      "  inflating: PRH/20150115-MONOGRAFIA_0.txt  \n",
      "  inflating: PRH/20150121-MONOGRAFIA_0 (1).txt  \n",
      "  inflating: PRH/20150121-MONOGRAFIA_0.txt  \n",
      "  inflating: PRH/20150121-TESEMSC_0 (1).txt  \n",
      "  inflating: PRH/20150121-TESEMSC_0 (2).txt  \n",
      "  inflating: PRH/20150121-TESEMSC_0.txt  \n",
      "  inflating: PRH/20150122-MONOGRAFIA_0 (1).txt  \n",
      "  inflating: PRH/20150122-MONOGRAFIA_0 (2).txt  \n",
      "  inflating: PRH/20150122-MONOGRAFIA_0 (3).txt  \n",
      "  inflating: PRH/20150122-MONOGRAFIA_0 (4).txt  \n",
      "  inflating: PRH/20150122-MONOGRAFIA_0.txt  \n",
      "  inflating: PRH/20150123-MONOGRAFIA_0 (1).txt  \n",
      "  inflating: PRH/20150123-MONOGRAFIA_0.txt  \n",
      "  inflating: PRH/20150126-MONOGRAFIA_0 (1).txt  \n",
      "  inflating: PRH/20150126-MONOGRAFIA_0 (2).txt  \n",
      "  inflating: PRH/20150126-MONOGRAFIA_0 (3).txt  \n",
      "  inflating: PRH/20150126-MONOGRAFIA_0 (4).txt  \n",
      "  inflating: PRH/20150126-MONOGRAFIA_0.txt  \n",
      "  inflating: PRH/20150126-TESEDSC_0.txt  \n",
      "  inflating: PRH/20150127-TESEMSC_1.txt  \n",
      "  inflating: PRH/20150210-TESEDSC_0.txt  \n",
      "  inflating: PRH/20150225-TESEMSC_1.txt  \n",
      " extracting: PRH/20150226-TESEDSC_0.txt  \n",
      "  inflating: PRH/20150303-TESEDSC_0.txt  \n",
      "  inflating: PRH/20150313-TESEDSC_0.txt  \n",
      "  inflating: PRH/20150325-MONOGRAFIA_0.txt  \n",
      "  inflating: PRH/20150326-MONOGRAFIA_0 (1).txt  \n",
      "  inflating: PRH/20150326-MONOGRAFIA_0 (2).txt  \n",
      "  inflating: PRH/20150326-MONOGRAFIA_0 (3).txt  \n",
      "  inflating: PRH/20150326-MONOGRAFIA_0.txt  \n",
      "  inflating: PRH/20150326-MONOGRAFIA_1.txt  \n",
      "  inflating: PRH/20150331-MONOGRAFIA_0 (1).txt  \n",
      "  inflating: PRH/20150331-MONOGRAFIA_0.txt  \n",
      "  inflating: PRH/20150331-TESEMSC_0.txt  \n",
      "  inflating: PRH/20150401-TESEMSC_0 (1).txt  \n",
      "  inflating: PRH/20150401-TESEMSC_0.txt  \n",
      "  inflating: PRH/20150408-MONOGRAFIA_0.txt  \n",
      "  inflating: PRH/20150409-MONOGRAFIA_0 (1).txt  \n",
      "  inflating: PRH/20150409-MONOGRAFIA_0.txt  \n",
      "  inflating: PRH/20150409-TESEMSC_0 (1).txt  \n",
      "  inflating: PRH/20150409-TESEMSC_0 (2).txt  \n",
      "  inflating: PRH/20150409-TESEMSC_0.txt  \n",
      "  inflating: PRH/20150410-TESEMSC_0.txt  \n",
      "  inflating: PRH/20150413-MONOGRAFIA_0 (1).txt  \n",
      "  inflating: PRH/20150413-MONOGRAFIA_0 (2).txt  \n",
      "  inflating: PRH/20150413-MONOGRAFIA_0 (3).txt  \n",
      "  inflating: PRH/20150413-MONOGRAFIA_0 (4).txt  \n",
      "  inflating: PRH/20150413-MONOGRAFIA_0.txt  \n",
      "  inflating: PRH/20150430-MONOGRAFIA_0 (1).txt  \n",
      "  inflating: PRH/20150430-MONOGRAFIA_0 (2).txt  \n",
      "  inflating: PRH/20150430-MONOGRAFIA_0.txt  \n",
      "  inflating: PRH/20150504-TESEMSC_0.txt  \n",
      "  inflating: PRH/20150505-MONOGRAFIA_0.txt  \n",
      " extracting: PRH/20150506-MONOGRAFIA_0.txt  \n",
      "  inflating: PRH/20150507-TESEDSC_0.txt  \n",
      "  inflating: PRH/20150521-TESEMSC_1.txt  \n",
      "  inflating: PRH/20150811-TESEMSC_0 (1).txt  \n",
      "  inflating: PRH/20150811-TESEMSC_0.txt  \n",
      "  inflating: PRH/20150812-TESEMSC_0.txt  \n",
      "  inflating: PRH/20150819-MONOGRAFIA_0.txt  \n",
      "  inflating: PRH/20150827-MONOGRAFIA_0 (1).txt  \n",
      "  inflating: PRH/20150827-MONOGRAFIA_0 (2).txt  \n",
      "  inflating: PRH/20150827-MONOGRAFIA_0.txt  \n",
      "  inflating: PRH/20150902-MONOGRAFIA_0.txt  \n",
      "  inflating: PRH/20150902-TESEMSC_0 (1).txt  \n",
      "  inflating: PRH/20150902-TESEMSC_0.txt  \n",
      "  inflating: PRH/20150903-TESEMSC_0.txt  \n",
      "  inflating: PRH/20150904-TESEMSC_0.txt  \n",
      "  inflating: PRH/20150909-MONOGRAFIA_0.txt  \n",
      "  inflating: PRH/20150909-TESEMSC_0.txt  \n",
      "  inflating: PRH/20150911-MONOGRAFIA_0.txt  \n",
      "  inflating: PRH/20150914-MONOGRAFIA_0.txt  \n",
      "  inflating: PRH/20150914-TESEMSC_0.txt  \n",
      "  inflating: PRH/20150917-MONOGRAFIA_0 (1).txt  \n",
      "  inflating: PRH/20150917-MONOGRAFIA_0 (2).txt  \n",
      "  inflating: PRH/20150917-MONOGRAFIA_0.txt  \n",
      "  inflating: PRH/20150917-TESEMSC_0 (1).txt  \n",
      "  inflating: PRH/20150917-TESEMSC_0 (2).txt  \n",
      "  inflating: PRH/20150917-TESEMSC_0.txt  \n",
      "  inflating: PRH/20150918-MONOGRAFIA_1 (1).txt  \n",
      "  inflating: PRH/20150918-MONOGRAFIA_1.txt  \n",
      "  inflating: PRH/20150922-TESEMSC_0 (1).txt  \n",
      "  inflating: PRH/20150922-TESEMSC_0.txt  \n",
      "  inflating: PRH/20150923-TESEMSC_0.txt  \n",
      "  inflating: PRH/20151112-TESEDSC_0 (1).txt  \n",
      "  inflating: PRH/20151112-TESEDSC_0.txt  \n",
      "  inflating: PRH/20151203-TESEDSC_0.txt  \n",
      "  inflating: PRH/20151204-TESEMSC_0.txt  \n",
      "  inflating: PRH/20151209-TESEDSC_0.txt  \n",
      "  inflating: PRH/20151214-TESEMSC_0.txt  \n",
      "  inflating: PRH/20151215-MONOGRAFIA_0 (1).txt  \n",
      "  inflating: PRH/20151215-MONOGRAFIA_0 (2).txt  \n",
      "  inflating: PRH/20151215-MONOGRAFIA_0 (3).txt  \n",
      "  inflating: PRH/20151215-MONOGRAFIA_0 (4).txt  \n",
      "  inflating: PRH/20151215-MONOGRAFIA_0 (5).txt  \n",
      "  inflating: PRH/20151215-MONOGRAFIA_0.txt  \n",
      "  inflating: PRH/20151222-TESEMSC_0 (1).txt  \n",
      "  inflating: PRH/20151222-TESEMSC_0.txt  \n",
      "  inflating: PRH/20160229-MONOGRAFIA_0.txt  \n",
      "  inflating: PRH/20160602-MONOGRAFIA_0 (1).txt  \n",
      "  inflating: PRH/20160602-MONOGRAFIA_0 (2).txt  \n",
      "  inflating: PRH/20160602-MONOGRAFIA_0 (3).txt  \n",
      "  inflating: PRH/20160602-MONOGRAFIA_0 (4).txt  \n",
      "  inflating: PRH/20160602-MONOGRAFIA_0 (5).txt  \n",
      "  inflating: PRH/20160602-MONOGRAFIA_0 (6).txt  \n",
      "  inflating: PRH/20160602-MONOGRAFIA_0 (7).txt  \n",
      "  inflating: PRH/20160602-MONOGRAFIA_0 (8).txt  \n",
      "  inflating: PRH/20160602-MONOGRAFIA_0.txt  \n",
      "  inflating: PRH/20160602-TESEDSC_0.txt  \n",
      "  inflating: PRH/20160602-TESEMSC_0 (1).txt  \n",
      "  inflating: PRH/20160602-TESEMSC_0 (2).txt  \n",
      "  inflating: PRH/20160602-TESEMSC_0.txt  \n",
      "  inflating: PRH/20160606-TESEMSC_0.txt  \n",
      "  inflating: PRH/20160608-TESEMSC_0.txt  \n",
      "  inflating: PRH/20160614-MONOGRAFIA_0 (1).txt  \n",
      "  inflating: PRH/20160614-MONOGRAFIA_0 (2).txt  \n",
      "  inflating: PRH/20160614-MONOGRAFIA_0.txt  \n",
      "  inflating: PRH/20160614-TESEDSC_0.txt  \n",
      "  inflating: PRH/20160623-TESEDSC_0 (1).txt  \n",
      "  inflating: PRH/20160623-TESEDSC_0.txt  \n",
      "  inflating: PRH/20160623-TESEMSC_0.txt  \n",
      "  inflating: PRH/20160628-TESEMSC_1.txt  \n",
      "  inflating: PRH/20160701-TESEMSC_0.txt  \n",
      "  inflating: PRH/20160704-MONOGRAFIA_0.txt  \n",
      "  inflating: PRH/20160713-MONOGRAFIA_0.txt  \n",
      "  inflating: PRH/20160721-MONOGRAFIA_0 (1).txt  \n",
      "  inflating: PRH/20160721-MONOGRAFIA_0 (2).txt  \n",
      "  inflating: PRH/20160721-MONOGRAFIA_0 (3).txt  \n",
      "  inflating: PRH/20160721-MONOGRAFIA_0.txt  \n",
      "  inflating: PRH/20160722-MONOGRAFIA_0 (1).txt  \n",
      "  inflating: PRH/20160722-MONOGRAFIA_0 (2).txt  \n",
      "  inflating: PRH/20160722-MONOGRAFIA_0 (3).txt  \n",
      "  inflating: PRH/20160722-MONOGRAFIA_0.txt  \n",
      "  inflating: PRH/20160725-MONOGRAFIA_0 (1).txt  \n",
      "  inflating: PRH/20160725-MONOGRAFIA_0 (2).txt  \n",
      "  inflating: PRH/20160725-MONOGRAFIA_0 (3).txt  \n",
      "  inflating: PRH/20160725-MONOGRAFIA_0 (4).txt  \n",
      "  inflating: PRH/20160725-MONOGRAFIA_0 (5).txt  \n",
      "  inflating: PRH/20160725-MONOGRAFIA_0 (6).txt  \n",
      "  inflating: PRH/20160725-MONOGRAFIA_0 (7).txt  \n",
      "  inflating: PRH/20160725-MONOGRAFIA_0.txt  \n",
      "  inflating: PRH/20160808-TESEDSC_0.txt  \n",
      "  inflating: PRH/20160809-TESEMSC_0.txt  \n",
      "  inflating: PRH/20160914-MONOGRAFIA_0 (1).txt  \n",
      "  inflating: PRH/20160914-MONOGRAFIA_0 (2).txt  \n",
      "  inflating: PRH/20160914-MONOGRAFIA_0.txt  \n",
      "  inflating: PRH/20160914-TESEMSC_0 (1).txt  \n",
      "  inflating: PRH/20160914-TESEMSC_0.txt  \n",
      "  inflating: PRH/20160915-MONOGRAFIA_1.txt  \n",
      "  inflating: PRH/20160920-MONOGRAFIA_0.txt  \n",
      "  inflating: PRH/20160921-TESEMSC_0.txt  \n",
      "  inflating: PRH/20160923-TESEMSC_0.txt  \n",
      "  inflating: PRH/20160926-TESEMSC_0.txt  \n",
      "  inflating: PRH/20160928-MONOGRAFIA_0.txt  \n",
      "  inflating: PRH/convertAllPdfMiner.bat  \n"
     ]
    },
    {
     "name": "stderr",
     "output_type": "stream",
     "text": [
      "--2022-01-18 21:58:26--  https://github.com/fabiocorreacordeiro/wordEmbeddingsOG/raw/master/_corpus/PRH.zip\n",
      "Resolvendo github.com (github.com)... 20.201.28.151\n",
      "Conectando-se a github.com (github.com)|20.201.28.151|:443... conectado.\n",
      "A requisição HTTP foi enviada, aguardando resposta... 302 Found\n",
      "Localização: https://raw.githubusercontent.com/fabiocorreacordeiro/wordEmbeddingsOG/master/_corpus/PRH.zip [redirecionando]\n",
      "--2022-01-18 21:58:27--  https://raw.githubusercontent.com/fabiocorreacordeiro/wordEmbeddingsOG/master/_corpus/PRH.zip\n",
      "Resolvendo raw.githubusercontent.com (raw.githubusercontent.com)... 185.199.109.133, 185.199.110.133, 185.199.108.133, ...\n",
      "Conectando-se a raw.githubusercontent.com (raw.githubusercontent.com)|185.199.109.133|:443... conectado.\n",
      "A requisição HTTP foi enviada, aguardando resposta... 200 OK\n",
      "Tamanho: 14893401 (14M) [application/zip]\n",
      "Salvando em: “PRH.zip”\n",
      "\n",
      "     0K .......... .......... .......... .......... ..........  0%  728K 20s\n",
      "    50K .......... .......... .......... .......... ..........  0% 1,84M 14s\n",
      "   100K .......... .......... .......... .......... ..........  1% 1,09M 13s\n",
      "   150K .......... .......... .......... .......... ..........  1% 3,64M 11s\n",
      "   200K .......... .......... .......... .......... ..........  1% 1,23M 11s\n",
      "   250K .......... .......... .......... .......... ..........  2% 5,42M 10s\n",
      "   300K .......... .......... .......... .......... ..........  2% 3,83M 9s\n",
      "   350K .......... .......... .......... .......... ..........  2% 1,19M 9s\n",
      "   400K .......... .......... .......... .......... ..........  3% 11,7M 8s\n",
      "   450K .......... .......... .......... .......... ..........  3% 8,20M 7s\n",
      "   500K .......... .......... .......... .......... ..........  3% 14,7M 7s\n",
      "   550K .......... .......... .......... .......... ..........  4% 3,23M 7s\n",
      "   600K .......... .......... .......... .......... ..........  4%  859K 7s\n",
      "   650K .......... .......... .......... .......... ..........  4% 18,8M 7s\n",
      "   700K .......... .......... .......... .......... ..........  5% 39,7M 6s\n",
      "   750K .......... .......... .......... .......... ..........  5% 34,8M 6s\n",
      "   800K .......... .......... .......... .......... ..........  5% 35,4M 6s\n",
      "   850K .......... .......... .......... .......... ..........  6% 30,3M 5s\n",
      "   900K .......... .......... .......... .......... ..........  6%  840K 6s\n",
      "   950K .......... .......... .......... .......... ..........  6% 20,8M 6s\n",
      "  1000K .......... .......... .......... .......... ..........  7% 14,6M 5s\n",
      "  1050K .......... .......... .......... .......... ..........  7% 12,6M 5s\n",
      "  1100K .......... .......... .......... .......... ..........  7% 15,3M 5s\n",
      "  1150K .......... .......... .......... .......... ..........  8% 1,25M 5s\n",
      "  1200K .......... .......... .......... .......... ..........  8% 24,9M 5s\n",
      "  1250K .......... .......... .......... .......... ..........  8% 29,1M 5s\n",
      "  1300K .......... .......... .......... .......... ..........  9% 60,7M 5s\n",
      "  1350K .......... .......... .......... .......... ..........  9% 4,15M 4s\n",
      "  1400K .......... .......... .......... .......... ..........  9% 13,9M 4s\n",
      "  1450K .......... .......... .......... .......... .......... 10% 11,8M 4s\n",
      "  1500K .......... .......... .......... .......... .......... 10% 14,4M 4s\n",
      "  1550K .......... .......... .......... .......... .......... 11% 13,3M 4s\n",
      "  1600K .......... .......... .......... .......... .......... 11% 19,1M 4s\n",
      "  1650K .......... .......... .......... .......... .......... 11% 13,8M 4s\n",
      "  1700K .......... .......... .......... .......... .......... 12% 1,60M 4s\n",
      "  1750K .......... .......... .......... .......... .......... 12% 7,66M 4s\n",
      "  1800K .......... .......... .......... .......... .......... 12% 12,9M 4s\n",
      "  1850K .......... .......... .......... .......... .......... 13% 9,45M 4s\n",
      "  1900K .......... .......... .......... .......... .......... 13% 12,9M 4s\n",
      "  1950K .......... .......... .......... .......... .......... 13% 12,5M 3s\n",
      "  2000K .......... .......... .......... .......... .......... 14% 13,4M 3s\n",
      "  2050K .......... .......... .......... .......... .......... 14% 13,1M 3s\n",
      "  2100K .......... .......... .......... .......... .......... 14% 3,91M 3s\n",
      "  2150K .......... .......... .......... .......... .......... 15% 13,5M 3s\n",
      "  2200K .......... .......... .......... .......... .......... 15% 32,0M 3s\n",
      "  2250K .......... .......... .......... .......... .......... 15% 31,1M 3s\n",
      "  2300K .......... .......... .......... .......... .......... 16% 25,6M 3s\n",
      "  2350K .......... .......... .......... .......... .......... 16% 46,0M 3s\n",
      "  2400K .......... .......... .......... .......... .......... 16% 44,6M 3s\n",
      "  2450K .......... .......... .......... .......... .......... 17% 13,4M 3s\n",
      "  2500K .......... .......... .......... .......... .......... 17% 6,86M 3s\n",
      "  2550K .......... .......... .......... .......... .......... 17% 5,96M 3s\n",
      "  2600K .......... .......... .......... .......... .......... 18% 18,5M 3s\n",
      "  2650K .......... .......... .......... .......... .......... 18% 11,8M 3s\n",
      "  2700K .......... .......... .......... .......... .......... 18% 13,9M 3s\n",
      "  2750K .......... .......... .......... .......... .......... 19% 13,5M 3s\n",
      "  2800K .......... .......... .......... .......... .......... 19% 13,3M 3s\n",
      "  2850K .......... .......... .......... .......... .......... 19% 10,9M 3s\n",
      "  2900K .......... .......... .......... .......... .......... 20% 23,5M 2s\n",
      "  2950K .......... .......... .......... .......... .......... 20% 3,18M 2s\n",
      "  3000K .......... .......... .......... .......... .......... 20% 9,99M 2s\n",
      "  3050K .......... .......... .......... .......... .......... 21% 13,2M 2s\n",
      "  3100K .......... .......... .......... .......... .......... 21% 6,75M 2s\n",
      "  3150K .......... .......... .......... .......... .......... 22% 18,8M 2s\n",
      "  3200K .......... .......... .......... .......... .......... 22% 28,6M 2s\n",
      "  3250K .......... .......... .......... .......... .......... 22% 25,4M 2s\n",
      "  3300K .......... .......... .......... .......... .......... 23% 19,2M 2s\n",
      "  3350K .......... .......... .......... .......... .......... 23% 11,3M 2s\n",
      "  3400K .......... .......... .......... .......... .......... 23% 13,1M 2s\n",
      "  3450K .......... .......... .......... .......... .......... 24% 17,4M 2s\n",
      "  3500K .......... .......... .......... .......... .......... 24% 19,5M 2s\n",
      "  3550K .......... .......... .......... .......... .......... 24% 15,8M 2s\n",
      "  3600K .......... .......... .......... .......... .......... 25% 14,9M 2s\n",
      "  3650K .......... .......... .......... .......... .......... 25% 16,6M 2s\n",
      "  3700K .......... .......... .......... .......... .......... 25% 15,7M 2s\n",
      "  3750K .......... .......... .......... .......... .......... 26% 13,4M 2s\n",
      "  3800K .......... .......... .......... .......... .......... 26% 5,70M 2s\n",
      "  3850K .......... .......... .......... .......... .......... 26% 7,57M 2s\n",
      "  3900K .......... .......... .......... .......... .......... 27% 17,1M 2s\n",
      "  3950K .......... .......... .......... .......... .......... 27% 12,0M 2s\n",
      "  4000K .......... .......... .......... .......... .......... 27% 5,71M 2s\n",
      "  4050K .......... .......... .......... .......... .......... 28% 3,60M 2s\n",
      "  4100K .......... .......... .......... .......... .......... 28% 17,8M 2s\n",
      "  4150K .......... .......... .......... .......... .......... 28% 19,1M 2s\n",
      "  4200K .......... .......... .......... .......... .......... 29% 48,1M 2s\n",
      "  4250K .......... .......... .......... .......... .......... 29% 20,8M 2s\n",
      "  4300K .......... .......... .......... .......... .......... 29% 17,1M 2s\n",
      "  4350K .......... .......... .......... .......... .......... 30% 25,9M 2s\n",
      "  4400K .......... .......... .......... .......... .......... 30% 17,7M 2s\n",
      "  4450K .......... .......... .......... .......... .......... 30% 7,85M 2s\n",
      "  4500K .......... .......... .......... .......... .......... 31% 18,0M 2s\n",
      "  4550K .......... .......... .......... .......... .......... 31% 26,3M 2s\n",
      "  4600K .......... .......... .......... .......... .......... 31% 2,10M 2s\n",
      "  4650K .......... .......... .......... .......... .......... 32% 42,1M 2s\n",
      "  4700K .......... .......... .......... .......... .......... 32% 43,5M 2s\n",
      "  4750K .......... .......... .......... .......... .......... 33% 32,4M 2s\n",
      "  4800K .......... .......... .......... .......... .......... 33% 53,4M 2s\n",
      "  4850K .......... .......... .......... .......... .......... 33% 37,0M 2s\n",
      "  4900K .......... .......... .......... .......... .......... 34% 53,7M 2s\n",
      "  4950K .......... .......... .......... .......... .......... 34% 18,5M 2s\n",
      "  5000K .......... .......... .......... .......... .......... 34% 6,07M 2s\n",
      "  5050K .......... .......... .......... .......... .......... 35% 12,8M 2s\n",
      "  5100K .......... .......... .......... .......... .......... 35% 12,9M 1s\n",
      "  5150K .......... .......... .......... .......... .......... 35% 23,6M 1s\n",
      "  5200K .......... .......... .......... .......... .......... 36% 18,4M 1s\n",
      "  5250K .......... .......... .......... .......... .......... 36% 11,4M 1s\n",
      "  5300K .......... .......... .......... .......... .......... 36% 24,8M 1s\n",
      "  5350K .......... .......... .......... .......... .......... 37% 8,46M 1s\n",
      "  5400K .......... .......... .......... .......... .......... 37% 20,8M 1s\n",
      "  5450K .......... .......... .......... .......... .......... 37% 45,5M 1s\n",
      "  5500K .......... .......... .......... .......... .......... 38% 15,1M 1s\n",
      "  5550K .......... .......... .......... .......... .......... 38% 17,5M 1s\n",
      "  5600K .......... .......... .......... .......... .......... 38% 3,47M 1s\n",
      "  5650K .......... .......... .......... .......... .......... 39% 16,2M 1s\n",
      "  5700K .......... .......... .......... .......... .......... 39% 24,2M 1s\n",
      "  5750K .......... .......... .......... .......... .......... 39% 11,0M 1s\n",
      "  5800K .......... .......... .......... .......... .......... 40% 15,9M 1s\n",
      "  5850K .......... .......... .......... .......... .......... 40% 19,5M 1s\n",
      "  5900K .......... .......... .......... .......... .......... 40% 19,1M 1s\n",
      "  5950K .......... .......... .......... .......... .......... 41% 20,5M 1s\n",
      "  6000K .......... .......... .......... .......... .......... 41% 8,90M 1s\n",
      "  6050K .......... .......... .......... .......... .......... 41% 28,4M 1s\n",
      "  6100K .......... .......... .......... .......... .......... 42% 28,0M 1s\n",
      "  6150K .......... .......... .......... .......... .......... 42% 3,43M 1s\n",
      "  6200K .......... .......... .......... .......... .......... 42% 24,5M 1s\n",
      "  6250K .......... .......... .......... .......... .......... 43% 26,1M 1s\n",
      "  6300K .......... .......... .......... .......... .......... 43% 16,1M 1s\n",
      "  6350K .......... .......... .......... .......... .......... 44% 11,7M 1s\n",
      "  6400K .......... .......... .......... .......... .......... 44% 21,7M 1s\n",
      "  6450K .......... .......... .......... .......... .......... 44% 26,4M 1s\n",
      "  6500K .......... .......... .......... .......... .......... 45% 36,0M 1s\n",
      "  6550K .......... .......... .......... .......... .......... 45% 29,3M 1s\n",
      "  6600K .......... .......... .......... .......... .......... 45% 13,0M 1s\n",
      "  6650K .......... .......... .......... .......... .......... 46% 8,32M 1s\n",
      "  6700K .......... .......... .......... .......... .......... 46% 14,3M 1s\n",
      "  6750K .......... .......... .......... .......... .......... 46% 15,1M 1s\n",
      "  6800K .......... .......... .......... .......... .......... 47% 3,71M 1s\n",
      "  6850K .......... .......... .......... .......... .......... 47% 48,5M 1s\n",
      "  6900K .......... .......... .......... .......... .......... 47% 46,4M 1s\n",
      "  6950K .......... .......... .......... .......... .......... 48% 38,2M 1s\n",
      "  7000K .......... .......... .......... .......... .......... 48% 13,5M 1s\n",
      "  7050K .......... .......... .......... .......... .......... 48% 36,2M 1s\n",
      "  7100K .......... .......... .......... .......... .......... 49% 10,3M 1s\n",
      "  7150K .......... .......... .......... .......... .......... 49% 6,21M 1s\n",
      "  7200K .......... .......... .......... .......... .......... 49% 17,8M 1s\n",
      "  7250K .......... .......... .......... .......... .......... 50% 20,9M 1s\n",
      "  7300K .......... .......... .......... .......... .......... 50% 14,8M 1s\n",
      "  7350K .......... .......... .......... .......... .......... 50% 16,5M 1s\n",
      "  7400K .......... .......... .......... .......... .......... 51% 11,9M 1s\n",
      "  7450K .......... .......... .......... .......... .......... 51% 23,7M 1s\n",
      "  7500K .......... .......... .......... .......... .......... 51% 16,5M 1s\n",
      "  7550K .......... .......... .......... .......... .......... 52% 18,4M 1s\n",
      "  7600K .......... .......... .......... .......... .......... 52% 20,6M 1s\n",
      "  7650K .......... .......... .......... .......... .......... 52% 22,0M 1s\n",
      "  7700K .......... .......... .......... .......... .......... 53% 17,8M 1s\n",
      "  7750K .......... .......... .......... .......... .......... 53% 16,1M 1s\n",
      "  7800K .......... .......... .......... .......... .......... 53% 2,99M 1s\n",
      "  7850K .......... .......... .......... .......... .......... 54% 26,5M 1s\n",
      "  7900K .......... .......... .......... .......... .......... 54% 18,7M 1s\n",
      "  7950K .......... .......... .......... .......... .......... 55% 3,89M 1s\n",
      "  8000K .......... .......... .......... .......... .......... 55% 23,6M 1s\n",
      "  8050K .......... .......... .......... .......... .......... 55% 30,4M 1s\n",
      "  8100K .......... .......... .......... .......... .......... 56% 41,8M 1s\n",
      "  8150K .......... .......... .......... .......... .......... 56% 35,6M 1s\n",
      "  8200K .......... .......... .......... .......... .......... 56% 17,7M 1s\n",
      "  8250K .......... .......... .......... .......... .......... 57% 40,4M 1s\n",
      "  8300K .......... .......... .......... .......... .......... 57% 31,3M 1s\n",
      "  8350K .......... .......... .......... .......... .......... 57% 27,9M 1s\n",
      "  8400K .......... .......... .......... .......... .......... 58% 5,23M 1s\n",
      "  8450K .......... .......... .......... .......... .......... 58% 29,1M 1s\n",
      "  8500K .......... .......... .......... .......... .......... 58% 86,1M 1s\n",
      "  8550K .......... .......... .......... .......... .......... 59% 66,8M 1s\n",
      "  8600K .......... .......... .......... .......... .......... 59% 86,6M 1s\n",
      "  8650K .......... .......... .......... .......... .......... 59% 27,3M 1s\n",
      "  8700K .......... .......... .......... .......... .......... 60% 23,3M 1s\n",
      "  8750K .......... .......... .......... .......... .......... 60% 14,0M 1s\n",
      "  8800K .......... .......... .......... .......... .......... 60% 3,73M 1s\n",
      "  8850K .......... .......... .......... .......... .......... 61% 9,88M 1s\n",
      "  8900K .......... .......... .......... .......... .......... 61% 17,6M 1s\n",
      "  8950K .......... .......... .......... .......... .......... 61% 4,86M 1s\n",
      "  9000K .......... .......... .......... .......... .......... 62% 5,72M 1s\n",
      "  9050K .......... .......... .......... .......... .......... 62% 12,4M 1s\n",
      "  9100K .......... .......... .......... .......... .......... 62% 18,9M 1s\n",
      "  9150K .......... .......... .......... .......... .......... 63% 16,7M 1s\n",
      "  9200K .......... .......... .......... .......... .......... 63% 13,8M 1s\n",
      "  9250K .......... .......... .......... .......... .......... 63% 22,9M 1s\n",
      "  9300K .......... .......... .......... .......... .......... 64% 15,9M 1s\n",
      "  9350K .......... .......... .......... .......... .......... 64% 14,2M 1s\n",
      "  9400K .......... .......... .......... .......... .......... 64% 22,7M 1s\n",
      "  9450K .......... .......... .......... .......... .......... 65% 24,9M 1s\n",
      "  9500K .......... .......... .......... .......... .......... 65% 14,4M 1s\n",
      "  9550K .......... .......... .......... .......... .......... 66% 19,9M 1s\n",
      "  9600K .......... .......... .......... .......... .......... 66% 24,1M 1s\n",
      "  9650K .......... .......... .......... .......... .......... 66% 24,4M 1s\n",
      "  9700K .......... .......... .......... .......... .......... 67% 11,9M 1s\n",
      "  9750K .......... .......... .......... .......... .......... 67% 14,5M 1s\n",
      "  9800K .......... .......... .......... .......... .......... 67% 30,0M 1s\n",
      "  9850K .......... .......... .......... .......... .......... 68% 24,5M 1s\n",
      "  9900K .......... .......... .......... .......... .......... 68% 8,25M 1s\n",
      "  9950K .......... .......... .......... .......... .......... 68% 17,8M 1s\n",
      " 10000K .......... .......... .......... .......... .......... 69% 17,1M 1s\n",
      " 10050K .......... .......... .......... .......... .......... 69% 4,36M 1s\n",
      " 10100K .......... .......... .......... .......... .......... 69% 24,2M 1s\n",
      " 10150K .......... .......... .......... .......... .......... 70% 5,99M 1s\n",
      " 10200K .......... .......... .......... .......... .......... 70% 28,8M 0s\n",
      " 10250K .......... .......... .......... .......... .......... 70% 33,1M 0s\n",
      " 10300K .......... .......... .......... .......... .......... 71% 16,6M 0s\n",
      " 10350K .......... .......... .......... .......... .......... 71% 32,1M 0s\n",
      " 10400K .......... .......... .......... .......... .......... 71% 52,6M 0s\n",
      " 10450K .......... .......... .......... .......... .......... 72% 25,5M 0s\n",
      " 10500K .......... .......... .......... .......... .......... 72% 20,8M 0s\n",
      " 10550K .......... .......... .......... .......... .......... 72% 8,91M 0s\n",
      " 10600K .......... .......... .......... .......... .......... 73% 19,7M 0s\n",
      " 10650K .......... .......... .......... .......... .......... 73% 18,4M 0s\n",
      " 10700K .......... .......... .......... .......... .......... 73% 23,8M 0s\n",
      " 10750K .......... .......... .......... .......... .......... 74% 18,4M 0s\n",
      " 10800K .......... .......... .......... .......... .......... 74% 13,9M 0s\n",
      " 10850K .......... .......... .......... .......... .......... 74% 32,7M 0s\n",
      " 10900K .......... .......... .......... .......... .......... 75% 4,63M 0s\n",
      " 10950K .......... .......... .......... .......... .......... 75% 17,6M 0s\n",
      " 11000K .......... .......... .......... .......... .......... 75% 29,6M 0s\n",
      " 11050K .......... .......... .......... .......... .......... 76% 6,82M 0s\n",
      " 11100K .......... .......... .......... .......... .......... 76% 4,80M 0s\n",
      " 11150K .......... .......... .......... .......... .......... 77% 5,98M 0s\n",
      " 11200K .......... .......... .......... .......... .......... 77% 17,1M 0s\n",
      " 11250K .......... .......... .......... .......... .......... 77% 23,9M 0s\n",
      " 11300K .......... .......... .......... .......... .......... 78% 22,3M 0s\n",
      " 11350K .......... .......... .......... .......... .......... 78% 11,2M 0s\n",
      " 11400K .......... .......... .......... .......... .......... 78% 10,7M 0s\n",
      " 11450K .......... .......... .......... .......... .......... 79% 31,2M 0s\n",
      " 11500K .......... .......... .......... .......... .......... 79% 21,9M 0s\n",
      " 11550K .......... .......... .......... .......... .......... 79% 20,9M 0s\n",
      " 11600K .......... .......... .......... .......... .......... 80% 23,4M 0s\n",
      " 11650K .......... .......... .......... .......... .......... 80% 20,6M 0s\n",
      " 11700K .......... .......... .......... .......... .......... 80% 17,3M 0s\n",
      " 11750K .......... .......... .......... .......... .......... 81% 22,7M 0s\n",
      " 11800K .......... .......... .......... .......... .......... 81% 17,3M 0s\n",
      " 11850K .......... .......... .......... .......... .......... 81% 10,3M 0s\n",
      " 11900K .......... .......... .......... .......... .......... 82% 17,8M 0s\n",
      " 11950K .......... .......... .......... .......... .......... 82% 37,3M 0s\n",
      " 12000K .......... .......... .......... .......... .......... 82% 4,10M 0s\n",
      " 12050K .......... .......... .......... .......... .......... 83% 19,0M 0s\n",
      " 12100K .......... .......... .......... .......... .......... 83% 30,5M 0s\n",
      " 12150K .......... .......... .......... .......... .......... 83% 5,37M 0s\n",
      " 12200K .......... .......... .......... .......... .......... 84% 7,96M 0s\n",
      " 12250K .......... .......... .......... .......... .......... 84% 15,8M 0s\n",
      " 12300K .......... .......... .......... .......... .......... 84% 18,2M 0s\n",
      " 12350K .......... .......... .......... .......... .......... 85% 19,4M 0s\n",
      " 12400K .......... .......... .......... .......... .......... 85% 13,8M 0s\n",
      " 12450K .......... .......... .......... .......... .......... 85% 25,0M 0s\n",
      " 12500K .......... .......... .......... .......... .......... 86% 19,6M 0s\n",
      " 12550K .......... .......... .......... .......... .......... 86% 15,2M 0s\n",
      " 12600K .......... .......... .......... .......... .......... 86% 23,7M 0s\n",
      " 12650K .......... .......... .......... .......... .......... 87% 17,2M 0s\n",
      " 12700K .......... .......... .......... .......... .......... 87% 17,4M 0s\n",
      " 12750K .......... .......... .......... .......... .......... 88% 23,0M 0s\n",
      " 12800K .......... .......... .......... .......... .......... 88% 16,4M 0s\n",
      " 12850K .......... .......... .......... .......... .......... 88% 15,9M 0s\n",
      " 12900K .......... .......... .......... .......... .......... 89% 36,3M 0s\n",
      " 12950K .......... .......... .......... .......... .......... 89% 13,6M 0s\n",
      " 13000K .......... .......... .......... .......... .......... 89% 6,48M 0s\n",
      " 13050K .......... .......... .......... .......... .......... 90% 11,0M 0s\n",
      " 13100K .......... .......... .......... .......... .......... 90% 18,2M 0s\n",
      " 13150K .......... .......... .......... .......... .......... 90% 19,3M 0s\n",
      " 13200K .......... .......... .......... .......... .......... 91% 7,81M 0s\n",
      " 13250K .......... .......... .......... .......... .......... 91% 5,55M 0s\n",
      " 13300K .......... .......... .......... .......... .......... 91% 23,3M 0s\n",
      " 13350K .......... .......... .......... .......... .......... 92% 14,6M 0s\n",
      " 13400K .......... .......... .......... .......... .......... 92% 17,3M 0s\n",
      " 13450K .......... .......... .......... .......... .......... 92% 23,3M 0s\n",
      " 13500K .......... .......... .......... .......... .......... 93% 18,3M 0s\n",
      " 13550K .......... .......... .......... .......... .......... 93% 21,3M 0s\n",
      " 13600K .......... .......... .......... .......... .......... 93% 18,2M 0s\n",
      " 13650K .......... .......... .......... .......... .......... 94% 14,4M 0s\n",
      " 13700K .......... .......... .......... .......... .......... 94% 35,1M 0s\n",
      " 13750K .......... .......... .......... .......... .......... 94% 14,1M 0s\n",
      " 13800K .......... .......... .......... .......... .......... 95% 9,64M 0s\n",
      " 13850K .......... .......... .......... .......... .......... 95% 24,9M 0s\n",
      " 13900K .......... .......... .......... .......... .......... 95% 24,3M 0s\n",
      " 13950K .......... .......... .......... .......... .......... 96% 34,4M 0s\n",
      " 14000K .......... .......... .......... .......... .......... 96% 17,7M 0s\n",
      " 14050K .......... .......... .......... .......... .......... 96% 8,26M 0s\n",
      " 14100K .......... .......... .......... .......... .......... 97% 17,3M 0s\n",
      " 14150K .......... .......... .......... .......... .......... 97% 6,66M 0s\n",
      " 14200K .......... .......... .......... .......... .......... 97% 18,2M 0s\n",
      " 14250K .......... .......... .......... .......... .......... 98% 5,74M 0s\n",
      " 14300K .......... .......... .......... .......... .......... 98% 16,1M 0s\n",
      " 14350K .......... .......... .......... .......... .......... 99% 17,2M 0s\n",
      " 14400K .......... .......... .......... .......... .......... 99% 20,6M 0s\n",
      " 14450K .......... .......... .......... .......... .......... 99% 20,4M 0s\n",
      " 14500K .......... .......... .......... .......... ....      100% 30,2M=1,5s\n",
      "\n",
      "2022-01-18 21:58:29 (9,55 MB/s) - “PRH.zip” salvo [14893401/14893401]\n",
      "\n"
     ]
    }
   ],
   "source": [
    "%%bash\n",
    "wget https://github.com/fabiocorreacordeiro/wordEmbeddingsOG/raw/master/_corpus/PRH.zip\n",
    "unzip PRH.zip"
   ]
  },
  {
   "cell_type": "markdown",
   "metadata": {
    "id": "C7W3glYlHimR"
   },
   "source": [
    "##carregamos nossas bibliotecas"
   ]
  },
  {
   "cell_type": "code",
   "execution_count": 7,
   "metadata": {
    "ExecuteTime": {
     "end_time": "2022-01-20T01:01:08.927683Z",
     "start_time": "2022-01-20T01:01:08.206887Z"
    },
    "colab": {
     "base_uri": "https://localhost:8080/"
    },
    "executionInfo": {
     "elapsed": 1727,
     "status": "ok",
     "timestamp": 1642537521644,
     "user": {
      "displayName": "Leonardo Mendonza",
      "photoUrl": "https://lh3.googleusercontent.com/a-/AOh14Gj5F1JVSmHodKCvWHgDPYmDyFo_nUl5lqEXNbsW=s64",
      "userId": "09205135724810578413"
     },
     "user_tz": 180
    },
    "id": "rA__3tfqVK2p",
    "outputId": "185d366c-f4f6-4f84-b377-d917566058ca"
   },
   "outputs": [
    {
     "name": "stderr",
     "output_type": "stream",
     "text": [
      "[nltk_data] Downloading package punkt to\n",
      "[nltk_data]     /Users/LeonardoLins/nltk_data...\n",
      "[nltk_data]   Package punkt is already up-to-date!\n",
      "[nltk_data] Downloading package stopwords to\n",
      "[nltk_data]     /Users/LeonardoLins/nltk_data...\n",
      "[nltk_data]   Package stopwords is already up-to-date!\n"
     ]
    }
   ],
   "source": [
    "%matplotlib inline\n",
    "import glob\n",
    "import numpy as np\n",
    "import matplotlib.pyplot as plt\n",
    "import nltk\n",
    "from nltk.corpus import stopwords\n",
    "import csv\n",
    "import gensim\n",
    "from itertools import groupby\n",
    "from gensim.similarities import WmdSimilarity\n",
    "from gensim.models import Word2Vec\n",
    "\n",
    "nltk.download('punkt') #para tokenização.\n",
    "nltk.download('stopwords')\n",
    "stop_words = stopwords.words('portuguese')"
   ]
  },
  {
   "cell_type": "markdown",
   "metadata": {
    "id": "z6VnqqJdHv43"
   },
   "source": [
    "## Vamos criar uma função que leia todos os arquivos\n",
    "## Depois aplicamos um encoding "
   ]
  },
  {
   "cell_type": "code",
   "execution_count": 8,
   "metadata": {
    "ExecuteTime": {
     "end_time": "2022-01-20T01:01:11.334691Z",
     "start_time": "2022-01-20T01:01:11.326744Z"
    },
    "executionInfo": {
     "elapsed": 10,
     "status": "ok",
     "timestamp": 1642537521646,
     "user": {
      "displayName": "Leonardo Mendonza",
      "photoUrl": "https://lh3.googleusercontent.com/a-/AOh14Gj5F1JVSmHodKCvWHgDPYmDyFo_nUl5lqEXNbsW=s64",
      "userId": "09205135724810578413"
     },
     "user_tz": 180
    },
    "id": "BGoH0xvSXMfQ"
   },
   "outputs": [],
   "source": [
    "def read_files(filenames):\n",
    "  lines = []\n",
    "  # Lendo todos os documentos de texto\n",
    "  for index,filename in enumerate(filenames):\n",
    "\n",
    "      file = open(filename, 'r', encoding='utf-8') #codificação mais comum para arquivos\n",
    "\n",
    "      for line in file:\n",
    "\n",
    "          # Remover espaços em branco \n",
    "          line = line.strip()\n",
    "\n",
    "          # Pula linhas em branco\n",
    "          if len(line) == 0:\n",
    "              continue\n",
    "\n",
    "          lines.append(line)\n",
    "\n",
    "      if index % 10 ==0:\n",
    "          print(\".\",end=\" \")\n",
    "  \n",
    "  print(\"LEITURA COMPLETA!\")\n",
    "  \n",
    "  text = \" \".join(lines)\n",
    "  \n",
    "  return text"
   ]
  },
  {
   "cell_type": "markdown",
   "metadata": {
    "id": "cqnO7QXXICwt"
   },
   "source": [
    "## criamos uma pasta com nossos arquivos"
   ]
  },
  {
   "cell_type": "code",
   "execution_count": 9,
   "metadata": {
    "ExecuteTime": {
     "end_time": "2022-01-20T01:03:07.439846Z",
     "start_time": "2022-01-20T01:01:14.990049Z"
    },
    "colab": {
     "base_uri": "https://localhost:8080/"
    },
    "executionInfo": {
     "elapsed": 50649,
     "status": "ok",
     "timestamp": 1642537572288,
     "user": {
      "displayName": "Leonardo Mendonza",
      "photoUrl": "https://lh3.googleusercontent.com/a-/AOh14Gj5F1JVSmHodKCvWHgDPYmDyFo_nUl5lqEXNbsW=s64",
      "userId": "09205135724810578413"
     },
     "user_tz": 180
    },
    "id": "tZme1RalVL3s",
    "outputId": "23e811e2-dec9-46e3-c708-3a3c310f975f"
   },
   "outputs": [
    {
     "name": "stdout",
     "output_type": "stream",
     "text": [
      ". . . . . . . . . . . . . . . . . . . . . . . . . . . . . . . . LEITURA COMPLETA!\n",
      "Tokenizando Completada!\n"
     ]
    }
   ],
   "source": [
    "filenames =  glob.glob(\"geração de arquivos tensor flow para talk/PRH/*\")\n",
    "\n",
    "text = read_files(filenames)\n",
    "text = nltk.word_tokenize(text , language='portuguese') #aplicar tokenização em Português\n",
    "print(\"Tokenizando Completada!\")"
   ]
  },
  {
   "cell_type": "markdown",
   "metadata": {
    "id": "zQT-IWGnIHdE"
   },
   "source": [
    "## Agrupamos o texto que se encontra entre ponto e ponto e colocamos sentenças como pergunto acho que luisa a semana pasada "
   ]
  },
  {
   "cell_type": "code",
   "execution_count": 10,
   "metadata": {
    "ExecuteTime": {
     "end_time": "2022-01-20T01:03:36.081787Z",
     "start_time": "2022-01-20T01:03:07.443160Z"
    },
    "executionInfo": {
     "elapsed": 20584,
     "status": "ok",
     "timestamp": 1642537593129,
     "user": {
      "displayName": "Leonardo Mendonza",
      "photoUrl": "https://lh3.googleusercontent.com/a-/AOh14Gj5F1JVSmHodKCvWHgDPYmDyFo_nUl5lqEXNbsW=s64",
      "userId": "09205135724810578413"
     },
     "user_tz": 180
    },
    "id": "wZZoxmvgXh14"
   },
   "outputs": [],
   "source": [
    "# Agrupamos por texto que se encontra entre 2 pontos.\n",
    "sentences = [list(group) for k, group in groupby(text, lambda x: x == \".\") if not k] # k é boleano, falso ou verdadeiro.\n",
    "#cria uma lista de listas de palavras tokenizadas por sentença (tudo que esteja entre pontos).\n",
    "\n",
    "# Remove stopwords numbers and punctuation.\n",
    "def preprocess(sentence):\n",
    "  return [word for word in sentence if word not in stop_words and word.isalpha()] #tira stopwords e símbolos\n",
    "\n",
    "sentences = [preprocess(sentence) for sentence in sentences]\n",
    "\n",
    "# Seleccionamos frases com dimensão entre 3 e 150 palavras.\n",
    "sentences =  [sentence for sentence in sentences if len(sentence)>3 and len(sentence)<150] #para garantir."
   ]
  },
  {
   "cell_type": "markdown",
   "metadata": {
    "id": "_zc0F8pAIW-p"
   },
   "source": [
    "## agora é com voces que estou passando ao codigo???\n"
   ]
  },
  {
   "cell_type": "markdown",
   "metadata": {
    "id": "d2E5nFKWIfmx"
   },
   "source": [
    "##Wmdsimilarity vimos esse conceito em aula vcs colocam\n"
   ]
  },
  {
   "cell_type": "code",
   "execution_count": 11,
   "metadata": {
    "ExecuteTime": {
     "end_time": "2022-01-20T01:04:17.695343Z",
     "start_time": "2022-01-20T01:03:36.086190Z"
    },
    "executionInfo": {
     "elapsed": 29192,
     "status": "ok",
     "timestamp": 1642537650075,
     "user": {
      "displayName": "Leonardo Mendonza",
      "photoUrl": "https://lh3.googleusercontent.com/a-/AOh14Gj5F1JVSmHodKCvWHgDPYmDyFo_nUl5lqEXNbsW=s64",
      "userId": "09205135724810578413"
     },
     "user_tz": 180
    },
    "id": "Xqcj6pq5ZBF-"
   },
   "outputs": [],
   "source": [
    "# Treinamos Word2Vec com todas as frases\n",
    "model = Word2Vec(sentences, window=5, size=100) #treinar o w2v com sentenças. 5 sentenças antes e 5 depois.\n",
    "\n",
    "# Calculamos a similaridade entre um conjunto de frases\n",
    "num_best = 10 #melhores 10 sentenças.\n",
    "instance = WmdSimilarity(sentences[:1000], model, num_best=10)"
   ]
  },
  {
   "cell_type": "markdown",
   "metadata": {
    "id": "lqobM-89KbbQ"
   },
   "source": [
    "##vamos a perguntar a similaridade com as sentenças"
   ]
  },
  {
   "cell_type": "code",
   "execution_count": 12,
   "metadata": {
    "ExecuteTime": {
     "end_time": "2022-01-20T01:04:19.040261Z",
     "start_time": "2022-01-20T01:04:17.699274Z"
    },
    "executionInfo": {
     "elapsed": 436,
     "status": "ok",
     "timestamp": 1642537650795,
     "user": {
      "displayName": "Leonardo Mendonza",
      "photoUrl": "https://lh3.googleusercontent.com/a-/AOh14Gj5F1JVSmHodKCvWHgDPYmDyFo_nUl5lqEXNbsW=s64",
      "userId": "09205135724810578413"
     },
     "user_tz": 180
    },
    "id": "gBryTE1zZH1F"
   },
   "outputs": [],
   "source": [
    "text = 'muito obrigado'\n",
    "sentence = nltk.word_tokenize(text.lower(), language='portuguese')\n",
    "query = preprocess(sentence)\n",
    "sims = instance[query]  # A query observa na classe de similaridade."
   ]
  },
  {
   "cell_type": "markdown",
   "metadata": {
    "id": "1JaFgc4-Kk9A"
   },
   "source": [
    "##mostramos os resultados das consultas"
   ]
  },
  {
   "cell_type": "code",
   "execution_count": 9,
   "metadata": {
    "ExecuteTime": {
     "end_time": "2022-01-19T01:01:42.622191Z",
     "start_time": "2022-01-19T01:01:42.608781Z"
    },
    "colab": {
     "base_uri": "https://localhost:8080/"
    },
    "executionInfo": {
     "elapsed": 18,
     "status": "ok",
     "timestamp": 1642537650797,
     "user": {
      "displayName": "Leonardo Mendonza",
      "photoUrl": "https://lh3.googleusercontent.com/a-/AOh14Gj5F1JVSmHodKCvWHgDPYmDyFo_nUl5lqEXNbsW=s64",
      "userId": "09205135724810578413"
     },
     "user_tz": 180
    },
    "id": "M60_YkySdqa0",
    "outputId": "53b7a55b-e96f-4243-97a4-eb4c8a7cf165"
   },
   "outputs": [
    {
     "name": "stdout",
     "output_type": "stream",
     "text": [
      "Query:\n",
      "muito obrigado\n",
      "\n",
      "sim = 0.6227\n",
      "Ao esposo Anderson amor companheirismo dedicação paciência compreensão\n",
      "\n",
      "sim = 0.6029\n",
      "Aos pais avó incentivo tudo fizeram fazem mim hoje\n",
      "\n",
      "sim = 0.5835\n",
      "Título DEDICATÓRIA Ao esposo especial filho\n",
      "\n",
      "sim = 0.5623\n",
      "Amo AGRADECIMENTOS A orientadora Profª Drª Suani Teixeira Coelho confiança aprendizado oportunidade\n",
      "\n",
      "sim = 0.5337\n",
      "FICHA CATALOGRÁFICA Garcilasso Vanessa Pecora\n",
      "\n",
      "sim = 0.5270\n",
      "Sob coordenação Profª Drª Suani Coelho parceiros\n",
      "\n",
      "sim = 0.5258\n",
      "À equipe CENBIO especial Cristiane Lima Cortez Naraisa Esteves Coluna equipe projeto especial Renata Grisoli contribuíram trabalho\n",
      "\n",
      "sim = 0.5169\n",
      "Ao filho Nathan presente Deus alegra dá forças incentiva inspira renova orgulha Obrigada filho existir vida Ao CNPq Programa Recursos Humanos ANP Setor Petróleo Gás n\n",
      "\n",
      "sim = 0.5112\n",
      "Dissertação Mestrado Faculdade Engenharia Química Universidade Estadual Campinas Campinas\n",
      "\n",
      "sim = 0.5031\n",
      "In the Federal Law\n"
     ]
    }
   ],
   "source": [
    "# Mostramos os resultado à da frase perguntada na celula anterior \n",
    "print('Query:')\n",
    "print(text)\n",
    "for i in range(num_best):\n",
    "    print(\"\")\n",
    "    print('sim = %.4f' % sims[i][1])\n",
    "    print(\" \".join(sentences[sims[i][0]]))"
   ]
  },
  {
   "cell_type": "markdown",
   "metadata": {
    "id": "AAoBEbwgKpt-"
   },
   "source": [
    "##agora similaridade por token"
   ]
  },
  {
   "cell_type": "code",
   "execution_count": 10,
   "metadata": {
    "ExecuteTime": {
     "end_time": "2022-01-19T01:01:42.649147Z",
     "start_time": "2022-01-19T01:01:42.630477Z"
    },
    "colab": {
     "base_uri": "https://localhost:8080/"
    },
    "executionInfo": {
     "elapsed": 387,
     "status": "ok",
     "timestamp": 1642537651175,
     "user": {
      "displayName": "Leonardo Mendonza",
      "photoUrl": "https://lh3.googleusercontent.com/a-/AOh14Gj5F1JVSmHodKCvWHgDPYmDyFo_nUl5lqEXNbsW=s64",
      "userId": "09205135724810578413"
     },
     "user_tz": 180
    },
    "id": "VypFXL6_eDE3",
    "outputId": "5566df8e-db14-45bd-c11a-d187fde19ceb"
   },
   "outputs": [
    {
     "data": {
      "text/plain": [
       "[('petrolífera', 0.7416976690292358),\n",
       " ('petroquímica', 0.633915901184082),\n",
       " ('óleo', 0.6295549273490906),\n",
       " ('exploração', 0.6276605129241943),\n",
       " ('natural', 0.6222162246704102),\n",
       " ('automobilística', 0.6155204772949219),\n",
       " ('hidrocarbonetos', 0.6031990051269531),\n",
       " ('farmacêutica', 0.5859172344207764),\n",
       " ('alimentícia', 0.5815810561180115),\n",
       " ('maduros', 0.5797390937805176)]"
      ]
     },
     "execution_count": 10,
     "metadata": {},
     "output_type": "execute_result"
    }
   ],
   "source": [
    "model.wv.most_similar('petróleo')"
   ]
  },
  {
   "cell_type": "markdown",
   "metadata": {
    "id": "8c1Z1oPvLLIu"
   },
   "source": [
    "Guarda no desktop"
   ]
  },
  {
   "cell_type": "code",
   "execution_count": null,
   "metadata": {
    "executionInfo": {
     "elapsed": 4,
     "status": "ok",
     "timestamp": 1642537651176,
     "user": {
      "displayName": "Leonardo Mendonza",
      "photoUrl": "https://lh3.googleusercontent.com/a-/AOh14Gj5F1JVSmHodKCvWHgDPYmDyFo_nUl5lqEXNbsW=s64",
      "userId": "09205135724810578413"
     },
     "user_tz": 180
    },
    "id": "cdPzVyk1r_vy"
   },
   "outputs": [],
   "source": []
  }
 ],
 "metadata": {
  "accelerator": "GPU",
  "colab": {
   "collapsed_sections": [],
   "name": "artigospetrovf.ipynb",
   "provenance": [],
   "toc_visible": true
  },
  "kernelspec": {
   "display_name": "Python 3 (ipykernel)",
   "language": "python",
   "name": "python3"
  },
  "language_info": {
   "codemirror_mode": {
    "name": "ipython",
    "version": 3
   },
   "file_extension": ".py",
   "mimetype": "text/x-python",
   "name": "python",
   "nbconvert_exporter": "python",
   "pygments_lexer": "ipython3",
   "version": "3.8.11"
  }
 },
 "nbformat": 4,
 "nbformat_minor": 1
}
