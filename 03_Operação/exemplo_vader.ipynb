{
 "cells": [
  {
   "cell_type": "code",
   "execution_count": 2,
   "metadata": {
    "ExecuteTime": {
     "end_time": "2022-01-10T22:12:55.573880Z",
     "start_time": "2022-01-10T22:12:49.101482Z"
    },
    "colab": {
     "base_uri": "https://localhost:8080/"
    },
    "executionInfo": {
     "elapsed": 4276,
     "status": "ok",
     "timestamp": 1640123396331,
     "user": {
      "displayName": "Leonardo Mendonza",
      "photoUrl": "https://lh3.googleusercontent.com/a-/AOh14Gj5F1JVSmHodKCvWHgDPYmDyFo_nUl5lqEXNbsW=s64",
      "userId": "09205135724810578413"
     },
     "user_tz": 180
    },
    "id": "KzYiudgnulH0",
    "outputId": "a9c74db5-b347-407d-8c5f-18f2d91f104c"
   },
   "outputs": [
    {
     "name": "stdout",
     "output_type": "stream",
     "text": [
      "Collecting vaderSentiment\n",
      "  Downloading vaderSentiment-3.3.2-py2.py3-none-any.whl (125 kB)\n",
      "\u001b[K     |████████████████████████████████| 125 kB 652 kB/s eta 0:00:01\n",
      "\u001b[?25hRequirement already satisfied: requests in /opt/anaconda3/lib/python3.8/site-packages (from vaderSentiment) (2.26.0)\n",
      "Requirement already satisfied: charset-normalizer~=2.0.0 in /opt/anaconda3/lib/python3.8/site-packages (from requests->vaderSentiment) (2.0.4)\n",
      "Requirement already satisfied: idna<4,>=2.5 in /opt/anaconda3/lib/python3.8/site-packages (from requests->vaderSentiment) (2.10)\n",
      "Requirement already satisfied: urllib3<1.27,>=1.21.1 in /opt/anaconda3/lib/python3.8/site-packages (from requests->vaderSentiment) (1.26.7)\n",
      "Requirement already satisfied: certifi>=2017.4.17 in /opt/anaconda3/lib/python3.8/site-packages (from requests->vaderSentiment) (2021.10.8)\n",
      "Installing collected packages: vaderSentiment\n",
      "Successfully installed vaderSentiment-3.3.2\n"
     ]
    }
   ],
   "source": [
    "#!pip install vaderSentiment"
   ]
  },
  {
   "cell_type": "code",
   "execution_count": 4,
   "metadata": {
    "ExecuteTime": {
     "end_time": "2022-01-10T22:15:25.878578Z",
     "start_time": "2022-01-10T22:15:25.844490Z"
    },
    "colab": {
     "base_uri": "https://localhost:8080/"
    },
    "executionInfo": {
     "elapsed": 928,
     "status": "ok",
     "timestamp": 1640123397249,
     "user": {
      "displayName": "Leonardo Mendonza",
      "photoUrl": "https://lh3.googleusercontent.com/a-/AOh14Gj5F1JVSmHodKCvWHgDPYmDyFo_nUl5lqEXNbsW=s64",
      "userId": "09205135724810578413"
     },
     "user_tz": 180
    },
    "id": "i9vjm62WuezF",
    "outputId": "324473bd-43b7-43f3-9ea4-78ad508e267c"
   },
   "outputs": [
    {
     "data": {
      "text/plain": [
       "{'neg': 0.0, 'neu': 0.334, 'pos': 0.666, 'compound': 0.6115}"
      ]
     },
     "execution_count": 4,
     "metadata": {},
     "output_type": "execute_result"
    }
   ],
   "source": [
    "# importando a classe\n",
    "from vaderSentiment.vaderSentiment import SentimentIntensityAnalyzer\n",
    "\n",
    "\n",
    "\n",
    "s = SentimentIntensityAnalyzer()\n",
    "\n",
    "# Análise de texto simples\n",
    "s.polarity_scores('i´m very happy')\n",
    "\n"
   ]
  },
  {
   "cell_type": "code",
   "execution_count": 5,
   "metadata": {
    "ExecuteTime": {
     "end_time": "2022-01-10T22:15:34.041706Z",
     "start_time": "2022-01-10T22:15:34.033330Z"
    },
    "colab": {
     "base_uri": "https://localhost:8080/"
    },
    "executionInfo": {
     "elapsed": 925,
     "status": "ok",
     "timestamp": 1640123397250,
     "user": {
      "displayName": "Leonardo Mendonza",
      "photoUrl": "https://lh3.googleusercontent.com/a-/AOh14Gj5F1JVSmHodKCvWHgDPYmDyFo_nUl5lqEXNbsW=s64",
      "userId": "09205135724810578413"
     },
     "user_tz": 180
    },
    "id": "aPTwJ4W5y6ZZ",
    "outputId": "9b000c34-277f-4779-836a-f99fc4323c13"
   },
   "outputs": [
    {
     "data": {
      "text/plain": [
       "{'neg': 0.0, 'neu': 0.5, 'pos': 0.5, 'compound': 0.4588}"
      ]
     },
     "execution_count": 5,
     "metadata": {},
     "output_type": "execute_result"
    }
   ],
   "source": [
    "# Análise de texto com emoji :)\n",
    "s.polarity_scores('Eu estou feliz :)')"
   ]
  },
  {
   "cell_type": "code",
   "execution_count": 4,
   "metadata": {
    "colab": {
     "base_uri": "https://localhost:8080/"
    },
    "executionInfo": {
     "elapsed": 8,
     "status": "ok",
     "timestamp": 1640123397251,
     "user": {
      "displayName": "Leonardo Mendonza",
      "photoUrl": "https://lh3.googleusercontent.com/a-/AOh14Gj5F1JVSmHodKCvWHgDPYmDyFo_nUl5lqEXNbsW=s64",
      "userId": "09205135724810578413"
     },
     "user_tz": 180
    },
    "id": "PkpHqL8Yy6MS",
    "outputId": "e44c8359-81e1-47c4-d295-c6259b135729"
   },
   "outputs": [
    {
     "data": {
      "text/plain": [
       "{'compound': -0.7506, 'neg': 1.0, 'neu': 0.0, 'pos': 0.0}"
      ]
     },
     "execution_count": 4,
     "metadata": {},
     "output_type": "execute_result"
    }
   ],
   "source": [
    "# Análise de texto com negação\n",
    "s.polarity_scores(':( bad')"
   ]
  },
  {
   "cell_type": "code",
   "execution_count": 4,
   "metadata": {
    "executionInfo": {
     "elapsed": 7,
     "status": "ok",
     "timestamp": 1640123397252,
     "user": {
      "displayName": "Leonardo Mendonza",
      "photoUrl": "https://lh3.googleusercontent.com/a-/AOh14Gj5F1JVSmHodKCvWHgDPYmDyFo_nUl5lqEXNbsW=s64",
      "userId": "09205135724810578413"
     },
     "user_tz": 180
    },
    "id": "3hMTWTS_ufwt"
   },
   "outputs": [],
   "source": []
  },
  {
   "cell_type": "code",
   "execution_count": null,
   "metadata": {
    "id": "D4cdML7HukEn"
   },
   "outputs": [],
   "source": []
  }
 ],
 "metadata": {
  "colab": {
   "name": "exemplo_vader (1).ipynb",
   "provenance": []
  },
  "kernelspec": {
   "display_name": "Python 3 (ipykernel)",
   "language": "python",
   "name": "python3"
  },
  "language_info": {
   "codemirror_mode": {
    "name": "ipython",
    "version": 3
   },
   "file_extension": ".py",
   "mimetype": "text/x-python",
   "name": "python",
   "nbconvert_exporter": "python",
   "pygments_lexer": "ipython3",
   "version": "3.8.11"
  }
 },
 "nbformat": 4,
 "nbformat_minor": 1
}
