{
 "cells": [
  {
   "cell_type": "markdown",
   "metadata": {
    "id": "wYA3QVFCIX2S"
   },
   "source": [
    "# Text Similarity Measures Exercises #"
   ]
  },
  {
   "cell_type": "markdown",
   "metadata": {
    "id": "XOE0sWptIX2V"
   },
   "source": [
    "## Introduction ##"
   ]
  },
  {
   "cell_type": "markdown",
   "metadata": {
    "id": "3CUt_rxAIX2W"
   },
   "source": [
    "Usaremos [um conjunto de dados de letras de músicas do Kaggle] (https://www.kaggle.com/mousehead/songlyrics) para identificar músicas com letras semelhantes. O conjunto de dados contém artistas, músicas e letras de mais de 55 mil músicas, mas hoje vamos nos concentrar nas músicas de um grupo em particular - os Beatles.\n",
    "\n",
    "O código a seguir ajudará você a carregar os dados e a se preparar para este exercício."
   ]
  },
  {
   "cell_type": "code",
   "execution_count": 1,
   "metadata": {
    "ExecuteTime": {
     "end_time": "2022-01-06T22:56:30.695599Z",
     "start_time": "2022-01-06T22:56:27.943020Z"
    },
    "executionInfo": {
     "elapsed": 1421,
     "status": "ok",
     "timestamp": 1638907939521,
     "user": {
      "displayName": "Leonardo Mendonza",
      "photoUrl": "https://lh3.googleusercontent.com/a-/AOh14Gj5F1JVSmHodKCvWHgDPYmDyFo_nUl5lqEXNbsW=s64",
      "userId": "09205135724810578413"
     },
     "user_tz": 180
    },
    "id": "mn0Ia4SbIX2X"
   },
   "outputs": [],
   "source": [
    "import nltk\n",
    "import pandas as pd"
   ]
  },
  {
   "cell_type": "code",
   "execution_count": 2,
   "metadata": {
    "ExecuteTime": {
     "end_time": "2022-01-06T22:56:31.295580Z",
     "start_time": "2022-01-06T22:56:31.291222Z"
    },
    "colab": {
     "base_uri": "https://localhost:8080/"
    },
    "executionInfo": {
     "elapsed": 41798,
     "status": "ok",
     "timestamp": 1638907981316,
     "user": {
      "displayName": "Leonardo Mendonza",
      "photoUrl": "https://lh3.googleusercontent.com/a-/AOh14Gj5F1JVSmHodKCvWHgDPYmDyFo_nUl5lqEXNbsW=s64",
      "userId": "09205135724810578413"
     },
     "user_tz": 180
    },
    "id": "6qQxlkEuiyeT",
    "outputId": "78b136c5-bf29-4a78-9d9f-43e6253553e9"
   },
   "outputs": [],
   "source": [
    "#from google.colab import drive\n",
    "#drive.mount('/content/drive')"
   ]
  },
  {
   "cell_type": "code",
   "execution_count": 3,
   "metadata": {
    "ExecuteTime": {
     "end_time": "2022-01-06T22:56:31.801103Z",
     "start_time": "2022-01-06T22:56:31.794682Z"
    },
    "executionInfo": {
     "elapsed": 235,
     "status": "ok",
     "timestamp": 1638907982949,
     "user": {
      "displayName": "Leonardo Mendonza",
      "photoUrl": "https://lh3.googleusercontent.com/a-/AOh14Gj5F1JVSmHodKCvWHgDPYmDyFo_nUl5lqEXNbsW=s64",
      "userId": "09205135724810578413"
     },
     "user_tz": 180
    },
    "id": "RP1NVrFzjTR-"
   },
   "outputs": [],
   "source": [
    "#import os\n",
    "#workdir_path = '/content/drive/My Drive' #MODIFICAR!!! #Caminho para o seu workspace\n",
    "#os.chdir(workdir_path)"
   ]
  },
  {
   "cell_type": "code",
   "execution_count": 4,
   "metadata": {
    "ExecuteTime": {
     "end_time": "2022-01-06T22:56:33.457699Z",
     "start_time": "2022-01-06T22:56:32.231857Z"
    },
    "colab": {
     "base_uri": "https://localhost:8080/",
     "height": 206
    },
    "executionInfo": {
     "elapsed": 3046,
     "status": "ok",
     "timestamp": 1638907986265,
     "user": {
      "displayName": "Leonardo Mendonza",
      "photoUrl": "https://lh3.googleusercontent.com/a-/AOh14Gj5F1JVSmHodKCvWHgDPYmDyFo_nUl5lqEXNbsW=s64",
      "userId": "09205135724810578413"
     },
     "user_tz": 180
    },
    "id": "DmAYDzepIX2c",
    "outputId": "7f1502d0-2670-4e6f-c102-922470081e15"
   },
   "outputs": [
    {
     "data": {
      "text/html": [
       "<div>\n",
       "<style scoped>\n",
       "    .dataframe tbody tr th:only-of-type {\n",
       "        vertical-align: middle;\n",
       "    }\n",
       "\n",
       "    .dataframe tbody tr th {\n",
       "        vertical-align: top;\n",
       "    }\n",
       "\n",
       "    .dataframe thead th {\n",
       "        text-align: right;\n",
       "    }\n",
       "</style>\n",
       "<table border=\"1\" class=\"dataframe\">\n",
       "  <thead>\n",
       "    <tr style=\"text-align: right;\">\n",
       "      <th></th>\n",
       "      <th>artist</th>\n",
       "      <th>song</th>\n",
       "      <th>link</th>\n",
       "      <th>text</th>\n",
       "    </tr>\n",
       "  </thead>\n",
       "  <tbody>\n",
       "    <tr>\n",
       "      <th>0</th>\n",
       "      <td>ABBA</td>\n",
       "      <td>Ahe's My Kind Of Girl</td>\n",
       "      <td>/a/abba/ahes+my+kind+of+girl_20598417.html</td>\n",
       "      <td>Look at her face, it's a wonderful face  \\r\\nA...</td>\n",
       "    </tr>\n",
       "    <tr>\n",
       "      <th>1</th>\n",
       "      <td>ABBA</td>\n",
       "      <td>Andante, Andante</td>\n",
       "      <td>/a/abba/andante+andante_20002708.html</td>\n",
       "      <td>Take it easy with me, please  \\r\\nTouch me gen...</td>\n",
       "    </tr>\n",
       "    <tr>\n",
       "      <th>2</th>\n",
       "      <td>ABBA</td>\n",
       "      <td>As Good As New</td>\n",
       "      <td>/a/abba/as+good+as+new_20003033.html</td>\n",
       "      <td>I'll never know why I had to go  \\r\\nWhy I had...</td>\n",
       "    </tr>\n",
       "    <tr>\n",
       "      <th>3</th>\n",
       "      <td>ABBA</td>\n",
       "      <td>Bang</td>\n",
       "      <td>/a/abba/bang_20598415.html</td>\n",
       "      <td>Making somebody happy is a question of give an...</td>\n",
       "    </tr>\n",
       "    <tr>\n",
       "      <th>4</th>\n",
       "      <td>ABBA</td>\n",
       "      <td>Bang-A-Boomerang</td>\n",
       "      <td>/a/abba/bang+a+boomerang_20002668.html</td>\n",
       "      <td>Making somebody happy is a question of give an...</td>\n",
       "    </tr>\n",
       "  </tbody>\n",
       "</table>\n",
       "</div>"
      ],
      "text/plain": [
       "  artist                   song                                        link  \\\n",
       "0   ABBA  Ahe's My Kind Of Girl  /a/abba/ahes+my+kind+of+girl_20598417.html   \n",
       "1   ABBA       Andante, Andante       /a/abba/andante+andante_20002708.html   \n",
       "2   ABBA         As Good As New        /a/abba/as+good+as+new_20003033.html   \n",
       "3   ABBA                   Bang                  /a/abba/bang_20598415.html   \n",
       "4   ABBA       Bang-A-Boomerang      /a/abba/bang+a+boomerang_20002668.html   \n",
       "\n",
       "                                                text  \n",
       "0  Look at her face, it's a wonderful face  \\r\\nA...  \n",
       "1  Take it easy with me, please  \\r\\nTouch me gen...  \n",
       "2  I'll never know why I had to go  \\r\\nWhy I had...  \n",
       "3  Making somebody happy is a question of give an...  \n",
       "4  Making somebody happy is a question of give an...  "
      ]
     },
     "execution_count": 4,
     "metadata": {},
     "output_type": "execute_result"
    }
   ],
   "source": [
    "data = pd.read_csv('songdata.csv')\n",
    "data.head()"
   ]
  },
  {
   "cell_type": "markdown",
   "metadata": {
    "id": "dsuvEwmqIX2g"
   },
   "source": [
    "## Desafio  1 ##"
   ]
  },
  {
   "cell_type": "markdown",
   "metadata": {
    "id": "F4A9EYnbIX2h"
   },
   "source": [
    "* Filtre o conjunto de dados da letra para selecionar apenas músicas dos Beatles.\n",
    "* Quantas músicas existem no total pelos Beatles?\n",
    "* Dê uma olhada nas letras da primeira música."
   ]
  },
  {
   "cell_type": "code",
   "execution_count": 5,
   "metadata": {
    "ExecuteTime": {
     "end_time": "2022-01-06T22:56:34.077871Z",
     "start_time": "2022-01-06T22:56:34.050780Z"
    },
    "colab": {
     "base_uri": "https://localhost:8080/",
     "height": 206
    },
    "executionInfo": {
     "elapsed": 15,
     "status": "ok",
     "timestamp": 1638907986266,
     "user": {
      "displayName": "Leonardo Mendonza",
      "photoUrl": "https://lh3.googleusercontent.com/a-/AOh14Gj5F1JVSmHodKCvWHgDPYmDyFo_nUl5lqEXNbsW=s64",
      "userId": "09205135724810578413"
     },
     "user_tz": 180
    },
    "id": "UYWoZz5zIX2i",
    "outputId": "9007fa23-4de4-4dca-c2b4-c98dad8e4814"
   },
   "outputs": [
    {
     "data": {
      "text/html": [
       "<div>\n",
       "<style scoped>\n",
       "    .dataframe tbody tr th:only-of-type {\n",
       "        vertical-align: middle;\n",
       "    }\n",
       "\n",
       "    .dataframe tbody tr th {\n",
       "        vertical-align: top;\n",
       "    }\n",
       "\n",
       "    .dataframe thead th {\n",
       "        text-align: right;\n",
       "    }\n",
       "</style>\n",
       "<table border=\"1\" class=\"dataframe\">\n",
       "  <thead>\n",
       "    <tr style=\"text-align: right;\">\n",
       "      <th></th>\n",
       "      <th>artist</th>\n",
       "      <th>song</th>\n",
       "      <th>link</th>\n",
       "      <th>text</th>\n",
       "    </tr>\n",
       "  </thead>\n",
       "  <tbody>\n",
       "    <tr>\n",
       "      <th>1198</th>\n",
       "      <td>The Beatles</td>\n",
       "      <td>A Shot Of Rhythm And Blues</td>\n",
       "      <td>/b/beatles/a+shot+of+rhythm+blues_20014867.html</td>\n",
       "      <td>Well, if your hands start a-clappin'  \\r\\nAnd ...</td>\n",
       "    </tr>\n",
       "    <tr>\n",
       "      <th>1199</th>\n",
       "      <td>The Beatles</td>\n",
       "      <td>Across The Universe</td>\n",
       "      <td>/b/beatles/across+the+universe_10026507.html</td>\n",
       "      <td>Words are flowing out like  \\r\\nEndless rain i...</td>\n",
       "    </tr>\n",
       "    <tr>\n",
       "      <th>1200</th>\n",
       "      <td>The Beatles</td>\n",
       "      <td>All I've Got To Do</td>\n",
       "      <td>/b/beatles/all+ive+got+to+do_10026646.html</td>\n",
       "      <td>Whenever I want you around, yeah  \\r\\nAll I go...</td>\n",
       "    </tr>\n",
       "    <tr>\n",
       "      <th>1201</th>\n",
       "      <td>The Beatles</td>\n",
       "      <td>And I Love Her</td>\n",
       "      <td>/b/beatles/and+i+love+her_10026463.html</td>\n",
       "      <td>I give her all my love  \\r\\nThat's all I do  \\...</td>\n",
       "    </tr>\n",
       "    <tr>\n",
       "      <th>1202</th>\n",
       "      <td>The Beatles</td>\n",
       "      <td>And Your Bird Can Sing</td>\n",
       "      <td>/b/beatles/and+your+bird+can+sing_10026364.html</td>\n",
       "      <td>You tell me that you've got everything you wan...</td>\n",
       "    </tr>\n",
       "  </tbody>\n",
       "</table>\n",
       "</div>"
      ],
      "text/plain": [
       "           artist                        song  \\\n",
       "1198  The Beatles  A Shot Of Rhythm And Blues   \n",
       "1199  The Beatles         Across The Universe   \n",
       "1200  The Beatles          All I've Got To Do   \n",
       "1201  The Beatles              And I Love Her   \n",
       "1202  The Beatles      And Your Bird Can Sing   \n",
       "\n",
       "                                                 link  \\\n",
       "1198  /b/beatles/a+shot+of+rhythm+blues_20014867.html   \n",
       "1199     /b/beatles/across+the+universe_10026507.html   \n",
       "1200       /b/beatles/all+ive+got+to+do_10026646.html   \n",
       "1201          /b/beatles/and+i+love+her_10026463.html   \n",
       "1202  /b/beatles/and+your+bird+can+sing_10026364.html   \n",
       "\n",
       "                                                   text  \n",
       "1198  Well, if your hands start a-clappin'  \\r\\nAnd ...  \n",
       "1199  Words are flowing out like  \\r\\nEndless rain i...  \n",
       "1200  Whenever I want you around, yeah  \\r\\nAll I go...  \n",
       "1201  I give her all my love  \\r\\nThat's all I do  \\...  \n",
       "1202  You tell me that you've got everything you wan...  "
      ]
     },
     "execution_count": 5,
     "metadata": {},
     "output_type": "execute_result"
    }
   ],
   "source": [
    "# Veja apenas músicas dos Beatles\n",
    "beatles = data[data.artist=='The Beatles']\n",
    "beatles.head()"
   ]
  },
  {
   "cell_type": "code",
   "execution_count": 6,
   "metadata": {
    "ExecuteTime": {
     "end_time": "2022-01-06T22:56:34.702098Z",
     "start_time": "2022-01-06T22:56:34.680219Z"
    },
    "colab": {
     "base_uri": "https://localhost:8080/"
    },
    "executionInfo": {
     "elapsed": 13,
     "status": "ok",
     "timestamp": 1638907986266,
     "user": {
      "displayName": "Leonardo Mendonza",
      "photoUrl": "https://lh3.googleusercontent.com/a-/AOh14Gj5F1JVSmHodKCvWHgDPYmDyFo_nUl5lqEXNbsW=s64",
      "userId": "09205135724810578413"
     },
     "user_tz": 180
    },
    "id": "h43LpBu0IX2l",
    "outputId": "b8f12a0b-0f78-4343-ab42-71567a1f4879"
   },
   "outputs": [
    {
     "data": {
      "text/plain": [
       "The Beatles    178\n",
       "Name: artist, dtype: int64"
      ]
     },
     "execution_count": 6,
     "metadata": {},
     "output_type": "execute_result"
    }
   ],
   "source": [
    "# Verifique o número de músicas dos Beatles no conjunto de dados\n",
    "data.artist.value_counts().loc[['The Beatles']]"
   ]
  },
  {
   "cell_type": "code",
   "execution_count": 7,
   "metadata": {
    "ExecuteTime": {
     "end_time": "2022-01-06T22:56:35.289743Z",
     "start_time": "2022-01-06T22:56:35.282087Z"
    },
    "colab": {
     "base_uri": "https://localhost:8080/",
     "height": 140
    },
    "executionInfo": {
     "elapsed": 11,
     "status": "ok",
     "timestamp": 1638907986267,
     "user": {
      "displayName": "Leonardo Mendonza",
      "photoUrl": "https://lh3.googleusercontent.com/a-/AOh14Gj5F1JVSmHodKCvWHgDPYmDyFo_nUl5lqEXNbsW=s64",
      "userId": "09205135724810578413"
     },
     "user_tz": 180
    },
    "id": "tPYDjczaIX2o",
    "outputId": "ee9f500d-522a-497c-c213-85fbe8f2402c"
   },
   "outputs": [
    {
     "data": {
      "text/plain": [
       "\"Well, if your hands start a-clappin'  \\r\\nAnd your fingers start a-poppin'  \\r\\nAnd your feet start a-movin' around  \\r\\nAnd if you start to swing and sway  \\r\\n  \\r\\nWhen the band starts to play  \\r\\nA real cool way out sound  \\r\\nAnd if you get to can't help it and you can't sit down  \\r\\nYou feel like you gotta move around  \\r\\n  \\r\\nYou get a shot of rhythm and blues.  \\r\\nWith just a little rock and roll on the side  \\r\\nJust for good measure.  \\r\\nGet a pair of dancin' shoes  \\r\\n  \\r\\nWell, with your lover by your side  \\r\\nDon't you know you're gonna have a rockin' time, see'mon!  \\r\\nDon't you worry 'bout a thing  \\r\\nIf you start to dance and sing  \\r\\n  \\r\\nAnd chills come up on you  \\r\\nAnd if the rhythm finally gets you and the beat gets you too  \\r\\nWell, here's something for you to do  \\r\\n  \\r\\nGet a shot of rhythm and blues  \\r\\nWith just a little rock and roll on the side  \\r\\nJust for good measure  \\r\\nGet a pair of dancin' shoes  \\r\\n  \\r\\nWell, with your lover by your side  \\r\\nDon't you know you're gonna have a rockin' time, see'mon!  \\r\\nDon't you worry 'bout a thing  \\r\\nIf you start to dance and sing  \\r\\n  \\r\\nAnd chills come up on you  \\r\\nAnd if the rhythm finally gets you and the beat gets you too  \\r\\nWell, here's something for you to do  \\r\\n  \\r\\nGet a shot of rhythm and blues  \\r\\nGet a pair of dancin' shoes  \\r\\nGet a shot of rhythm and blues  \\r\\nWell, with your lover by your side  \\r\\n  \\r\\nDon't you know you're gonna have a rockin' time, see'mon!  \\r\\nDon't you worry 'bout a thing  \\r\\nIf you start to dance and sing  \\r\\nAnd chills come up on you  \\r\\n  \\r\\nAnd if the rhythm finally gets you and the beat gets you too  \\r\\nWell, here's something for you to do  \\r\\nWell, here's something for you to do  \\r\\nWell, here's something for you to do\\r\\n\\r\\n\""
      ]
     },
     "execution_count": 7,
     "metadata": {},
     "output_type": "execute_result"
    }
   ],
   "source": [
    "# Veja a letra da primeira música\n",
    "beatles.iloc[0,3] # primeira linha, 4a coluna"
   ]
  },
  {
   "cell_type": "markdown",
   "metadata": {
    "id": "f1c68RIfIX2r"
   },
   "source": [
    "## Desafio 2 ##"
   ]
  },
  {
   "cell_type": "markdown",
   "metadata": {
    "id": "VoIOfQsSIX2s"
   },
   "source": [
    "Aplique as seguintes etapas de pré-processamento:\n",
    "* Observe os caracteres '\\ n' (nova linha) nas letras. Remova-os usando expressões regulares.\n",
    "* Remova todas as palavras com números usando expressões regulares.\n",
    "* Crie uma matriz de termos de documentos usando o Count Vectorizer, com cada linha como uma música e cada coluna como uma palavra nas letras. Faça com que o Count Vectorizer remova todas as palavras de parada também.\n",
    "\n",
    "Nota: O Count Vectorizer remove automaticamente a pontuação e coloca todos os caracteres em minúsculas."
   ]
  },
  {
   "cell_type": "code",
   "execution_count": 8,
   "metadata": {
    "ExecuteTime": {
     "end_time": "2022-01-06T22:56:37.398991Z",
     "start_time": "2022-01-06T22:56:37.338106Z"
    },
    "colab": {
     "base_uri": "https://localhost:8080/"
    },
    "executionInfo": {
     "elapsed": 10,
     "status": "ok",
     "timestamp": 1638907986267,
     "user": {
      "displayName": "Leonardo Mendonza",
      "photoUrl": "https://lh3.googleusercontent.com/a-/AOh14Gj5F1JVSmHodKCvWHgDPYmDyFo_nUl5lqEXNbsW=s64",
      "userId": "09205135724810578413"
     },
     "user_tz": 180
    },
    "id": "a_ngW5djIX2s",
    "outputId": "77714981-b106-44e9-b97f-11481b521ab8"
   },
   "outputs": [
    {
     "data": {
      "text/plain": [
       "1198    well if your hands start aclappin   and your f...\n",
       "1199    words are flowing out like   endless rain into...\n",
       "1200    whenever i want you around yeah   all i gotta ...\n",
       "1201    i give her all my love   thats all i do   and ...\n",
       "1202    you tell me that youve got everything you want...\n",
       "Name: text, dtype: object"
      ]
     },
     "execution_count": 8,
     "metadata": {},
     "output_type": "execute_result"
    }
   ],
   "source": [
    "# Remover caracteres da letra\n",
    "import re\n",
    "\n",
    "newline = lambda x: re.sub('\\n', ' ', x) # remove \\n\n",
    "contra_barra_erre =  lambda x: re.sub(r'[^ \\w\\.]', '', x).lower() # ^ desde o começo até final da palavra, o ponto.\n",
    "alphanumeric = lambda x: re.sub('\\w*\\d\\w*', ' ', x) # remove alphanumeric words, entre as palavras.\n",
    "\n",
    "corpus = beatles.text.map(newline).map(contra_barra_erre).map(alphanumeric)\n",
    "corpus.head()"
   ]
  },
  {
   "cell_type": "code",
   "execution_count": 10,
   "metadata": {
    "ExecuteTime": {
     "end_time": "2022-01-06T22:57:38.711489Z",
     "start_time": "2022-01-06T22:57:38.635532Z"
    },
    "colab": {
     "base_uri": "https://localhost:8080/",
     "height": 547
    },
    "executionInfo": {
     "elapsed": 317,
     "status": "ok",
     "timestamp": 1638907986576,
     "user": {
      "displayName": "Leonardo Mendonza",
      "photoUrl": "https://lh3.googleusercontent.com/a-/AOh14Gj5F1JVSmHodKCvWHgDPYmDyFo_nUl5lqEXNbsW=s64",
      "userId": "09205135724810578413"
     },
     "user_tz": 180
    },
    "id": "-EHgnRKiIX2w",
    "outputId": "69e4d363-19f6-4b45-dcf3-350d67d080c9",
    "scrolled": true
   },
   "outputs": [
    {
     "data": {
      "text/html": [
       "<div>\n",
       "<style scoped>\n",
       "    .dataframe tbody tr th:only-of-type {\n",
       "        vertical-align: middle;\n",
       "    }\n",
       "\n",
       "    .dataframe tbody tr th {\n",
       "        vertical-align: top;\n",
       "    }\n",
       "\n",
       "    .dataframe thead th {\n",
       "        text-align: right;\n",
       "    }\n",
       "</style>\n",
       "<table border=\"1\" class=\"dataframe\">\n",
       "  <thead>\n",
       "    <tr style=\"text-align: right;\">\n",
       "      <th></th>\n",
       "      <th>aaahhh</th>\n",
       "      <th>aah</th>\n",
       "      <th>abcs</th>\n",
       "      <th>aches</th>\n",
       "      <th>aching</th>\n",
       "      <th>aclappin</th>\n",
       "      <th>acquainted</th>\n",
       "      <th>act</th>\n",
       "      <th>actors</th>\n",
       "      <th>acts</th>\n",
       "      <th>...</th>\n",
       "      <th>youd</th>\n",
       "      <th>youll</th>\n",
       "      <th>young</th>\n",
       "      <th>younger</th>\n",
       "      <th>youre</th>\n",
       "      <th>youu</th>\n",
       "      <th>youve</th>\n",
       "      <th>zealand</th>\n",
       "      <th>zoo</th>\n",
       "      <th>zu</th>\n",
       "    </tr>\n",
       "    <tr>\n",
       "      <th>song</th>\n",
       "      <th></th>\n",
       "      <th></th>\n",
       "      <th></th>\n",
       "      <th></th>\n",
       "      <th></th>\n",
       "      <th></th>\n",
       "      <th></th>\n",
       "      <th></th>\n",
       "      <th></th>\n",
       "      <th></th>\n",
       "      <th></th>\n",
       "      <th></th>\n",
       "      <th></th>\n",
       "      <th></th>\n",
       "      <th></th>\n",
       "      <th></th>\n",
       "      <th></th>\n",
       "      <th></th>\n",
       "      <th></th>\n",
       "      <th></th>\n",
       "      <th></th>\n",
       "    </tr>\n",
       "  </thead>\n",
       "  <tbody>\n",
       "    <tr>\n",
       "      <th>A Shot Of Rhythm And Blues</th>\n",
       "      <td>0</td>\n",
       "      <td>0</td>\n",
       "      <td>0</td>\n",
       "      <td>0</td>\n",
       "      <td>0</td>\n",
       "      <td>1</td>\n",
       "      <td>0</td>\n",
       "      <td>0</td>\n",
       "      <td>0</td>\n",
       "      <td>0</td>\n",
       "      <td>...</td>\n",
       "      <td>0</td>\n",
       "      <td>0</td>\n",
       "      <td>0</td>\n",
       "      <td>0</td>\n",
       "      <td>3</td>\n",
       "      <td>0</td>\n",
       "      <td>0</td>\n",
       "      <td>0</td>\n",
       "      <td>0</td>\n",
       "      <td>0</td>\n",
       "    </tr>\n",
       "    <tr>\n",
       "      <th>Across The Universe</th>\n",
       "      <td>0</td>\n",
       "      <td>0</td>\n",
       "      <td>0</td>\n",
       "      <td>0</td>\n",
       "      <td>0</td>\n",
       "      <td>0</td>\n",
       "      <td>0</td>\n",
       "      <td>0</td>\n",
       "      <td>0</td>\n",
       "      <td>0</td>\n",
       "      <td>...</td>\n",
       "      <td>0</td>\n",
       "      <td>0</td>\n",
       "      <td>0</td>\n",
       "      <td>0</td>\n",
       "      <td>0</td>\n",
       "      <td>0</td>\n",
       "      <td>0</td>\n",
       "      <td>0</td>\n",
       "      <td>0</td>\n",
       "      <td>0</td>\n",
       "    </tr>\n",
       "    <tr>\n",
       "      <th>All I've Got To Do</th>\n",
       "      <td>0</td>\n",
       "      <td>0</td>\n",
       "      <td>0</td>\n",
       "      <td>0</td>\n",
       "      <td>0</td>\n",
       "      <td>0</td>\n",
       "      <td>0</td>\n",
       "      <td>0</td>\n",
       "      <td>0</td>\n",
       "      <td>0</td>\n",
       "      <td>...</td>\n",
       "      <td>0</td>\n",
       "      <td>2</td>\n",
       "      <td>0</td>\n",
       "      <td>0</td>\n",
       "      <td>0</td>\n",
       "      <td>0</td>\n",
       "      <td>0</td>\n",
       "      <td>0</td>\n",
       "      <td>0</td>\n",
       "      <td>0</td>\n",
       "    </tr>\n",
       "    <tr>\n",
       "      <th>And I Love Her</th>\n",
       "      <td>0</td>\n",
       "      <td>0</td>\n",
       "      <td>0</td>\n",
       "      <td>0</td>\n",
       "      <td>0</td>\n",
       "      <td>0</td>\n",
       "      <td>0</td>\n",
       "      <td>0</td>\n",
       "      <td>0</td>\n",
       "      <td>0</td>\n",
       "      <td>...</td>\n",
       "      <td>1</td>\n",
       "      <td>0</td>\n",
       "      <td>0</td>\n",
       "      <td>0</td>\n",
       "      <td>0</td>\n",
       "      <td>0</td>\n",
       "      <td>0</td>\n",
       "      <td>0</td>\n",
       "      <td>0</td>\n",
       "      <td>0</td>\n",
       "    </tr>\n",
       "    <tr>\n",
       "      <th>And Your Bird Can Sing</th>\n",
       "      <td>0</td>\n",
       "      <td>0</td>\n",
       "      <td>0</td>\n",
       "      <td>0</td>\n",
       "      <td>0</td>\n",
       "      <td>0</td>\n",
       "      <td>0</td>\n",
       "      <td>0</td>\n",
       "      <td>0</td>\n",
       "      <td>0</td>\n",
       "      <td>...</td>\n",
       "      <td>0</td>\n",
       "      <td>0</td>\n",
       "      <td>0</td>\n",
       "      <td>0</td>\n",
       "      <td>0</td>\n",
       "      <td>0</td>\n",
       "      <td>3</td>\n",
       "      <td>0</td>\n",
       "      <td>0</td>\n",
       "      <td>0</td>\n",
       "    </tr>\n",
       "  </tbody>\n",
       "</table>\n",
       "<p>5 rows × 2087 columns</p>\n",
       "</div>"
      ],
      "text/plain": [
       "                            aaahhh  aah  abcs  aches  aching  aclappin  \\\n",
       "song                                                                     \n",
       "A Shot Of Rhythm And Blues       0    0     0      0       0         1   \n",
       "Across The Universe              0    0     0      0       0         0   \n",
       "All I've Got To Do               0    0     0      0       0         0   \n",
       "And I Love Her                   0    0     0      0       0         0   \n",
       "And Your Bird Can Sing           0    0     0      0       0         0   \n",
       "\n",
       "                            acquainted  act  actors  acts  ...  youd  youll  \\\n",
       "song                                                       ...                \n",
       "A Shot Of Rhythm And Blues           0    0       0     0  ...     0      0   \n",
       "Across The Universe                  0    0       0     0  ...     0      0   \n",
       "All I've Got To Do                   0    0       0     0  ...     0      2   \n",
       "And I Love Her                       0    0       0     0  ...     1      0   \n",
       "And Your Bird Can Sing               0    0       0     0  ...     0      0   \n",
       "\n",
       "                            young  younger  youre  youu  youve  zealand  zoo  \\\n",
       "song                                                                           \n",
       "A Shot Of Rhythm And Blues      0        0      3     0      0        0    0   \n",
       "Across The Universe             0        0      0     0      0        0    0   \n",
       "All I've Got To Do              0        0      0     0      0        0    0   \n",
       "And I Love Her                  0        0      0     0      0        0    0   \n",
       "And Your Bird Can Sing          0        0      0     0      3        0    0   \n",
       "\n",
       "                            zu  \n",
       "song                            \n",
       "A Shot Of Rhythm And Blues   0  \n",
       "Across The Universe          0  \n",
       "All I've Got To Do           0  \n",
       "And I Love Her               0  \n",
       "And Your Bird Can Sing       0  \n",
       "\n",
       "[5 rows x 2087 columns]"
      ]
     },
     "execution_count": 10,
     "metadata": {},
     "output_type": "execute_result"
    }
   ],
   "source": [
    "# Crie uma matriz de termos de documento usando o Count Vectorizer com as palavras de parada ativadas para inglês\n",
    "from sklearn.feature_extraction.text import CountVectorizer\n",
    "          \n",
    "cv = CountVectorizer(stop_words=\"english\")\n",
    "X = cv.fit_transform(corpus).toarray()\n",
    "\n",
    "dt = pd.DataFrame(X, columns=cv.get_feature_names_out()).set_index(beatles.song)\n",
    "dt.head()"
   ]
  },
  {
   "cell_type": "markdown",
   "metadata": {
    "id": "ykCOcg7GIX2z"
   },
   "source": [
    "## Desafio 3  ##"
   ]
  },
  {
   "cell_type": "markdown",
   "metadata": {
    "id": "M8eSnpXHIX20"
   },
   "source": [
    "* Dê uma olhada na letra da música \"Imagine\".\n",
    "* Qual música é a mais parecida com a música \"Imagine\"?\n",
    "      * Use a semelhança de cosseno para calcular a semelhança\n",
    "      * Use o Count Vectorizer para codificar numericamente a letra\n",
    "* Encontre a música mais parecida usando o TF-IDF Vectorizer.\n",
    "\n",
    "Compare a música mais semelhante das saídas do Count Vectorizer e do TF-IDF Vectorizer."
   ]
  },
  {
   "cell_type": "code",
   "execution_count": 18,
   "metadata": {
    "ExecuteTime": {
     "end_time": "2022-01-06T23:07:45.915128Z",
     "start_time": "2022-01-06T23:07:45.910558Z"
    },
    "colab": {
     "base_uri": "https://localhost:8080/"
    },
    "executionInfo": {
     "elapsed": 7,
     "status": "ok",
     "timestamp": 1638907986577,
     "user": {
      "displayName": "Leonardo Mendonza",
      "photoUrl": "https://lh3.googleusercontent.com/a-/AOh14Gj5F1JVSmHodKCvWHgDPYmDyFo_nUl5lqEXNbsW=s64",
      "userId": "09205135724810578413"
     },
     "user_tz": 180
    },
    "id": "a4BiyqdXIX20",
    "outputId": "8f25c20c-6dff-4942-e1fe-58e2100c7d47"
   },
   "outputs": [],
   "source": [
    "# Defina as opções de exibição para que as letras não sejam cortadas\n",
    "pd.set_option('display.max_colwidth', None)"
   ]
  },
  {
   "cell_type": "code",
   "execution_count": 19,
   "metadata": {
    "ExecuteTime": {
     "end_time": "2022-01-06T23:07:53.406563Z",
     "start_time": "2022-01-06T23:07:53.395948Z"
    },
    "colab": {
     "base_uri": "https://localhost:8080/"
    },
    "executionInfo": {
     "elapsed": 7,
     "status": "ok",
     "timestamp": 1638907986578,
     "user": {
      "displayName": "Leonardo Mendonza",
      "photoUrl": "https://lh3.googleusercontent.com/a-/AOh14Gj5F1JVSmHodKCvWHgDPYmDyFo_nUl5lqEXNbsW=s64",
      "userId": "09205135724810578413"
     },
     "user_tz": 180
    },
    "id": "pC6OAiYMIX23",
    "outputId": "31eacb2b-72de-482c-85c1-e0e3350d835b"
   },
   "outputs": [
    {
     "data": {
      "text/plain": [
       "24783    Imagine there's no heaven  \\r\\nIt's easy if you try  \\r\\nNo hell below us  \\r\\nAbove us only sky  \\r\\nImagine all the people  \\r\\nLiving for today...  \\r\\n  \\r\\nImagine there's no countries  \\r\\nIt isn't hard to do  \\r\\nNothing to kill or die for  \\r\\nAnd no religion too  \\r\\nImagine all the people  \\r\\nLiving life in peace...  \\r\\n  \\r\\nYou may say I'm a dreamer  \\r\\nBut I'm not the only one  \\r\\nI hope someday you'll join us  \\r\\nAnd the world will be as one  \\r\\n  \\r\\nImagine no possessions  \\r\\nI wonder if you can  \\r\\nNo need for greed or hunger  \\r\\nA brotherhood of man  \\r\\nImagine all the people  \\r\\nSharing all the world...  \\r\\n  \\r\\nYou may say I'm a dreamer  \\r\\nBut I'm not the only one  \\r\\nI hope someday you'll join us  \\r\\nAnd the world will live as one\\r\\n\\r\\n\n",
       "Name: text, dtype: object"
      ]
     },
     "execution_count": 19,
     "metadata": {},
     "output_type": "execute_result"
    }
   ],
   "source": [
    "# Imagine letras\n",
    "beatles[beatles.song=='Imagine'].text"
   ]
  },
  {
   "cell_type": "code",
   "execution_count": 15,
   "metadata": {
    "ExecuteTime": {
     "end_time": "2022-01-06T23:01:55.939486Z",
     "start_time": "2022-01-06T23:01:55.930153Z"
    },
    "colab": {
     "base_uri": "https://localhost:8080/"
    },
    "executionInfo": {
     "elapsed": 4,
     "status": "ok",
     "timestamp": 1638907986903,
     "user": {
      "displayName": "Leonardo Mendonza",
      "photoUrl": "https://lh3.googleusercontent.com/a-/AOh14Gj5F1JVSmHodKCvWHgDPYmDyFo_nUl5lqEXNbsW=s64",
      "userId": "09205135724810578413"
     },
     "user_tz": 180
    },
    "id": "tsg4CFNSIX27",
    "outputId": "82108833-9b26-4270-c7ab-6814713cf383"
   },
   "outputs": [
    {
     "data": {
      "text/plain": [
       "[0, 0, 0, 0, 0, 0, 0, 0, 0, 0, 0, 0, 0, 0, 0, 0, 0, 0, 0, 0]"
      ]
     },
     "execution_count": 15,
     "metadata": {},
     "output_type": "execute_result"
    }
   ],
   "source": [
    "# Imagine letras no formato Count Vectorizer\n",
    "imagine = list(dt.loc['Imagine'])\n",
    "imagine[:20]"
   ]
  },
  {
   "cell_type": "code",
   "execution_count": 16,
   "metadata": {
    "ExecuteTime": {
     "end_time": "2022-01-06T23:06:21.625906Z",
     "start_time": "2022-01-06T23:06:21.620678Z"
    },
    "executionInfo": {
     "elapsed": 5,
     "status": "ok",
     "timestamp": 1638907987198,
     "user": {
      "displayName": "Leonardo Mendonza",
      "photoUrl": "https://lh3.googleusercontent.com/a-/AOh14Gj5F1JVSmHodKCvWHgDPYmDyFo_nUl5lqEXNbsW=s64",
      "userId": "09205135724810578413"
     },
     "user_tz": 180
    },
    "id": "YWDxi6VLIX2-"
   },
   "outputs": [],
   "source": [
    "# Definir o cálculo de similaridade de cosseno\n",
    "from numpy import dot\n",
    "from numpy.linalg import norm\n",
    "\n",
    "cosine = lambda v1, v2: dot(v1, v2) / (norm(v1) * norm(v2))"
   ]
  },
  {
   "cell_type": "code",
   "execution_count": 20,
   "metadata": {
    "ExecuteTime": {
     "end_time": "2022-01-06T23:10:12.365934Z",
     "start_time": "2022-01-06T23:10:12.246119Z"
    },
    "colab": {
     "base_uri": "https://localhost:8080/"
    },
    "executionInfo": {
     "elapsed": 5,
     "status": "ok",
     "timestamp": 1638907987199,
     "user": {
      "displayName": "Leonardo Mendonza",
      "photoUrl": "https://lh3.googleusercontent.com/a-/AOh14Gj5F1JVSmHodKCvWHgDPYmDyFo_nUl5lqEXNbsW=s64",
      "userId": "09205135724810578413"
     },
     "user_tz": 180
    },
    "id": "tg-kc5DKIX3B",
    "outputId": "29454c00-11d3-4095-ea11-63f9445f11a1"
   },
   "outputs": [
    {
     "data": {
      "text/plain": [
       "[(0.3228317050890002, \"I'm Down\"),\n",
       " (0.28818543935741636, 'Old Brown Shoe'),\n",
       " (0.2818152716377242, 'Fixing A Hole'),\n",
       " (0.26773120849090415, \"I'm Only Sleeping\"),\n",
       " (0.2641757367279902, \"I'm A Loser\")]"
      ]
     },
     "execution_count": 20,
     "metadata": {},
     "output_type": "execute_result"
    }
   ],
   "source": [
    "# Calcular todas as semelhanças e classificar pelas mais semelhantes\n",
    "similarity = [cosine(imagine, song) for song in X]\n",
    "sorted(list(zip(similarity, beatles.song)), reverse=True)[1:6]"
   ]
  },
  {
   "cell_type": "code",
   "execution_count": 21,
   "metadata": {
    "ExecuteTime": {
     "end_time": "2022-01-06T23:10:13.282131Z",
     "start_time": "2022-01-06T23:10:13.182774Z"
    },
    "colab": {
     "base_uri": "https://localhost:8080/",
     "height": 547
    },
    "executionInfo": {
     "elapsed": 312,
     "status": "ok",
     "timestamp": 1638907987746,
     "user": {
      "displayName": "Leonardo Mendonza",
      "photoUrl": "https://lh3.googleusercontent.com/a-/AOh14Gj5F1JVSmHodKCvWHgDPYmDyFo_nUl5lqEXNbsW=s64",
      "userId": "09205135724810578413"
     },
     "user_tz": 180
    },
    "id": "RjcFgP9MIX3E",
    "outputId": "1a032d56-2a54-4faa-e585-49d6fff8e250"
   },
   "outputs": [
    {
     "data": {
      "text/html": [
       "<div>\n",
       "<style scoped>\n",
       "    .dataframe tbody tr th:only-of-type {\n",
       "        vertical-align: middle;\n",
       "    }\n",
       "\n",
       "    .dataframe tbody tr th {\n",
       "        vertical-align: top;\n",
       "    }\n",
       "\n",
       "    .dataframe thead th {\n",
       "        text-align: right;\n",
       "    }\n",
       "</style>\n",
       "<table border=\"1\" class=\"dataframe\">\n",
       "  <thead>\n",
       "    <tr style=\"text-align: right;\">\n",
       "      <th></th>\n",
       "      <th>aaahhh</th>\n",
       "      <th>aah</th>\n",
       "      <th>abcs</th>\n",
       "      <th>aches</th>\n",
       "      <th>aching</th>\n",
       "      <th>aclappin</th>\n",
       "      <th>acquainted</th>\n",
       "      <th>act</th>\n",
       "      <th>actors</th>\n",
       "      <th>acts</th>\n",
       "      <th>...</th>\n",
       "      <th>youd</th>\n",
       "      <th>youll</th>\n",
       "      <th>young</th>\n",
       "      <th>younger</th>\n",
       "      <th>youre</th>\n",
       "      <th>youu</th>\n",
       "      <th>youve</th>\n",
       "      <th>zealand</th>\n",
       "      <th>zoo</th>\n",
       "      <th>zu</th>\n",
       "    </tr>\n",
       "    <tr>\n",
       "      <th>song</th>\n",
       "      <th></th>\n",
       "      <th></th>\n",
       "      <th></th>\n",
       "      <th></th>\n",
       "      <th></th>\n",
       "      <th></th>\n",
       "      <th></th>\n",
       "      <th></th>\n",
       "      <th></th>\n",
       "      <th></th>\n",
       "      <th></th>\n",
       "      <th></th>\n",
       "      <th></th>\n",
       "      <th></th>\n",
       "      <th></th>\n",
       "      <th></th>\n",
       "      <th></th>\n",
       "      <th></th>\n",
       "      <th></th>\n",
       "      <th></th>\n",
       "      <th></th>\n",
       "    </tr>\n",
       "  </thead>\n",
       "  <tbody>\n",
       "    <tr>\n",
       "      <th>A Shot Of Rhythm And Blues</th>\n",
       "      <td>0.0</td>\n",
       "      <td>0.0</td>\n",
       "      <td>0.0</td>\n",
       "      <td>0.0</td>\n",
       "      <td>0.0</td>\n",
       "      <td>0.060442</td>\n",
       "      <td>0.0</td>\n",
       "      <td>0.0</td>\n",
       "      <td>0.0</td>\n",
       "      <td>0.0</td>\n",
       "      <td>...</td>\n",
       "      <td>0.000000</td>\n",
       "      <td>0.000000</td>\n",
       "      <td>0.0</td>\n",
       "      <td>0.0</td>\n",
       "      <td>0.082458</td>\n",
       "      <td>0.0</td>\n",
       "      <td>0.000000</td>\n",
       "      <td>0.0</td>\n",
       "      <td>0.0</td>\n",
       "      <td>0.0</td>\n",
       "    </tr>\n",
       "    <tr>\n",
       "      <th>Across The Universe</th>\n",
       "      <td>0.0</td>\n",
       "      <td>0.0</td>\n",
       "      <td>0.0</td>\n",
       "      <td>0.0</td>\n",
       "      <td>0.0</td>\n",
       "      <td>0.000000</td>\n",
       "      <td>0.0</td>\n",
       "      <td>0.0</td>\n",
       "      <td>0.0</td>\n",
       "      <td>0.0</td>\n",
       "      <td>...</td>\n",
       "      <td>0.000000</td>\n",
       "      <td>0.000000</td>\n",
       "      <td>0.0</td>\n",
       "      <td>0.0</td>\n",
       "      <td>0.000000</td>\n",
       "      <td>0.0</td>\n",
       "      <td>0.000000</td>\n",
       "      <td>0.0</td>\n",
       "      <td>0.0</td>\n",
       "      <td>0.0</td>\n",
       "    </tr>\n",
       "    <tr>\n",
       "      <th>All I've Got To Do</th>\n",
       "      <td>0.0</td>\n",
       "      <td>0.0</td>\n",
       "      <td>0.0</td>\n",
       "      <td>0.0</td>\n",
       "      <td>0.0</td>\n",
       "      <td>0.000000</td>\n",
       "      <td>0.0</td>\n",
       "      <td>0.0</td>\n",
       "      <td>0.0</td>\n",
       "      <td>0.0</td>\n",
       "      <td>...</td>\n",
       "      <td>0.000000</td>\n",
       "      <td>0.137599</td>\n",
       "      <td>0.0</td>\n",
       "      <td>0.0</td>\n",
       "      <td>0.000000</td>\n",
       "      <td>0.0</td>\n",
       "      <td>0.000000</td>\n",
       "      <td>0.0</td>\n",
       "      <td>0.0</td>\n",
       "      <td>0.0</td>\n",
       "    </tr>\n",
       "    <tr>\n",
       "      <th>And I Love Her</th>\n",
       "      <td>0.0</td>\n",
       "      <td>0.0</td>\n",
       "      <td>0.0</td>\n",
       "      <td>0.0</td>\n",
       "      <td>0.0</td>\n",
       "      <td>0.000000</td>\n",
       "      <td>0.0</td>\n",
       "      <td>0.0</td>\n",
       "      <td>0.0</td>\n",
       "      <td>0.0</td>\n",
       "      <td>...</td>\n",
       "      <td>0.111911</td>\n",
       "      <td>0.000000</td>\n",
       "      <td>0.0</td>\n",
       "      <td>0.0</td>\n",
       "      <td>0.000000</td>\n",
       "      <td>0.0</td>\n",
       "      <td>0.000000</td>\n",
       "      <td>0.0</td>\n",
       "      <td>0.0</td>\n",
       "      <td>0.0</td>\n",
       "    </tr>\n",
       "    <tr>\n",
       "      <th>And Your Bird Can Sing</th>\n",
       "      <td>0.0</td>\n",
       "      <td>0.0</td>\n",
       "      <td>0.0</td>\n",
       "      <td>0.0</td>\n",
       "      <td>0.0</td>\n",
       "      <td>0.000000</td>\n",
       "      <td>0.0</td>\n",
       "      <td>0.0</td>\n",
       "      <td>0.0</td>\n",
       "      <td>0.0</td>\n",
       "      <td>...</td>\n",
       "      <td>0.000000</td>\n",
       "      <td>0.000000</td>\n",
       "      <td>0.0</td>\n",
       "      <td>0.0</td>\n",
       "      <td>0.000000</td>\n",
       "      <td>0.0</td>\n",
       "      <td>0.295399</td>\n",
       "      <td>0.0</td>\n",
       "      <td>0.0</td>\n",
       "      <td>0.0</td>\n",
       "    </tr>\n",
       "  </tbody>\n",
       "</table>\n",
       "<p>5 rows × 2087 columns</p>\n",
       "</div>"
      ],
      "text/plain": [
       "                            aaahhh  aah  abcs  aches  aching  aclappin  \\\n",
       "song                                                                     \n",
       "A Shot Of Rhythm And Blues     0.0  0.0   0.0    0.0     0.0  0.060442   \n",
       "Across The Universe            0.0  0.0   0.0    0.0     0.0  0.000000   \n",
       "All I've Got To Do             0.0  0.0   0.0    0.0     0.0  0.000000   \n",
       "And I Love Her                 0.0  0.0   0.0    0.0     0.0  0.000000   \n",
       "And Your Bird Can Sing         0.0  0.0   0.0    0.0     0.0  0.000000   \n",
       "\n",
       "                            acquainted  act  actors  acts  ...      youd  \\\n",
       "song                                                       ...             \n",
       "A Shot Of Rhythm And Blues         0.0  0.0     0.0   0.0  ...  0.000000   \n",
       "Across The Universe                0.0  0.0     0.0   0.0  ...  0.000000   \n",
       "All I've Got To Do                 0.0  0.0     0.0   0.0  ...  0.000000   \n",
       "And I Love Her                     0.0  0.0     0.0   0.0  ...  0.111911   \n",
       "And Your Bird Can Sing             0.0  0.0     0.0   0.0  ...  0.000000   \n",
       "\n",
       "                               youll  young  younger     youre  youu  \\\n",
       "song                                                                   \n",
       "A Shot Of Rhythm And Blues  0.000000    0.0      0.0  0.082458   0.0   \n",
       "Across The Universe         0.000000    0.0      0.0  0.000000   0.0   \n",
       "All I've Got To Do          0.137599    0.0      0.0  0.000000   0.0   \n",
       "And I Love Her              0.000000    0.0      0.0  0.000000   0.0   \n",
       "And Your Bird Can Sing      0.000000    0.0      0.0  0.000000   0.0   \n",
       "\n",
       "                               youve  zealand  zoo   zu  \n",
       "song                                                     \n",
       "A Shot Of Rhythm And Blues  0.000000      0.0  0.0  0.0  \n",
       "Across The Universe         0.000000      0.0  0.0  0.0  \n",
       "All I've Got To Do          0.000000      0.0  0.0  0.0  \n",
       "And I Love Her              0.000000      0.0  0.0  0.0  \n",
       "And Your Bird Can Sing      0.295399      0.0  0.0  0.0  \n",
       "\n",
       "[5 rows x 2087 columns]"
      ]
     },
     "execution_count": 21,
     "metadata": {},
     "output_type": "execute_result"
    }
   ],
   "source": [
    "# Crie o vetorizador TF-IDF\n",
    "from sklearn.feature_extraction.text import TfidfVectorizer\n",
    "          \n",
    "cv_tfidf = TfidfVectorizer(stop_words=\"english\")\n",
    "X_tfidf = cv_tfidf.fit_transform(corpus).toarray()\n",
    "\n",
    "dt_tfidf = pd.DataFrame(X_tfidf, columns=cv_tfidf.get_feature_names_out()).set_index(beatles.song)\n",
    "dt_tfidf.head()"
   ]
  },
  {
   "cell_type": "code",
   "execution_count": 23,
   "metadata": {
    "ExecuteTime": {
     "end_time": "2022-01-06T23:13:47.874760Z",
     "start_time": "2022-01-06T23:13:47.750618Z"
    },
    "colab": {
     "base_uri": "https://localhost:8080/"
    },
    "executionInfo": {
     "elapsed": 327,
     "status": "ok",
     "timestamp": 1638907988070,
     "user": {
      "displayName": "Leonardo Mendonza",
      "photoUrl": "https://lh3.googleusercontent.com/a-/AOh14Gj5F1JVSmHodKCvWHgDPYmDyFo_nUl5lqEXNbsW=s64",
      "userId": "09205135724810578413"
     },
     "user_tz": 180
    },
    "id": "spX9cnyXIX3G",
    "outputId": "4dec446b-7dbf-4033-cba8-3ce943644406"
   },
   "outputs": [
    {
     "data": {
      "text/plain": [
       "[(0.27641201983466956, \"I'm Down\"),\n",
       " (0.21600255977078725, 'Old Brown Shoe'),\n",
       " (0.198420116388419, \"I'll Cry Instead\"),\n",
       " (0.18798996499401002, \"I'll Get You\"),\n",
       " (0.17934097109164965, 'Fixing A Hole')]"
      ]
     },
     "execution_count": 23,
     "metadata": {},
     "output_type": "execute_result"
    }
   ],
   "source": [
    "# Calcule todas as semelhanças e classifique as mais semelhantes usando os dados do TF-IDF\n",
    "similarity_tfidf = [cosine(imagine, song) for song in X_tfidf]\n",
    "sorted(list(zip(similarity_tfidf, beatles.song)), reverse=True)[1:6]"
   ]
  },
  {
   "cell_type": "markdown",
   "metadata": {
    "id": "PulG-w9iIX3J"
   },
   "source": [
    "As respostas para o Count Vectorizer e TF-IDF Vectorizer estão bem próximas. Nos dois casos, \"I am down\" é a música mais parecida com \"Imagine\". Quando você olha as letras, pode ver que as duas estão do lado triste das músicas dos Beatles."
   ]
  },
  {
   "cell_type": "code",
   "execution_count": 24,
   "metadata": {
    "ExecuteTime": {
     "end_time": "2022-01-06T23:13:50.552783Z",
     "start_time": "2022-01-06T23:13:50.538052Z"
    },
    "colab": {
     "base_uri": "https://localhost:8080/"
    },
    "executionInfo": {
     "elapsed": 4,
     "status": "ok",
     "timestamp": 1638907988071,
     "user": {
      "displayName": "Leonardo Mendonza",
      "photoUrl": "https://lh3.googleusercontent.com/a-/AOh14Gj5F1JVSmHodKCvWHgDPYmDyFo_nUl5lqEXNbsW=s64",
      "userId": "09205135724810578413"
     },
     "user_tz": 180
    },
    "id": "IxDMttajIX3K",
    "outputId": "8040d54f-280d-4413-990e-2f121a893671"
   },
   "outputs": [
    {
     "data": {
      "text/plain": [
       "24783    Imagine there's no heaven  \\r\\nIt's easy if you try  \\r\\nNo hell below us  \\r\\nAbove us only sky  \\r\\nImagine all the people  \\r\\nLiving for today...  \\r\\n  \\r\\nImagine there's no countries  \\r\\nIt isn't hard to do  \\r\\nNothing to kill or die for  \\r\\nAnd no religion too  \\r\\nImagine all the people  \\r\\nLiving life in peace...  \\r\\n  \\r\\nYou may say I'm a dreamer  \\r\\nBut I'm not the only one  \\r\\nI hope someday you'll join us  \\r\\nAnd the world will be as one  \\r\\n  \\r\\nImagine no possessions  \\r\\nI wonder if you can  \\r\\nNo need for greed or hunger  \\r\\nA brotherhood of man  \\r\\nImagine all the people  \\r\\nSharing all the world...  \\r\\n  \\r\\nYou may say I'm a dreamer  \\r\\nBut I'm not the only one  \\r\\nI hope someday you'll join us  \\r\\nAnd the world will live as one\\r\\n\\r\\n\n",
       "Name: text, dtype: object"
      ]
     },
     "execution_count": 24,
     "metadata": {},
     "output_type": "execute_result"
    }
   ],
   "source": [
    "# Imagine lyrics\n",
    "beatles[beatles.song=='Imagine'].text"
   ]
  },
  {
   "cell_type": "code",
   "execution_count": 42,
   "metadata": {
    "ExecuteTime": {
     "end_time": "2022-01-06T23:30:29.905511Z",
     "start_time": "2022-01-06T23:30:29.895899Z"
    },
    "colab": {
     "base_uri": "https://localhost:8080/"
    },
    "executionInfo": {
     "elapsed": 2,
     "status": "ok",
     "timestamp": 1638907988307,
     "user": {
      "displayName": "Leonardo Mendonza",
      "photoUrl": "https://lh3.googleusercontent.com/a-/AOh14Gj5F1JVSmHodKCvWHgDPYmDyFo_nUl5lqEXNbsW=s64",
      "userId": "09205135724810578413"
     },
     "user_tz": 180
    },
    "id": "j1MlH9hbIX3O",
    "outputId": "0229990c-37fd-45b1-baef-e745d6c11b2c"
   },
   "outputs": [
    {
     "data": {
      "text/plain": [
       "24777    You tell lies thinking I can't see  \\r\\nYou can't cry 'cause you're laughing at me  \\r\\nI'm down, I'm down, I''m down  \\r\\nHow can you laugh when you know I'm down  \\r\\nHow can you laugh when you know I'm down  \\r\\n  \\r\\nMan buys ring, woman throws it away  \\r\\nSame old thing happen every day  \\r\\nI'm down, I'm down, I''m down  \\r\\nHow can you laugh when you know I'm down  \\r\\nHow can you laugh when you know I'm down  \\r\\n  \\r\\nWe're all alone and there's nobody else  \\r\\nShe'll still moan \"Keep your hands to yourself\"  \\r\\nI'm down, I'm down, I''m down  \\r\\nHow can you laugh when you know I'm down  \\r\\nHow can you laugh when you know I'm down, woo  \\r\\n  \\r\\nA baby you know I'm down  \\r\\nI guess I'm down  \\r\\nI'm down on the ground  \\r\\nI'm down  \\r\\nAh, baby I'm upside down  \\r\\nOh yeah, yeah, yeah, yeah, yeah,  \\r\\nI'm down\\r\\n\\r\\n\n",
       "Name: text, dtype: object"
      ]
     },
     "execution_count": 42,
     "metadata": {},
     "output_type": "execute_result"
    }
   ],
   "source": [
    "# I'll Cry Instead lyrics\n",
    "beatles[beatles.song=='I\\'m Down'].text"
   ]
  },
  {
   "cell_type": "markdown",
   "metadata": {
    "id": "6rtsPeM6IX3R"
   },
   "source": [
    "## Desafio 4 ##"
   ]
  },
  {
   "cell_type": "markdown",
   "metadata": {
    "id": "TNNlk1DmIX3R"
   },
   "source": [
    "Quais são as duas músicas dos Beatles mais parecidas?\n",
    "    * Usando o Count Vectorizer\n",
    "    * Usando o TFizer Vectorizer\n",
    "     \n",
    "Compare os resultados. Qual vetorizador parece fazer um trabalho melhor?"
   ]
  },
  {
   "cell_type": "code",
   "execution_count": 26,
   "metadata": {
    "ExecuteTime": {
     "end_time": "2022-01-06T23:13:59.033461Z",
     "start_time": "2022-01-06T23:13:59.029173Z"
    },
    "executionInfo": {
     "elapsed": 1,
     "status": "ok",
     "timestamp": 1638907988873,
     "user": {
      "displayName": "Leonardo Mendonza",
      "photoUrl": "https://lh3.googleusercontent.com/a-/AOh14Gj5F1JVSmHodKCvWHgDPYmDyFo_nUl5lqEXNbsW=s64",
      "userId": "09205135724810578413"
     },
     "user_tz": 180
    },
    "id": "PV-1QEmpIX3V"
   },
   "outputs": [],
   "source": [
    "# Calcular a semelhança de cosseno entre todas as combinações de documentos"
   ]
  },
  {
   "cell_type": "code",
   "execution_count": 30,
   "metadata": {
    "ExecuteTime": {
     "end_time": "2022-01-06T23:18:17.349169Z",
     "start_time": "2022-01-06T23:18:17.342154Z"
    }
   },
   "outputs": [
    {
     "data": {
      "text/plain": [
       "range(0, 178)"
      ]
     },
     "execution_count": 30,
     "metadata": {},
     "output_type": "execute_result"
    }
   ],
   "source": [
    "range(len(beatles))"
   ]
  },
  {
   "cell_type": "code",
   "execution_count": 32,
   "metadata": {
    "ExecuteTime": {
     "end_time": "2022-01-06T23:18:47.786762Z",
     "start_time": "2022-01-06T23:18:47.164902Z"
    },
    "colab": {
     "base_uri": "https://localhost:8080/"
    },
    "executionInfo": {
     "elapsed": 518,
     "status": "ok",
     "timestamp": 1638907989688,
     "user": {
      "displayName": "Leonardo Mendonza",
      "photoUrl": "https://lh3.googleusercontent.com/a-/AOh14Gj5F1JVSmHodKCvWHgDPYmDyFo_nUl5lqEXNbsW=s64",
      "userId": "09205135724810578413"
     },
     "user_tz": 180
    },
    "id": "Bg1L3BYQIX3X",
    "outputId": "72b9150d-6256-45c2-d64b-450eeb42e952"
   },
   "outputs": [
    {
     "data": {
      "text/plain": [
       "[('A Shot Of Rhythm And Blues', 'Across The Universe'),\n",
       " ('A Shot Of Rhythm And Blues', \"All I've Got To Do\"),\n",
       " ('A Shot Of Rhythm And Blues', 'And I Love Her'),\n",
       " ('A Shot Of Rhythm And Blues', 'And Your Bird Can Sing'),\n",
       " ('A Shot Of Rhythm And Blues', 'Another Girl')]"
      ]
     },
     "execution_count": 32,
     "metadata": {},
     "output_type": "execute_result"
    }
   ],
   "source": [
    "# Listar todas as combinações de músicas\n",
    "from itertools import combinations\n",
    "\n",
    "pairs = list(combinations(beatles.song.index, 2)) # all song index combos\n",
    "pairs_0 = list(combinations(range(len(beatles)), 2)) # all index combos starting with (0,1)\n",
    "song_pairs = [(beatles.song[a_index], beatles.song[b_index]) for (a_index, b_index) in pairs]\n",
    "song_pairs[:5]"
   ]
  },
  {
   "cell_type": "code",
   "execution_count": 21,
   "metadata": {
    "colab": {
     "base_uri": "https://localhost:8080/"
    },
    "executionInfo": {
     "elapsed": 314,
     "status": "ok",
     "timestamp": 1638907990000,
     "user": {
      "displayName": "Leonardo Mendonza",
      "photoUrl": "https://lh3.googleusercontent.com/a-/AOh14Gj5F1JVSmHodKCvWHgDPYmDyFo_nUl5lqEXNbsW=s64",
      "userId": "09205135724810578413"
     },
     "user_tz": 180
    },
    "id": "0c_3GKKFIX3Z",
    "outputId": "9554bf8d-eea4-419b-87f8-87ffe78fa019"
   },
   "outputs": [
    {
     "data": {
      "text/plain": [
       "[(0.8577775427960155, ('If I Needed Someone', 'If I Needed Someone To Love')),\n",
       " (0.8529344956371233, ('All You Need Is Love', 'Love Me Do')),\n",
       " (0.800349384405817, ('And I Love Her', 'Love Me Do')),\n",
       " (0.7962811940422436, ('If I Fell', 'Love Me Do')),\n",
       " (0.7419070345786396, ('All You Need Is Love', 'If I Fell'))]"
      ]
     },
     "execution_count": 21,
     "metadata": {},
     "output_type": "execute_result"
    }
   ],
   "source": [
    "# Calcular a semelhança de cosseno da matriz termo-documento do Count Vectorizer\n",
    "results = [cosine(X[a_index], X[b_index]) for (a_index, b_index) in pairs_0]\n",
    "sorted(zip(results, song_pairs), reverse=True)[:5]"
   ]
  },
  {
   "cell_type": "code",
   "execution_count": 35,
   "metadata": {
    "ExecuteTime": {
     "end_time": "2022-01-06T23:21:55.922951Z",
     "start_time": "2022-01-06T23:21:55.327254Z"
    },
    "colab": {
     "base_uri": "https://localhost:8080/"
    },
    "executionInfo": {
     "elapsed": 311,
     "status": "ok",
     "timestamp": 1638907990310,
     "user": {
      "displayName": "Leonardo Mendonza",
      "photoUrl": "https://lh3.googleusercontent.com/a-/AOh14Gj5F1JVSmHodKCvWHgDPYmDyFo_nUl5lqEXNbsW=s64",
      "userId": "09205135724810578413"
     },
     "user_tz": 180
    },
    "id": "ZPd_khmyIX3c",
    "outputId": "5cb3bdf8-a8fc-4f84-e04b-7aec2c9bde43"
   },
   "outputs": [
    {
     "data": {
      "text/plain": [
       "[(0.8876999243824961, ('If I Needed Someone', 'If I Needed Someone To Love')),\n",
       " (0.6533862295063896, ('All You Need Is Love', 'Love Me Do')),\n",
       " (0.6413354956395061, ('Have A Banana!', 'Crinsk Dee Night')),\n",
       " (0.6391167176572528, (\"Don't Let Me Down\", 'Let It Be')),\n",
       " (0.5339722470726359, ('If I Fell', 'Love Me Do'))]"
      ]
     },
     "execution_count": 35,
     "metadata": {},
     "output_type": "execute_result"
    }
   ],
   "source": [
    "# Calcular a semelhança de cosseno da matriz termo-documento do TF-IDF Vectorizer\n",
    "results = [cosine(X_tfidf[a_index], X_tfidf[b_index]) for (a_index, b_index) in pairs_0]\n",
    "sorted(zip(results, song_pairs), reverse=True)[:5]"
   ]
  },
  {
   "cell_type": "markdown",
   "metadata": {
    "id": "BLgjywBUIX3f"
   },
   "source": [
    "Com o Count Vectorizer, todas as músicas principais contêm o termo \"love\", com \"All You Need Is Love\" e \"Love Me Do\" sendo as mais semelhantes. Isso ocorre porque os Beatles tendem a usar muito o termo \"amor\" em suas músicas.\n",
    "\n",
    "Com o TF-IDF Vectorizer, as principais músicas semelhantes são um pouco mais interessantes. Parece que ele realmente pegou uma música duplicada no conjunto de dados das letras com \"If I Needed Someone\" e \"If I Needed Someone To Love\". Além disso, \"Tenha uma banana!\" e \"Crinsk Dee Night\" são conversas com o apresentador Brian Matthew."
   ]
  },
  {
   "cell_type": "code",
   "execution_count": 36,
   "metadata": {
    "ExecuteTime": {
     "end_time": "2022-01-06T23:27:12.879736Z",
     "start_time": "2022-01-06T23:27:12.870347Z"
    },
    "colab": {
     "base_uri": "https://localhost:8080/"
    },
    "executionInfo": {
     "elapsed": 390,
     "status": "ok",
     "timestamp": 1638907990698,
     "user": {
      "displayName": "Leonardo Mendonza",
      "photoUrl": "https://lh3.googleusercontent.com/a-/AOh14Gj5F1JVSmHodKCvWHgDPYmDyFo_nUl5lqEXNbsW=s64",
      "userId": "09205135724810578413"
     },
     "user_tz": 180
    },
    "id": "WI87v57SIX3f",
    "outputId": "82646266-a077-4086-a53d-291aa28eccd8"
   },
   "outputs": [
    {
     "data": {
      "text/plain": [
       "24695    Love, love, love, love, love, love, love, love, love.  \\r\\n  \\r\\nThere's nothing you can do that can't be done.  \\r\\nNothing you can sing that can't be sung.  \\r\\nNothing you can say, but you can learn  \\r\\nHow to play the game  \\r\\nIt's easy.  \\r\\nNothing you can make that can't be made.  \\r\\nNo one you can save that can't be saved.  \\r\\nNothing you can do, but you can learn  \\r\\nHow to be you in time  \\r\\nIt's easy.  \\r\\n  \\r\\nAll you need is love, all you need is love,  \\r\\nAll you need is love, love. Love is all you need.  \\r\\nLove, love, love, love, love, love, love, love, love.  \\r\\nAll you need is love, all you need is love,  \\r\\nAll you need is love, love. Love is all you need.  \\r\\n  \\r\\nThere's nothing you can know that isn't known.  \\r\\nNothing you can see that isn't shown.  \\r\\nThere's nowhere you can be that isn't where  \\r\\nYou're meant to be  \\r\\nIt's easy.  \\r\\n  \\r\\nAll you need is love, all you need is love,  \\r\\nAll you need is love, love. Love is all you need.  \\r\\nAll you need is love. (All together now).  \\r\\nAll you need is love. (Everybody).  \\r\\nAll you need is love, love. Love is all you need.  \\r\\nLove is all you need.  \\r\\nLove is all you need  \\r\\n  \\r\\n(Yesterday)  \\r\\n(Oh yeah)  \\r\\n(She love you, yeah, yeah, yeah)  \\r\\n(She love you, yeah, yeah, yeah)  \\r\\n(Oh, yesterday)\\r\\n\\r\\n\n",
       "Name: text, dtype: object"
      ]
     },
     "execution_count": 36,
     "metadata": {},
     "output_type": "execute_result"
    }
   ],
   "source": [
    "# All You Need Is Love lyrics\n",
    "beatles[beatles.song=='All You Need Is Love'].text"
   ]
  },
  {
   "cell_type": "code",
   "execution_count": 37,
   "metadata": {
    "ExecuteTime": {
     "end_time": "2022-01-06T23:27:13.358426Z",
     "start_time": "2022-01-06T23:27:13.348836Z"
    },
    "colab": {
     "base_uri": "https://localhost:8080/"
    },
    "executionInfo": {
     "elapsed": 9,
     "status": "ok",
     "timestamp": 1638907990698,
     "user": {
      "displayName": "Leonardo Mendonza",
      "photoUrl": "https://lh3.googleusercontent.com/a-/AOh14Gj5F1JVSmHodKCvWHgDPYmDyFo_nUl5lqEXNbsW=s64",
      "userId": "09205135724810578413"
     },
     "user_tz": 180
    },
    "id": "ezNdaYYWIX3h",
    "outputId": "e6dc1369-9b05-45d7-acd1-8096326322e7"
   },
   "outputs": [
    {
     "data": {
      "text/plain": [
       "24805    Love, love me do.  \\r\\nYou know I love you,  \\r\\nI'll always be true,  \\r\\nSo please, love me do.  \\r\\nWhoa, love me do.  \\r\\n  \\r\\nLove, love me do.  \\r\\nYou know I love you,  \\r\\nI'll always be true,  \\r\\nSo please, love me do.  \\r\\nWhoa, love me do.  \\r\\n  \\r\\nSomeone to love,  \\r\\nSomebody new.  \\r\\nSomeone to love,  \\r\\nSomeone like you.  \\r\\n  \\r\\nLove, love me do.  \\r\\nYou know I love you,  \\r\\nI'll always be true,  \\r\\nSo please, love me do.  \\r\\nWhoa, love me do.  \\r\\n  \\r\\nLove, love me do.  \\r\\nYou know I love you,  \\r\\nI'll always be true,  \\r\\nSo please, love me do.  \\r\\nWhoa, love me do.  \\r\\nYeah, love me do.  \\r\\nWhoa, oh, love me do.\\r\\n\\r\\n\n",
       "Name: text, dtype: object"
      ]
     },
     "execution_count": 37,
     "metadata": {},
     "output_type": "execute_result"
    }
   ],
   "source": [
    "# Love Me Do lyrics\n",
    "beatles[beatles.song=='Love Me Do'].text"
   ]
  },
  {
   "cell_type": "code",
   "execution_count": 38,
   "metadata": {
    "ExecuteTime": {
     "end_time": "2022-01-06T23:27:13.833697Z",
     "start_time": "2022-01-06T23:27:13.822477Z"
    },
    "colab": {
     "base_uri": "https://localhost:8080/"
    },
    "executionInfo": {
     "elapsed": 7,
     "status": "ok",
     "timestamp": 1638907990698,
     "user": {
      "displayName": "Leonardo Mendonza",
      "photoUrl": "https://lh3.googleusercontent.com/a-/AOh14Gj5F1JVSmHodKCvWHgDPYmDyFo_nUl5lqEXNbsW=s64",
      "userId": "09205135724810578413"
     },
     "user_tz": 180
    },
    "id": "TMttbI4aIX3l",
    "outputId": "04335404-148f-4e0d-9efc-1ce53d0f8876"
   },
   "outputs": [
    {
     "data": {
      "text/plain": [
       "24768    If I needed someone to love  \\r\\nYou're the one that I'd be thinking of  \\r\\nIf I needed someone  \\r\\n  \\r\\nIf I had some more time to spend  \\r\\nThen I guess I'd be with you my friend  \\r\\nIf I needed someone  \\r\\nHad you come some other day  \\r\\nThen it might not have been like this  \\r\\nBut you see now I'm too much in love  \\r\\n  \\r\\nCarve your number on my wall  \\r\\nAnd maybe you will get a call from me  \\r\\nIf I needed someone  \\r\\nAh, ah, ah, ah  \\r\\n  \\r\\nIf I had some more time to spend  \\r\\nThen I guess I'd be with you my friend  \\r\\nIf I needed someone  \\r\\nHad you come some other day  \\r\\nThen it might not have been like this  \\r\\nBut you see now I'm too much in love  \\r\\n  \\r\\nCarve your number on my wall  \\r\\nAnd maybe you will get a call from me  \\r\\nIf I needed someone  \\r\\nAh, ah\\r\\n\\r\\n\n",
       "Name: text, dtype: object"
      ]
     },
     "execution_count": 38,
     "metadata": {},
     "output_type": "execute_result"
    }
   ],
   "source": [
    "# If I Needed Someone lyrics\n",
    "beatles[beatles.song=='If I Needed Someone'].text"
   ]
  },
  {
   "cell_type": "code",
   "execution_count": 39,
   "metadata": {
    "ExecuteTime": {
     "end_time": "2022-01-06T23:27:14.394593Z",
     "start_time": "2022-01-06T23:27:14.384644Z"
    },
    "colab": {
     "base_uri": "https://localhost:8080/"
    },
    "executionInfo": {
     "elapsed": 6,
     "status": "ok",
     "timestamp": 1638907990699,
     "user": {
      "displayName": "Leonardo Mendonza",
      "photoUrl": "https://lh3.googleusercontent.com/a-/AOh14Gj5F1JVSmHodKCvWHgDPYmDyFo_nUl5lqEXNbsW=s64",
      "userId": "09205135724810578413"
     },
     "user_tz": 180
    },
    "id": "2JrCDbdZIX3o",
    "outputId": "648c4992-00f1-4f9e-9247-c669166617c0"
   },
   "outputs": [
    {
     "data": {
      "text/plain": [
       "24769    If I needed someone to love  \\r\\nYoure the woman I'd be thinking of  \\r\\nIf I needed someone  \\r\\n  \\r\\nIf I had some more time to spend  \\r\\nThen I guess I'd be with you my friend  \\r\\nIf I needed someone  \\r\\n  \\r\\nHad you come some other day  \\r\\nThen it might not have been like this  \\r\\nBut you see now I'm too much in love  \\r\\n  \\r\\nCarve your number on my wall  \\r\\nAnd maybe you will get a call from me  \\r\\nIf I needed someone  \\r\\n  \\r\\nIf I had some more time to spend  \\r\\nThen I guess I'd be with you my friend  \\r\\nIf I needed someone  \\r\\n  \\r\\nHad you come some other day  \\r\\nThen it might not have been like this  \\r\\nBut you see now I'm too much in love  \\r\\n  \\r\\nCarve your number on my wall  \\r\\nAnd maybe you will get a call from me  \\r\\nIf I needed someone  \\r\\nIf I needed someone to love  \\r\\nYoure the woman I'd be thinking of  \\r\\nIf I needed someone  \\r\\n  \\r\\nIf I had some more time to spend  \\r\\nThen I guess I'd be with you my friend  \\r\\nIf I needed someone  \\r\\n  \\r\\nHad you come some other day  \\r\\nThen it might not have been like this  \\r\\nBut you see now I'm too much in love  \\r\\n  \\r\\nCarve your number on my wall  \\r\\nAnd maybe you will get a call from me  \\r\\nIf I needed someone  \\r\\n  \\r\\nIf I had some more time to spend  \\r\\nThen I guess I'd be with you my friend  \\r\\nIf I needed someone  \\r\\n  \\r\\nHad you come some other day  \\r\\nThen it might not have been like this  \\r\\nBut you see now I'm too much in love  \\r\\n  \\r\\nCarve your number on my wall  \\r\\nAnd maybe you will get a call from me  \\r\\nIf I needed someone\\r\\n\\r\\n\n",
       "Name: text, dtype: object"
      ]
     },
     "execution_count": 39,
     "metadata": {},
     "output_type": "execute_result"
    }
   ],
   "source": [
    "# If I Needed Someone To Love lyrics\n",
    "beatles[beatles.song=='If I Needed Someone To Love'].text"
   ]
  },
  {
   "cell_type": "code",
   "execution_count": 40,
   "metadata": {
    "ExecuteTime": {
     "end_time": "2022-01-06T23:27:14.953594Z",
     "start_time": "2022-01-06T23:27:14.943170Z"
    },
    "colab": {
     "base_uri": "https://localhost:8080/"
    },
    "executionInfo": {
     "elapsed": 326,
     "status": "ok",
     "timestamp": 1638907991021,
     "user": {
      "displayName": "Leonardo Mendonza",
      "photoUrl": "https://lh3.googleusercontent.com/a-/AOh14Gj5F1JVSmHodKCvWHgDPYmDyFo_nUl5lqEXNbsW=s64",
      "userId": "09205135724810578413"
     },
     "user_tz": 180
    },
    "id": "8tS5oMeWIX3q",
    "outputId": "64479a4a-ce08-428b-a524-c1b2ee5c288f"
   },
   "outputs": [
    {
     "data": {
      "text/plain": [
       "1221    [Speech]  \\r\\n  \\r\\nBrian Matthew: Is that it? Is that the end?  \\r\\nPaul: Yeah, yeah, that's it.  \\r\\nJohn: Fade, fade!  \\r\\nBrian: Good track. Oh, well, we'll stop there, stop there, stop there.  \\r\\nJohn: What an end!  \\r\\nBrian: Quiet! All right, George.  \\r\\nJohn: Fade!  \\r\\nBrian: Hold it!  \\r\\nGeorge: Oh, thank you.  \\r\\nJohn: Fade, you silly.  \\r\\nBrian: Well, we did. We did that. Oh, no! No! We've done that bit!  \\r\\nJohn: The train comes in now.  \\r\\nBrian: We did that.  \\r\\nJohn: Yeah.  \\r\\nBrian: To pove we weren't playing the record, then, you see. 'Cause,\\r\\notherwise, there's no point in you being here, is there? Ha, ha, ha!  \\r\\nJohn: Yeah, we did that, 'cause it sounds just like it, don't it?  \\r\\nBrian: Pretty cool lot of fellows, aren't you? Here, Ringo, have a banana,\\r\\ncatch!\\r\\n\\r\\n\n",
       "Name: text, dtype: object"
      ]
     },
     "execution_count": 40,
     "metadata": {},
     "output_type": "execute_result"
    }
   ],
   "source": [
    "# Have a Banana! lyrics\n",
    "beatles[beatles.song=='Have A Banana!'].text"
   ]
  },
  {
   "cell_type": "code",
   "execution_count": 41,
   "metadata": {
    "ExecuteTime": {
     "end_time": "2022-01-06T23:27:15.585328Z",
     "start_time": "2022-01-06T23:27:15.576096Z"
    },
    "colab": {
     "base_uri": "https://localhost:8080/"
    },
    "executionInfo": {
     "elapsed": 4,
     "status": "ok",
     "timestamp": 1638907991021,
     "user": {
      "displayName": "Leonardo Mendonza",
      "photoUrl": "https://lh3.googleusercontent.com/a-/AOh14Gj5F1JVSmHodKCvWHgDPYmDyFo_nUl5lqEXNbsW=s64",
      "userId": "09205135724810578413"
     },
     "user_tz": 180
    },
    "id": "1n1QzmtEIX3t",
    "outputId": "a3667529-2cb5-4f0b-dfc7-dc90876bae52"
   },
   "outputs": [
    {
     "data": {
      "text/plain": [
       "24713    [Speech]  \\r\\n  \\r\\nBrian Matthew: The next few minutes, we're in the lap of the gods and the\\r\\nhands of the Beatles. In my young days, when I was a lad, they used to have\\r\\nactors in films and now that they--  \\r\\nPaul: Yes?  \\r\\nJohn: Hey! Listen!  \\r\\nPaul: It's all changed, now, Brian. They're not doing that, no actors.  \\r\\nJohn: It's all changed, now.  \\r\\nBrian: But this is what I wonder. In those days, the actors used to say their\\r\\nbest bits were left on the cutting room floor. Did you find that?  \\r\\nJohn: No, no, no, those were the good bits in the film. You should have seen\\r\\nthe rest.  \\r\\nBrian: Yes?  \\r\\nJohn: Rubbish!  \\r\\nBrian: Was it, really?  \\r\\nJohn: Even worse, yes.  \\r\\nBrian: Who was worst?  \\r\\nJohn: Oh, Paul.  \\r\\nBrian: I see.  \\r\\nPaul: I think John was about the worst.  \\r\\nJohn: No, it was you.  \\r\\nPaul: Oh, Ringo was very good. He was. He's a good lad.  \\r\\nBrian: He was. They're saying he's a new Charlie Chaplin. Do you think that's\\r\\nright?  \\r\\nJohn: He was miming.  \\r\\nPaul: You, too, with Jason.  \\r\\nJohn: Oh, yes, he's an old one. Okay, Ring?  \\r\\nBrian: Beginning to look like that. Now, then--  \\r\\nRingo: All right, John. Can you hear me?  \\r\\nPaul: Can you hear him? Hello!  \\r\\nBrian: Not really. I hope not. I hope not!  \\r\\nJohn: We brought you the flowers, Ring.  \\r\\nBrian: He's not allowed to talk.  \\r\\nRingo: Eh?  \\r\\nJohn: We brought you the flowers.  \\r\\nRingo: Oh, good.  \\r\\nJohn: And the grapes.  \\r\\nRingo: Oh, I like grapes.  \\r\\nPaul: He likes grapes.  \\r\\nGeorge: We've been to Portugal.  \\r\\nBrian: Guess who's, guess who's top of the pops in Portugal, then.  \\r\\nAll: Who?  \\r\\nBrian: Los Beatles.  \\r\\nJohn: Los Beatles? Great, great laugh.  \\r\\nBrian: I don't suppose you know the title of your film in Portuguese?  \\r\\nJohn: No. Crinsk dee Night?  \\r\\nBrian: Could be. Let's hear the number, shall we?  \\r\\nJohn: Right\\r\\n\\r\\n\n",
       "Name: text, dtype: object"
      ]
     },
     "execution_count": 41,
     "metadata": {},
     "output_type": "execute_result"
    }
   ],
   "source": [
    "# Crinsk Dee Night lyrics\n",
    "beatles[beatles.song=='Crinsk Dee Night'].text"
   ]
  }
 ],
 "metadata": {
  "anaconda-cloud": {},
  "colab": {
   "collapsed_sections": [],
   "name": "recomendação_de_musica.ipynb",
   "provenance": [],
   "toc_visible": true
  },
  "kernelspec": {
   "display_name": "Python 3 (ipykernel)",
   "language": "python",
   "name": "python3"
  },
  "language_info": {
   "codemirror_mode": {
    "name": "ipython",
    "version": 3
   },
   "file_extension": ".py",
   "mimetype": "text/x-python",
   "name": "python",
   "nbconvert_exporter": "python",
   "pygments_lexer": "ipython3",
   "version": "3.8.11"
  },
  "toc": {
   "base_numbering": 1,
   "nav_menu": {
    "height": "48px",
    "width": "252px"
   },
   "number_sections": true,
   "sideBar": true,
   "skip_h1_title": false,
   "title_cell": "Table of Contents",
   "title_sidebar": "Contents",
   "toc_cell": false,
   "toc_position": {},
   "toc_section_display": "block",
   "toc_window_display": false
  }
 },
 "nbformat": 4,
 "nbformat_minor": 1
}
